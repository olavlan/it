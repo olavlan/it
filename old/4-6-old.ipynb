{
 "cells": [
  {
   "cell_type": "markdown",
   "id": "e5ceb9ad-3e68-44a2-9e4a-dddd05f9f775",
   "metadata": {},
   "source": [
    "# Old"
   ]
  },
  {
   "cell_type": "markdown",
   "id": "8b531344-d176-4ab4-826e-87f789cdd895",
   "metadata": {
    "tags": []
   },
   "source": [
    "## *Dictionary* i Python (old)"
   ]
  },
  {
   "cell_type": "markdown",
   "id": "b06c8f99-635b-47fa-b44e-5e9d2da7f218",
   "metadata": {
    "tags": []
   },
   "source": [
    "Du er antagelig vant til å bruke lister i Python:"
   ]
  },
  {
   "cell_type": "code",
   "execution_count": null,
   "id": "d1acf0bd-5722-4426-9666-d60948ac1224",
   "metadata": {
    "tags": []
   },
   "outputs": [],
   "source": [
    "my_list = [\"Oslo\", \"Tønsberg\", \"Mandal\", \"Hammerfest\"]"
   ]
  },
  {
   "cell_type": "markdown",
   "id": "cbf9e1a4-221d-40d4-ac1e-5c5101eef70f",
   "metadata": {},
   "source": [
    "Hvert element i lista har en unik *indeks*: \n",
    "\n",
    "```\n",
    "0: \"Oslo\"\n",
    "1: \"Tønsberg\"\n",
    "2: \"Mandal\"\n",
    "3: \"Hammerfest\"\n",
    "```\n",
    "\n",
    "Disse indeksene gjør at vi kan finne igjen spesifikke elementer i lista: "
   ]
  },
  {
   "cell_type": "code",
   "execution_count": null,
   "id": "8f33b63e-8043-4eef-afda-a23e6e2c5097",
   "metadata": {
    "tags": []
   },
   "outputs": [],
   "source": [
    "a = my_list[0]\n",
    "b = my_list[2]\n",
    "\n",
    "print(a)\n",
    "print(b)"
   ]
  },
  {
   "cell_type": "markdown",
   "id": "bd3c766a-7c14-4485-ad5e-3922fa3640d6",
   "metadata": {},
   "source": [
    "Vi kan si at 0 er *nøkkelen* som gir oss det første elementet i lista, altså \"Oslo\". I en liste er vi tvunget til å bruke heltallene $0, 1, 2, 3, ...$ som nøkler. Men hva om vi ønsker å bruke andre nøkler, som for eksempel:\n",
    "\n",
    "```\n",
    "\"hovedstad\": \"Oslo\"\n",
    "\"eldst\": \"Tønsberg\"\n",
    "\"sørligst\": \"Mandal\"\n",
    "\"nordligst\": \"Hammerfest\"\n",
    "```"
   ]
  },
  {
   "cell_type": "markdown",
   "id": "b25e607a-633e-4944-a20e-bc070e1a6c4b",
   "metadata": {},
   "source": [
    "Vi kan gjøre dette ved å bruke en *dictionary*! For å opprette en liste brukte vi de rette parentesene `[]`, mens for å opprette en dictionary bruker vi krøllparentesene `{}`. I tillegg må hver verdi må tilknyttes en nøkkel: "
   ]
  },
  {
   "cell_type": "code",
   "execution_count": null,
   "id": "987d882c-adb6-4de5-9821-d9ee8240d18e",
   "metadata": {
    "tags": []
   },
   "outputs": [],
   "source": [
    "my_dict = {\"hovedstad\": \"Oslo\", \"eldst\": \"Tønsberg\", \"sørligst\": \"Mandal\", \"nordligst\": \"Hammerfest\"}"
   ]
  },
  {
   "cell_type": "markdown",
   "id": "f2f5ea7d-dca7-46a2-9de2-925b513cfd62",
   "metadata": {},
   "source": [
    "Nå kan vi hente verdier ved å bruke våre egendefinerte nøkler: "
   ]
  },
  {
   "cell_type": "code",
   "execution_count": null,
   "id": "fa8a7072-9f49-4e73-8bd1-1ad77de2119d",
   "metadata": {
    "tags": []
   },
   "outputs": [],
   "source": [
    "a = my_dict[\"hovedstad\"]\n",
    "b = my_dict[\"sørligst\"]\n",
    "\n",
    "print(a)\n",
    "print(b)"
   ]
  },
  {
   "cell_type": "markdown",
   "id": "48938d55-30ab-4f34-925f-5510d67442cc",
   "metadata": {},
   "source": [
    "Merk at nøklene må være unike, så vi kan ikke ha to verdier som begge har nøkkelen \"eldst\". Hva er fordelen med egendefinerte nøkler? Vi har sett to måter å hente verdien \"Oslo\": \n",
    "\n",
    "* Når vi brukte liste, skrev vi `my_list[0]`\n",
    "* Når vi brukte dictionary, skrev vi `my_dict[\"hovedstad\"]`\n",
    "\n",
    "Vi bør bruke en dictionary dersom vi ønsker å hente spesifikke elementer. I dette eksempelet ønsker vi å hente den byen som er hovedstad, og vi har ingen informasjon som forteller oss at dette elementet befinner seg på indeks 0 i lista. Med en dictionary kan vi derimot bruke en meningsfull nøkkel, for eksempel \"hovedstad\", som leder oss rett til det elementet vi ønsker!\n",
    "\n",
    "Vanlige lister er best egnet dersom vi ønsker en løkke som går gjennom elementene og gjør den samme operasjonen på hvert element. Da har vi ikke behov for å hente spesifikke elementer i lista. Vi kan oppsummere denne forskjellen: \n",
    "\n",
    "* Lister er egnet når vi skal gå gjennom elementene med en løkke. \n",
    "* Dictionary er egnet når vi skal hente spesifikke elementer. \n",
    "\n",
    "*Det er mulig å bruke vanlige lister selv om vi ønsker å hente spesifikke elementer. Dersom vi for eksempel har en liste av norske byer sortert etter størrelse, så kan vi hente den største byen på indeks 0, den nest største byen på indeks 1, og så videre.*\n",
    "\n",
    "*En annen mulighet er å ha en funksjon som forteller hvilken indeks vi må gå til for å hente et spesifikt element. For eksempel kan vi ha en liste over innbyggertall i norske kommuner på ulikt tidspunkt. Hvis vi for eksempel ønsker å hente innbyggertallet i Oslo i 2017, så kan funksjonen fortelle oss at vi må gå til indeks 36 i lista. JSON-stat er basert på en slik korrespondanse.*\n",
    "\n"
   ]
  },
  {
   "cell_type": "markdown",
   "id": "1b9f8397-1ca6-468e-8d3c-502330c01d75",
   "metadata": {},
   "source": [
    "## Fra *JSON* til *dictionary* (old)\n",
    "\n",
    "I forrige seksjon ga vi en introduksjon til hva en *dictionary* er, men dersom du har lest seksjonene om *JSON*, så vet du det allerede! Vi kan nemlig si at en *dictionary* i Python er det samme som et *JSON*-objekt! Dersom du ikke har lest seksjonene om *JSON*, bør du gjøre det før du går videre.\n",
    "\n",
    "Vi har sett på følgende *JSON*-objekt: \n",
    "\n",
    "```json\n",
    "{\n",
    "    \"fornavn\": \"Kari\",\n",
    "    \"etternavn\": null,\n",
    "    \"alder\": 42, \n",
    "    \"interesser\": [\"sjakk\", \"fotografering\"],\n",
    "    \"bolig\": {\"type\": \"leilighet\", \"sted\": \"Trondheim\"}, \n",
    "    \"harHusdyr\": true\n",
    "}\n",
    "```\n",
    "\n",
    "I Python kan vi opprette en dictionary med akkurat samme innhold:"
   ]
  },
  {
   "cell_type": "code",
   "execution_count": null,
   "id": "4cae18e5-7024-44b9-9d04-223392e1e2b4",
   "metadata": {
    "tags": []
   },
   "outputs": [],
   "source": [
    "person1 = {\n",
    "    \"fornavn\": \"Kari\",\n",
    "    \"etternavn\": None,\n",
    "    \"alder\": 42, \n",
    "    \"interesser\": [\"sjakk\", \"fotografering\"],\n",
    "    \"bolig\": {\"type\": \"leilighet\", \"sted\": \"Trondheim\"}, \n",
    "    \"harHusdyr\": True\n",
    "}"
   ]
  },
  {
   "cell_type": "markdown",
   "id": "a7b55bb5-e30d-46e5-a630-12b546d1746e",
   "metadata": {},
   "source": [
    "Vi kan nesten kopiere *JSON*-objektet rett over i Python; det eneste vi må huske er at Python bruker nøkkelordene `None`, `True` og `False` i stedet for `null`, `true` og `false`. Men dette er bare tekniske forskjeller, og vi kan trygt si at objektet er det samme. Den eneste forskjellen er hva vi bruker objektet til: \n",
    "\n",
    "* Et *JSON*-objekt lagres i en tekstfil og brukes for å lagre eller sende data.\n",
    "* En *dictionary* lagres i en Python-variabel og brukes for å gjøre operasjoner på data.\n",
    "\n",
    "Nå kommer det sikkert ikke som en overraskelse at når vi ønsker å gjøre operasjoner på data som vi finner på nettet, så vil det ofte være snakk om å hente en *JSON*-fil og legge innholdet i en *dictionary* i Python. Men hvordan kan vi gjøre dette på en bedre måte enn å kopiere og lime inn *JSON*-objekter? Ved å bruke tilleggspakken [*json*](https://docs.python.org/3/library/json.html)! \n",
    "\n",
    "La oss si at *JSON*-objektet i eksempelet over er lagret i filen `person.json`. Da kan vi bruke *json*-pakken til å laste det inn i en *dictionary*: "
   ]
  },
  {
   "cell_type": "code",
   "execution_count": null,
   "id": "131bfdd2-1454-4efd-8a84-123b814be771",
   "metadata": {
    "tags": []
   },
   "outputs": [],
   "source": [
    "import json\n",
    "\n",
    "file = open(\"person.json\")\n",
    "content = file.read()\n",
    "person = json.loads(content)\n",
    "\n",
    "print(person)"
   ]
  },
  {
   "cell_type": "markdown",
   "id": "4c830a9f-09b1-4a6d-a163-7d25a2e6ddd9",
   "metadata": {},
   "source": [
    "Det er altså tre steg:\n",
    "1. Åpne filen\n",
    "2. Legge filinnholdet i en variabel (som en tekstreng)\n",
    "3. Konvertere tekstrengen til en *dictionary*\n",
    "\n",
    "For det siste steget trenger vi funksjonen `loads` fra pakken `json`. Denne funksjonen tar en tekstreng som parameter, og gir en *dictionary* som returverdi (dersom tekstrengen lar seg konvertere til en *dictionary*).\n",
    "\n",
    "Prosessen er altså: *JSON*-fil $\\rightarrow$ tekststreng $\\rightarrow$ *dictionary*. Vi kan naturligvis også gå den andre veien. For å konvertere en dictionary til en tekstreng kan vi bruke funksjonen `dump` fra pakken `json`: "
   ]
  },
  {
   "cell_type": "code",
   "execution_count": null,
   "id": "27f3828c-ba77-4957-9784-c9d545dc5956",
   "metadata": {
    "tags": []
   },
   "outputs": [],
   "source": [
    "text = json.dumps(person, indent=4)\n",
    "print(text)"
   ]
  },
  {
   "cell_type": "markdown",
   "id": "3980f369-ff83-4d8b-8e8c-19e2fe20d57f",
   "metadata": {},
   "source": [
    "Merk at vi skrev `indent=4` som parameter, som gjør at teksten blir pent formatert med innrykk og linjeskift. Denne funksjonen kan vi dra nytte av når vi ønsker å få oversikt over innholdet i en *dictionary*.\n",
    "\n",
    "Merk også at verdiene `None` og `True` endres til `null` og `true`, slik de skal være i *JSON*. \n",
    "\n",
    "Nå kan vi opprette en ny tekstfil, kopiere inn teksten ovenfor, og lagre filen som `person_copy.json`. Men i stedet for å gjøre dette manuelt, kan vi la Python gjøre det for oss:"
   ]
  },
  {
   "cell_type": "code",
   "execution_count": null,
   "id": "a8404ba3-afcb-4a27-9e65-f3e36c773627",
   "metadata": {
    "tags": []
   },
   "outputs": [],
   "source": [
    "outfile = open('person_copy.json', 'w+')\n",
    "outfile.write(text)\n",
    "outfile.close()"
   ]
  },
  {
   "cell_type": "markdown",
   "id": "fc637eba-d68e-468f-8870-edbeae8101d0",
   "metadata": {},
   "source": [
    "Vi avslutter med å oppsummere hvordan vi går fra en *JSON*-fil til en *dictionary* og tilbake igjen. Prosessen vi ønsker altså:\n",
    "\n",
    "*JSON*-fil $\\rightarrow$ tekststreng $\\rightarrow$ *dictionary*$\\rightarrow$ tekststreng $\\rightarrow$ *JSON*-fil\n",
    "\n",
    "Følgende kode gjør alle disse stegene:"
   ]
  },
  {
   "cell_type": "code",
   "execution_count": null,
   "id": "3a30ae9b-d09d-4be2-a9ae-d300c94c4dd4",
   "metadata": {
    "tags": []
   },
   "outputs": [],
   "source": [
    "import json\n",
    "\n",
    "infile = open(\"person.json\")\n",
    "content = infile.read() #JSON-file to string\n",
    "person = json.loads(content) #string to dict\n",
    "text = json.dumps(person, indent=4) #dict to string\n",
    "\n",
    "#string to JSON-file:\n",
    "outfile = open('person_copy.json', 'w+')\n",
    "outfile.write(text)\n",
    "outfile.close()"
   ]
  },
  {
   "cell_type": "markdown",
   "id": "85c7931c-a41d-4066-a8d5-6335763b42af",
   "metadata": {},
   "source": [
    "Du kan selv prøve å opprette filen `person.json` og kjøre koden ovenfor. Da skal du få en ny fil kalt `person_copy.json` med akkurat samme innhold!"
   ]
  },
  {
   "cell_type": "markdown",
   "id": "c9dc220e-c2a6-43f3-a3ef-7b2471c6533f",
   "metadata": {},
   "source": [
    "## Hente og endre verdier i en *dictionary* (old)\n",
    "\n",
    "Fra forrige seksjon har vi variabelen `person1`, som er en *dictionary* med følgende innhold: "
   ]
  },
  {
   "cell_type": "code",
   "execution_count": null,
   "id": "559bcfa6-f47a-40d6-afff-628442a05f99",
   "metadata": {
    "tags": []
   },
   "outputs": [],
   "source": [
    "print(json.dumps(person1, indent=4))"
   ]
  },
  {
   "cell_type": "code",
   "execution_count": null,
   "id": "1778b645-8598-485d-bc0e-a2494d65e80b",
   "metadata": {
    "tags": []
   },
   "outputs": [],
   "source": [
    "print(person[\"fornavn\"])"
   ]
  },
  {
   "cell_type": "markdown",
   "id": "ec756481-252d-4937-be45-c722d7f7196a",
   "metadata": {},
   "source": [
    "Hvordan henter vi verdier i dette objektet? La oss si at vi ønsker å hente verdien \"Trondheim\". Hvilke nøkler må vi bruke? Verdien vi er ute etter ligger i et objekt som vi kan hente med nøkkelen \"bolig\": "
   ]
  },
  {
   "cell_type": "code",
   "execution_count": null,
   "id": "fb65d7cb-1d16-422c-8301-3943a1b0d79f",
   "metadata": {
    "tags": []
   },
   "outputs": [],
   "source": [
    "house = person[\"bolig\"]\n",
    "print(house)"
   ]
  },
  {
   "cell_type": "markdown",
   "id": "08754a4a-db40-4f7f-ac8d-d35004ff18ad",
   "metadata": {},
   "source": [
    "Nå som vi har lagret dette objektet i en variabel, kan vi hente verdien vi ønsker:"
   ]
  },
  {
   "cell_type": "code",
   "execution_count": null,
   "id": "3d285f61-39b5-471f-919d-f064d90d630e",
   "metadata": {
    "tags": []
   },
   "outputs": [],
   "source": [
    "place = house[\"sted\"]\n",
    "print(place)"
   ]
  },
  {
   "cell_type": "markdown",
   "id": "5a9b6f42-12e2-49b0-8b40-d59d51ba4efa",
   "metadata": {},
   "source": [
    "Men vi kunne hentet den ønskede verdien i ett steg:"
   ]
  },
  {
   "cell_type": "code",
   "execution_count": null,
   "id": "c439073c-da40-430a-a6e3-f902d697736f",
   "metadata": {
    "tags": []
   },
   "outputs": [],
   "source": [
    "place = person[\"bolig\"][\"sted\"]"
   ]
  },
  {
   "cell_type": "markdown",
   "id": "b96db33b-0fb8-42c0-8594-d6ed052e6689",
   "metadata": {
    "tags": []
   },
   "source": [
    "Det er viktig å lære seg hvordan man henter verdier i en *dictionary* som består av flere nivåer. Se på følgende eksempel:"
   ]
  },
  {
   "cell_type": "code",
   "execution_count": null,
   "id": "e1ad1dcf-3324-4873-b89b-4357fa9873e4",
   "metadata": {
    "tags": []
   },
   "outputs": [],
   "source": [
    "nested = {\n",
    "\t\"a\": {\n",
    "\t\t\"b\": {\n",
    "\t\t\t\"c\": \"Hei!\"\n",
    "\t\t}\n",
    "\t}\n",
    "}\n",
    "\n",
    "not_nested = {\n",
    "    \"a\": {},\n",
    "    \"b\": {},\n",
    "    \"c\": \"Hei!\"\n",
    "}"
   ]
  },
  {
   "cell_type": "markdown",
   "id": "d47486c6-f345-423e-baa4-b6540d261cb7",
   "metadata": {},
   "source": [
    "Hvordan kan vi hente verdien \"Hei\" i variabelen `nested`? Vi må gjennom tre nøkler!"
   ]
  },
  {
   "cell_type": "code",
   "execution_count": null,
   "id": "6a36654d-18fb-4661-8fe5-0df527cd35f1",
   "metadata": {
    "tags": []
   },
   "outputs": [],
   "source": [
    "value = nested[\"a\"][\"b\"][\"c\"]\n",
    "print(value)"
   ]
  },
  {
   "cell_type": "markdown",
   "id": "14ca49e4-1134-46b1-8703-abe896283edf",
   "metadata": {},
   "source": [
    "I variabelen `not_nested` ligger derimot nøkkelen \"c\" øverst i hierarkiet (alle nøklene er på samme nivå): "
   ]
  },
  {
   "cell_type": "code",
   "execution_count": null,
   "id": "781f1ab8-6e41-4f8b-a513-7c6e6b49a105",
   "metadata": {
    "tags": []
   },
   "outputs": [],
   "source": [
    "value = not_nested[\"c\"]\n",
    "print(value)"
   ]
  },
  {
   "cell_type": "markdown",
   "id": "0798db8d-1135-46fb-8f3f-b8a4b286e329",
   "metadata": {},
   "source": [
    "Vi bør også huske på at en *dictionary* kan inneholde lister, som i følgende eksempel: "
   ]
  },
  {
   "cell_type": "code",
   "execution_count": null,
   "id": "a333dbce-fba3-4cf3-ab55-8d663757c141",
   "metadata": {
    "tags": []
   },
   "outputs": [],
   "source": [
    "d = {\n",
    "\t\"a\": [\n",
    "\t\t{}, \n",
    "\t\t{}, \n",
    "\t\t{\"b\": \"Hei!\"}\n",
    "\t]\n",
    "}\n",
    "\n",
    "my_list = d[\"a\"]\n",
    "print(my_list)"
   ]
  },
  {
   "cell_type": "markdown",
   "id": "17090105-3c03-4be9-a7fb-2bea32c2b70e",
   "metadata": {},
   "source": [
    "Ved å gå inn på nøkkelen \"a\" henter vi altså en liste bestående av tre objekter. For å finne verdien \"Hei\" må vi gå inn på det tredje objektet i listen (som har indeks 2): "
   ]
  },
  {
   "cell_type": "code",
   "execution_count": null,
   "id": "609da789-5cd6-4950-a6da-0561fe1a59e2",
   "metadata": {
    "tags": []
   },
   "outputs": [],
   "source": [
    "my_object = my_list[2]\n",
    "print(my_object)"
   ]
  },
  {
   "cell_type": "markdown",
   "id": "37d18389-6393-48b3-bc93-2cb25cd91c97",
   "metadata": {},
   "source": [
    "Til slutt kan vi hente verdien under nøkkelen \"b\": "
   ]
  },
  {
   "cell_type": "code",
   "execution_count": null,
   "id": "7d47a514-29af-4a6c-a91c-2c520a8e2d27",
   "metadata": {
    "tags": []
   },
   "outputs": [],
   "source": [
    "value = my_object[\"b\"]\n",
    "print(value)"
   ]
  },
  {
   "cell_type": "markdown",
   "id": "28d874b7-da9a-47f7-8f08-8f349d534872",
   "metadata": {},
   "source": [
    "Alt dette kunne vi gjort i ett steg: "
   ]
  },
  {
   "cell_type": "code",
   "execution_count": 74,
   "id": "74a8d39c-73cd-4c8e-955f-54c563055552",
   "metadata": {
    "tags": []
   },
   "outputs": [
    {
     "ename": "NameError",
     "evalue": "name 'd' is not defined",
     "output_type": "error",
     "traceback": [
      "\u001b[0;31m---------------------------------------------------------------------------\u001b[0m",
      "\u001b[0;31mNameError\u001b[0m                                 Traceback (most recent call last)",
      "Cell \u001b[0;32mIn[74], line 1\u001b[0m\n\u001b[0;32m----> 1\u001b[0m value \u001b[38;5;241m=\u001b[39m \u001b[43md\u001b[49m[\u001b[38;5;124m\"\u001b[39m\u001b[38;5;124ma\u001b[39m\u001b[38;5;124m\"\u001b[39m][\u001b[38;5;241m2\u001b[39m][\u001b[38;5;124m\"\u001b[39m\u001b[38;5;124mb\u001b[39m\u001b[38;5;124m\"\u001b[39m]\n\u001b[1;32m      2\u001b[0m \u001b[38;5;28mprint\u001b[39m(value)\n",
      "\u001b[0;31mNameError\u001b[0m: name 'd' is not defined"
     ]
    }
   ],
   "source": [
    "value = d[\"a\"][2][\"b\"]\n",
    "print(value)"
   ]
  },
  {
   "cell_type": "markdown",
   "id": "1189714d-94bc-4b12-b105-0dfce84a19af",
   "metadata": {},
   "source": [
    "Vi avslutter med følgende eksempel: "
   ]
  },
  {
   "cell_type": "code",
   "execution_count": null,
   "id": "308750d8-ea65-46fa-aa7d-e2e75400a5ac",
   "metadata": {
    "tags": []
   },
   "outputs": [],
   "source": [
    "d = {\n",
    "\t\"a\": [\n",
    "\t\t{\"b\": \"Hei\"}, \n",
    "\t\t{\"b\": \"på\"}, \n",
    "\t\t{\"b\": \"deg!\"}\n",
    "\t]\n",
    "}"
   ]
  },
  {
   "cell_type": "markdown",
   "id": "881d44a5-3183-432e-9ae5-b1917d0e7c52",
   "metadata": {},
   "source": [
    "Her har vi også en liste med tre objekter, og vi kan lage en løkke som går gjennom objektene i lista:"
   ]
  },
  {
   "cell_type": "code",
   "execution_count": null,
   "id": "07aaea7e-60be-41d1-8248-d6e16589c8a0",
   "metadata": {
    "tags": []
   },
   "outputs": [],
   "source": [
    "my_list = d[\"a\"]\n",
    "\n",
    "for obj in my_list:\n",
    "    print(obj)"
   ]
  },
  {
   "cell_type": "markdown",
   "id": "3e307b1b-226b-40d5-828d-ff8d4da851ba",
   "metadata": {},
   "source": [
    "Vi ser at hvert av disse objektene har en verdi lagret under nøkkelen \"b\", så vi kan hente denne verdien for hver iterasjon i løkka: "
   ]
  },
  {
   "cell_type": "code",
   "execution_count": null,
   "id": "e87e4bcd-e025-496b-97ba-a2b73c6506f0",
   "metadata": {
    "jupyter": {
     "source_hidden": true
    },
    "tags": []
   },
   "outputs": [],
   "source": [
    "for obj in my_list:\n",
    "    value = obj[\"b\"]\n",
    "    print(value)"
   ]
  }
 ],
 "metadata": {
  "kernelspec": {
   "display_name": "Python 3 (ipykernel)",
   "language": "python",
   "name": "python3"
  },
  "language_info": {
   "codemirror_mode": {
    "name": "ipython",
    "version": 3
   },
   "file_extension": ".py",
   "mimetype": "text/x-python",
   "name": "python",
   "nbconvert_exporter": "python",
   "pygments_lexer": "ipython3",
   "version": "3.8.10"
  }
 },
 "nbformat": 4,
 "nbformat_minor": 5
}
