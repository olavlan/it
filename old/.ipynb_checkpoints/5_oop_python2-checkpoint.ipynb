{
 "cells": [
  {
   "cell_type": "markdown",
   "id": "670ca472",
   "metadata": {
    "jp-MarkdownHeadingCollapsed": true
   },
   "source": [
    "## Delmetoder\n",
    "\n",
    "I boksystemet vårt ønsket vi å kunne vise en rangert liste av bøker. Følgende klassediagram viser metodene vi trenger for å oppnå dette:\n",
    "\n",
    "<img src=\"../fig/python_book_public_private.svg\" width=\"\">\n",
    "\n",
    "Følgende figur viser hvordan noen metoder brukes som byggeblokker til andre metoder:\n",
    "\n",
    "<img src=\"../fig/python_interface.svg\" width=\"1000\">\n",
    "\n",
    "De minste byggeblokkene er metodene som henter anmeldelser fra ulike kilder. Metoden `calculate_average` kan deretter bruke disse anmeldelsene til å regne ut en gjennomsnittsvurdering for en bok. Til slutt kan metoden `show_ranked_list` hente vurderingen til hver bok i samlingen, og til slutt bruke disse tallene til å rangere bøkene. \n",
    "\n",
    "Figuren over viser kommunikasjon innad i et objekt (røde piler) og kommunikasjon mellom objekter (grønn pil). I denne seksjonen skal vi se hvordan vi koder dette. \n",
    "\n",
    "Ofte er det de minste byggeblokkene som inneholder den meste koden. I vårt eksempel så er de minste byggeblokkene metoder som henter anmeldelser fra diverse nettsider. Siden vi ikke er interessert i å vise slik programmering i dette kurset, skal vi opprette noen anmeldelser som kan brukes til testing: "
   ]
  },
  {
   "cell_type": "code",
   "execution_count": 1,
   "id": "4755199d-f767-4b9c-a609-9bc25e0ebc29",
   "metadata": {},
   "outputs": [
    {
     "name": "stdout",
     "output_type": "stream",
     "text": [
      "[['A book that makes you think', 7], ['Very interesting book', 9], ['The book was too long', 5]]\n"
     ]
    }
   ],
   "source": [
    "from random import sample\n",
    "\n",
    "r1 = [\"Very interesting book\", 9]\n",
    "r2 = [\"The book was too long\", 5]\n",
    "r3 = [\"The ending ruined the book\", 2]\n",
    "r4 = [\"A book that makes you think\", 7]\n",
    "r5 = [\"The story is very exciting\", 8]\n",
    "\n",
    "all_reviews = [r1, r2, r3, r4, r5]\n",
    "\n",
    "def get_random_reviews(n):\n",
    "\treturn sample(all_reviews, n)\n",
    "\n",
    "print(get_random_reviews(3))"
   ]
  },
  {
   "cell_type": "markdown",
   "id": "f9cfaa4a-6760-4083-bb0d-59a0cf17abd7",
   "metadata": {},
   "source": [
    "Funksjonen `get_random_reviews` henter et tilfeldig utvalg av de fem testanmeldelsene vi har skrevet. \n",
    "\n",
    "Nå kan vi begynne med de minste byggeblokkene, som skal være i klassen `Book`:"
   ]
  },
  {
   "cell_type": "code",
   "execution_count": 2,
   "id": "22a38bc3-1cb2-4d3a-b400-988849c7bdbc",
   "metadata": {},
   "outputs": [],
   "source": [
    " class Book:\n",
    "    def __init__(self, title, author, number_of_pages):\n",
    "        self.title = title\n",
    "        self.author = author\n",
    "        self.number_of_pages = number_of_pages\n",
    "        self.borrower_reviews = get_random_reviews(3)\n",
    "\n",
    "    def get_reviews_from_goodreads(self):\n",
    "    \treviews = get_random_reviews(3)\n",
    "    \treturn reviews\n",
    "\n",
    "    def get_reviews_from_librarything(self):\n",
    "    \treviews = get_random_reviews(3)\n",
    "    \treturn reviews\n",
    "\n",
    "    def get_online_critics(self):\n",
    "    \tcritics = get_random_reviews(3)\n",
    "    \treturn critics "
   ]
  },
  {
   "cell_type": "markdown",
   "id": "eb82fa36-4dac-47a9-88b9-1d9ce0cb31d8",
   "metadata": {},
   "source": [
    "Merk at konstruktøren oppretter datafeltet `borrower_reviews` og fyller denne med tilfeldige anmeldelser. Nå kan vi late som vi har anmeldelser fra fire forskjellige kilder; lånetakere, brukeranmeldelser fra *Goodreads* og *Librarything*, og kritikker på nett. \n",
    "\n",
    "Det neste vi ønsker er en metode som samler alle brukeranmeldelser på nett. Dette blir enkelt når vi har byggeblokkene.  "
   ]
  },
  {
   "cell_type": "code",
   "execution_count": 3,
   "id": "25e4b332-3039-4ee9-88b4-7381c8968338",
   "metadata": {},
   "outputs": [],
   "source": [
    "def get_online_user_reviews(self):\n",
    "\tfrom_goodreads = self.get_reviews_from_goodreads()\n",
    "\tfrom_librarything = self.get_reviews_from_librarything()\n",
    "\treviews = from_librarything + from_goodreads\n",
    "\treturn reviews \n",
    "\n",
    "Book.get_online_user_reviews = get_online_user_reviews"
   ]
  },
  {
   "cell_type": "markdown",
   "id": "81547468-e00a-4013-93aa-4c20dec0937e",
   "metadata": {},
   "source": [
    "*I siste linje bruker vi en teknikk i Python for å legge til en metode i en eksisterende klasse. Vi kan bruke følgende kodelinje for å gjøre dette:*\n",
    "```py\n",
    "MyClass.my_method = my_function\n",
    "```\n",
    "* *`MyClass` navnet på klassen*\n",
    "* *`my_function` er navnet på funksjonen som vi har definert utenfor klassen*\n",
    "* *`my_method` er navnet vi ønsker at funksjonen skal ha inni klassen*\n",
    "\n",
    "Tenk deg nå at du ønsker å inkludere brukeranmeldelser fra en tredje nettside? Hvordan vil du gjøre denne endringen? \n",
    "\n",
    "Det neste vi ønsker oss er en funksjon som kan regne ut gjennomsnittet til en liste med anmeldelser."
   ]
  },
  {
   "cell_type": "code",
   "execution_count": 4,
   "id": "c40dd319-6dcc-4286-95a4-5a7e8dd25489",
   "metadata": {},
   "outputs": [
    {
     "name": "stdout",
     "output_type": "stream",
     "text": [
      "[['Very interesting book', 9], ['The story is very exciting', 8], ['The book was too long', 5]]\n",
      "7.333333333333333\n"
     ]
    }
   ],
   "source": [
    "def calculate_average(reviews):\n",
    "\ttotal_score = 0\n",
    "\tn = len(reviews)\n",
    "\tfor review in reviews:\n",
    "\t\tscore = review[1]\n",
    "\t\ttotal_score += score\n",
    "\taverage = total_score/n\n",
    "\treturn average\n",
    "\n",
    "reviews = get_random_reviews(3)\n",
    "print(reviews)\n",
    "print(calculate_average(reviews))"
   ]
  },
  {
   "cell_type": "markdown",
   "id": "c85cfbae-adf6-4051-80a2-a43497b6a7ce",
   "metadata": {},
   "source": [
    "Forsøk gjerne å forstå hvordan metoden regner ut gjennomsnittet av anmeldelsene. I de siste kodelinjene gjør vi en test for å sjekke at utregningen er riktig. Tallene 8, 5 og 7 har gjennomsnittet 6.66, så metoden fungerer. \n",
    "\n",
    "*I planleggingen av programmet plasserte vi denne funksjonen i klassen `Book`. Men vi bør merke oss at den egentlig ikke gjør noen operasjoner på et bokobjekt; derfor har vi heller ingen `self`-parameter. Funksjonen gjør egentlig bare en operasjon på en liste med tall.*\n",
    "\n",
    "*Vi kan godt legge til funksjonen i klassen, og argumentere for at det er en hjelperfunksjon som vi bare trenger i *Bok*-klassen. Men dersom vi tenker at funksjonen kan være nyttig andre steder, bør vi la den være utenfor klassen. Det som er viktig at klassen `Book` har tilgang til funksjonen, for eksempel ved at funksjonen og klassen er definert i samme programfil. Dersom funksjonen er definert i en annen programfil, må vi importere den før vi kan bruke den i klassen.*\n",
    "\n",
    "Nå er vi klare til å kode metoden som regner ut gjennomsnittsvurderingen til en bok! Funksjonen skal:\n",
    "\n",
    "1. Hente anmeldelser fra tre forskjellige kilder; lånetakere, nettbrukere og kritikere\n",
    "2. Regne ut gjennomsnittsvurderingen for hver av disse kildene\n",
    "3. Regne ut et totalt gjennomsnitt"
   ]
  },
  {
   "cell_type": "code",
   "execution_count": 5,
   "id": "69e566a1-9f01-496d-a6c1-077139fb09d3",
   "metadata": {},
   "outputs": [],
   "source": [
    "def calculate_average_score(self): \n",
    "\tborrowers = self.borrower_reviews\n",
    "\tonline_users = self.get_online_user_reviews()\n",
    "\tcritics = self.get_online_critics()\n",
    "\n",
    "\tscore_borrowers = calculate_average(borrowers)\n",
    "\tscore_online_users = calculate_average(online_users)\n",
    "\tscore_critics = calculate_average(critics)\n",
    "\n",
    "\ttotal_score = (score_borrowers + score_online_users + score_critics)/3\n",
    "\n",
    "\treturn total_score\n",
    "\n",
    "Book.calculate_average_score = calculate_average_score"
   ]
  },
  {
   "cell_type": "markdown",
   "id": "4cf81168-c77a-4fec-a39f-6c215b365cdb",
   "metadata": {},
   "source": [
    "Legg merke til hvordan de tre stegene blir til tre blokker med kode. I de to første blokkene gjøres alt arbeidet av delmetodene, og det er bare utregningen av `total_score` som er metodens \"eget arbeid\". I denne linjen kan vi endre hvor mye de ulike kildene skal vektes. Hvis vi for eksempel ønsker at nettbrukere skal telle 50%, mens de andre kildene skal telle 25% hver, kan vi endre til følgende:\n",
    "\n",
    "```py\n",
    "total_score = 0.25*score_borrowers + 0.5*score_online_users + 0.25*score_critics\n",
    "```"
   ]
  },
  {
   "cell_type": "markdown",
   "id": "62c5294e-ab74-4e93-b004-a69ad1c9407a",
   "metadata": {},
   "source": [
    "Metoden `calculate_average_score` ville blitt lang og komplisert dersom vi hadde skrevet all kode her. Ved å bruke delmetoder som hver har sin oppgave, blir metoden i stedet lettlest og forståelig!"
   ]
  },
  {
   "cell_type": "markdown",
   "id": "c157de5d-f161-4986-8759-f770b5cee21e",
   "metadata": {},
   "source": [
    "## Offentlige og private metoder\n",
    "\n",
    "I forrige seksjon programmerte vi høyre side av følgende diagram: \n",
    "\n",
    "<img src=\"../fig/python_interface.svg\" width=\"1000\">\n",
    "\n",
    "Har nesten rangeringsfunksjon. Plassering til rangeringsfunksjon. Trenger å kommunisere med alle bokobjekter. Spesifikt trengs poengsummen. Hvordan gjøres offentlig? \n",
    "\n",
    "Python har ikke offentlige metoder! Programmerere bruker en spesiell skrivemåte for å fortelle hverandre hvilke metoder som skal brukes. Tenk deg at Bok-klassen din har blitt så bra at mange vil bruke den i sine egen programmer, og at du til og med gir ut nye versjoner. \n",
    "\n",
    "Hva er det brukerne ønsker å gjøre? De ønsker å opprette Bok-objekter og bruke funksjonaliteten som følger med slike objekter. En slik funksjonalitet er å regne ut gjennomsnitt. Ved å ta i bruk denne metoden oppretter brukerne en kommunikasjonslinje mellom bokobjekter og objekter som de har i sitt eget program. Dersom du gir ut en versjon der metoden slutter å fungere som forventet, vil denne kommunikasjonen brytes, og brukerne blir sure!\n",
    "\n",
    "Siden du har bestemt deg for at viktig funksjonalitet, så vil du fortelle brukerne at denne vil fungere i alle framtidige versjoner av klassen. Men du ønsker ikke å forplikte deg til at delmetodene alltid fungerer. For eksempel kan det tenkes at du en dag vil slette Goodreads, fordi det ble for vanskelig å hente anmeldelser etter at nettsiden ble oppdatert. Hvordan skal du formidle at delmetodene IKKE bør brukes? \n",
    "\n",
    "I Python gjør vi dette med understreker! \n",
    "\n",
    "Private datafelter, getters og setters\n",
    "\n",
    "## Dokumentasjon\n",
    "\n",
    "For at det skal bli enda lettere for brukerne av Book å se hvilke funksjoner som er offentlige og hvordan de brukes. Da kan vi skrive en dokumentasjon. Denne kan skrives direkte i koden. "
   ]
  },
  {
   "cell_type": "markdown",
   "id": "61b28077",
   "metadata": {},
   "source": [
    "## Kommunikasjon mellom objekter\n",
    "\n",
    "Når vi skal programmere klassen BookCollection, kan vi godt tenke oss at vi er en annen person som ønsker å ta i bruk Book i vårt eget program. Vi ser i dokumentasjonen at klassen har den offentlige metoden , og ønsker å bruke denne til å rangere bøker."
   ]
  },
  {
   "cell_type": "markdown",
   "id": "34fa87ca",
   "metadata": {},
   "source": [
    "## Oppdeling av klasser\n",
    "\n",
    "## Arv\n",
    "\n",
    "## Oppsummering og oppgaver\n",
    "\n",
    "\n",
    "\n"
   ]
  }
 ],
 "metadata": {
  "jupytext": {
   "cell_metadata_filter": "-all",
   "main_language": "python",
   "notebook_metadata_filter": "-all"
  },
  "kernelspec": {
   "display_name": "Python 3 (ipykernel)",
   "language": "python",
   "name": "python3"
  },
  "language_info": {
   "codemirror_mode": {
    "name": "ipython",
    "version": 3
   },
   "file_extension": ".py",
   "mimetype": "text/x-python",
   "name": "python",
   "nbconvert_exporter": "python",
   "pygments_lexer": "ipython3",
   "version": "3.8.10"
  }
 },
 "nbformat": 4,
 "nbformat_minor": 5
}
