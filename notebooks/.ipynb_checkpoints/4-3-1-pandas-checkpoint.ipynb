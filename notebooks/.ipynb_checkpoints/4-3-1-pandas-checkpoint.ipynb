{
 "cells": [
  {
   "cell_type": "code",
   "execution_count": 41,
   "id": "e8bad334-5fa3-4a98-b0f6-eac22f8b01fe",
   "metadata": {},
   "outputs": [],
   "source": [
    "import requests\n",
    "import json\n",
    "import numpy as np\n",
    "import pandas as pd\n",
    "import matplotlib.pyplot as plt\n",
    "import seaborn as sns\n",
    "from datetime import datetime\n",
    "from geopy import distance\n",
    "from scipy.stats import gaussian_kde"
   ]
  },
  {
   "cell_type": "markdown",
   "id": "b158b265-b2aa-4f2a-9f3f-89dc0b56bbf1",
   "metadata": {},
   "source": [
    "## Introduksjon til pandas"
   ]
  },
  {
   "cell_type": "markdown",
   "id": "b3cabbad-3a61-4983-a66e-b2d2c00b0d38",
   "metadata": {},
   "source": [
    "Kort sagt er [*pandas*](https://pandas.pydata.org/) en Python-pakke som gjør det mer effektivt å drive databehandling. I de forrige seksjonene jobbet vi med dictionary og lister, mens i *pandas* brukes *tabeller*. Vi kan opprette tabeller og utføre operasjoner på dem.\n",
    "\n",
    "Først viser vi hvordan man kan konvertere en dictionary til en tabell: "
   ]
  },
  {
   "cell_type": "code",
   "execution_count": 42,
   "id": "f48f32bc-4ca2-46b2-bdd1-1244005c5717",
   "metadata": {
    "scrolled": true
   },
   "outputs": [
    {
     "name": "stdout",
     "output_type": "stream",
     "text": [
      "  fornavn etternavn  alder     bosted  number_of_children\n",
      "0     Ola  Nordmann     17       Oslo                   0\n",
      "1    Kari  Svendsen     42  Trondheim                   1\n",
      "2     Per    Hansen     64     Tromsø                   3\n"
     ]
    }
   ],
   "source": [
    "data = [\n",
    "    {\"fornavn\": \"Ola\", \"etternavn\": \"Nordmann\", \"alder\": 17, \"bosted\": \"Oslo\", \"number_of_children\": 0},\n",
    "    {\"fornavn\": \"Kari\", \"etternavn\": \"Svendsen\", \"alder\": 42, \"bosted\": \"Trondheim\", \"number_of_children\": 1},\n",
    "    {\"fornavn\": \"Per\", \"etternavn\": \"Hansen\", \"alder\": 64, \"bosted\": \"Tromsø\", \"number_of_children\": 3}\n",
    "]\n",
    "\n",
    "people = pd.DataFrame(data)\n",
    "\n",
    "print(people)"
   ]
  },
  {
   "cell_type": "markdown",
   "id": "fdb727b7-b301-4e5a-8200-c7cfda3ba77f",
   "metadata": {},
   "source": [
    "Legg merke til at vi har importert *pandas* under navnet *pd*, som er en vanlig praksis. Deretter har vi opprettet et såkalt *DataFrame*-objekt.  \n",
    "\n",
    "I pandas finnes to typer objekter; *DataFrame* og *Series*. En *DataFrame* er en tabell, mens en *Series* er en kolonne i tabellen - fra nå av skal vi holde oss til begrepene *tabell* og *kolonne*. \n",
    "\n",
    "La oss hente en kolonne:"
   ]
  },
  {
   "cell_type": "code",
   "execution_count": 43,
   "id": "b127b850-e62c-4dd1-86f5-53fdb1aa2049",
   "metadata": {},
   "outputs": [
    {
     "name": "stdout",
     "output_type": "stream",
     "text": [
      "0    17\n",
      "1    42\n",
      "2    64\n",
      "Name: alder, dtype: int64\n"
     ]
    }
   ],
   "source": [
    "ages = people[\"alder\"]\n",
    "print(ages)"
   ]
  },
  {
   "cell_type": "markdown",
   "id": "5b3ecb53-8c97-4028-ab89-64514b6c886a",
   "metadata": {},
   "source": [
    "I pandas bruker vi altså skrivemåten `table[\"column_name\"]` for å hente en bestemt kolonne. \n",
    "\n",
    "Pandas gir oss mange nyttige funksjoner for tabeller og kolonner. Et eksempel på en *kolonnefunksjon* er `mean`, som regner ut gjennomsnittet av alle verdiene:"
   ]
  },
  {
   "cell_type": "code",
   "execution_count": 44,
   "id": "ca8fcd6c-9374-4d17-bb3c-d21fa5fd5d70",
   "metadata": {},
   "outputs": [
    {
     "name": "stdout",
     "output_type": "stream",
     "text": [
      "41.0\n"
     ]
    }
   ],
   "source": [
    "average_age = ages.mean()\n",
    "print(average_age)"
   ]
  },
  {
   "cell_type": "markdown",
   "id": "78b01c62-3597-4f60-ad4a-0925f53af94c",
   "metadata": {},
   "source": [
    "**Importere data.** All data som er på tabellform kan settes inn i en pandas-tabell. For å laste inn data fra en *Excel*-fil, brukes følgende kommando: \n",
    "\n",
    "```py\n",
    "table = pd.read_excel(\"path_to_file.xls\", sheet_name=\"Sheet1\")\n",
    "```\n",
    "For å laste inn data fra en *CSV*-fil, brukes funksjonen `read_csv` i stedet. \n",
    "\n",
    "Men hva med sykkeldataene, som er lagret med *JSON*? Vi har sett at en slik fil består av attributter, objekter og lister, som ikke nødvendigvis kan konverteres til en tabell. \n",
    "\n",
    "Sykkeldataene er imidlertid strukturert på en enkel måte:\n",
    "\n",
    "```json\n",
    "[\n",
    "    {\n",
    "        \"started_at\": \"2023-07-01 01:22:38.878000+00:00\",\n",
    "        \"ended_at\": \"2023-07-01 01:40:04.748000+00:00\",\n",
    "        \"duration\": 1045,\n",
    "        \"start_station_id\": \"387\",\n",
    "        \"start_station_name\": \"Studenterlunden\",\n",
    "        \"start_station_description\": \"langs Karl Johan\",\n",
    "        \"start_station_latitude\": 59.914586,\n",
    "        \"start_station_longitude\": 10.735453,\n",
    "        \"end_station_id\": \"499\",\n",
    "        \"end_station_name\": \"Bjerregaards gate\",\n",
    "        \"end_station_description\": \"ovenfor Fredrikke Qvams gate\",\n",
    "        \"end_station_latitude\": 59.925488,\n",
    "        \"end_station_longitude\": 10.746058\n",
    "    },\n",
    "    {\n",
    "        \"started_at\": \"2023-07-01 03:02:43.726000+00:00\",\n",
    "        \"ended_at\": \"2023-07-01 03:13:45.064000+00:00\",\n",
    "        \"duration\": 661,\n",
    "        \"start_station_id\": \"2315\",\n",
    "        \"start_station_name\": \"Rostockgata\",\n",
    "        \"start_station_description\": \"utenfor Bj\\u00f8rvika visningssenter\",\n",
    "        \"start_station_latitude\": 59.90691970255054,\n",
    "        \"start_station_longitude\": 10.760311802881915,\n",
    "        \"end_station_id\": \"410\",\n",
    "        \"end_station_name\": \"Landstads gate\",\n",
    "        \"end_station_description\": \"langs Uelands gate\",\n",
    "        \"end_station_latitude\": 59.929005,\n",
    "        \"end_station_longitude\": 10.7496755\n",
    "    }\n",
    "]\n",
    "```"
   ]
  },
  {
   "cell_type": "markdown",
   "id": "00ff023d-3777-4a3a-806e-3db4583f55ad",
   "metadata": {},
   "source": [
    "Vi merker oss at alle turene har de samme datafeltene, nemlig *duration*, *end_station_description*, og så videre. Ved å skrive disse som kolonner, og hver sykkeltur som en rad, får vi følgende tabell:"
   ]
  },
  {
   "cell_type": "markdown",
   "id": "2c4f37e2-f500-4149-bc80-1f590d650f53",
   "metadata": {},
   "source": [
    "| started_at                       | ended_at                         | duration | start_station_id | start_station_name | start_station_description       | start_station_latitude | start_station_longitude | end_station_id | end_station_name  | end_station_description      | end_station_latitude | end_station_longitude |\n",
    "|----------------------------------|----------------------------------|----------|------------------|--------------------|---------------------------------|------------------------|-------------------------|----------------|-------------------|------------------------------|----------------------|-----------------------|\n",
    "| 2023-07-01 01:22:38.878000+00:00 | 2023-07-01 01:40:04.748000+00:00 | 1045     | 387              | Studenterlunden    | langs Karl Johan                | 59.914586              | 10.735453               | 499            | Bjerregaards gate | ovenfor Fredrikke Qvams gate | 59.925488            | 10.746058             |\n",
    "| 2023-07-01 03:02:43.726000+00:00 | 2023-07-01 03:13:45.064000+00:00 | 661      | 2315             | Rostockgata        | utenfor Bjørvika visningssenter | 59.90691970255054      | 10.760311802881915      | 410            | Landstads gate    | langs Uelands gate           | 59.929005            | 10.7496755            |"
   ]
  },
  {
   "cell_type": "markdown",
   "id": "625c1774-89e3-495a-98d7-e84573246202",
   "metadata": {},
   "source": [
    "Vi kan konkludere med at sykkeldataene kan settes inn i en tabell. Hvordan gjør vi dette?\n",
    "\n",
    "Som vist i seksjonen *Innhenting og inspeksjon av data*, kan vi begynne med å laste dataene inn i en dictionary:"
   ]
  },
  {
   "cell_type": "code",
   "execution_count": 45,
   "id": "8f1e29b4-aab4-4788-b70b-5557752e390a",
   "metadata": {},
   "outputs": [],
   "source": [
    "url = \"https://data.urbansharing.com/oslobysykkel.no/trips/v1/2023/07.json\"\n",
    "page = requests.get(url).text\n",
    "data = json.loads(page)"
   ]
  },
  {
   "cell_type": "markdown",
   "id": "d0a6e315-930c-4af8-b9a0-cc2cea459451",
   "metadata": {},
   "source": [
    " Når dette er gjort, kan vi legge dadtaene inn i en tabell, som vist i starten av seksjonen: "
   ]
  },
  {
   "cell_type": "code",
   "execution_count": 46,
   "id": "da086ea9-8dfa-468f-baf2-8764f392abac",
   "metadata": {
    "scrolled": true
   },
   "outputs": [
    {
     "data": {
      "text/html": [
       "<div>\n",
       "<style scoped>\n",
       "    .dataframe tbody tr th:only-of-type {\n",
       "        vertical-align: middle;\n",
       "    }\n",
       "\n",
       "    .dataframe tbody tr th {\n",
       "        vertical-align: top;\n",
       "    }\n",
       "\n",
       "    .dataframe thead th {\n",
       "        text-align: right;\n",
       "    }\n",
       "</style>\n",
       "<table border=\"1\" class=\"dataframe\">\n",
       "  <thead>\n",
       "    <tr style=\"text-align: right;\">\n",
       "      <th></th>\n",
       "      <th>started_at</th>\n",
       "      <th>ended_at</th>\n",
       "      <th>duration</th>\n",
       "      <th>start_station_id</th>\n",
       "      <th>start_station_name</th>\n",
       "      <th>start_station_description</th>\n",
       "      <th>start_station_latitude</th>\n",
       "      <th>start_station_longitude</th>\n",
       "      <th>end_station_id</th>\n",
       "      <th>end_station_name</th>\n",
       "      <th>end_station_description</th>\n",
       "      <th>end_station_latitude</th>\n",
       "      <th>end_station_longitude</th>\n",
       "    </tr>\n",
       "  </thead>\n",
       "  <tbody>\n",
       "    <tr>\n",
       "      <th>0</th>\n",
       "      <td>2023-07-01 01:22:38.878000+00:00</td>\n",
       "      <td>2023-07-01 01:40:04.748000+00:00</td>\n",
       "      <td>1045</td>\n",
       "      <td>387</td>\n",
       "      <td>Studenterlunden</td>\n",
       "      <td>langs Karl Johan</td>\n",
       "      <td>59.914586</td>\n",
       "      <td>10.735453</td>\n",
       "      <td>499</td>\n",
       "      <td>Bjerregaards gate</td>\n",
       "      <td>ovenfor Fredrikke Qvams gate</td>\n",
       "      <td>59.925488</td>\n",
       "      <td>10.746058</td>\n",
       "    </tr>\n",
       "    <tr>\n",
       "      <th>1</th>\n",
       "      <td>2023-07-01 03:02:43.726000+00:00</td>\n",
       "      <td>2023-07-01 03:13:45.064000+00:00</td>\n",
       "      <td>661</td>\n",
       "      <td>2315</td>\n",
       "      <td>Rostockgata</td>\n",
       "      <td>utenfor Bjørvika visningssenter</td>\n",
       "      <td>59.906920</td>\n",
       "      <td>10.760312</td>\n",
       "      <td>410</td>\n",
       "      <td>Landstads gate</td>\n",
       "      <td>langs Uelands gate</td>\n",
       "      <td>59.929005</td>\n",
       "      <td>10.749676</td>\n",
       "    </tr>\n",
       "    <tr>\n",
       "      <th>2</th>\n",
       "      <td>2023-07-01 03:13:28.322000+00:00</td>\n",
       "      <td>2023-07-01 03:25:26.944000+00:00</td>\n",
       "      <td>718</td>\n",
       "      <td>384</td>\n",
       "      <td>Vår Frelsers gravlund</td>\n",
       "      <td>langs Ullevålsveien</td>\n",
       "      <td>59.919440</td>\n",
       "      <td>10.743765</td>\n",
       "      <td>551</td>\n",
       "      <td>Olaf Ryes plass</td>\n",
       "      <td>langs Sofienberggata</td>\n",
       "      <td>59.922425</td>\n",
       "      <td>10.758182</td>\n",
       "    </tr>\n",
       "    <tr>\n",
       "      <th>3</th>\n",
       "      <td>2023-07-01 03:15:18.482000+00:00</td>\n",
       "      <td>2023-07-01 03:32:54.956000+00:00</td>\n",
       "      <td>1056</td>\n",
       "      <td>584</td>\n",
       "      <td>Henrik Wergelands allé</td>\n",
       "      <td>ved Bogstadveien</td>\n",
       "      <td>59.926894</td>\n",
       "      <td>10.720789</td>\n",
       "      <td>583</td>\n",
       "      <td>Galgeberg</td>\n",
       "      <td>langs St. Halvards gate</td>\n",
       "      <td>59.907076</td>\n",
       "      <td>10.779164</td>\n",
       "    </tr>\n",
       "    <tr>\n",
       "      <th>4</th>\n",
       "      <td>2023-07-01 03:22:07.761000+00:00</td>\n",
       "      <td>2023-07-01 03:25:41.579000+00:00</td>\n",
       "      <td>213</td>\n",
       "      <td>600</td>\n",
       "      <td>Dyvekes bru</td>\n",
       "      <td>ved skatepark</td>\n",
       "      <td>59.905323</td>\n",
       "      <td>10.768958</td>\n",
       "      <td>465</td>\n",
       "      <td>Bjørvika</td>\n",
       "      <td>under broen Nylandsveien</td>\n",
       "      <td>59.909006</td>\n",
       "      <td>10.756180</td>\n",
       "    </tr>\n",
       "  </tbody>\n",
       "</table>\n",
       "</div>"
      ],
      "text/plain": [
       "                         started_at                          ended_at  \\\n",
       "0  2023-07-01 01:22:38.878000+00:00  2023-07-01 01:40:04.748000+00:00   \n",
       "1  2023-07-01 03:02:43.726000+00:00  2023-07-01 03:13:45.064000+00:00   \n",
       "2  2023-07-01 03:13:28.322000+00:00  2023-07-01 03:25:26.944000+00:00   \n",
       "3  2023-07-01 03:15:18.482000+00:00  2023-07-01 03:32:54.956000+00:00   \n",
       "4  2023-07-01 03:22:07.761000+00:00  2023-07-01 03:25:41.579000+00:00   \n",
       "\n",
       "   duration start_station_id      start_station_name  \\\n",
       "0      1045              387         Studenterlunden   \n",
       "1       661             2315             Rostockgata   \n",
       "2       718              384   Vår Frelsers gravlund   \n",
       "3      1056              584  Henrik Wergelands allé   \n",
       "4       213              600             Dyvekes bru   \n",
       "\n",
       "         start_station_description  start_station_latitude  \\\n",
       "0                 langs Karl Johan               59.914586   \n",
       "1  utenfor Bjørvika visningssenter               59.906920   \n",
       "2              langs Ullevålsveien               59.919440   \n",
       "3                 ved Bogstadveien               59.926894   \n",
       "4                    ved skatepark               59.905323   \n",
       "\n",
       "   start_station_longitude end_station_id   end_station_name  \\\n",
       "0                10.735453            499  Bjerregaards gate   \n",
       "1                10.760312            410     Landstads gate   \n",
       "2                10.743765            551    Olaf Ryes plass   \n",
       "3                10.720789            583          Galgeberg   \n",
       "4                10.768958            465           Bjørvika   \n",
       "\n",
       "        end_station_description  end_station_latitude  end_station_longitude  \n",
       "0  ovenfor Fredrikke Qvams gate             59.925488              10.746058  \n",
       "1            langs Uelands gate             59.929005              10.749676  \n",
       "2          langs Sofienberggata             59.922425              10.758182  \n",
       "3       langs St. Halvards gate             59.907076              10.779164  \n",
       "4      under broen Nylandsveien             59.909006              10.756180  "
      ]
     },
     "execution_count": 46,
     "metadata": {},
     "output_type": "execute_result"
    }
   ],
   "source": [
    "trips = pd.DataFrame(data)\n",
    "trips.head()"
   ]
  },
  {
   "cell_type": "markdown",
   "id": "52fdafcd-9a54-4871-bb96-9b30e96709a8",
   "metadata": {},
   "source": [
    "Her ser vi et eksempel på en nyttig tabellfunksjon, nemlig `head`, som skriver ut de første radene i tabellen. Vi bør alltid gjøre dette for å sjekke at tabellen har blitt opprettet riktig. "
   ]
  },
  {
   "cell_type": "markdown",
   "id": "605983e3-55fc-4f08-a1ab-5385f7720b65",
   "metadata": {},
   "source": [
    "Vi kan nå hente ut en kolonne og regne ut gjennomsnittet av verdiene: "
   ]
  },
  {
   "cell_type": "code",
   "execution_count": 47,
   "id": "f1f55282-5f7a-4f4e-bd23-18150d712361",
   "metadata": {
    "scrolled": true
   },
   "outputs": [
    {
     "name": "stdout",
     "output_type": "stream",
     "text": [
      "873.4412814638342\n"
     ]
    }
   ],
   "source": [
    "durations = trips[\"duration\"]\n",
    "print(durations.mean())"
   ]
  },
  {
   "cell_type": "markdown",
   "id": "6754f24f-2602-4f04-a96f-20c80c917333",
   "metadata": {},
   "source": [
    "Så enkelt var det å finne den gjennomsnittlige variheten til sykkelturene!\n",
    "\n",
    "Videre kan vi trekke ut sykkelturer som tilfredsstiller et bestemt krav, for eksempel at varigheten er mindre enn 180 sekunder (tre minutter):"
   ]
  },
  {
   "cell_type": "code",
   "execution_count": 48,
   "id": "6ba86e08-fe43-400d-919a-f8b75b4d4f33",
   "metadata": {},
   "outputs": [
    {
     "data": {
      "text/html": [
       "<div>\n",
       "<style scoped>\n",
       "    .dataframe tbody tr th:only-of-type {\n",
       "        vertical-align: middle;\n",
       "    }\n",
       "\n",
       "    .dataframe tbody tr th {\n",
       "        vertical-align: top;\n",
       "    }\n",
       "\n",
       "    .dataframe thead th {\n",
       "        text-align: right;\n",
       "    }\n",
       "</style>\n",
       "<table border=\"1\" class=\"dataframe\">\n",
       "  <thead>\n",
       "    <tr style=\"text-align: right;\">\n",
       "      <th></th>\n",
       "      <th>started_at</th>\n",
       "      <th>ended_at</th>\n",
       "      <th>duration</th>\n",
       "      <th>start_station_id</th>\n",
       "      <th>start_station_name</th>\n",
       "      <th>start_station_description</th>\n",
       "      <th>start_station_latitude</th>\n",
       "      <th>start_station_longitude</th>\n",
       "      <th>end_station_id</th>\n",
       "      <th>end_station_name</th>\n",
       "      <th>end_station_description</th>\n",
       "      <th>end_station_latitude</th>\n",
       "      <th>end_station_longitude</th>\n",
       "    </tr>\n",
       "  </thead>\n",
       "  <tbody>\n",
       "    <tr>\n",
       "      <th>34</th>\n",
       "      <td>2023-07-01 04:55:13.425000+00:00</td>\n",
       "      <td>2023-07-01 04:56:45.208000+00:00</td>\n",
       "      <td>91</td>\n",
       "      <td>2350</td>\n",
       "      <td>Blindern T-Bane</td>\n",
       "      <td>ved Blindernveien</td>\n",
       "      <td>59.940252</td>\n",
       "      <td>10.716724</td>\n",
       "      <td>2350</td>\n",
       "      <td>Blindern T-Bane</td>\n",
       "      <td>ved Blindernveien</td>\n",
       "      <td>59.940252</td>\n",
       "      <td>10.716724</td>\n",
       "    </tr>\n",
       "    <tr>\n",
       "      <th>36</th>\n",
       "      <td>2023-07-01 04:57:18.873000+00:00</td>\n",
       "      <td>2023-07-01 04:59:56.660000+00:00</td>\n",
       "      <td>157</td>\n",
       "      <td>442</td>\n",
       "      <td>Vulkan</td>\n",
       "      <td>ved Maridalsveien</td>\n",
       "      <td>59.922510</td>\n",
       "      <td>10.751010</td>\n",
       "      <td>463</td>\n",
       "      <td>Schous plass trikkestopp</td>\n",
       "      <td>ved biblioteket</td>\n",
       "      <td>59.920728</td>\n",
       "      <td>10.759486</td>\n",
       "    </tr>\n",
       "    <tr>\n",
       "      <th>56</th>\n",
       "      <td>2023-07-01 05:30:20.792000+00:00</td>\n",
       "      <td>2023-07-01 05:32:35.367000+00:00</td>\n",
       "      <td>134</td>\n",
       "      <td>584</td>\n",
       "      <td>Henrik Wergelands allé</td>\n",
       "      <td>ved Bogstadveien</td>\n",
       "      <td>59.926894</td>\n",
       "      <td>10.720789</td>\n",
       "      <td>579</td>\n",
       "      <td>Bogstadveien</td>\n",
       "      <td>ved Sporveisgata</td>\n",
       "      <td>59.924732</td>\n",
       "      <td>10.724628</td>\n",
       "    </tr>\n",
       "    <tr>\n",
       "      <th>65</th>\n",
       "      <td>2023-07-01 05:41:52.369000+00:00</td>\n",
       "      <td>2023-07-01 05:43:44.970000+00:00</td>\n",
       "      <td>112</td>\n",
       "      <td>600</td>\n",
       "      <td>Dyvekes bru</td>\n",
       "      <td>ved skatepark</td>\n",
       "      <td>59.905323</td>\n",
       "      <td>10.768958</td>\n",
       "      <td>737</td>\n",
       "      <td>Munkegata</td>\n",
       "      <td>langs Oslo gate</td>\n",
       "      <td>59.908255</td>\n",
       "      <td>10.767800</td>\n",
       "    </tr>\n",
       "    <tr>\n",
       "      <th>71</th>\n",
       "      <td>2023-07-01 05:47:06.312000+00:00</td>\n",
       "      <td>2023-07-01 05:50:00.209000+00:00</td>\n",
       "      <td>173</td>\n",
       "      <td>737</td>\n",
       "      <td>Munkegata</td>\n",
       "      <td>langs Oslo gate</td>\n",
       "      <td>59.908255</td>\n",
       "      <td>10.767800</td>\n",
       "      <td>600</td>\n",
       "      <td>Dyvekes bru</td>\n",
       "      <td>ved skatepark</td>\n",
       "      <td>59.905323</td>\n",
       "      <td>10.768958</td>\n",
       "    </tr>\n",
       "  </tbody>\n",
       "</table>\n",
       "</div>"
      ],
      "text/plain": [
       "                          started_at                          ended_at  \\\n",
       "34  2023-07-01 04:55:13.425000+00:00  2023-07-01 04:56:45.208000+00:00   \n",
       "36  2023-07-01 04:57:18.873000+00:00  2023-07-01 04:59:56.660000+00:00   \n",
       "56  2023-07-01 05:30:20.792000+00:00  2023-07-01 05:32:35.367000+00:00   \n",
       "65  2023-07-01 05:41:52.369000+00:00  2023-07-01 05:43:44.970000+00:00   \n",
       "71  2023-07-01 05:47:06.312000+00:00  2023-07-01 05:50:00.209000+00:00   \n",
       "\n",
       "    duration start_station_id      start_station_name  \\\n",
       "34        91             2350         Blindern T-Bane   \n",
       "36       157              442                  Vulkan   \n",
       "56       134              584  Henrik Wergelands allé   \n",
       "65       112              600             Dyvekes bru   \n",
       "71       173              737               Munkegata   \n",
       "\n",
       "   start_station_description  start_station_latitude  start_station_longitude  \\\n",
       "34         ved Blindernveien               59.940252                10.716724   \n",
       "36         ved Maridalsveien               59.922510                10.751010   \n",
       "56          ved Bogstadveien               59.926894                10.720789   \n",
       "65             ved skatepark               59.905323                10.768958   \n",
       "71           langs Oslo gate               59.908255                10.767800   \n",
       "\n",
       "   end_station_id          end_station_name end_station_description  \\\n",
       "34           2350           Blindern T-Bane       ved Blindernveien   \n",
       "36            463  Schous plass trikkestopp         ved biblioteket   \n",
       "56            579              Bogstadveien        ved Sporveisgata   \n",
       "65            737                 Munkegata         langs Oslo gate   \n",
       "71            600               Dyvekes bru           ved skatepark   \n",
       "\n",
       "    end_station_latitude  end_station_longitude  \n",
       "34             59.940252              10.716724  \n",
       "36             59.920728              10.759486  \n",
       "56             59.924732              10.724628  \n",
       "65             59.908255              10.767800  \n",
       "71             59.905323              10.768958  "
      ]
     },
     "execution_count": 48,
     "metadata": {},
     "output_type": "execute_result"
    }
   ],
   "source": [
    "short_trips = trips[trips[\"duration\"] < 180] \n",
    "short_trips.head()"
   ]
  },
  {
   "cell_type": "markdown",
   "id": "1dbf9411-3c85-4299-b444-8d974d54678e",
   "metadata": {},
   "source": [
    "Som forventet får vi en ny tabell med radene som tilfredsstiller kravet. Men hvordan gjorde vi egentlig dette? Hva betyr det å skrive `trips[trips[\"duration\"] < 180]`? \n",
    "\n",
    "Vi er jo vant til å bruke indekser, som for eksempel `trips[:10]` for å hente de ti første turene. Men siden vi nå jobber med en pandas-tabell, har vi flere muligheter - i stedet for indekser kan vi skrive en betingelse! I dette tilfellet er betingelsen at kolonnen *duration* har en tallverdi som er mindre enn 180. Da vil *pandas* sørge for å hente ut alle radene der betingelsen stemmer!\n",
    "\n",
    "**Oppsummering.** I denne seksjonen har vi sett at pandas gir oss muligheten til å jobbe med to typer objekter; tabeller og kolonner. Vi har sett hvordan tabeller i noen tilfeller kan opprettes fra *JSON*-filer. Videre har vi sett hvordan vi henter spesifikke kolonner fra en tabell, samt hente rrader som tilfredsstiller en betingelse."
   ]
  },
  {
   "cell_type": "markdown",
   "id": "4c675bda-ea96-4e32-bcac-e0cfdd71a285",
   "metadata": {},
   "source": [
    "## Kolonnefunksjoner\n",
    "\n",
    "En viktig fordel med pandas er at vi ikke trenger løkker for å gjøre operasjoner på alle verdiene i en kolonne, eller alle radene i en tabell. Det skal vi se nærmere på i de to neste seksjonene.\n",
    "\n",
    "Hva om vi for eksempel ønsker å hente alle sykkelturer som startet på en mandag? I stedet for å bruke en løkke, ønsker vi å skrive noe sånt som:\n",
    "\n",
    "```py\n",
    "monday_trips = trips[trips[\"day_of_week\"]==\"monday\"]\n",
    "```\n",
    "\n",
    "Problemet er at tabellen vår ikke har en kolonne som forteller ukedagen. Det eneste vi har er kolonnen *started_at*, som inneholder datostrenger: "
   ]
  },
  {
   "cell_type": "code",
   "execution_count": 49,
   "id": "06f499e9-70e2-4edd-a629-1ed117b0b486",
   "metadata": {},
   "outputs": [
    {
     "name": "stdout",
     "output_type": "stream",
     "text": [
      "0         2023-07-01 01:22:38.878000+00:00\n",
      "1         2023-07-01 03:02:43.726000+00:00\n",
      "2         2023-07-01 03:13:28.322000+00:00\n",
      "3         2023-07-01 03:15:18.482000+00:00\n",
      "4         2023-07-01 03:22:07.761000+00:00\n",
      "                        ...               \n",
      "131376    2023-07-31 22:56:28.774000+00:00\n",
      "131377    2023-07-31 22:57:48.437000+00:00\n",
      "131378    2023-07-31 22:59:07.894000+00:00\n",
      "131379    2023-07-31 23:21:56.183000+00:00\n",
      "131380    2023-07-31 23:21:56.775000+00:00\n",
      "Name: started_at, Length: 131381, dtype: object\n"
     ]
    }
   ],
   "source": [
    "print(trips[\"started_at\"])"
   ]
  },
  {
   "cell_type": "markdown",
   "id": "1f1e3ee1-0771-4598-9ee5-64803df81bde",
   "metadata": {},
   "source": [
    "For å oppnå det vi ønsker, må vi opprette en ny kolonne i tabellen, der datostrengene er konvertert til ukedag. \n",
    "\n",
    "Det første steget er å opprette en funksjon som konverterer **én** datostreng til riktig ukedag:"
   ]
  },
  {
   "cell_type": "code",
   "execution_count": 50,
   "id": "e5dc4c7e-3a09-4c9d-9b75-1fa7a19a439b",
   "metadata": {
    "scrolled": true
   },
   "outputs": [
    {
     "name": "stdout",
     "output_type": "stream",
     "text": [
      "saturday\n"
     ]
    }
   ],
   "source": [
    "days_of_week = [\"monday\", \"tuesday\", \"wednesday\", \"thursday\", \"friday\", \"saturday\", \"sunday\"]\n",
    "\n",
    "def get_day_of_week(date_string):\n",
    "    date_object = datetime.fromisoformat(date_string)\n",
    "    i = date_object.weekday()\n",
    "    return days_of_week[i]\n",
    "\n",
    "test = get_day_of_week(\"2023-07-01 10:27:10\")\n",
    "print(test)"
   ]
  },
  {
   "cell_type": "markdown",
   "id": "1d2aefb2-cab9-45fe-9913-86abdcc68b24",
   "metadata": {},
   "source": [
    "*Denne koden er basert på det vi lærte i seksjonen* Håndtering av dato og tid. \n",
    "\n",
    "Med pandas kan vi nå kjøre denne funksjonen på alle verdiene i kolonnen *started_at*: "
   ]
  },
  {
   "cell_type": "code",
   "execution_count": 51,
   "id": "574140b7-5943-4774-a837-d52ac61c12ce",
   "metadata": {},
   "outputs": [
    {
     "name": "stdout",
     "output_type": "stream",
     "text": [
      "0         saturday\n",
      "1         saturday\n",
      "2         saturday\n",
      "3         saturday\n",
      "4         saturday\n",
      "            ...   \n",
      "131376      monday\n",
      "131377      monday\n",
      "131378      monday\n",
      "131379      monday\n",
      "131380      monday\n",
      "Name: started_at, Length: 131381, dtype: object\n"
     ]
    }
   ],
   "source": [
    "test = trips[\"started_at\"].apply(get_day_of_week)\n",
    "print(test)"
   ]
  },
  {
   "cell_type": "markdown",
   "id": "ffc0ef95-8585-4b36-854b-e78686a7a810",
   "metadata": {},
   "source": [
    "Som forventet får vi en ny kolonne tilbake, der alle datostrengene har blitt konvertert til riktig ukedag. \n",
    "\n",
    "Kolonnefunksjonen `apply` brukes for å konvertere alle verdiene i en kolonne. Som parameter må vi gi navnet på en funksjon som konverterer **én** verdi. \n",
    "\n",
    "Det er viktig å huske at `apply` ikke gjør endringer på den originale kolonnen, men gir oss en ny kolonne. For å ta vare på den nye kolonnen, kan vi legge den til i tabellen:"
   ]
  },
  {
   "cell_type": "code",
   "execution_count": 52,
   "id": "1e4d7fc9-d423-41ff-8034-2f0a7a281a5c",
   "metadata": {},
   "outputs": [],
   "source": [
    "trips[\"day_of_week\"] = trips[\"started_at\"].apply(get_day_of_week)"
   ]
  },
  {
   "cell_type": "markdown",
   "id": "a52fbf41-9a6d-4462-8544-2d924bb552a6",
   "metadata": {},
   "source": [
    "For å opprette en ny kolonne bruker vi altså skrivemåten `table[\"new_column_name\"] = new_column`. Her er det viktig at variabelen `new_column` er kompatibel med tabellen. I eksempelet ovenfor har vi ingen problemer, fordi den nye kolonnen er laget ved å konvertere en kolonne som allerede eksisterer i tabellen. Som regel er det slik vi oppretter nye kolonner. \n",
    "\n",
    "Med den nye kolonnen kan vi enkelt hente alle turer som startet på en mandag: "
   ]
  },
  {
   "cell_type": "code",
   "execution_count": 53,
   "id": "8817e9af-4207-4428-9ec3-011eb768c777",
   "metadata": {
    "scrolled": true
   },
   "outputs": [],
   "source": [
    "monday_trips = trips[trips[\"day_of_week\"]==\"monday\"]"
   ]
  },
  {
   "cell_type": "markdown",
   "id": "00d2a7e2-5fd0-49cc-b49b-2f3115c4756f",
   "metadata": {},
   "source": [
    "Nå har vi fått en tabell som inneholder alle mandagsturer. Men dersom vi ønsker å telle antall turer på de forskjellige ukedagene, kan vi i stedet bruke en svært nyttig kolonnefunksjon:"
   ]
  },
  {
   "cell_type": "code",
   "execution_count": 54,
   "id": "83495a36-1cb3-4fb0-8b6b-f7f390571d0a",
   "metadata": {
    "scrolled": true
   },
   "outputs": [
    {
     "name": "stdout",
     "output_type": "stream",
     "text": [
      "day_of_week\n",
      "monday       21259\n",
      "friday       19367\n",
      "wednesday    19305\n",
      "saturday     19005\n",
      "thursday     18998\n",
      "tuesday      18696\n",
      "sunday       14751\n",
      "Name: count, dtype: int64\n"
     ]
    }
   ],
   "source": [
    "counts = trips[\"day_of_week\"].value_counts()\n",
    "print(counts)"
   ]
  },
  {
   "cell_type": "markdown",
   "id": "64362d2f-aeb4-4f9a-91ca-1f4034b94f07",
   "metadata": {},
   "source": [
    "Her har vi hentet kolonnen *day_of_week*, og telt antall forekomster av hver verdi. Resultatet forteller oss at mandag er den mest populære dagen, med 21259 sykkelturer. Dersom vi ønsker fordelingen i prosent, kan vi legge til følgende parameter: "
   ]
  },
  {
   "cell_type": "code",
   "execution_count": 55,
   "id": "dd61516f-6981-4032-a8a8-e66f28d1b360",
   "metadata": {},
   "outputs": [
    {
     "name": "stdout",
     "output_type": "stream",
     "text": [
      "day_of_week\n",
      "monday       0.161812\n",
      "friday       0.147411\n",
      "wednesday    0.146939\n",
      "saturday     0.144656\n",
      "thursday     0.144602\n",
      "tuesday      0.142304\n",
      "sunday       0.112277\n",
      "Name: proportion, dtype: float64\n"
     ]
    }
   ],
   "source": [
    "counts = trips[\"day_of_week\"].value_counts(normalize=True)\n",
    "print(counts)"
   ]
  },
  {
   "cell_type": "markdown",
   "id": "585a007b-f575-4443-9685-39bb901f1c4f",
   "metadata": {},
   "source": [
    "Vi ser at omtrent 16.2% av sykkelturene skjedde på mandager. \n",
    "\n",
    "Hva om vi kun er interessert i fordelingen mellom hverdag og helg? Da legger vi til en kolonne i tabellen som inneholder nøyaktig den informasjonen vi ønsker, nemlig om en tur skjedde på en hverdag eller helg. Først må vi definere en funksjon som kan konvertere **én** datostreng til riktig verdi:"
   ]
  },
  {
   "cell_type": "code",
   "execution_count": 56,
   "id": "846e9b89-71eb-4627-b7b8-7b1d3cc393af",
   "metadata": {},
   "outputs": [
    {
     "name": "stdout",
     "output_type": "stream",
     "text": [
      "weekend\n"
     ]
    }
   ],
   "source": [
    "def get_part_of_week(date_string):\n",
    "    date_object = datetime.fromisoformat(date_string)\n",
    "    i = date_object.weekday()\n",
    "    if i < 5:\n",
    "        return \"weekday\"\n",
    "    else:\n",
    "        return \"weekend\"\n",
    "\n",
    "test = get_part_of_week(\"2023-07-01 10:27:10\")\n",
    "print(test)"
   ]
  },
  {
   "cell_type": "markdown",
   "id": "75d2dcb9-2a1f-4f40-a15d-c0e6ffa76adc",
   "metadata": {},
   "source": [
    "Nå kan vi opprette en ny kolonne ved å konvertere alle verdiene i *started_at*:"
   ]
  },
  {
   "cell_type": "code",
   "execution_count": 57,
   "id": "733fb628-fdc1-403b-b407-44f76f5db450",
   "metadata": {},
   "outputs": [
    {
     "name": "stdout",
     "output_type": "stream",
     "text": [
      "0         weekend\n",
      "1         weekend\n",
      "2         weekend\n",
      "3         weekend\n",
      "4         weekend\n",
      "           ...   \n",
      "131376    weekday\n",
      "131377    weekday\n",
      "131378    weekday\n",
      "131379    weekday\n",
      "131380    weekday\n",
      "Name: part_of_week, Length: 131381, dtype: object\n"
     ]
    }
   ],
   "source": [
    "trips[\"part_of_week\"] = trips[\"started_at\"].apply(get_part_of_week)\n",
    "print(trips[\"part_of_week\"])"
   ]
  },
  {
   "cell_type": "markdown",
   "id": "76424ffb-03d1-44de-b2f9-970512f9ee7d",
   "metadata": {},
   "source": [
    "Til slutt kan vi finne den prosentvise fordelingen mellom hverdag og helg:"
   ]
  },
  {
   "cell_type": "code",
   "execution_count": 58,
   "id": "6bb30efd-4ec3-4524-b250-728cd18a9685",
   "metadata": {},
   "outputs": [
    {
     "name": "stdout",
     "output_type": "stream",
     "text": [
      "part_of_week\n",
      "weekday    0.743068\n",
      "weekend    0.256932\n",
      "Name: proportion, dtype: float64\n"
     ]
    }
   ],
   "source": [
    "counts = trips[\"part_of_week\"].value_counts(normalize=True)\n",
    "print(counts)"
   ]
  },
  {
   "cell_type": "markdown",
   "id": "f20766be-d508-4b54-9815-7f5ac4e0ab6f",
   "metadata": {},
   "source": [
    "Vi ser at omtrent 74.3 % av turene skjedde på hverdager. "
   ]
  },
  {
   "cell_type": "markdown",
   "id": "002ec5a9-ed94-490b-9063-1b2afde10d51",
   "metadata": {},
   "source": [
    "**Oppsummering.** I denne seksjonen har vi sett hvordan kolonnefunksjonen `apply` kan brukes for å konvertere alle verdiene i en kolonne. Da får vi en ny kolonne som vi kan sette inn i tabellen. For å bruke `apply` må vi ha definert en funksjon som konverterer **én** verdi. \n",
    "\n",
    "Videre har vi sett hvordan kolonnefunksjonen `value_counts`kan brukes til å finne fordelingen av verdier i en kolonne. "
   ]
  },
  {
   "cell_type": "markdown",
   "id": "582e525b-6bb8-44f8-bfcc-73b9b85c9170",
   "metadata": {},
   "source": [
    "**Aktivitetsforslag.**\n",
    "\n",
    "1. Legg til en ny kolonne i `trips` som inneholder klokketimen turene startet på. Denne kolonnen skal altså inneholde verdier mellom 0 og 23. *Hint: Lag først en funksjon som konverterer en datostreng til riktig klokketime.*\n",
    "2. Finn prosentfordelingen av turer på klokketimer. Hvilken klokketime er mest og minst populær? \n",
    "3. Lag en funksjon som tar klokketime som inndata, og som gir en av følgende strenger som utdata: *morning*, *afternoon*, *evening*, *night*. Du kan selv velge hvilke klokketimer som svarer til de ulike strengene.\n",
    "4. Legg til en kolonne i `trips` som forteller hvilken periode av dagen en tur startet på. Verdiene i kolonnen skal altså være strengene fra forrige punkt. *Hint: hvilken kolonne må du konvertere, og hvilken funksjon kan du bruke til å konvertere den?*"
   ]
  },
  {
   "cell_type": "markdown",
   "id": "88de0913-7259-496a-bb51-1d41ff0b5315",
   "metadata": {},
   "source": [
    "**Løsningsforslag.**"
   ]
  },
  {
   "cell_type": "markdown",
   "id": "19f63817-cf4a-4aa3-9d70-62b200ff6ffc",
   "metadata": {},
   "source": [
    "Vi lager en funksjon som konverterer en datostreng til ønsket verdi: "
   ]
  },
  {
   "cell_type": "code",
   "execution_count": 59,
   "id": "3ad93b24-b871-4bda-a64f-abc3a9d6d392",
   "metadata": {},
   "outputs": [
    {
     "name": "stdout",
     "output_type": "stream",
     "text": [
      "morning\n"
     ]
    }
   ],
   "source": [
    "def get_part_of_day(date_string):\n",
    "    date_object = datetime.fromisoformat(date_string)\n",
    "    hour = date_object.hour\n",
    "    if hour < 6:\n",
    "        return \"night\"\n",
    "    elif hour < 12:\n",
    "        return \"morning\"\n",
    "    elif hour < 18:\n",
    "        return \"afternoon\"\n",
    "    else:\n",
    "        return \"evening\"\n",
    "\n",
    "test = get_part_of_day(\"2023-07-01 10:27:10\")\n",
    "print(test)"
   ]
  },
  {
   "cell_type": "markdown",
   "id": "ede452fd-760c-4f1f-8ac9-c2b1dc5f64b2",
   "metadata": {},
   "source": [
    "Vi kan nå bruke denne funksjonen på alle datostrengene i kolonnen *started_at*. Resultatet kan legges til som en ny kolonne i turtabellen:"
   ]
  },
  {
   "cell_type": "code",
   "execution_count": 60,
   "id": "5b3c6635-159c-41ea-9660-fa2d333641a9",
   "metadata": {},
   "outputs": [
    {
     "name": "stdout",
     "output_type": "stream",
     "text": [
      "0           night\n",
      "1           night\n",
      "2           night\n",
      "3           night\n",
      "4           night\n",
      "           ...   \n",
      "131376    evening\n",
      "131377    evening\n",
      "131378    evening\n",
      "131379    evening\n",
      "131380    evening\n",
      "Name: part_of_day, Length: 131381, dtype: object\n"
     ]
    }
   ],
   "source": [
    "trips[\"part_of_day\"] = trips[\"started_at\"].apply(get_part_of_day)\n",
    "print(trips[\"part_of_day\"])"
   ]
  },
  {
   "cell_type": "markdown",
   "id": "60a6f883-2d4c-47b6-8745-02cf6905b1d3",
   "metadata": {},
   "source": [
    "## Tabellfunksjoner"
   ]
  },
  {
   "cell_type": "markdown",
   "id": "f2d70393-28df-4b6c-806a-74d10b4177db",
   "metadata": {},
   "source": [
    "Forrige seksjon ga oss en nyttig måte å konvertere en enkelt kolonne. Men hva om vi legge til en kolonne som inneholder avstanden mellom start -og endestasjonen for hver tur? \n",
    "\n",
    "La oss først prøve å regne ut avstanden for en enkelt rad i tabellen. For å hente ut en spesifikk rad bruker vi tabellfunksjonen `loc`, på følgende måte:"
   ]
  },
  {
   "cell_type": "code",
   "execution_count": 61,
   "id": "993da94f-aa49-4a72-948b-4a1484026fbe",
   "metadata": {},
   "outputs": [
    {
     "name": "stdout",
     "output_type": "stream",
     "text": [
      "started_at                   2023-07-01 10:07:16.682000+00:00\n",
      "ended_at                     2023-07-01 10:27:10.715000+00:00\n",
      "duration                                                 1194\n",
      "start_station_id                                          464\n",
      "start_station_name                                Sukkerbiten\n",
      "start_station_description                       ved gangbroen\n",
      "start_station_latitude                              59.905124\n",
      "start_station_longitude                             10.753764\n",
      "end_station_id                                            440\n",
      "end_station_name                                    Lakkegata\n",
      "end_station_description                    ved Sundtkvartalet\n",
      "end_station_latitude                                59.917209\n",
      "end_station_longitude                               10.762213\n",
      "day_of_week                                          saturday\n",
      "part_of_week                                          weekend\n",
      "part_of_day                                           morning\n",
      "Name: 1000, dtype: object\n"
     ]
    }
   ],
   "source": [
    "my_row = trips.loc[1000]\n",
    "print(my_row)"
   ]
  },
  {
   "cell_type": "markdown",
   "id": "fc8fe40a-291b-41ea-a18c-b5f16775cfbb",
   "metadata": {},
   "source": [
    "Vi kan nå hente en spesifikk verdi i denne raden: "
   ]
  },
  {
   "cell_type": "code",
   "execution_count": 62,
   "id": "95f81ab7-3079-4d59-b9a6-69c34016015b",
   "metadata": {
    "scrolled": true
   },
   "outputs": [
    {
     "name": "stdout",
     "output_type": "stream",
     "text": [
      "59.905124380703484\n"
     ]
    }
   ],
   "source": [
    "start_lat = my_row[\"start_station_latitude\"]\n",
    "print(start_lat)"
   ]
  },
  {
   "cell_type": "markdown",
   "id": "a0104491-b8ed-4e66-9dd0-b0f92b618dff",
   "metadata": {},
   "source": [
    "Dette er én av fire verdier vi trenger for å regne ut avstanden. Vi definerer nå en funksjon som tar en rad som parameter, og returnerer avstanden: "
   ]
  },
  {
   "cell_type": "code",
   "execution_count": 63,
   "id": "de94dfe4-40dc-4406-bea4-2a9e15eb1979",
   "metadata": {
    "scrolled": true
   },
   "outputs": [
    {
     "name": "stdout",
     "output_type": "stream",
     "text": [
      "1.426929791603095\n"
     ]
    }
   ],
   "source": [
    "from geopy import distance\n",
    "\n",
    "def get_distance(row):\n",
    "    start_lat = row[\"start_station_latitude\"]\n",
    "    start_lon = row[\"start_station_longitude\"]\n",
    "    end_lat = row[\"end_station_latitude\"]\n",
    "    end_lon = row[\"end_station_longitude\"]\n",
    "    start = (start_lat, start_lon)\n",
    "    end = (end_lat, end_lon)\n",
    "    d = distance.distance(start, end)\n",
    "    return d.km\n",
    "\n",
    "test = get_distance(my_row)\n",
    "print(test)"
   ]
  },
  {
   "cell_type": "markdown",
   "id": "43026b67-353b-4a07-be3a-a22ba95b9795",
   "metadata": {},
   "source": [
    "*Denne koden er basert på det vi lærte i seksjonen* Håndtering av geografisk data.\n",
    "\n",
    "For å bruke denne funksjonen på alle radene i tabellen, bruker vi igjen `apply`:"
   ]
  },
  {
   "cell_type": "code",
   "execution_count": 64,
   "id": "456ef4d7-f317-4960-a6da-2d68cb7384dc",
   "metadata": {},
   "outputs": [
    {
     "name": "stdout",
     "output_type": "stream",
     "text": [
      "0         1.351713\n",
      "1         2.531455\n",
      "2         0.872273\n",
      "3         3.941900\n",
      "4         0.824377\n",
      "            ...   \n",
      "131376    0.653792\n",
      "131377    2.107308\n",
      "131378    0.000000\n",
      "131379    0.000000\n",
      "131380    0.000000\n",
      "Length: 131381, dtype: float64\n"
     ]
    }
   ],
   "source": [
    "distances = trips.apply(get_distance, axis=1)\n",
    "print(distances)"
   ]
  },
  {
   "cell_type": "markdown",
   "id": "a505f2dd-58aa-4e50-a84c-818a9d50e2cb",
   "metadata": {},
   "source": [
    "Merk at vi må inkludere parameteren `axis=1`, for å spesifisere at funksjonen vår skal brukes på alle rader (ikke alle kolonner). \n",
    "\n",
    "Resultatet av `apply` er en ny kolonne, som kan settes inn i tabellen: "
   ]
  },
  {
   "cell_type": "code",
   "execution_count": 65,
   "id": "1205dd70-72f7-4cfa-9a6c-9daba6533b10",
   "metadata": {},
   "outputs": [],
   "source": [
    "trips[\"distance\"] = trips.apply(get_distance, axis=1)"
   ]
  },
  {
   "cell_type": "markdown",
   "id": "9fc4fddc-a934-4cdd-8fc2-9a7bb889d734",
   "metadata": {},
   "source": [
    "Nå har vi opprettet kolonnen *distance*, og vi kan enkelt hente diverse statistiske verdier: "
   ]
  },
  {
   "cell_type": "code",
   "execution_count": 66,
   "id": "12da31f1-3692-49dd-b19f-d54f75848f7a",
   "metadata": {
    "scrolled": true
   },
   "outputs": [
    {
     "name": "stdout",
     "output_type": "stream",
     "text": [
      "1.5637046147163225\n",
      "1.3778103572129936\n",
      "8.17033235134136\n",
      "0.0\n"
     ]
    }
   ],
   "source": [
    "print(trips[\"distance\"].mean())\n",
    "print(trips[\"distance\"].median())\n",
    "print(trips[\"distance\"].max())\n",
    "print(trips[\"distance\"].min())"
   ]
  },
  {
   "cell_type": "markdown",
   "id": "d738f2f9-2ea1-4921-88d3-0a71f08bba6f",
   "metadata": {},
   "source": [
    "Her ser vi at sykkelturer i gjennomsnitt skjedde mellom stasjoner som var 1.56 km fra hverandre, og at den største avstanden var 8.17 km. (Hvorfor tror du den minste er avstanden 0 km? Og hva betyr det at medianverdien er 1.38 km?)"
   ]
  },
  {
   "cell_type": "markdown",
   "id": "36395693-4df8-47b7-b900-391869184446",
   "metadata": {},
   "source": [
    "Hva om vi ønsker å finne ut om helgesturer i gjennomsnitt er lengre enn hverdagsturer? I forrige seksjon opprettet vi kolonnen *part_of_week*, som nettopp forteller om en tur skjedde på hverdag eller helg. Vi kan nå *gruppere* tabellen etter denne kolonnen: "
   ]
  },
  {
   "cell_type": "code",
   "execution_count": 67,
   "id": "dc9ce5e7-2ef2-452a-8934-38dbac7df1a8",
   "metadata": {},
   "outputs": [],
   "source": [
    "grouped = trips.groupby(\"part_of_week\")"
   ]
  },
  {
   "cell_type": "markdown",
   "id": "6b8c5ce7-8839-4630-b6c2-02a119e745d5",
   "metadata": {},
   "source": [
    "Vi kan nå tenke oss at tabellen er delt i to; alle rader med verdien *weekday* er i den første gruppen, og alle rader med verdien *weekend* er i den andre gruppen. Hva er poenget med dette? Det ser vi dersom vi prøver å regne ut gjennomsnittet: "
   ]
  },
  {
   "cell_type": "code",
   "execution_count": 68,
   "id": "7e867477-272d-461f-bcb8-6ce3e814412f",
   "metadata": {
    "scrolled": true
   },
   "outputs": [
    {
     "name": "stdout",
     "output_type": "stream",
     "text": [
      "1.5637046147163225\n",
      "\n",
      "part_of_week\n",
      "weekday    1.559390\n",
      "weekend    1.576183\n",
      "Name: distance, dtype: float64\n"
     ]
    }
   ],
   "source": [
    "print(trips[\"distance\"].mean())\n",
    "print()\n",
    "print(grouped[\"distance\"].mean())"
   ]
  },
  {
   "cell_type": "markdown",
   "id": "1ab7e3b8-0ef0-4a53-8252-3fb8f508fa00",
   "metadata": {},
   "source": [
    "Forklaring:\n",
    "\n",
    "* Når tabellen er ugruppert, vil gjennomsnittet av en kolonne bare være et tall.\n",
    "* Når tabellen er gruppert, får vi ett gjennomsnitt for hver av gruppene.\n",
    "\n",
    "Resultatet forteller oss at helgeturer i gjennomsnitt er litt lengre enn hverdagsturer.\n",
    "\n",
    "Vi kan bruke samme metode for å sammenligne ulike grupper i tabellen. Kanskje vi ønsker å sammenligne hver ukedag, med tanke på hvor lenge sykkelturene varer i gjennomsnitt? "
   ]
  },
  {
   "cell_type": "code",
   "execution_count": 69,
   "id": "a11ece4b-7cda-416e-98f4-e8e4e2263cc2",
   "metadata": {
    "scrolled": true
   },
   "outputs": [
    {
     "name": "stdout",
     "output_type": "stream",
     "text": [
      "day_of_week\n",
      "friday        878.331543\n",
      "monday        797.965191\n",
      "saturday      999.538279\n",
      "sunday       1030.042845\n",
      "thursday      842.061164\n",
      "tuesday       794.381312\n",
      "wednesday     815.300803\n",
      "Name: duration, dtype: float64\n"
     ]
    }
   ],
   "source": [
    "grouped = trips.groupby(\"day_of_week\")\n",
    "print(grouped[\"duration\"].mean())"
   ]
  },
  {
   "cell_type": "markdown",
   "id": "7e56019c-74e1-4d7d-8086-a130522d4167",
   "metadata": {},
   "source": [
    "Her ser vi at varigheten til sykkelturene i gjennomsnitt er kortest på mandag, tirsdag og onsdag, og lengst på lørdag og søndag. "
   ]
  },
  {
   "cell_type": "markdown",
   "id": "47a2ada8-493d-47ba-b7b0-4645c545ef0c",
   "metadata": {},
   "source": [
    "**Oppsummering.** I denne seksjonen har vi sett hvordan tabellfunksjonen `apply` kan brukes for å gjøre en operasjon på alle radene i en tabell. Resultatet er en ny kolonne som kan settes inn i tabellen. \n",
    "\n",
    "Videre har vi sett at tabellfunksjonen `groupby` kan brukes for å dele tabellen inn i grupper. Når vi regner ut statistiske verdier, får vi én verdi for hver gruppe. Det gjør at vi kan sammenligne gruppene og finne tendenser. "
   ]
  },
  {
   "cell_type": "markdown",
   "id": "ee6addeb-d049-4e78-b32c-32001c6dc158",
   "metadata": {},
   "source": [
    "**Aktivitetsforslag.** Dette forutsetter at du har gjort oppgavene i forrige seksjon.\n",
    "\n",
    "1. Legg til en ny kolonne i `trips`, som inneholder avstanden mellom *Oslo S* og endestasjonen for turene. *Hint: lag først en funksjon som konverterer en enkelt rad i tabellen til den riktige avstanden.*\n",
    "2. Hvor nærme ender turene *Oslo S* i gjennomsnitt? \n",
    "3. Sammenlign gruppene morgen, ettermiddag, kveld og natt. I hvilken gruppe ender turene i snitt nærmest *Oslo S*, og i hvilken gruppe ender de lengst unna?\n",
    "4. Sammenlign gruppene helg og hverdag. I hvilken gruppe ender turene nærmest *Oslo S*?\n",
    "\n",
    "Utfordringsoppgave: Vi har i denne seksjonen sett hvordan man kan gruppere etter én kolonne. Det er også mulig å gruppere etter to kolonner, ved å bruke følgende kommando:\n",
    "```py\n",
    "grouped = table.groupby([\"column1\", \"column2\"])\n",
    "``` \n",
    "Grupper sykkelturene etter følgende kolonner:\n",
    "\n",
    "* *part_of_week*: forteller om en tur startet på hverdag eller helg\n",
    "* *part_of_day*: forteller om tur startet på morgen, ettermiddag, kveld eller natt.\n",
    "\n",
    "Du må opprette disse kolonnene dersom du ikke har dem. Hent gjennomsnittlige avstander i den grupperte tabellen. Hva forteller svarene deg?\n",
    "\n",
    "Utfordringsspørsmål: I de siste to seksjonene har du sett at det finnes to versjoner av `apply`; en kolonnefunksjon og en tabellfunksjon. Hva er forskjellen på disse? Hvorfor må du bruke tabellfunksjonen i punkt 1? Kan du gi en regel for når du må bruke tabellfunksjonen?"
   ]
  },
  {
   "cell_type": "markdown",
   "id": "b6b7c3a0-1476-4767-a11f-d598f9209162",
   "metadata": {
    "editable": true,
    "slideshow": {
     "slide_type": ""
    },
    "tags": []
   },
   "source": [
    "## Trekke ut ustrukturert data\n",
    "\n",
    "Vi skal nå se på hvordan vi kan opprette en tabell som kun inneholder informasjon om sykkelstasjonene. Da må vi trekke ut relevant data fra sykkelturtabellen. \n",
    "\n",
    "Først lager vi en tabell som kun inneholder de relevante kolonnene i turtabellen (men fortsatt alle radene): "
   ]
  },
  {
   "cell_type": "code",
   "execution_count": 70,
   "id": "33a6a334-caca-4dff-a3c1-2da164bb28fb",
   "metadata": {},
   "outputs": [
    {
     "data": {
      "text/html": [
       "<div>\n",
       "<style scoped>\n",
       "    .dataframe tbody tr th:only-of-type {\n",
       "        vertical-align: middle;\n",
       "    }\n",
       "\n",
       "    .dataframe tbody tr th {\n",
       "        vertical-align: top;\n",
       "    }\n",
       "\n",
       "    .dataframe thead th {\n",
       "        text-align: right;\n",
       "    }\n",
       "</style>\n",
       "<table border=\"1\" class=\"dataframe\">\n",
       "  <thead>\n",
       "    <tr style=\"text-align: right;\">\n",
       "      <th></th>\n",
       "      <th>start_station_id</th>\n",
       "      <th>start_station_name</th>\n",
       "      <th>start_station_description</th>\n",
       "      <th>start_station_latitude</th>\n",
       "      <th>start_station_longitude</th>\n",
       "    </tr>\n",
       "  </thead>\n",
       "  <tbody>\n",
       "    <tr>\n",
       "      <th>0</th>\n",
       "      <td>387</td>\n",
       "      <td>Studenterlunden</td>\n",
       "      <td>langs Karl Johan</td>\n",
       "      <td>59.914586</td>\n",
       "      <td>10.735453</td>\n",
       "    </tr>\n",
       "    <tr>\n",
       "      <th>1</th>\n",
       "      <td>2315</td>\n",
       "      <td>Rostockgata</td>\n",
       "      <td>utenfor Bjørvika visningssenter</td>\n",
       "      <td>59.906920</td>\n",
       "      <td>10.760312</td>\n",
       "    </tr>\n",
       "    <tr>\n",
       "      <th>2</th>\n",
       "      <td>384</td>\n",
       "      <td>Vår Frelsers gravlund</td>\n",
       "      <td>langs Ullevålsveien</td>\n",
       "      <td>59.919440</td>\n",
       "      <td>10.743765</td>\n",
       "    </tr>\n",
       "    <tr>\n",
       "      <th>3</th>\n",
       "      <td>584</td>\n",
       "      <td>Henrik Wergelands allé</td>\n",
       "      <td>ved Bogstadveien</td>\n",
       "      <td>59.926894</td>\n",
       "      <td>10.720789</td>\n",
       "    </tr>\n",
       "    <tr>\n",
       "      <th>4</th>\n",
       "      <td>600</td>\n",
       "      <td>Dyvekes bru</td>\n",
       "      <td>ved skatepark</td>\n",
       "      <td>59.905323</td>\n",
       "      <td>10.768958</td>\n",
       "    </tr>\n",
       "  </tbody>\n",
       "</table>\n",
       "</div>"
      ],
      "text/plain": [
       "  start_station_id      start_station_name        start_station_description  \\\n",
       "0              387         Studenterlunden                 langs Karl Johan   \n",
       "1             2315             Rostockgata  utenfor Bjørvika visningssenter   \n",
       "2              384   Vår Frelsers gravlund              langs Ullevålsveien   \n",
       "3              584  Henrik Wergelands allé                 ved Bogstadveien   \n",
       "4              600             Dyvekes bru                    ved skatepark   \n",
       "\n",
       "   start_station_latitude  start_station_longitude  \n",
       "0               59.914586                10.735453  \n",
       "1               59.906920                10.760312  \n",
       "2               59.919440                10.743765  \n",
       "3               59.926894                10.720789  \n",
       "4               59.905323                10.768958  "
      ]
     },
     "execution_count": 70,
     "metadata": {},
     "output_type": "execute_result"
    }
   ],
   "source": [
    "columns = [\"start_station_id\", \"start_station_name\", \"start_station_description\", \"start_station_latitude\", \"start_station_longitude\"]\n",
    "start_stations = trips[columns]\n",
    "start_stations.head()"
   ]
  },
  {
   "cell_type": "markdown",
   "id": "13bf49a4-fe5a-48a1-bb35-5ac3815a19bd",
   "metadata": {},
   "source": [
    "Nå har vi bare tatt med startstasjonene, men vi må ta høyde for at det kanskje finnes noen stasjoner som bare er brukt som endestasjon:"
   ]
  },
  {
   "cell_type": "code",
   "execution_count": 71,
   "id": "841acc0c-6460-4408-8513-e2535e3f7987",
   "metadata": {},
   "outputs": [],
   "source": [
    "columns = [\"end_station_id\", \"end_station_name\", \"end_station_description\", \"end_station_latitude\", \"end_station_longitude\"]\n",
    "end_stations = trips[columns]"
   ]
  },
  {
   "cell_type": "markdown",
   "id": "f1ad2252-bd52-43f1-a7d5-3153188f80f1",
   "metadata": {},
   "source": [
    "Nå ønsker vi at tabellene `start_stations` og `end_stations` skal ha samme kolonnenavn. Vi endrer kolonnenavnene på følgende måte: "
   ]
  },
  {
   "cell_type": "code",
   "execution_count": 72,
   "id": "932551c8-553b-4603-8102-de879dd27731",
   "metadata": {},
   "outputs": [],
   "source": [
    "new_column_names = [\"id\", \"name\", \"description\", \"latitude\", \"longitude\"]\n",
    "start_stations.columns = new_column_names\n",
    "end_stations.columns = new_column_names"
   ]
  },
  {
   "cell_type": "markdown",
   "id": "16207902-813e-4f61-b968-c0334d35bf96",
   "metadata": {},
   "source": [
    "Nå har vi to tabeller med akkurat de samme kolonnenavnene. Da kan vi slå dem sammen til en ny tabell:"
   ]
  },
  {
   "cell_type": "code",
   "execution_count": 73,
   "id": "5e352f44-ed4c-4074-9018-91d9f1372fa0",
   "metadata": {},
   "outputs": [
    {
     "data": {
      "text/html": [
       "<div>\n",
       "<style scoped>\n",
       "    .dataframe tbody tr th:only-of-type {\n",
       "        vertical-align: middle;\n",
       "    }\n",
       "\n",
       "    .dataframe tbody tr th {\n",
       "        vertical-align: top;\n",
       "    }\n",
       "\n",
       "    .dataframe thead th {\n",
       "        text-align: right;\n",
       "    }\n",
       "</style>\n",
       "<table border=\"1\" class=\"dataframe\">\n",
       "  <thead>\n",
       "    <tr style=\"text-align: right;\">\n",
       "      <th></th>\n",
       "      <th>id</th>\n",
       "      <th>name</th>\n",
       "      <th>description</th>\n",
       "      <th>latitude</th>\n",
       "      <th>longitude</th>\n",
       "    </tr>\n",
       "  </thead>\n",
       "  <tbody>\n",
       "    <tr>\n",
       "      <th>0</th>\n",
       "      <td>387</td>\n",
       "      <td>Studenterlunden</td>\n",
       "      <td>langs Karl Johan</td>\n",
       "      <td>59.914586</td>\n",
       "      <td>10.735453</td>\n",
       "    </tr>\n",
       "    <tr>\n",
       "      <th>1</th>\n",
       "      <td>2315</td>\n",
       "      <td>Rostockgata</td>\n",
       "      <td>utenfor Bjørvika visningssenter</td>\n",
       "      <td>59.906920</td>\n",
       "      <td>10.760312</td>\n",
       "    </tr>\n",
       "    <tr>\n",
       "      <th>2</th>\n",
       "      <td>384</td>\n",
       "      <td>Vår Frelsers gravlund</td>\n",
       "      <td>langs Ullevålsveien</td>\n",
       "      <td>59.919440</td>\n",
       "      <td>10.743765</td>\n",
       "    </tr>\n",
       "    <tr>\n",
       "      <th>3</th>\n",
       "      <td>584</td>\n",
       "      <td>Henrik Wergelands allé</td>\n",
       "      <td>ved Bogstadveien</td>\n",
       "      <td>59.926894</td>\n",
       "      <td>10.720789</td>\n",
       "    </tr>\n",
       "    <tr>\n",
       "      <th>4</th>\n",
       "      <td>600</td>\n",
       "      <td>Dyvekes bru</td>\n",
       "      <td>ved skatepark</td>\n",
       "      <td>59.905323</td>\n",
       "      <td>10.768958</td>\n",
       "    </tr>\n",
       "  </tbody>\n",
       "</table>\n",
       "</div>"
      ],
      "text/plain": [
       "     id                    name                      description   latitude  \\\n",
       "0   387         Studenterlunden                 langs Karl Johan  59.914586   \n",
       "1  2315             Rostockgata  utenfor Bjørvika visningssenter  59.906920   \n",
       "2   384   Vår Frelsers gravlund              langs Ullevålsveien  59.919440   \n",
       "3   584  Henrik Wergelands allé                 ved Bogstadveien  59.926894   \n",
       "4   600             Dyvekes bru                    ved skatepark  59.905323   \n",
       "\n",
       "   longitude  \n",
       "0  10.735453  \n",
       "1  10.760312  \n",
       "2  10.743765  \n",
       "3  10.720789  \n",
       "4  10.768958  "
      ]
     },
     "execution_count": 73,
     "metadata": {},
     "output_type": "execute_result"
    }
   ],
   "source": [
    "tables = [start_stations, end_stations]\n",
    "stations = pd.concat(tables)\n",
    "stations.head()"
   ]
  },
  {
   "cell_type": "markdown",
   "id": "7e89a79b-2a38-453d-a59a-7a6b6c9f42e2",
   "metadata": {},
   "source": [
    "Nå har vi en tabell som garantert inneholder alle stasjonene. Men siden hver rad i tabellen fortsatt representerer en sykkeltur, vil det være mange duplikasjoner. Vi kan enkelt fjerne duplikasjonene:"
   ]
  },
  {
   "cell_type": "code",
   "execution_count": 74,
   "id": "c5ae35ad-b490-409d-8ee9-6cf593c4388b",
   "metadata": {},
   "outputs": [],
   "source": [
    "stations = stations.drop_duplicates()"
   ]
  },
  {
   "cell_type": "markdown",
   "id": "63f651ab-398a-4af2-8e57-a6eecda7e2ed",
   "metadata": {},
   "source": [
    "I tabellen ovenfor ser vi at hver rad har en indeks som kommer fra sykkelturtabellen! Vi ønsker heller å bruke kolonnen *id* som indeks: "
   ]
  },
  {
   "cell_type": "code",
   "execution_count": 75,
   "id": "a88898a2-1016-4432-8a3b-d917ce3afe05",
   "metadata": {},
   "outputs": [
    {
     "data": {
      "text/html": [
       "<div>\n",
       "<style scoped>\n",
       "    .dataframe tbody tr th:only-of-type {\n",
       "        vertical-align: middle;\n",
       "    }\n",
       "\n",
       "    .dataframe tbody tr th {\n",
       "        vertical-align: top;\n",
       "    }\n",
       "\n",
       "    .dataframe thead th {\n",
       "        text-align: right;\n",
       "    }\n",
       "</style>\n",
       "<table border=\"1\" class=\"dataframe\">\n",
       "  <thead>\n",
       "    <tr style=\"text-align: right;\">\n",
       "      <th></th>\n",
       "      <th>name</th>\n",
       "      <th>description</th>\n",
       "      <th>latitude</th>\n",
       "      <th>longitude</th>\n",
       "    </tr>\n",
       "    <tr>\n",
       "      <th>id</th>\n",
       "      <th></th>\n",
       "      <th></th>\n",
       "      <th></th>\n",
       "      <th></th>\n",
       "    </tr>\n",
       "  </thead>\n",
       "  <tbody>\n",
       "    <tr>\n",
       "      <th>387</th>\n",
       "      <td>Studenterlunden</td>\n",
       "      <td>langs Karl Johan</td>\n",
       "      <td>59.914586</td>\n",
       "      <td>10.735453</td>\n",
       "    </tr>\n",
       "    <tr>\n",
       "      <th>2315</th>\n",
       "      <td>Rostockgata</td>\n",
       "      <td>utenfor Bjørvika visningssenter</td>\n",
       "      <td>59.906920</td>\n",
       "      <td>10.760312</td>\n",
       "    </tr>\n",
       "    <tr>\n",
       "      <th>384</th>\n",
       "      <td>Vår Frelsers gravlund</td>\n",
       "      <td>langs Ullevålsveien</td>\n",
       "      <td>59.919440</td>\n",
       "      <td>10.743765</td>\n",
       "    </tr>\n",
       "    <tr>\n",
       "      <th>584</th>\n",
       "      <td>Henrik Wergelands allé</td>\n",
       "      <td>ved Bogstadveien</td>\n",
       "      <td>59.926894</td>\n",
       "      <td>10.720789</td>\n",
       "    </tr>\n",
       "    <tr>\n",
       "      <th>600</th>\n",
       "      <td>Dyvekes bru</td>\n",
       "      <td>ved skatepark</td>\n",
       "      <td>59.905323</td>\n",
       "      <td>10.768958</td>\n",
       "    </tr>\n",
       "  </tbody>\n",
       "</table>\n",
       "</div>"
      ],
      "text/plain": [
       "                        name                      description   latitude  \\\n",
       "id                                                                         \n",
       "387          Studenterlunden                 langs Karl Johan  59.914586   \n",
       "2315             Rostockgata  utenfor Bjørvika visningssenter  59.906920   \n",
       "384    Vår Frelsers gravlund              langs Ullevålsveien  59.919440   \n",
       "584   Henrik Wergelands allé                 ved Bogstadveien  59.926894   \n",
       "600              Dyvekes bru                    ved skatepark  59.905323   \n",
       "\n",
       "      longitude  \n",
       "id               \n",
       "387   10.735453  \n",
       "2315  10.760312  \n",
       "384   10.743765  \n",
       "584   10.720789  \n",
       "600   10.768958  "
      ]
     },
     "execution_count": 75,
     "metadata": {},
     "output_type": "execute_result"
    }
   ],
   "source": [
    "stations = stations.set_index(\"id\")\n",
    "stations.head()"
   ]
  },
  {
   "cell_type": "markdown",
   "id": "24a466f8-c5f2-4ed4-9601-80300b172479",
   "metadata": {},
   "source": [
    "Nå kan vi hente en spesifikk stasjon ved å bruke stasjons-id: "
   ]
  },
  {
   "cell_type": "code",
   "execution_count": 76,
   "id": "a44e5591-c216-4cdc-a596-142438cf9e1c",
   "metadata": {},
   "outputs": [
    {
     "name": "stdout",
     "output_type": "stream",
     "text": [
      "name            Studenterlunden\n",
      "description    langs Karl Johan\n",
      "latitude              59.914586\n",
      "longitude             10.735453\n",
      "Name: 387, dtype: object\n"
     ]
    }
   ],
   "source": [
    "s = stations.loc[\"387\"]\n",
    "print(s)"
   ]
  },
  {
   "cell_type": "markdown",
   "id": "3222ee53-7871-4c2e-b82a-9cb6aaab7aa3",
   "metadata": {},
   "source": [
    "Videre kan vi hente spesifikke verdier:"
   ]
  },
  {
   "cell_type": "code",
   "execution_count": 77,
   "id": "24b0fd12-a5e5-4a38-bd18-f34bfe3224e5",
   "metadata": {},
   "outputs": [
    {
     "name": "stdout",
     "output_type": "stream",
     "text": [
      "59.914586\n"
     ]
    }
   ],
   "source": [
    "print(s[\"latitude\"])"
   ]
  },
  {
   "cell_type": "markdown",
   "id": "6627d2d9-ffed-41a0-9419-c4ee455d7eef",
   "metadata": {},
   "source": [
    "Dette er svært nyttig når vi i neste seksjon skal visualisere sykkeldata på kart!\n",
    "\n",
    "**Oppsummering.** I denne seksjonen har trukket ut ustrukturert data fra en tabell, og opprettet en ny tabell der dataene er strukturert. Vi har gjort det ved å \n",
    "- hente bestemte kolonner,\n",
    "- endre kolonnenavn,\n",
    "- slå sammen tabeller,\n",
    "- fjerne duplikasjoner og\n",
    "- endre indeksering. "
   ]
  },
  {
   "cell_type": "code",
   "execution_count": 78,
   "id": "dc8335a4-a2ed-42e2-9312-97b57f74a7b3",
   "metadata": {
    "editable": true,
    "slideshow": {
     "slide_type": ""
    },
    "tags": [
     "hide"
    ]
   },
   "outputs": [
    {
     "name": "stdout",
     "output_type": "stream",
     "text": [
      "Stored 'trips' (DataFrame)\n",
      "Stored 'stations' (DataFrame)\n"
     ]
    }
   ],
   "source": [
    "%store trips\n",
    "%store stations"
   ]
  }
 ],
 "metadata": {
  "kernelspec": {
   "display_name": "Python 3 (ipykernel)",
   "language": "python",
   "name": "python3"
  },
  "language_info": {
   "codemirror_mode": {
    "name": "ipython",
    "version": 3
   },
   "file_extension": ".py",
   "mimetype": "text/x-python",
   "name": "python",
   "nbconvert_exporter": "python",
   "pygments_lexer": "ipython3",
   "version": "3.10.12"
  }
 },
 "nbformat": 4,
 "nbformat_minor": 5
}
