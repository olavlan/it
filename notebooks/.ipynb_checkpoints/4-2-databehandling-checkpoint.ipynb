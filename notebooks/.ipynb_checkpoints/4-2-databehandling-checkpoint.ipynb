{
 "cells": [
  {
   "cell_type": "markdown",
   "id": "5f75d2e1-c279-4f6f-ab85-4a1aa9308df2",
   "metadata": {},
   "source": [
    "# Databehandling"
   ]
  },
  {
   "cell_type": "markdown",
   "id": "6a143ffa-adff-4709-9bef-b49cc7faab10",
   "metadata": {
    "tags": []
   },
   "source": [
    "## Innhenting og inspeksjon av data"
   ]
  },
  {
   "cell_type": "markdown",
   "id": "5441d8b3-8d29-4d0b-9637-0452359e05af",
   "metadata": {},
   "source": [
    "I disse seksjonene skal vi bruke data fra [*Oslo bysykkel*](https://oslobysykkel.no/apne-data/historisk) som eksempel. Som eksempel skal vi importere *JSON*-filen for Juni 2023. Vi trenger ikke å laste ned filen manuelt, men kan i stedet kopiere nettadressen til datafilen:\n",
    "\n",
    "[*https://data.urbansharing.com/oslobysykkel.no/trips/v1/2023/07.json*](https://data.urbansharing.com/oslobysykkel.no/trips/v1/2023/07.json)\n",
    "\n",
    "Med Python-pakken `requests` kan vi hente filinnholdet:"
   ]
  },
  {
   "cell_type": "code",
   "execution_count": 3,
   "id": "e3985236-bbb3-41a3-883b-0ac51604bc06",
   "metadata": {},
   "outputs": [
    {
     "name": "stdout",
     "output_type": "stream",
     "text": [
      "[{\"started_at\": \"2023-07-01 01:22:38.878000+00:00\", \"ended_at\": \"2023-07-01 01:40:04.748000+00:00\", \"duration\": 1045, \"start_station_id\": \"387\", \"start_station_name\": \"Studenterlunden\", \"start_station_description\": \"langs Karl Johan\", \"start_station_latitude\": 59.914586, \"start_station_longitude\": 10.735453, \"end_station_id\": \"499\", \"end_station_name\": \"Bjerregaards gate\", \"end_station_description\": \"ovenfor Fredrikke Qvams gate\", \"end_station_latitude\": 59.925488, \"end_station_longitude\": 10.746058}, {\"started_at\": \"2023-07-01 03:02:43.726000+00:00\", \"ended_at\": \"2023-07-01 03:13:45.064000+00:00\", \"duration\": 661, \"start_station_id\": \"2315\", \"start_station_name\": \"Rostockgata\", \"start_station_description\": \"utenfor Bj\\u00f8rvika visningssenter\", \"start_station_latitude\": 59.90691970255054, \"start_station_longitude\": 10.760311802881915, \"end_station_id\": \"410\", \"end_station_name\": \"Landstads gate\", \"end_station_description\": \"langs Uelands gate\", \"end_station_latitude\": 59.929005, \"end\n"
     ]
    }
   ],
   "source": [
    "import requests\n",
    "\n",
    "url = \"https://data.urbansharing.com/oslobysykkel.no/trips/v1/2023/07.json\"\n",
    "page_content = requests.get(url).text\n",
    "\n",
    "print(page_content[0:1000])"
   ]
  },
  {
   "cell_type": "markdown",
   "id": "90c0b4b0-b940-4c2f-9e0b-d5d2a831a3be",
   "metadata": {},
   "source": [
    "Siden vi bare har hentet filinnholdet som en tekststreng, er neste steg å oversette den til en dictionary:"
   ]
  },
  {
   "cell_type": "code",
   "execution_count": 4,
   "id": "6a8addbb-916d-4919-9f7e-49e3bd60c23a",
   "metadata": {
    "scrolled": true
   },
   "outputs": [
    {
     "name": "stdout",
     "output_type": "stream",
     "text": [
      "<class 'list'>\n"
     ]
    }
   ],
   "source": [
    "import json\n",
    "\n",
    "trips = json.loads(page_content)\n",
    "\n",
    "print(type(trips))"
   ]
  },
  {
   "cell_type": "markdown",
   "id": "01eab9ff-d20f-4932-ab52-b7d42d396f71",
   "metadata": {},
   "source": [
    "Her ser vi at variabelen `trips` er en Python-liste. Det er fordi *Oslo Bysykkel* har lagret dataene som en liste av objekter, der hvert objekt svarer til en sykkeltur. Som eksempel kan vi skrive ut det første elementet i lista:  "
   ]
  },
  {
   "cell_type": "code",
   "execution_count": 5,
   "id": "96ce1703-a9f4-482a-ad1f-6f8e36b356d3",
   "metadata": {},
   "outputs": [
    {
     "name": "stdout",
     "output_type": "stream",
     "text": [
      "<class 'dict'>\n",
      "{'started_at': '2023-07-01 01:22:38.878000+00:00', 'ended_at': '2023-07-01 01:40:04.748000+00:00', 'duration': 1045, 'start_station_id': '387', 'start_station_name': 'Studenterlunden', 'start_station_description': 'langs Karl Johan', 'start_station_latitude': 59.914586, 'start_station_longitude': 10.735453, 'end_station_id': '499', 'end_station_name': 'Bjerregaards gate', 'end_station_description': 'ovenfor Fredrikke Qvams gate', 'end_station_latitude': 59.925488, 'end_station_longitude': 10.746058}\n"
     ]
    }
   ],
   "source": [
    "first = trips[0]\n",
    "\n",
    "print(type(first))\n",
    "print(first)"
   ]
  },
  {
   "cell_type": "markdown",
   "id": "9a73f6df-a7ae-43fb-a67c-35d6f6b828a9",
   "metadata": {},
   "source": [
    "Hvert element i lista er altså en dictionary! La oss prøve å skrive ut de to første elementene med penere formatering:"
   ]
  },
  {
   "cell_type": "code",
   "execution_count": 6,
   "id": "cbd744ac-fd85-43bb-a29e-d14a4aade8dd",
   "metadata": {},
   "outputs": [
    {
     "name": "stdout",
     "output_type": "stream",
     "text": [
      "[   {   'duration': 1045,\n",
      "        'end_station_description': 'ovenfor Fredrikke Qvams gate',\n",
      "        'end_station_id': '499',\n",
      "        'end_station_latitude': 59.925488,\n",
      "        'end_station_longitude': 10.746058,\n",
      "        'end_station_name': 'Bjerregaards gate',\n",
      "        'ended_at': '2023-07-01 01:40:04.748000+00:00',\n",
      "        'start_station_description': 'langs Karl Johan',\n",
      "        'start_station_id': '387',\n",
      "        'start_station_latitude': 59.914586,\n",
      "        'start_station_longitude': 10.735453,\n",
      "        'start_station_name': 'Studenterlunden',\n",
      "        'started_at': '2023-07-01 01:22:38.878000+00:00'},\n",
      "    {   'duration': 661,\n",
      "        'end_station_description': 'langs Uelands gate',\n",
      "        'end_station_id': '410',\n",
      "        'end_station_latitude': 59.929005,\n",
      "        'end_station_longitude': 10.7496755,\n",
      "        'end_station_name': 'Landstads gate',\n",
      "        'ended_at': '2023-07-01 03:13:45.064000+00:00',\n",
      "        'start_station_description': 'utenfor Bjørvika visningssenter',\n",
      "        'start_station_id': '2315',\n",
      "        'start_station_latitude': 59.90691970255054,\n",
      "        'start_station_longitude': 10.760311802881915,\n",
      "        'start_station_name': 'Rostockgata',\n",
      "        'started_at': '2023-07-01 03:02:43.726000+00:00'}]\n"
     ]
    }
   ],
   "source": [
    "import pprint\n",
    "pp = pprint.PrettyPrinter(indent=4)\n",
    "\n",
    "two_first = trips[:2]\n",
    "pp.pprint(two_first)"
   ]
  },
  {
   "cell_type": "markdown",
   "id": "f3644770-5a98-4d17-a6e6-9ee3b1ee1c45",
   "metadata": {},
   "source": [
    "Her ser vi tydelig hvordan dataene er organisert. Dersom vi er usikre på hva de ulike nøklene betyr, kan vi lese [dokumentasjonen](https://oslobysykkel.no/apne-data/historisk) på sidene til *Oslo Bysykkel* (du finner den lengre nede på siden). Merk at alle dataene er skrevet som tall og tekststrenger. Noen av disse er skrevet i henhold til bestemte standarder, som vi nå skal se.\n",
    "\n",
    "**Tidspunkt.** Start -og sluttidspunkt er skrevet i et standard datoformat ([ISO](https://en.wikipedia.org/wiki/ISO_8601)):\n",
    "\n",
    "```\n",
    "yyyy-MM-dd hh:mm:SS.ssssssZ\n",
    "```\n",
    "I dette formatet listes tidsenhetene fra størst til minst: \n",
    "\n",
    "| år   | måned | dag | time | minutt | sekund | mikrosekund | tidssone |\n",
    "|------|-------|-----|------|--------|--------|-------------|----------|\n",
    "| yyyy | MM    | dd  | hh   | mm     | SS     | ss          | Z        |\n",
    "\n",
    "Merk at tidssonen angis til slutt. I dataene fra *Oslo bysykkel* benyttes tidssonen *+00:00*, som er *London*-tid. Dersom vi ønsker tidspunktene i norsk tid, må én time legges til.\n",
    "\n",
    "**Varighet.** Varighet er angitt i antall sekunder. Dersom vi ønsker antall minutter og sekunder, må verdiene konverteres. \n",
    "\n",
    "**Posisjon.** Geografisk posisjon er angitt i henhold til standarden [WGS](https://no.wikipedia.org/wiki/World_Geodetic_System), som er koordinatsystem for jordas overflate. I eksempelet ovenfor finner vi følgende koordinater:\n",
    "\n",
    "Startstasjon: *59.91944043984847, 10.7437646218726*   \n",
    "Endestasjon: *59.922425, 10.758182*\n",
    "\n",
    "Forsøk å lime *59.922425, 10.758182* inn i søkefeltet på [*Google Maps*](https://www.google.no/maps) for å se den eksakte posisjonen! For å gå motsatt vei kan du høyreklikke på et punkt i *Google Maps*. Da vil koordinatene vises øverst i verktøylisten (trykk på dem for å kopiere til utklippstavlen).\n",
    "\n",
    "**Stasjoner.** Vi kan merke oss at en stasjon (start -eller endestasjon) er registrert med fem forskjellige verdier: *id*, *name*, *description*, *latitude*, *longitude*. En stasjon er for eksempel:\n",
    "\n",
    "```\n",
    "\"id\": \"551\",\n",
    "\"name\": \"Olaf Ryes plass\",\n",
    "\"description\": \"langs Sofienberggata\",\n",
    "\"latitude\": 59.922425,\n",
    "\"longitude\": 10.758182\n",
    "```\n",
    "\n",
    "Det kan være nyttig å opprette en dictionary som kun inneholder stasjonene, slik at vi raskt kan slå opp på en bestemt stasjon. Vi ønsker altså en dictionary på formen: \n",
    "\n",
    "```json\n",
    "{\n",
    "    \"551\": {\n",
    "        \"name\": \"Olaf Ryes plass\",\n",
    "        \"description\": \"langs Sofienberggata\",\n",
    "        \"latitude\": 59.922425,\n",
    "        \"longitude\": 10.758182  \n",
    "    },\n",
    "    \"384\": {\n",
    "        \"name\": \"V\\u00e5r Frelsers gravlund\",\n",
    "        \"description\": \"langs Ullev\\u00e5lsveien\",\n",
    "        \"latitude\": 59.91944043984847,\n",
    "        \"longitude\": 10.7437646218726   \n",
    "    },\n",
    "    ...\n",
    "}\n",
    "```\n",
    "\n",
    "Merk at vi bruker id'ene til stasjonene som nøkler. For å lage en slik dictionary, kan vi gå gjennom alle turer, og stoppe opp hver gang vi kommer til en stasjon vi enda ikke har registrert: "
   ]
  },
  {
   "cell_type": "code",
   "execution_count": 7,
   "id": "8bd4183b-e9cf-4308-bd4a-7ae6cc85b78f",
   "metadata": {},
   "outputs": [],
   "source": [
    "stations = {}\n",
    "for t in trips: \n",
    "    for s in [\"start\", \"end\"]:\n",
    "        id = t[f\"{s}_station_id\"]\n",
    "        if id not in stations:\n",
    "            new_station = {\n",
    "                \"name\": t[f\"{s}_station_name\"],\n",
    "                \"description\": t[f\"{s}_station_description\"],\n",
    "                \"latitude\": t[f\"{s}_station_latitude\"],\n",
    "                \"longitude\": t[f\"{s}_station_longitude\"]\n",
    "            }\n",
    "            stations[id] = new_station"
   ]
  },
  {
   "cell_type": "markdown",
   "id": "1de1b32d-5019-4092-8c64-2079dd2674c7",
   "metadata": {},
   "source": [
    "For å hente mer informasjon om stasjonen med id *2358*, slår vi enkelt opp i den nye variabelen `stations`: "
   ]
  },
  {
   "cell_type": "code",
   "execution_count": 9,
   "id": "0f7584eb-6040-4eb0-99a3-f80cd100057e",
   "metadata": {},
   "outputs": [
    {
     "name": "stdout",
     "output_type": "stream",
     "text": [
      "{   'description': 'ved bryggen',\n",
      "    'latitude': 59.91087115068967,\n",
      "    'longitude': 10.729828757277915,\n",
      "    'name': 'Aker Brygge 3 mot Fergene'}\n"
     ]
    }
   ],
   "source": [
    "pp.pprint(stations[\"2358\"])"
   ]
  },
  {
   "cell_type": "markdown",
   "id": "fb225c3e-3e93-4330-9d32-10201354c739",
   "metadata": {},
   "source": [
    "Hvordan kan vi gå gjennom alle stasjoner? Det er ikke mulig å skrive `for s in stations`, fordi `stations` er en dictionary (som ikke er itererbar). I stedet kan vi hente alle nøklene i `stations`:"
   ]
  },
  {
   "cell_type": "code",
   "execution_count": 9,
   "id": "07dd5ffb-280c-4488-bfd4-10c20b096028",
   "metadata": {
    "scrolled": true
   },
   "outputs": [
    {
     "name": "stdout",
     "output_type": "stream",
     "text": [
      "dict_keys(['387', '499', '2315', '410', '384', '551', '584', '583', '600', '465', '408', '625', '593', '523', '518', '462', '412', '443', '603', '572', '563', '481', '2333', '619', '508', '597', '478', '2339', '2328', '444', '437', '392', '608', '446', '2305', '456', '425', '460', '489', '428', '576', '534', '2340', '421', '448', '382', '479', '578', '623', '436', '742', '480', '2350', '496', '442', '463', '621', '570', '577', '617', '531', '737', '403', '611', '569', '512', '485', '416', '400', '449', '404', '580', '529', '397', '2307', '620', '579', '502', '517', '535', '599', '2309', '383', '470', '519', '748', '447', '475', '450', '406', '2308', '503', '513', '484', '735', '549', '457', '627', '424', '435', '440', '396', '415', '388', '537', '2358', '507', '455', '2357', '626', '500', '525', '596', '744', '540', '581', '495', '550', '616', '469', '521', '2334', '393', '524', '426', '417', '1009', '398', '738', '614', '407', '491', '427', '558', '1023', '453', '545', '381', '493', '514', '2347', '433', '552', '787', '970', '594', '377', '2270', '390', '468', '486', '586', '2332', '589', '414', '516', '561', '574', '530', '568', '607', '567', '547', '418', '395', '413', '564', '464', '405', '590', '430', '1755', '615', '1919', '441', '575', '399', '571', '401', '445', '506', '548', '609', '402', '624', '461', '497', '378', '618', '423', '511', '2337', '431', '2351', '746', '2349', '389', '588', '582', '554', '542', '452', '522', '509', '487', '459', '473', '505', '585', '610', '622', '451', '587', '541', '598', '422', '592', '566', '562', '526', '380', '429', '488', '458', '434', '411', '483', '476', '474', '438', '1101', '560', '555', '543', '2330', '573', '2304', '454', '394', '472', '739', '482', '595', '565', '2329', '2306', '556', '409', '432', '532', '559', '601', '533', '471', '501', '2280', '420', '498', '439', '591', '466', '527', '2355', '613', '3725', '612'])\n"
     ]
    }
   ],
   "source": [
    "print(stations.keys())"
   ]
  },
  {
   "cell_type": "markdown",
   "id": "b497eda0-799a-4f32-b705-8bbe261dfcdb",
   "metadata": {},
   "source": [
    "Nå kan vi gå gjennom alle nøklene, og på den måten gå gjennom alle stasjoner! La oss lage en løkke som teller antall stasjoner:"
   ]
  },
  {
   "cell_type": "code",
   "execution_count": 11,
   "id": "bf6acc04-fa1d-4c27-bdc3-db7d5391444f",
   "metadata": {},
   "outputs": [
    {
     "name": "stdout",
     "output_type": "stream",
     "text": [
      "266\n"
     ]
    }
   ],
   "source": [
    "i = 0\n",
    "for id in stations.keys():\n",
    "    s = stations[id]\n",
    "    i += 1\n",
    "\n",
    "print(i)"
   ]
  },
  {
   "cell_type": "markdown",
   "id": "53151945-0361-4c69-a3a1-47419f630ab4",
   "metadata": {},
   "source": [
    "Fra dette kan vi konkludere med at 266 forskjellige stasjoner ble brukt av syklister i Juni 2023!"
   ]
  },
  {
   "cell_type": "markdown",
   "id": "c479f1d2-4320-4830-b840-c09c7a01e172",
   "metadata": {},
   "source": [
    "**Oppsummering.** I denne seksjonen har vi hentet data fra *Oslo Bysykkel* og lagt dem i variabelen `trips`. Dataene er strukturert som en liste av turer. Hver tur er lagret som en dictionary, og verdiene følger bestemte standarder.\n",
    "\n",
    "Videre har trukket ut informasjon om alle stasjoner og lagt dem i variabelen `stations`. Dette er en dictionary der stasjons-id brukes som nøkkel."
   ]
  },
  {
   "cell_type": "markdown",
   "id": "1fca33ce-3390-4d44-8a2c-ddc3ad18242d",
   "metadata": {},
   "source": [
    "**Aktivitetsforslag 1.** Opprett variablene `trips` og `stations` som vist i denne seksjonen. Du kan velge selv hvilken måned du vil hente fra [*Oslo bysykkel*](https://oslobysykkel.no/apne-data/historisk).\n",
    "\n",
    "Bruk løkker, indekser og nøkler til å skrive ut følgende inforasjon: \n",
    "\n",
    "- Skriv ut en liste over alle stasjoner, på formen *navn,  beskrivelse*:\n",
    "```\n",
    "Olaf Ryes plass, langs Sofienberggate\n",
    "Vår Frelsers gravlund, langs Ullevålsveien\n",
    "...\n",
    "```\n",
    "- Skriv ut informasjon om de 50 første turene, på følgende form:\n",
    "```\n",
    "\n",
    "Tur 1:\n",
    "Fra: Studenterlunden\n",
    "Til: Bjerregaards gate\n",
    "Varighet: 1045 sekunder\n",
    "\n",
    "Tur 2:\n",
    "Fra: Rostockgata\n",
    "Til: Landstads gate\n",
    "Varighet: 661 sekunder\n",
    "\n",
    "Tur 3:\n",
    "Fra: Vår Frelsers gravlund\n",
    "Til: Olaf Ryes plass\n",
    "Varighet: 718 sekunder\n",
    "\n",
    "...\n",
    "```\n",
    "\n",
    "* Utfordring: Skriv ut varighet som antall minutter og sekunder.\n",
    "\n",
    "**Aktivitetsforslag 2.** Bruk programmering til å finne ut følgende om sykkeldataene: \n",
    "\n",
    "1. Hvor mange turer startet og endte på samme stasjon? Hvor stor prosentandel utgjør dette?\n",
    "2. Hvor mange turer varte kortere enn fem minutter (300 sekunder)? Hvor stor prosentandel utgjør dette? Hva med turer som varte lengre enn én time (3600 sekunder)?\n",
    "3. Finnes det turer som varte kortere enn 20 sekunder? Skriv ut informasjon om disse turene.\n",
    "4. Finn sykkelturene som varte kortest og lengst.  Skriv ut informasjon om disse sykkelturene. *Hint: For å finne maksimal verdi i en liste, trenger vi en variabel som oppdateres hver gang vi oppdager et nytt tall som er større enn det hittil største. Tilsvarende metode brukes for å finne minste verdi.* \n",
    "\n",
    "**Aktivitetsforslag 3.** \n",
    "\n",
    "1. Hvordan kan vi regne ut hva som er gjennomsnittlig varighet til en sykkeltur i datamengden vår? \n",
    "2. Bruk programmering til å regne ut den gjennomsnittlige varigheten til en sykkeltur.\n",
    "4. Utfordring: Hva er den gjennomsnittlige varigheten for sykkelturer som startet og endte på samme stasjon.  \n",
    "  \n",
    "*Hint: Den grunnleggende formelen er å summere varigheten til alle sykkelturene, og deretter dele på antall turer.* "
   ]
  },
  {
   "cell_type": "markdown",
   "id": "77aa0d84-4142-4e3f-9bcf-1ace0ad81c7e",
   "metadata": {},
   "source": [
    "Den gjennomsnittlige varigheten til en sykkeltur er omtrent 873.4 sekunder. Merk at når vi gjør en divisjon, må minst et av tallene konverteres fra heltall til desimaltall! \n",
    "\n",
    "Median, maksimum, minimum.\n",
    "\n",
    "\n",
    "\n",
    "Antall forekomster for hver stasjon. Mest og minst populære stasjoner. "
   ]
  },
  {
   "cell_type": "markdown",
   "id": "a5e2a2a3-10f3-4071-b132-a02d9d164e7a",
   "metadata": {},
   "source": [
    "## Håndtering av dato og tid\n",
    "\n",
    "Tenk deg at vi ønsker å finne ut hvor mange som sykler mellom 7 og 10 på hverdager. Da må vi gå gjennom alle sykkelturer, og trekke ut turene som tilfredsstiller kravene. \n",
    "\n",
    "La oss først sjekke om en spesifikk tur tilfredsstiller kravene:"
   ]
  },
  {
   "cell_type": "code",
   "execution_count": 18,
   "id": "48248af5-ea89-4095-98a2-c440edd42396",
   "metadata": {},
   "outputs": [
    {
     "name": "stdout",
     "output_type": "stream",
     "text": [
      "{\n",
      "    \"started_at\": \"2023-07-01 09:32:13.801000+00:00\",\n",
      "    \"ended_at\": \"2023-07-01 09:33:45.726000+00:00\",\n",
      "    \"duration\": 91,\n",
      "    \"start_station_id\": \"449\",\n",
      "    \"start_station_name\": \"Rusel\\u00f8kkg\\u00e5rden\",\n",
      "    \"start_station_description\": \"langs L\\u00f8kkeveien\",\n",
      "    \"start_station_latitude\": 59.91357497092093,\n",
      "    \"start_station_longitude\": 10.726229742333288,\n",
      "    \"end_station_id\": \"449\",\n",
      "    \"end_station_name\": \"Rusel\\u00f8kkg\\u00e5rden\",\n",
      "    \"end_station_description\": \"langs L\\u00f8kkeveien\",\n",
      "    \"end_station_latitude\": 59.91357497092093,\n",
      "    \"end_station_longitude\": 10.726229742333288\n",
      "}\n"
     ]
    }
   ],
   "source": [
    "print(json.dumps(trips[800], indent=4))"
   ]
  },
  {
   "cell_type": "markdown",
   "id": "17cdcc7b-2dab-4ca9-883b-a8bf380f873c",
   "metadata": {},
   "source": [
    "Hva må vi få programmet vårt til å gjøre? Vi må sjekke om datostrengen *2023-07-01 09:32:13.801000+00:00* tilfredsstiller kravene, nemlig at det er en hverdag og mellom klokken 7 og 10!\n",
    "\n",
    "Hvordan trekker vi informasjon ut av datostrengen? For eksempel kan vi enkelt hente årstallet:"
   ]
  },
  {
   "cell_type": "code",
   "execution_count": 19,
   "id": "8014d292-b416-4d32-a2f4-8aa8ef232865",
   "metadata": {},
   "outputs": [
    {
     "name": "stdout",
     "output_type": "stream",
     "text": [
      "2023\n"
     ]
    }
   ],
   "source": [
    "my_date_string = \"2023-07-01 09:32:13.801000+00:00\"\n",
    "year = int(my_date_string[:4])\n",
    "print(year)"
   ]
  },
  {
   "cell_type": "markdown",
   "id": "c0cf3c8c-e236-4469-8145-5ad3493d489b",
   "metadata": {},
   "source": [
    "Her har vi hentet ut de fire første tegnene i datostrengen, og konvertert det til et heltall. Denne metoden vil alltid fungere, fordi alle datostrengne er skrevet i samme format. Å hente ut informasjon fra strenger kalles *parsing*. \n",
    "\n",
    "Det finnes mange Python-pakker som kan brukes til parsing av bestemte formater. Ved å søke etter *python parse date and time*, vil du antagelig komme over pakken [*datetime*](https://docs.python.org/3/library/datetime.html). \n",
    "\n",
    "En vanlig virkemåte for slike pakker er å  konvertere en streng til et objekt. I vårt tilfelle kan vi bruke *datetime* til å konvertere en datostreng til et Python-objekt: "
   ]
  },
  {
   "cell_type": "code",
   "execution_count": 20,
   "id": "6202c174-db81-4e35-98b5-ebe296c65e48",
   "metadata": {
    "scrolled": true
   },
   "outputs": [],
   "source": [
    "from datetime import datetime\n",
    "my_date_object = datetime.fromisoformat(\"2023-07-01 09:32:13.801000+00:00\")"
   ]
  },
  {
   "cell_type": "markdown",
   "id": "98ee8dbb-5e66-4273-83d1-afcf572f5e6f",
   "metadata": {},
   "source": [
    "Et Python-objekt er kort sagt en enhet som består av variabler og funksjoner. Objektet `my_date_object` består for eksempel av følgende variabler: "
   ]
  },
  {
   "cell_type": "code",
   "execution_count": 21,
   "id": "a1ad4044-af95-4638-82eb-311a8a1e11be",
   "metadata": {},
   "outputs": [
    {
     "name": "stdout",
     "output_type": "stream",
     "text": [
      "2023\n",
      "7\n",
      "1\n",
      "9\n",
      "32\n"
     ]
    }
   ],
   "source": [
    "print(my_date_object.year)\n",
    "print(my_date_object.month)\n",
    "print(my_date_object.day)\n",
    "print(my_date_object.hour)\n",
    "print(my_date_object.minute)"
   ]
  },
  {
   "cell_type": "markdown",
   "id": "3c94a27b-a933-43d5-a051-ee6e0a950a59",
   "metadata": {},
   "source": [
    "Objektet har også funksjoner som utfører operasjoner på disse variablene. Det finnes en funksjon som regner ut ukedagen til datostrengen:"
   ]
  },
  {
   "cell_type": "code",
   "execution_count": 22,
   "id": "def726f5-5915-46e2-8c66-7c1644a9e825",
   "metadata": {
    "scrolled": true
   },
   "outputs": [
    {
     "name": "stdout",
     "output_type": "stream",
     "text": [
      "5\n"
     ]
    }
   ],
   "source": [
    "print(my_date_object.weekday())"
   ]
  },
  {
   "cell_type": "markdown",
   "id": "423c5a9f-5a91-42fb-af27-8e38bb0bf928",
   "metadata": {},
   "source": [
    "Her må vi lese [dokumentasjonen](https://docs.python.org/3/library/datetime.html#datetime.datetime.weekday) for å forstå at ukedagene er nummerert fra 0 til 6. Tallet 5 betyr altså lørdag, og vi kan konkludere med at denne spesifikke turen ikke skjedde på en hverdag!\n",
    "\n",
    "Nå kan vi gå gjennom alle sykkelturer og dele dem inn i to lister, avhengig av om turen skjedde på hverdag eller helg:"
   ]
  },
  {
   "cell_type": "code",
   "execution_count": 26,
   "id": "ad7addb2-106a-426d-afdb-4031800b7a33",
   "metadata": {},
   "outputs": [
    {
     "name": "stdout",
     "output_type": "stream",
     "text": [
      "[6989, 6990, 6991, 6992, 6993, 6994, 6995, 6996, 6997, 6998]\n",
      "[0, 1, 2, 3, 4, 5, 6, 7, 8, 9]\n"
     ]
    }
   ],
   "source": [
    "weekday_trips = []\n",
    "weekend_trips = []\n",
    "\n",
    "n = len(trips)\n",
    "for i in range(n):\n",
    "    date_string = trips[i][\"started_at\"]\n",
    "    date_object = datetime.fromisoformat(date_string)\n",
    "    if date_object.weekday() < 5: \n",
    "        weekday_trips.append(i)\n",
    "    else:\n",
    "        weekend_trips.append(i)\n",
    "\n",
    "print(weekday_trips[:10])\n",
    "print(weekend_trips[:10])"
   ]
  },
  {
   "cell_type": "markdown",
   "id": "9b3503d3-c73d-46bf-a8ab-58295e86e3bf",
   "metadata": {},
   "source": [
    "Her har vi laget to lister, `weekday_trips` og `weekend_trips`, og vi har printet ut de ti første turene i hver liste. I disse listene har vi kun lagret indeksen til turene. Hvorfor det? Vel, dersom vi ønsker mer informasjon om en bestemt tur i listen, for eksempel tur nummer 6989, kan vi alltid hente dette i variabelen `trips`:"
   ]
  },
  {
   "cell_type": "code",
   "execution_count": 18,
   "id": "ee5fb386-a4e0-49bc-a596-20ca54428e35",
   "metadata": {
    "scrolled": true
   },
   "outputs": [
    {
     "name": "stdout",
     "output_type": "stream",
     "text": [
      "{'started_at': '2023-07-03 03:06:45.130000+00:00', 'ended_at': '2023-07-03 03:13:54.871000+00:00', 'duration': 429, 'start_station_id': '403', 'start_station_name': 'Parkveien', 'start_station_description': 'ved trikkestoppet', 'start_station_latitude': 59.921768, 'start_station_longitude': 10.730476, 'end_station_id': '609', 'end_station_name': 'Fred Olsens gate', 'end_station_description': 'ved Karl Johans gate', 'end_station_latitude': 59.9110506, 'end_station_longitude': 10.7493737}\n"
     ]
    }
   ],
   "source": [
    "print(trips[6989])"
   ]
  },
  {
   "cell_type": "markdown",
   "id": "b1a191bb-8637-43c1-9cbd-8e588a68ff1b",
   "metadata": {},
   "source": [
    "Nå bruker vi samme metode til å hente alle turer som startet mellom 7 og 10:"
   ]
  },
  {
   "cell_type": "code",
   "execution_count": 24,
   "id": "800b2ec3-0087-4024-89f6-d2ae6f4888b6",
   "metadata": {},
   "outputs": [
    {
     "name": "stdout",
     "output_type": "stream",
     "text": [
      "[190, 191, 192, 193, 194, 195, 196, 197, 198, 199]\n"
     ]
    }
   ],
   "source": [
    "morning_trips = []\n",
    "\n",
    "n = len(trips)\n",
    "for i in range(n):\n",
    "    date_string = trips[i][\"started_at\"]\n",
    "    date_object = datetime.fromisoformat(date_string)\n",
    "    if date_object.hour >= 7 and date_object.hour <= 10: \n",
    "        morning_trips.append(i)\n",
    "\n",
    "print(morning_trips[:10])"
   ]
  },
  {
   "cell_type": "markdown",
   "id": "9c5a137e-4d25-4749-bcf0-d4336a26d2cb",
   "metadata": {},
   "source": [
    "Målet vårt var å hente alle turer som startet på en hverdag mellom 7 og 10. Da må vi hente turene som er i både `weekday_trips` og i `morning_trips`! Dette kan gjøres effektivt hvis vi først konverterer listene til *mengder* (*sets* på engelsk): "
   ]
  },
  {
   "cell_type": "code",
   "execution_count": 27,
   "id": "6fbd7146-603b-4422-bb65-70598d39aa57",
   "metadata": {},
   "outputs": [],
   "source": [
    "weekday_trips = set(weekday_trips)\n",
    "morning_trips = set(morning_trips)"
   ]
  },
  {
   "cell_type": "markdown",
   "id": "3c7bde4e-a0be-425d-b6ba-dec6f78eaa70",
   "metadata": {},
   "source": [
    "*En mengde er det samme som en liste, bortsett fra at den er usortert.*\n",
    "\n",
    "Nå kan vi bruke operasjonen `&`, som finner alle elementer som finnes i **begge** mengdene:"
   ]
  },
  {
   "cell_type": "code",
   "execution_count": 29,
   "id": "9e6e6c91-4ba0-4324-8fa2-e92f449bbef9",
   "metadata": {},
   "outputs": [],
   "source": [
    "weekday_morning_trips = weekday_trips & morning_trips"
   ]
  },
  {
   "cell_type": "markdown",
   "id": "48f5f0be-a8f0-41a8-97fc-7099ab30081b",
   "metadata": {},
   "source": [
    "Resultatet er en ny mengde, og vi kan konvertere denne tilbake til en liste:"
   ]
  },
  {
   "cell_type": "code",
   "execution_count": 31,
   "id": "1bb55573-c081-4b0f-8c2b-75105f8b1c7b",
   "metadata": {},
   "outputs": [
    {
     "name": "stdout",
     "output_type": "stream",
     "text": [
      "[114883, 127533, 127388, 127909, 114884, 127389, 127910, 114885, 128117, 127390]\n"
     ]
    }
   ],
   "source": [
    "weekday_morning_trips = list(weekday_morning_trips)\n",
    "print(weekday_morning_trips[:10])"
   ]
  },
  {
   "cell_type": "markdown",
   "id": "95189b51-edbe-49ef-8e8d-8e0a31f8b4d5",
   "metadata": {},
   "source": [
    "Så hvor mange turer ble gjort mellom 7 og 10 på hverdager? "
   ]
  },
  {
   "cell_type": "code",
   "execution_count": 23,
   "id": "230f3cb2-cf6f-4352-beba-0e82d70e4f4f",
   "metadata": {
    "scrolled": true
   },
   "outputs": [
    {
     "name": "stdout",
     "output_type": "stream",
     "text": [
      "18763\n",
      "131381\n",
      "0.14281364885333495\n"
     ]
    }
   ],
   "source": [
    "k = len(weekday_morning_trips)\n",
    "n = len(trips)\n",
    "\n",
    "print(k)\n",
    "print(n)\n",
    "print(k/n)"
   ]
  },
  {
   "cell_type": "markdown",
   "id": "3b2d1a9b-b4a4-491a-8e2e-a3a5dff80441",
   "metadata": {},
   "source": [
    "Her ser vi at 18.763 turer ble gjort på hverdager mellom 7 og 10, og at dette utgjør omtrent 14.3 % av alle turer. \n",
    "\n",
    "**Fordeling av turer på ukedager.** Hvordan kan vi telle antall turer som skjedde på mandag, tirsdag, onsdag, og resten av ukedagene? Vi kan ta utgangspunkt i følgende dictionary: "
   ]
  },
  {
   "cell_type": "code",
   "execution_count": 42,
   "id": "7b0a8cd5-adcc-4bbb-9603-6fa20a75d49b",
   "metadata": {},
   "outputs": [],
   "source": [
    "counts = {\n",
    "    0: 0,\n",
    "    1: 0,\n",
    "    2: 0,\n",
    "    3: 0,\n",
    "    4: 0,\n",
    "    5: 0,\n",
    "    6: 0\n",
    "}"
   ]
  },
  {
   "cell_type": "markdown",
   "id": "b5da9efa-86f2-4bd3-b88c-e205ab2086f2",
   "metadata": {},
   "source": [
    "Vi har én nøkkel for hver dag; 0 for mandag, 1 for tirsdag, og så videre. Vi ønsker at verdien til nøklene skal være antall turer som skjedde på den aktuelle dagen. Da må vi gå gjennom alle turer, og for hver tur må vi øke verdien til den riktige nøkkelen: "
   ]
  },
  {
   "cell_type": "code",
   "execution_count": 43,
   "id": "c3e2a9aa-0547-4669-bbb7-c1982f974a1d",
   "metadata": {},
   "outputs": [
    {
     "name": "stdout",
     "output_type": "stream",
     "text": [
      "{0: 21259, 1: 18696, 2: 19305, 3: 18998, 4: 19367, 5: 19005, 6: 14751}\n"
     ]
    }
   ],
   "source": [
    "for t in trips:\n",
    "    date_string = t[\"started_at\"]\n",
    "    date_object = datetime.fromisoformat(date_string)\n",
    "    weekday = date_object.weekday()\n",
    "    counts[weekday] += 1\n",
    "\n",
    "print(counts)"
   ]
  },
  {
   "cell_type": "markdown",
   "id": "1bfd07cc-2f18-4cdd-98a8-718ae352bb47",
   "metadata": {},
   "source": [
    "Den mest populære dagen er altså mandag, med 21259 turer. Vi kan konvertere disse tallene til prosentandeler ved å dele på totalt antall turer: "
   ]
  },
  {
   "cell_type": "code",
   "execution_count": 47,
   "id": "c1425240-6623-4d14-9e9b-9ceb8500684a",
   "metadata": {
    "scrolled": true
   },
   "outputs": [
    {
     "name": "stdout",
     "output_type": "stream",
     "text": [
      "{   0: 0.1618118297166257,\n",
      "    1: 0.14230368165868734,\n",
      "    2: 0.14693905511451427,\n",
      "    3: 0.14460233975993483,\n",
      "    4: 0.14741096505582998,\n",
      "    5: 0.14465561991459952,\n",
      "    6: 0.11227650877980834}\n"
     ]
    }
   ],
   "source": [
    "percentages = {}\n",
    "n = len(trips)\n",
    "\n",
    "for k in counts.keys():\n",
    "    percentages[k]= counts[k]/n\n",
    "\n",
    "pp.pprint(percentages)"
   ]
  },
  {
   "cell_type": "markdown",
   "id": "3b44dff7-89d5-4f5a-b99f-07c3188ac351",
   "metadata": {},
   "source": [
    "Her ser vi at omtrent 16.2 % av turene skjer på mandager, mens 11.2 % av turene skjer på søndager.  "
   ]
  },
  {
   "cell_type": "markdown",
   "id": "7ee3dacf-5516-484f-8f20-1ec6d089fd03",
   "metadata": {},
   "source": [
    "**Oppsummering.** I denne seksjonen har vi lært følgende: \n",
    "- *Parsing* er å hente ut informasjon fra strenger som er skrevet i et strukturert format.\n",
    "- Det finnes Python-pakker for parsing av kjente strengformater.\n",
    "- Python-pakken *datetime* kan brukes til å hente informasjon fra en standard datostreng, som for eksempel *2023-07-03 03:06:45.130000+00:00*.\n",
    "\n",
    "I vårt eksempel brukte vi *datetime* til å hente sykkelturer som startet mellom 7 og 10 på en hverdag, samt å telle antall sykkelturer for hver ukedag."
   ]
  },
  {
   "cell_type": "markdown",
   "id": "16804182-5d57-43f7-a4a2-ab6e4823d7a4",
   "metadata": {},
   "source": [
    "**Aktivitetsforslag 1.**\n",
    "\n",
    "1. Opprett variabelen `evening_weekend_trips`, som skal være en liste over alle turer som ble gjort på kveldstid i helger, det vil si mellom 20 og 24 på enten fredag, lørdag eller søndag. Listen trenger kun å inneholde indeksen til de aktuelle turene. \n",
    "2. Hvor mange slike turer finnes og hvor stor prosentandel utgjør de?\n",
    "3. Hva er gjennomsnittlig varighet for slike turer? \n",
    "\n",
    "**Aktivitetsforslag 2.** Hva er gjennomsnittlig varighet for hverdagsturer? Og for helgesturer? Hva tror du forskjellen skyldes? \n",
    "\n",
    "**Aktivitetsforslag 3.** \n",
    "1. Tell antall sykkelturer som startet på hver av klokketimene, det vil si 0, 1, 2, 3 og opp til 23. Hvilken klokketime har flest og færrest sykkelturer? Vis fordelingen i prosent. \n",
    "2. Hvordan fordeler turene seg på følgende perioder av dagen?\n",
    "    * Natt: kl. 0-5\n",
    "    * Morgen: kl. 6-11\n",
    "    * Ettermiddag: kl. 12-17\n",
    "    * Kveld: kl. 18-23"
   ]
  },
  {
   "cell_type": "markdown",
   "id": "c61ad402-1064-42fb-8d3f-9fa6ddc3c027",
   "metadata": {},
   "source": [
    "## Håndtering av geografisk data\n",
    "\n",
    "Hvordan kan vi behandle geografiske koordinater i Python? For eksempel, hvordan kan vi finne ut hvor mange som pendler Oslo sentrum? Er det mulig å hente alle turer som er lengre enn tre kilometer og ender på en sentrumsstasjon? \n",
    "\n",
    "La oss igjen se på en tilfeldig tur:"
   ]
  },
  {
   "cell_type": "code",
   "execution_count": 24,
   "id": "3cad6c0c-90de-4613-8f94-fa0ca541bf1d",
   "metadata": {
    "scrolled": true
   },
   "outputs": [
    {
     "name": "stdout",
     "output_type": "stream",
     "text": [
      "{\n",
      "    \"started_at\": \"2023-07-01 10:07:16.682000+00:00\",\n",
      "    \"ended_at\": \"2023-07-01 10:27:10.715000+00:00\",\n",
      "    \"duration\": 1194,\n",
      "    \"start_station_id\": \"464\",\n",
      "    \"start_station_name\": \"Sukkerbiten\",\n",
      "    \"start_station_description\": \"ved gangbroen\",\n",
      "    \"start_station_latitude\": 59.905124380703484,\n",
      "    \"start_station_longitude\": 10.753763553726515,\n",
      "    \"end_station_id\": \"440\",\n",
      "    \"end_station_name\": \"Lakkegata\",\n",
      "    \"end_station_description\": \"ved Sundtkvartalet\",\n",
      "    \"end_station_latitude\": 59.9172088,\n",
      "    \"end_station_longitude\": 10.7622135\n",
      "}\n"
     ]
    }
   ],
   "source": [
    "print(json.dumps(trips[1000], indent=4))"
   ]
  },
  {
   "cell_type": "markdown",
   "id": "c92d4825-ecc8-483d-acdd-a30890124302",
   "metadata": {},
   "source": [
    "Vi har følgende posisjoner: \n",
    "\n",
    "Start: *59.91944043984847, 10.7437646218726*   \n",
    "Slutt: *59.922425, 10.758182*\n",
    "\n",
    "Vi har ikke noe informasjon om hvilken rute syklisten tok mellom de to stasjonene, men som en forenkling kan vi regne ut avstanden mellom start -og sluttposisjonen. I Python kan vi bruke pakken [*GeoPy*](https://geopy.readthedocs.io/en/stable/) for å regne ut avstanden mellom to koordinater: "
   ]
  },
  {
   "cell_type": "code",
   "execution_count": 49,
   "id": "3144bd17-4aec-4795-b24c-92555b3a99e7",
   "metadata": {},
   "outputs": [
    {
     "name": "stdout",
     "output_type": "stream",
     "text": [
      "0.8722726079461717\n"
     ]
    }
   ],
   "source": [
    "from geopy import distance\n",
    "\n",
    "start = (59.91944043984847, 10.7437646218726)\n",
    "end = (59.922425, 10.758182)\n",
    "\n",
    "d = distance.distance(start, end)\n",
    "\n",
    "print(d.km)"
   ]
  },
  {
   "cell_type": "markdown",
   "id": "131f1ddd-d2fa-4d48-9692-26bc2a9cc084",
   "metadata": {},
   "source": [
    "Forklaring:\n",
    "\n",
    "* Vi definerer de geografiske punktene som variabler. Et punkt defineres som et tuppel med skrivemåten `start = (latitude, longitude)`.\n",
    "* Vi regner ut avstanden mellom to punkter ved å bruke kommandoen `d= distance.distance(start, end)`.\n",
    "* Variabelen `d` er nå et Python-objekt som inneholder ulike verdier, for eksempel avstanden i kilometer (`d.km`) og engelske mil (`d.miles`).\n",
    "* Resultatet er avstanden i **luftlinje**, også kjent som den *[geodetiske kurven](https://no.wikipedia.org/wiki/Geodetisk_kurve)* mellom punktene. Syklisten må altså ha syklet **minst** denne avstanden mellom stasjonene. \n",
    "\n",
    "Vi ser at avstanden mellom de to stasjonene er omtrent 0.87 km. Resultatet forteller oss at sykkelturen var **minst** 0.87 km. \n",
    "\n",
    "Vi kan bruke denne metoden til å hente alle turer som var **minst** 3 km: "
   ]
  },
  {
   "cell_type": "code",
   "execution_count": 50,
   "id": "6f4145a5-90de-4ea3-bbb6-32837e49defa",
   "metadata": {
    "scrolled": true
   },
   "outputs": [
    {
     "name": "stdout",
     "output_type": "stream",
     "text": [
      "[3, 6, 37, 40, 60, 74, 78, 143, 163, 166]\n",
      "11791\n",
      "0.08974661480731613\n"
     ]
    }
   ],
   "source": [
    "long_trips = []\n",
    "\n",
    "n = len(trips)\n",
    "for i in range(n):\n",
    "    t = trips[i]\n",
    "    start = (t[\"start_station_latitude\"], t[\"start_station_longitude\"])\n",
    "    end = (t[\"end_station_latitude\"], t[\"end_station_longitude\"])\n",
    "    d = distance.distance(start, end)\n",
    "    if d.km > 3:\n",
    "        long_trips.append(i)\n",
    "\n",
    "print(long_trips[:10])\n",
    "\n",
    "k = len(long_trips)\n",
    "print(k)\n",
    "print(k/n)"
   ]
  },
  {
   "cell_type": "markdown",
   "id": "ec94510f-7502-4bd2-9197-c823eeb63129",
   "metadata": {},
   "source": [
    "Merk at vi kun lagrer indeksen til de aktuelle turene, siden all annen informasjon kan hentes i variabelen *trips*. Fra utskriften ser vi at 11791 turer var minst tre kilometer lange, og at dette utgjør omtrent 9% av alle turer.\n",
    "\n",
    "Vi ønsket lange turer som ender i sentrum av Oslo. Dersom vi går inn på [*Google Maps*](https://www.google.no/maps/place//@59.9105115,10.7484254,17z) og høyreklikker på *Oslo S*, kan vi kopiere koordinatene og legge dem i en Python-variabel:"
   ]
  },
  {
   "cell_type": "code",
   "execution_count": 52,
   "id": "6c7422cd-7550-4603-85a5-17a7b969c44a",
   "metadata": {},
   "outputs": [],
   "source": [
    "oslo_s = (59.91085305987858, 10.750512158605307)"
   ]
  },
  {
   "cell_type": "markdown",
   "id": "a7e4aebd-acc8-4e9f-8248-f00bce2e3794",
   "metadata": {},
   "source": [
    "Som en forenkling kan vi nå hente alle turer som endte i en viss nærhet til *Oslo S*. For eksempel kan vi kreve at endestasjonen er innen 1 km av *Oslo S*."
   ]
  },
  {
   "cell_type": "code",
   "execution_count": 53,
   "id": "4368643d-e4e4-4645-8ab7-740f2494f812",
   "metadata": {
    "scrolled": true
   },
   "outputs": [
    {
     "name": "stdout",
     "output_type": "stream",
     "text": [
      "[4, 5, 6, 8, 11, 12, 14, 15, 16, 19]\n",
      "44896\n",
      "0.34172368911790896\n"
     ]
    }
   ],
   "source": [
    "trips_to_city_centre = []\n",
    "\n",
    "n = len(trips)\n",
    "for i in range(n):\n",
    "    t = trips[i]\n",
    "    end = (t[\"end_station_latitude\"], t[\"end_station_longitude\"])\n",
    "    d = distance.distance(oslo_s, end)\n",
    "    if d.km < 1:\n",
    "        trips_to_city_centre.append(i)\n",
    "\n",
    "print(trips_to_city_centre[:10])\n",
    "\n",
    "k = len(trips_to_city_centre)\n",
    "print(k)\n",
    "print(k/n)"
   ]
  },
  {
   "cell_type": "markdown",
   "id": "41e1e415-628b-406a-b024-83844975059e",
   "metadata": {},
   "source": [
    "Vi ser at omtrent 34.2% av turene endte i nærheten av *Oslo S*. Denne koden tok en del tid å kjøre, fordi vi gikk gjennom over 130.000 turer og gjorde en avstandsutregning hver gang. Men fra tidligere vet vi at det bare finnes 266 sykkelstasjoner:"
   ]
  },
  {
   "cell_type": "code",
   "execution_count": 54,
   "id": "765178cf-413e-4f5a-998c-25f8eeeb5c9e",
   "metadata": {},
   "outputs": [
    {
     "name": "stdout",
     "output_type": "stream",
     "text": [
      "266\n"
     ]
    }
   ],
   "source": [
    "print(len(stations))"
   ]
  },
  {
   "cell_type": "markdown",
   "id": "e6617975-3c56-4d30-b456-71694f0eebf9",
   "metadata": {},
   "source": [
    "Alt vi trenger er å regne ut avstanden til *Oslo S* én gang for hver stasjon! Husk at variabelen `stations` inneholder en dictionary på følgende form: \n",
    "\n",
    "```json\n",
    "{\n",
    "    \"551\": {\n",
    "        \"name\": \"Olaf Ryes plass\",\n",
    "        \"description\": \"langs Sofienberggata\",\n",
    "        \"latitude\": 59.922425,\n",
    "        \"longitude\": 10.758182  \n",
    "    },\n",
    "    \"384\": {\n",
    "        \"name\": \"V\\u00e5r Frelsers gravlund\",\n",
    "        \"description\": \"langs Ullev\\u00e5lsveien\",\n",
    "        \"latitude\": 59.91944043984847,\n",
    "        \"longitude\": 10.7437646218726   \n",
    "    },\n",
    "    ...\n",
    "}\n",
    "```\n",
    "\n",
    "Det vi ønsker er å legge til en ekstra attributt for hver stasjon, slik at vi ender opp med følgende dictionary:\n",
    "\n",
    "```json\n",
    "{\n",
    "    \"551\": {\n",
    "        \"name\": \"Olaf Ryes plass\",\n",
    "        \"description\": \"langs Sofienberggata\",\n",
    "        \"latitude\": 59.922425,\n",
    "        \"longitude\": 10.758182,\n",
    "        \"distance_to_oslo_s\": 1.3587591231552714\n",
    "    },\n",
    "    \"384\": {\n",
    "        \"name\": \"V\\u00e5r Frelsers gravlund\",\n",
    "        \"description\": \"langs Ullev\\u00e5lsveien\",\n",
    "        \"latitude\": 59.91944043984847,\n",
    "        \"longitude\": 10.7437646218726,\n",
    "        \"distance_to_oslo_s\": 1.028501530622403\n",
    "    },\n",
    "    ...\n",
    "}\n",
    "```\n",
    "\n",
    "Vi må altså gå gjennom hver stasjon, regne ut avstanden til *Oslo S*, og legge til dette som et ekstra attributt:"
   ]
  },
  {
   "cell_type": "code",
   "execution_count": 55,
   "id": "efae3f9d-0fc9-4c64-a769-8d2dcf142dcd",
   "metadata": {},
   "outputs": [],
   "source": [
    "for id in stations.keys(): \n",
    "    s = stations[id]\n",
    "    station_coordinates = (s[\"latitude\"], s[\"longitude\"])\n",
    "    d = distance.distance(station_coordinates, oslo_s)\n",
    "    stations[id][\"distance_to_oslo_s\"] = d.km"
   ]
  },
  {
   "cell_type": "markdown",
   "id": "aed3e8a8-403e-4bc3-8e0f-e2fc97410bfc",
   "metadata": {},
   "source": [
    "Nå kan vi enkelt hente avstanden fra en bestemt stasjon til *Oslo S*:"
   ]
  },
  {
   "cell_type": "code",
   "execution_count": 56,
   "id": "b2dc47b2-2bb9-4781-aa46-d8ca3584df7f",
   "metadata": {},
   "outputs": [
    {
     "name": "stdout",
     "output_type": "stream",
     "text": [
      "1.028501530622403\n"
     ]
    }
   ],
   "source": [
    "print(stations[\"384\"][\"distance_to_oslo_s\"])"
   ]
  },
  {
   "cell_type": "markdown",
   "id": "d516d403-2abf-459b-af4e-98cd66bf6685",
   "metadata": {},
   "source": [
    "Nå som vi har lagret alle relevante avstander, kan vi mer effektivt hente alle turer som endte i nærheten av *Oslo S*:"
   ]
  },
  {
   "cell_type": "code",
   "execution_count": 57,
   "id": "8c4c34f5-70a2-4774-8d0c-1456fd511012",
   "metadata": {},
   "outputs": [
    {
     "name": "stdout",
     "output_type": "stream",
     "text": [
      "[4, 5, 6, 8, 11, 12, 14, 15, 16, 19]\n",
      "44896\n",
      "0.34172368911790896\n"
     ]
    }
   ],
   "source": [
    "trips_to_city_centre = []\n",
    "\n",
    "n = len(trips)\n",
    "for i in range(n):\n",
    "    end_station_id = trips[i][\"end_station_id\"]\n",
    "    d = stations[end_station_id][\"distance_to_oslo_s\"]\n",
    "    if d < 1:\n",
    "        trips_to_city_centre.append(i)\n",
    "\n",
    "print(trips_to_city_centre[:10])\n",
    "\n",
    "k = len(trips_to_city_centre)\n",
    "print(k)\n",
    "print(k/n)"
   ]
  },
  {
   "cell_type": "markdown",
   "id": "b391fcc4-1974-4757-910b-72dc8294ef49",
   "metadata": {},
   "source": [
    "Målet vårt var å hente turer som både var lengre enn 3 km og endte i nærheten av *Oslo S*, altså turer som er i både listen `long_trips` og `trips_to_city_centre`. Da kan vi bruke samme metode som i forrige seksjon:"
   ]
  },
  {
   "cell_type": "code",
   "execution_count": 59,
   "id": "13e17c97-0935-4046-af0e-621efc0ae201",
   "metadata": {},
   "outputs": [],
   "source": [
    "long_trips_to_city_centre =  set(long_trips) & set(trips_to_city_centre)\n",
    "long_trips_to_city_centre = list(long_trips_to_city_centre)"
   ]
  },
  {
   "cell_type": "markdown",
   "id": "8aa17c2d-b14f-4c70-a694-1af0aa8704fb",
   "metadata": {},
   "source": [
    "Operasjonen `&` gir oss elementene som listene har til felles, men først må vi konvertere listene til mengder. I andre linje konverterer vi resultatet tilbake til en liste. "
   ]
  },
  {
   "cell_type": "code",
   "execution_count": 60,
   "id": "8ced082a-11c3-4bf2-82d8-6eee338f5800",
   "metadata": {
    "scrolled": true
   },
   "outputs": [
    {
     "name": "stdout",
     "output_type": "stream",
     "text": [
      "[6, 49158, 65545, 81933, 65553, 16406, 32793, 114714, 49186, 49188]\n",
      "3056\n",
      "0.023260593236464937\n"
     ]
    }
   ],
   "source": [
    "print(long_trips_to_city_centre[:10])\n",
    "\n",
    "k = len(long_trips_to_city_centre)\n",
    "print(k)\n",
    "print(k/n)"
   ]
  },
  {
   "cell_type": "markdown",
   "id": "17bc07dd-b060-4e65-af67-c94468202eff",
   "metadata": {},
   "source": [
    "Her ser vi at 3056 turer, som utgjør omtrent 2.3% av alle turer, tilfredstiller begge kravene. "
   ]
  },
  {
   "cell_type": "markdown",
   "id": "aa27b1df-8de8-475a-9ac8-517c166672c6",
   "metadata": {},
   "source": [
    "**Oppsummering.** I denne seksjonen har vi lært følgende: \n",
    "* Hvordan vi kan lagre geografiske punkter som tupler av typen `(59.922425, 10.758182)`, og bruke `geopy` til å regne ut avstanden mellom punkter.\n",
    "* Hvordan avstander kan lagres på en systematisk måte, slik at vi unngår å gjøre de samme utregningene mange ganger.\n",
    "\n",
    "Vi har brukt dette til å hente alle sykkelturer som var minst 3 km og endte i Oslo sentrum. "
   ]
  },
  {
   "cell_type": "markdown",
   "id": "3c692cb7-52bf-4851-afe5-315ccf2007f5",
   "metadata": {},
   "source": [
    "**Aktivitetsforslag 1:** \n",
    "\n",
    "Velg deg et geografisk punkt i Oslo og hent koordinatene tl punktet, for eksempel ved å høyreklikke på punktet i *Google Maps*. Gjør følgende oppgaver: \n",
    "\n",
    "1. Endre variabelen `stations` slik at den også inneholder avstanden fra stasjonene til ditt valgte punkt, på følgende måte:\n",
    "\n",
    "```\n",
    "{\n",
    "    \"551\": {\n",
    "        \"name\": \"Olaf Ryes plass\",\n",
    "        \"description\": \"langs Sofienberggata\",\n",
    "        \"latitude\": 59.922425,\n",
    "        \"longitude\": 10.758182,\n",
    "        \"distance_to_my_point\": \n",
    "    },\n",
    "    \"384\": {\n",
    "        \"name\": \"V\\u00e5r Frelsers gravlund\",\n",
    "        \"description\": \"langs Ullev\\u00e5lsveien\",\n",
    "        \"latitude\": 59.91944043984847,\n",
    "        \"longitude\": 10.7437646218726,\n",
    "        \"distance_to_my_point\": \n",
    "    },\n",
    "    ...\n",
    "}\n",
    "```\n",
    "Du kan selv velge navnet til det nye attributtet. \n",
    "\n",
    "Bruk avstandene du har lagret til å gjøre følgende oppgaver:\n",
    "\n",
    "2. Opprett en liste med alle turer som **startet** i nærheten av ditt valgte punkt.\n",
    "3. Opprett en liste med alle turer som **endte** i nærheten av ditt valgte punkt.\n",
    "4. Opprett en liste med alle turer som **både** startet og endte i nærheten av stedet\n",
    "5. Hvor mange turer finnes i hver av listene og hvor stor prosentandel utgjør de?\n",
    "\n",
    "**Aktivitetsforslag 2.** \n",
    "\n",
    "1. Hva er gjennomsnittlig avstand mellom start -og sluttstasjon blant alle sykkelturer? Finn også den største og minste avstanden.\n",
    "2. Sammenlign gjennomsnittlig avstand for hverdagsturer og helgesturer. Hvis det er en forskjell, hva tror du det skyldes?\n",
    "\n",
    "**Aktivitetsforslag 3 (utfordring).** Gå gjennom alle turer med en løkke. For hver stasjon, regn ut avstand delt på varighet. Dette forteller hvor raskt syklisten har tilbakelagt avstanden mellom de to stasjonene, altså en slags \"gjennomsnitlig hastighet\". Skriv ut informasjon om følgende turer:\n",
    "\n",
    "* Turen med høyest \"hastighet\" og\n",
    "    * avstand over 1 km\n",
    "    * avstand over 3 km\n",
    "    * avstand over 5 km\n",
    "      \n",
    "Finn start -og endestasjon for disse turene på kartet. Finn ut hvor lang tid *Google* beregner at det tar å sykle mellom stasjonene. Sammenlign med hvor kort tid syklisten faktisk brukte.\n",
    "\n",
    "**Aktivitetsforslag 3 (utfordring).** \n",
    "\n",
    "Vi ønsker nå å legge til følgende informasjon i variabelen `stations`: \n",
    "\n",
    "```json\n",
    "{\n",
    "    \"551\": {\n",
    "        \"name\": \"Olaf Ryes plass\",\n",
    "        \"description\": \"langs Sofienberggata\",\n",
    "        \"latitude\": 59.922425,\n",
    "        \"longitude\": 10.758182,\n",
    "        \"distance_to_other_stations\": {\n",
    "            \"387\": 1.5424618400028995,\n",
    "            \"499\": 0.7591003631405512,\n",
    "            \"2315\": 1.731562337348591,\n",
    "            \"410\": 0.8739156584845489,\n",
    "            ...\n",
    "        }\n",
    "    },\n",
    "    ...\n",
    "}\n",
    "```\n",
    "For hver stasjon skal du altså opprette attributtet *distance_to_other_stations*, der du skal lagre avstanden til alle andre stasjoner. Husk at for å gå gjennom alle stasjoner kan du bruke løkken:"
   ]
  },
  {
   "cell_type": "code",
   "execution_count": 35,
   "id": "f2044265-6f4f-46b3-9020-2788d89dec5f",
   "metadata": {
    "scrolled": true
   },
   "outputs": [],
   "source": [
    "for id in stations.keys(): \n",
    "    s = stations[id]       "
   ]
  },
  {
   "cell_type": "markdown",
   "id": "4245bec8-af15-4c25-a247-d6afe181ffbb",
   "metadata": {},
   "source": [
    "Bruk avstandene du har lagret til å hente alle turer som var minst 3 km."
   ]
  },
  {
   "cell_type": "markdown",
   "id": "7f71133f-f47c-46e1-aa71-182afbc45811",
   "metadata": {},
   "source": [
    "## Geografiske områder"
   ]
  },
  {
   "cell_type": "markdown",
   "id": "e9a68cf8-cc6f-42b5-9459-80f8174bfd3e",
   "metadata": {},
   "source": [
    "Hva om vi ønsker å selv definere et område og hente alle turer som endte i dette området? Under kan du se et eksempel på et område:\n",
    "\n",
    "<img src=\"../fig3/oslo_region.png\" width=\"300\">\n",
    "\n",
    "Hvordan kan vi definere dette området i Python? Alt vi trenger å gjøre er å angi *hjørnepunktene* som en liste av koordinater. Disse hjørnepunktene danner en mangekant (*polygon*), og det er området innenfor mangekanten vi er interessert i:"
   ]
  },
  {
   "cell_type": "code",
   "execution_count": 36,
   "id": "ed9a052b-17b1-4c68-adf7-3854475069a8",
   "metadata": {},
   "outputs": [],
   "source": [
    "from shapely.geometry import Point, Polygon, MultiPolygon\n",
    "\n",
    "corners = [(59.92065829373027, 10.705038426191948),\n",
    "           (59.904743048315424, 10.707183476660077),\n",
    "           (59.902591754210164, 10.73549814283615),\n",
    "           (59.89979486351757, 10.782689253130059),\n",
    "           (59.91162625297167, 10.78826638434711),\n",
    "           (59.92818311704261, 10.76896093013562),\n",
    "           (59.93140751894279, 10.725201900590633)]\n",
    "\n",
    "my_area = Polygon(corners)"
   ]
  },
  {
   "cell_type": "markdown",
   "id": "df684007-073f-43aa-ad38-740e4940d4d8",
   "metadata": {},
   "source": [
    "For å definere området brukte vi funksjonen ´ `Polygon(corners)`, som vi hentet fra Python-pakken [*shapely*](https://shapely.readthedocs.io/en/stable/manual.html). Denne pakken brukes til å gjøre operasjoner på geometriske objekter, slik som punkter, linjer og mangekanter.\n",
    "\n",
    "Når vi har definert det geometriske objektet, gir `shapely` oss en rekke funksjoner, blant annet å sjekke om et punkt ligger innenfor objektet. Med andre ord, vi kan sjekke om et geografisk punkt ligger innenfor mangekanten: "
   ]
  },
  {
   "cell_type": "code",
   "execution_count": 37,
   "id": "d48b1f9e-0bac-429e-8f8b-8df076fc952e",
   "metadata": {},
   "outputs": [
    {
     "name": "stdout",
     "output_type": "stream",
     "text": [
      "True\n",
      "False\n"
     ]
    }
   ],
   "source": [
    "oslo_s = Point(59.91085305987858, 10.750512158605307)\n",
    "vigelandsparken = Point(59.9286828181158, 10.697803494202565)\n",
    "\n",
    "print(oslo_s.within(my_area))\n",
    "print(vigelandsparken.within(my_area))"
   ]
  },
  {
   "cell_type": "markdown",
   "id": "4fd6c7f1-bd79-406b-aa3d-e72f40524047",
   "metadata": {},
   "source": [
    "Resultatet forteller altså at *Oslo S* ligger innenfor området vårt, mens *Vigelandsparken* ligger utenfor. \n",
    "\n",
    "Metoden for å sjekke om et punkt ligger innenfor et område er altså: \n",
    "1. Definer området med kommandoen `my_area = Polygon(corners)`, der `corners` er en liste av koordinater. \n",
    "2. Definer punktet med kommandoen `my_point = Point(longitude, latitude)`. Her må vi bruke `Point()`-funksjonen, som vi importerer fra `shapely`. \n",
    "3. Bruk kommandoen `my_point.within(my_area)`. Dersom resultatet er `True` betyr det at punktet er innenfor området.\n",
    "\n",
    "Vi kan nå bruke en `if`-setning for å bestemme hva vi skal gjøre ved positivt resultat:"
   ]
  },
  {
   "cell_type": "code",
   "execution_count": 38,
   "id": "17b9a2e4-b857-49ce-8b5e-8b651adf537e",
   "metadata": {},
   "outputs": [
    {
     "name": "stdout",
     "output_type": "stream",
     "text": [
      "Oslo S er innenfor mitt område!\n"
     ]
    }
   ],
   "source": [
    "if oslo_s.within(my_area):\n",
    "    print(\"Oslo S er innenfor mitt område!\")"
   ]
  },
  {
   "cell_type": "markdown",
   "id": "f501450d-1b6f-40eb-97db-2c269a37f0e4",
   "metadata": {},
   "source": [
    "Det er også mulig å definere et område som består av flere mangekanter, som i figuren under: \n",
    "\n",
    "<img src=\"../fig3/oslo_regions.png\" width=\"300\">\n",
    "\n",
    "For å få til dette må vi definere de to mangekantene hver for seg, for eksempel med variabelnavnene `my_area1` og `my_area2`. Deretter kan vi kombinere disse med kommandoen `my_combined_area = MultiPolygon(my_area1, my_area2)`. \n",
    "\n",
    "**Hente sykkelturer innenfor et område.** Hva om vi nå ønsker å hente sykkelturer som både startet og endte innenfor mangekanten? Vi går gjennom hver tur, definerer start -og endepunktet, og sjekker om begge er innenfor området: "
   ]
  },
  {
   "cell_type": "code",
   "execution_count": 41,
   "id": "1cd841b2-a4e0-4d31-9a00-bcac2486f162",
   "metadata": {},
   "outputs": [
    {
     "name": "stdout",
     "output_type": "stream",
     "text": [
      "77629\n",
      "0.5908693037806075\n"
     ]
    }
   ],
   "source": [
    "trips_in_my_area = []\n",
    "\n",
    "n = len(trips)\n",
    "for i in range(n):\n",
    "    t = trips[i]\n",
    "    \n",
    "    lat1, lon1 = t[\"start_station_latitude\"], t[\"start_station_longitude\"]\n",
    "    start = Point(lat1, lon1)\n",
    "    \n",
    "    lat2, lon2 = t[\"end_station_latitude\"], t[\"end_station_longitude\"]\n",
    "    end = Point(lat2, lon2)\n",
    "    \n",
    "    if start.within(my_area) and end.within(my_area):\n",
    "        trips_in_my_area.append(i)\n",
    "\n",
    "k = len(trips_in_my_area)\n",
    "\n",
    "print(k)\n",
    "print(k/n)"
   ]
  },
  {
   "cell_type": "markdown",
   "id": "2b42be60-783b-4321-8a47-8d23031e2e8f",
   "metadata": {},
   "source": [
    "Her ser vi at 77629 turer startet og slutter innnenfor området, tilsvarende omtrent 59% av alle turer!"
   ]
  },
  {
   "cell_type": "markdown",
   "id": "34a85437-52eb-4790-9562-49ee1b5f2b62",
   "metadata": {},
   "source": [
    "**Oppsummering.** I denne seksjonen har vi lært hvordan vi definerer et geografisk område i Python, og hvordan vi kan sjekke om et geografisk punkt er innenfor et område."
   ]
  },
  {
   "cell_type": "markdown",
   "id": "eefbb1eb-176e-4be5-94c4-b54715a1600f",
   "metadata": {},
   "source": [
    "**Aktivitetsforslag 1.** \n",
    "\n",
    "1. Gå inn på [*geojson.io*](https://geojson.io/#map=10.68/59.9195/10.7298) og bruk funksjonen *Draw polygon* til å markere ett eller flere områder. Hjørnepunktene vil vises til høyre.\n",
    "\n",
    "I Python:\n",
    "\n",
    "3. Oprett en liste av hjørnekoordinater og opprett polygonet. \n",
    "4. Opprett en liste som inneholder alle turene som endte i ditt valgte område. Hvor stor prosentandel utgjør dette av alle turer? \n",
    "\n",
    "**Aktivitetsforslag 2.** Bruk [*geojson.io*](https://geojson.io/#map=10.68/59.9195/10.7298) til å lage to områder; et startområde og et sluttområde. Opprett en liste over alle turer som starter i det første området og slutter i det andre området. Hvor stor prosentandel utgjør dette av alle turer? "
   ]
  }
 ],
 "metadata": {
  "kernelspec": {
   "display_name": "Python 3 (ipykernel)",
   "language": "python",
   "name": "python3"
  },
  "language_info": {
   "codemirror_mode": {
    "name": "ipython",
    "version": 3
   },
   "file_extension": ".py",
   "mimetype": "text/x-python",
   "name": "python",
   "nbconvert_exporter": "python",
   "pygments_lexer": "ipython3",
   "version": "3.10.12"
  }
 },
 "nbformat": 4,
 "nbformat_minor": 5
}
