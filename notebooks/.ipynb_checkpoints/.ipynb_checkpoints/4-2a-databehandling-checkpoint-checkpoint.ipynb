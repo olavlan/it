{
 "cells": [
  {
   "cell_type": "markdown",
   "id": "5f75d2e1-c279-4f6f-ab85-4a1aa9308df2",
   "metadata": {},
   "source": [
    "# Databehandling\n",
    "\n",
    "* Finne gjennomsnittlig eller median reisetid mellom to stasjoner, basert på alle turer som har blitt gjort mellom stasjonene. \n",
    "* Finne ut hvor ofte hver stasjon brukes, enten som start -eller endestasjon. Resultatene kan presenteres på forskjellige måter; for eksempel kan stasjonene markeres som sirkler på et kart, der størrelsen på sirkelen viser hvor populær stasjonen er. \n",
    "* Vi lage et 24-timersdiagram for hver stasjon, som forteller hvilke tidspunkter stasjonen brukes mest. \n",
    "* Vi kan kombinere de to punktene ovenfor, og lage en kartanimasjon som viser hvordan populæriteten til stasjonene endrer seg gjennom en dag.\n",
    "\n",
    "*For å gjøre aktivitetsforslagene i dette kapitlet bør du ha opprettet variablene `trips` og `stations` fra første seksjon.*  "
   ]
  },
  {
   "cell_type": "markdown",
   "id": "6a143ffa-adff-4709-9bef-b49cc7faab10",
   "metadata": {
    "tags": []
   },
   "source": [
    "## Innhenting og inspeksjon av data"
   ]
  },
  {
   "cell_type": "markdown",
   "id": "5441d8b3-8d29-4d0b-9637-0452359e05af",
   "metadata": {},
   "source": [
    "I disse seksjonene skal vi bruke data fra [*Oslo bysykkel*](https://oslobysykkel.no/apne-data/historisk) som eksempel. Første steg er å importere dataene vi ønsker å bruke, som i vårt tilfelle er *JSON*-filen for Juni 2023. Vi trenger å laste ned filen, men kan i stedet kopiere nettadressen til datafilen:\n",
    "\n",
    "[*https://data.urbansharing.com/oslobysykkel.no/trips/v1/2023/07.json*](https://data.urbansharing.com/oslobysykkel.no/trips/v1/2023/07.json)\n",
    "\n",
    "Vi kan bruke Python-pakken `requests` til å hente innholdet på denne nettsiden:"
   ]
  },
  {
   "cell_type": "code",
   "execution_count": 1,
   "id": "e3985236-bbb3-41a3-883b-0ac51604bc06",
   "metadata": {},
   "outputs": [
    {
     "name": "stdout",
     "output_type": "stream",
     "text": [
      "[{\"started_at\": \"2023-07-01 01:22:38.878000+00:00\", \"ended_at\": \"2023-07-01 01:40:04.748000+00:00\", \"duration\": 1045, \"start_station_id\": \"387\", \"start_station_name\": \"Studenterlunden\", \"start_station_description\": \"langs Karl Johan\", \"start_station_latitude\": 59.914586, \"start_station_longitude\": 10.735453, \"end_station_id\": \"499\", \"end_station_name\": \"Bjerregaards gate\", \"end_station_description\": \"ovenfor Fredrikke Qvams gate\", \"end_station_latitude\": 59.925488, \"end_station_longitude\": 10.746058}, {\"started_at\": \"2023-07-01 03:02:43.726000+00:00\", \"ended_at\": \"2023-07-01 03:13:45.064000+00:00\", \"duration\": 661, \"start_station_id\": \"2315\", \"start_station_name\": \"Rostockgata\", \"start_station_description\": \"utenfor Bj\\u00f8rvika visningssenter\", \"start_station_latitude\": 59.90691970255054, \"start_station_longitude\": 10.760311802881915, \"end_station_id\": \"410\", \"end_station_name\": \"Landstads gate\", \"end_station_description\": \"langs Uelands gate\", \"end_station_latitude\": 59.929005, \"end\n"
     ]
    }
   ],
   "source": [
    "import requests\n",
    "\n",
    "url = \"https://data.urbansharing.com/oslobysykkel.no/trips/v1/2023/07.json\"\n",
    "page_content = requests.get(url).text\n",
    "\n",
    "print(page_content[0:1000])"
   ]
  },
  {
   "cell_type": "markdown",
   "id": "90c0b4b0-b940-4c2f-9e0b-d5d2a831a3be",
   "metadata": {},
   "source": [
    "Siden vi bare har hentet nettsiden som en tekststreng, må vi oversette den til en dictionary:"
   ]
  },
  {
   "cell_type": "code",
   "execution_count": 2,
   "id": "6a8addbb-916d-4919-9f7e-49e3bd60c23a",
   "metadata": {
    "scrolled": true
   },
   "outputs": [
    {
     "name": "stdout",
     "output_type": "stream",
     "text": [
      "<class 'list'>\n"
     ]
    }
   ],
   "source": [
    "import json\n",
    "\n",
    "trips = json.loads(page_content)\n",
    "\n",
    "print(type(trips))"
   ]
  },
  {
   "cell_type": "markdown",
   "id": "01eab9ff-d20f-4932-ab52-b7d42d396f71",
   "metadata": {},
   "source": [
    "Her ser vi at variabelen `trips` er en Python-liste. Det er fordi *Oslo Bysykkel* har lagret dataene som en liste av objekter, der hvert objekt svarer til en sykkeltur. Vi kan prøve å skrive ut det første elementet i lista:  "
   ]
  },
  {
   "cell_type": "code",
   "execution_count": 49,
   "id": "96ce1703-a9f4-482a-ad1f-6f8e36b356d3",
   "metadata": {},
   "outputs": [
    {
     "name": "stdout",
     "output_type": "stream",
     "text": [
      "<class 'dict'>\n",
      "{'started_at': '2023-07-01 01:22:38.878000+00:00', 'ended_at': '2023-07-01 01:40:04.748000+00:00', 'duration': 1045, 'start_station_id': '387', 'start_station_name': 'Studenterlunden', 'start_station_description': 'langs Karl Johan', 'start_station_latitude': 59.914586, 'start_station_longitude': 10.735453, 'end_station_id': '499', 'end_station_name': 'Bjerregaards gate', 'end_station_description': 'ovenfor Fredrikke Qvams gate', 'end_station_latitude': 59.925488, 'end_station_longitude': 10.746058}\n"
     ]
    }
   ],
   "source": [
    "first = trips[0]\n",
    "\n",
    "print(type(first))\n",
    "print(first)"
   ]
  },
  {
   "cell_type": "markdown",
   "id": "9a73f6df-a7ae-43fb-a67c-35d6f6b828a9",
   "metadata": {},
   "source": [
    "Hvert element i lista er altså en dictionary! La oss prøve å skrive ut de to første elementene med penere formatering:"
   ]
  },
  {
   "cell_type": "code",
   "execution_count": 4,
   "id": "cbd744ac-fd85-43bb-a29e-d14a4aade8dd",
   "metadata": {},
   "outputs": [
    {
     "name": "stdout",
     "output_type": "stream",
     "text": [
      "[   {   'duration': 1045,\n",
      "        'end_station_description': 'ovenfor Fredrikke Qvams gate',\n",
      "        'end_station_id': '499',\n",
      "        'end_station_latitude': 59.925488,\n",
      "        'end_station_longitude': 10.746058,\n",
      "        'end_station_name': 'Bjerregaards gate',\n",
      "        'ended_at': '2023-07-01 01:40:04.748000+00:00',\n",
      "        'start_station_description': 'langs Karl Johan',\n",
      "        'start_station_id': '387',\n",
      "        'start_station_latitude': 59.914586,\n",
      "        'start_station_longitude': 10.735453,\n",
      "        'start_station_name': 'Studenterlunden',\n",
      "        'started_at': '2023-07-01 01:22:38.878000+00:00'},\n",
      "    {   'duration': 661,\n",
      "        'end_station_description': 'langs Uelands gate',\n",
      "        'end_station_id': '410',\n",
      "        'end_station_latitude': 59.929005,\n",
      "        'end_station_longitude': 10.7496755,\n",
      "        'end_station_name': 'Landstads gate',\n",
      "        'ended_at': '2023-07-01 03:13:45.064000+00:00',\n",
      "        'start_station_description': 'utenfor Bjørvika visningssenter',\n",
      "        'start_station_id': '2315',\n",
      "        'start_station_latitude': 59.90691970255054,\n",
      "        'start_station_longitude': 10.760311802881915,\n",
      "        'start_station_name': 'Rostockgata',\n",
      "        'started_at': '2023-07-01 03:02:43.726000+00:00'}]\n"
     ]
    }
   ],
   "source": [
    "import pprint\n",
    "pp = pprint.PrettyPrinter(indent=4)\n",
    "\n",
    "two_first = trips[:2]\n",
    "pp.pprint(two_first)"
   ]
  },
  {
   "cell_type": "markdown",
   "id": "f3644770-5a98-4d17-a6e6-9ee3b1ee1c45",
   "metadata": {},
   "source": [
    "Her ser vi tydelig hvordan dataene er organisert. Dersom vi er usikre på noen av attributtene, kan vi lese [dokumentasjonen](https://oslobysykkel.no/apne-data/historisk) på sidene til *Oslo Bysykkel* (du finner den lengre nede på siden). Merk at alle dataene er skrevet som tekstrenger og tall.  \n",
    "\n",
    "**Tidspunkt.** Start -og sluttidspunkt er skrevet i et standard datoformat ([ISO](https://en.wikipedia.org/wiki/ISO_8601)):\n",
    "\n",
    "```\n",
    "yyyy-MM-dd hh:mm:SS.ssssssZ\n",
    "```\n",
    "I dette formatet listes tidsenhetene fra størst til minst: \n",
    "\n",
    "| år   | måned | dag | time | minutt | sekund | mikrosekund | tidssone |\n",
    "|------|-------|-----|------|--------|--------|-------------|----------|\n",
    "| yyyy | MM    | dd  | hh   | mm     | SS     | ss          | Z        |\n",
    "\n",
    "Merk at tidssonen angis til slutt. I dataene fra *Oslo bysykkel* benyttes tidssonen *+00:00*, som er London-tid. Dersom vi ønsker tidspunktene i norsk tid, må én time legges til.\n",
    "\n",
    "**Varighet.** Varighet er angitt i antall sekunder. Dersom vi ønsker antall minutter og sekunder, må verdiene konverteres. \n",
    "\n",
    "**Posisjon.** Geografisk posisjon er angitt i henhold til [WGS](https://no.wikipedia.org/wiki/World_Geodetic_System), som er et universelt koordinatsystem for jordas overflate. I eksempelet ovenfor har vi koordinatene:\n",
    "\n",
    "Startstasjon: *59.91944043984847, 10.7437646218726*   \n",
    "Endestasjon: *59.922425, 10.758182*\n",
    "\n",
    "Du kan kopiere disse koordinatene inn i søkefeltet på [Google Maps](https://www.google.no/maps) for å se den eksakte posisjonen. \n",
    "\n",
    "**Stasjoner.** Vi kan merke oss at en stasjon (start -eller endestasjon) er registrert med fem forskjellige verdier: *id*, *name*, *description*, *latitude*, *longitude*. En stasjon er for eksempel:\n",
    "\n",
    "```\n",
    "\"id\": \"551\",\n",
    "\"name\": \"Olaf Ryes plass\",\n",
    "\"description\": \"langs Sofienberggata\",\n",
    "\"latitude\": 59.922425,\n",
    "\"longitude\": 10.758182\n",
    "```\n",
    "\n",
    "Det kan være nyttig å opprette en dictionary som kun inneholder stasjonene, slik at vi raskt kan slå opp informasjon om en bestemt stasjon. Vi ønsker derfor en dictionary på formen: \n",
    "\n",
    "```json\n",
    "{\n",
    "    \"551\": {\n",
    "        \"name\": \"Olaf Ryes plass\",\n",
    "        \"description\": \"langs Sofienberggata\",\n",
    "        \"latitude\": 59.922425,\n",
    "        \"longitude\": 10.758182  \n",
    "    },\n",
    "    \"384\": {\n",
    "        \"name\": \"V\\u00e5r Frelsers gravlund\",\n",
    "        \"description\": \"langs Ullev\\u00e5lsveien\",\n",
    "        \"latitude\": 59.91944043984847,\n",
    "        \"longitude\": 10.7437646218726   \n",
    "    },\n",
    "    ...\n",
    "}\n",
    "```\n",
    "\n",
    "Merk at vi bruker id'ene til stasjonene som nøkler. For å lage en slik dictionary, kan vi gå gjennom alle turer, og stoppe opp hver gang vi kommer til en stasjon vi ikke har registrert: "
   ]
  },
  {
   "cell_type": "code",
   "execution_count": 5,
   "id": "8bd4183b-e9cf-4308-bd4a-7ae6cc85b78f",
   "metadata": {},
   "outputs": [],
   "source": [
    "stations = {}\n",
    "for t in trips: \n",
    "    for s in [\"start\", \"end\"]:\n",
    "        id = t[f\"{s}_station_id\"]\n",
    "        if id not in stations:\n",
    "            new_station = {\n",
    "                \"name\": t[f\"{s}_station_name\"],\n",
    "                \"description\": t[f\"{s}_station_description\"],\n",
    "                \"latitude\": t[f\"{s}_station_latitude\"],\n",
    "                \"longitude\": t[f\"{s}_station_longitude\"]\n",
    "            }\n",
    "            stations[id] = new_station"
   ]
  },
  {
   "cell_type": "markdown",
   "id": "1de1b32d-5019-4092-8c64-2079dd2674c7",
   "metadata": {},
   "source": [
    "Nå kan vi enkelt slå opp en stasjon i variabelen `stations`. Dersom vi for eksempel ønsker mer informasjon om stasjonen med id-en *2358*: "
   ]
  },
  {
   "cell_type": "code",
   "execution_count": 6,
   "id": "0f7584eb-6040-4eb0-99a3-f80cd100057e",
   "metadata": {},
   "outputs": [
    {
     "name": "stdout",
     "output_type": "stream",
     "text": [
      "{'name': 'Aker Brygge 3 mot Fergene', 'description': 'ved bryggen', 'latitude': 59.91087115068967, 'longitude': 10.729828757277915}\n"
     ]
    }
   ],
   "source": [
    "print(stations[\"2358\"])"
   ]
  },
  {
   "cell_type": "markdown",
   "id": "fb225c3e-3e93-4330-9d32-10201354c739",
   "metadata": {},
   "source": [
    "Hvordan kan vi gå gjennom alle stasjoner? Det er ikke mulig å skrive `for s in stations`, siden en løkke kun fungerer på lister, og `stations` er en dictionary. I stedet kan vi hente alle nøklene i `stations`:"
   ]
  },
  {
   "cell_type": "code",
   "execution_count": 7,
   "id": "07dd5ffb-280c-4488-bfd4-10c20b096028",
   "metadata": {
    "scrolled": true
   },
   "outputs": [
    {
     "name": "stdout",
     "output_type": "stream",
     "text": [
      "dict_keys(['387', '499', '2315', '410', '384', '551', '584', '583', '600', '465', '408', '625', '593', '523', '518', '462', '412', '443', '603', '572', '563', '481', '2333', '619', '508', '597', '478', '2339', '2328', '444', '437', '392', '608', '446', '2305', '456', '425', '460', '489', '428', '576', '534', '2340', '421', '448', '382', '479', '578', '623', '436', '742', '480', '2350', '496', '442', '463', '621', '570', '577', '617', '531', '737', '403', '611', '569', '512', '485', '416', '400', '449', '404', '580', '529', '397', '2307', '620', '579', '502', '517', '535', '599', '2309', '383', '470', '519', '748', '447', '475', '450', '406', '2308', '503', '513', '484', '735', '549', '457', '627', '424', '435', '440', '396', '415', '388', '537', '2358', '507', '455', '2357', '626', '500', '525', '596', '744', '540', '581', '495', '550', '616', '469', '521', '2334', '393', '524', '426', '417', '1009', '398', '738', '614', '407', '491', '427', '558', '1023', '453', '545', '381', '493', '514', '2347', '433', '552', '787', '970', '594', '377', '2270', '390', '468', '486', '586', '2332', '589', '414', '516', '561', '574', '530', '568', '607', '567', '547', '418', '395', '413', '564', '464', '405', '590', '430', '1755', '615', '1919', '441', '575', '399', '571', '401', '445', '506', '548', '609', '402', '624', '461', '497', '378', '618', '423', '511', '2337', '431', '2351', '746', '2349', '389', '588', '582', '554', '542', '452', '522', '509', '487', '459', '473', '505', '585', '610', '622', '451', '587', '541', '598', '422', '592', '566', '562', '526', '380', '429', '488', '458', '434', '411', '483', '476', '474', '438', '1101', '560', '555', '543', '2330', '573', '2304', '454', '394', '472', '739', '482', '595', '565', '2329', '2306', '556', '409', '432', '532', '559', '601', '533', '471', '501', '2280', '420', '498', '439', '591', '466', '527', '2355', '613', '3725', '612'])\n"
     ]
    }
   ],
   "source": [
    "print(stations.keys())"
   ]
  },
  {
   "cell_type": "markdown",
   "id": "b497eda0-799a-4f32-b705-8bbe261dfcdb",
   "metadata": {},
   "source": [
    "Nå kan vi gå gjennom alle nøklene, og på den måten gå gjennom alle stasjoner! La oss lage en løkke som teller antall stasjoner:"
   ]
  },
  {
   "cell_type": "code",
   "execution_count": 8,
   "id": "bf6acc04-fa1d-4c27-bdc3-db7d5391444f",
   "metadata": {},
   "outputs": [
    {
     "name": "stdout",
     "output_type": "stream",
     "text": [
      "266\n"
     ]
    }
   ],
   "source": [
    "i = 0\n",
    "for id in stations.keys():\n",
    "    s = stations[id]\n",
    "    i += 1\n",
    "\n",
    "print(i)"
   ]
  },
  {
   "cell_type": "markdown",
   "id": "53151945-0361-4c69-a3a1-47419f630ab4",
   "metadata": {},
   "source": [
    "266 forskjellige stasjoner ble brukt av syklister i Juni 2023!"
   ]
  },
  {
   "cell_type": "markdown",
   "id": "c479f1d2-4320-4830-b840-c09c7a01e172",
   "metadata": {},
   "source": [
    "**Oppsummering.** I denne seksjonen har vi hentet data fra *Oslo Bysykkel* og lagt dem i variabelen `trips`. Dataene er strukturert som en liste, der hvert element i lista er en dictionary som inneholder informasjon om en tur. Vi har også hentet ut informasjon om alle stasjoner og lagt dem i variabelen `stations`. Dette er en dictionary, der stasjons-id'en brukes som nøkkel for å hente informasjon om en stasjon. "
   ]
  },
  {
   "cell_type": "markdown",
   "id": "1fca33ce-3390-4d44-8a2c-ddc3ad18242d",
   "metadata": {},
   "source": [
    "**Aktivitetsforslag.** Opprett variablene `trips` og `stations` med turer og stasjoner fra [*Oslo bysykkel*](https://oslobysykkel.no/apne-data/historisk). Du kan velge selv hvilken måned du vil hente.\n",
    "\n",
    "Bruk løkker, indekser og nøkler til å skrive ut følgende inforasjon: \n",
    "\n",
    "- Skriv ut en liste over alle stasjoner, på formen *navn,  beskrivelse*:\n",
    "```\n",
    "Olaf Ryes plass, langs Sofienberggate\n",
    "Vår Frelsers gravlund, langs Ullevålsveien\n",
    "...\n",
    "```\n",
    "- Skriv ut informasjon om de 50 første turene, på følgende form:\n",
    "```\n",
    "\n",
    "Tur 1:\n",
    "Fra: Studenterlunden\n",
    "Til: Bjerregaards gate\n",
    "Varighet: 1045 sekunder\n",
    "\n",
    "Tur 2:\n",
    "Fra: Rostockgata\n",
    "Til: Landstads gate\n",
    "Varighet: 661 sekunder\n",
    "\n",
    "Tur 3:\n",
    "Fra: Vår Frelsers gravlund\n",
    "Til: Olaf Ryes plass\n",
    "Varighet: 718 sekunder\n",
    "\n",
    "...\n",
    "```\n",
    "\n",
    "*Utfordring: Skriv ut varighet som antall minutter og sekunder.*"
   ]
  },
  {
   "cell_type": "markdown",
   "id": "4c5969e2-6348-4be4-a3d8-cda9f5ce3f6f",
   "metadata": {},
   "source": [
    "## Statistiske utregninger"
   ]
  },
  {
   "cell_type": "markdown",
   "id": "965ba5d6-1d62-4f1f-b554-8d21504d5858",
   "metadata": {},
   "source": [
    "**Oppsummering.** I denne seksjonen har vi lært hvordan man kan gjøre enkle statistiske operasjoner. På eksempeldataene fra *Oslo Bysykkel* har vi sett hvordan sykkelturene er fordelt på stasjoner, samt funnet følgende statiske verdier for varigheten av sykkelturene; gjennomsnitt, median, maksimum og minimum. Vi kan sammenligne statiske verdier for ulike utvalg av sykkelturer, og slik finne tendenser i dataene. "
   ]
  },
  {
   "cell_type": "markdown",
   "id": "05b4f070-88fb-4f19-9461-193ba534420f",
   "metadata": {},
   "source": []
  },
  {
   "cell_type": "markdown",
   "id": "a5e2a2a3-10f3-4071-b132-a02d9d164e7a",
   "metadata": {},
   "source": [
    "## Håndtering av dato og tid\n",
    "\n",
    "Nå ønsker vi å finne ut hvor mange som sykler mellom 7 og 10 på hverdager. Det må vi gå gjennom alle sykkelturer, og trekke ut turene som tilfredsstiller kravene. \n",
    "\n",
    "La oss for eksempel se på den tusende turen i Juni 2023:"
   ]
  },
  {
   "cell_type": "code",
   "execution_count": 9,
   "id": "48248af5-ea89-4095-98a2-c440edd42396",
   "metadata": {},
   "outputs": [
    {
     "name": "stdout",
     "output_type": "stream",
     "text": [
      "{\n",
      "    \"started_at\": \"2023-07-01 10:07:16.682000+00:00\",\n",
      "    \"ended_at\": \"2023-07-01 10:27:10.715000+00:00\",\n",
      "    \"duration\": 1194,\n",
      "    \"start_station_id\": \"464\",\n",
      "    \"start_station_name\": \"Sukkerbiten\",\n",
      "    \"start_station_description\": \"ved gangbroen\",\n",
      "    \"start_station_latitude\": 59.905124380703484,\n",
      "    \"start_station_longitude\": 10.753763553726515,\n",
      "    \"end_station_id\": \"440\",\n",
      "    \"end_station_name\": \"Lakkegata\",\n",
      "    \"end_station_description\": \"ved Sundtkvartalet\",\n",
      "    \"end_station_latitude\": 59.9172088,\n",
      "    \"end_station_longitude\": 10.7622135\n",
      "}\n"
     ]
    }
   ],
   "source": [
    "print(json.dumps(trips[1000], indent=4))"
   ]
  },
  {
   "cell_type": "markdown",
   "id": "17cdcc7b-2dab-4ca9-883b-a8bf380f873c",
   "metadata": {},
   "source": [
    "Hva må vi få programmet vårt til å gjøre? Vi må sjekke om datostrengen `\"2023-07-01 10:27:10.715000+00:00\"` tilfredsstiller kravene, nemlig at det er en hverdag og mellom klokken 7 og 10!\n",
    "\n",
    "Som et eksempel kan vi hente årstallet fra datostrengen:"
   ]
  },
  {
   "cell_type": "code",
   "execution_count": 10,
   "id": "8014d292-b416-4d32-a2f4-8aa8ef232865",
   "metadata": {},
   "outputs": [
    {
     "name": "stdout",
     "output_type": "stream",
     "text": [
      "2023\n"
     ]
    }
   ],
   "source": [
    "my_date_string = \"2023-07-01 10:27:10.715000+00:00\"\n",
    "year = int(my_date_string[:4])\n",
    "print(year)"
   ]
  },
  {
   "cell_type": "markdown",
   "id": "c0cf3c8c-e236-4469-8145-5ad3493d489b",
   "metadata": {},
   "source": [
    "Her har vi hentet ut de fire første tegnene i datostrengen, og konvertert det til et heltall. Denne metoden vil alltid fungere, fordi alle datostrengne er skrevet i samme format. Å hente ut informasjon fra slike strenger kalles *parsing*. \n",
    "\n",
    "Det finnes mange Python-pakker som kan brukes til parsing av bestemte formater. For eksempel, ved å søke etter *python parse date and time*, vil du antagelig komme over pakken [*datetime*](https://docs.python.org/3/library/datetime.html). \n",
    "\n",
    "En vanlig virkemåte for slike pakker er at vi kan konvertere en streng til et objekt. I vårt tilfelle kan vi bruke *datetime* til å konvertere en datostreng til et Python-objekt: "
   ]
  },
  {
   "cell_type": "code",
   "execution_count": 11,
   "id": "6202c174-db81-4e35-98b5-ebe296c65e48",
   "metadata": {
    "scrolled": true
   },
   "outputs": [],
   "source": [
    "from datetime import datetime\n",
    "my_date_object = datetime.fromisoformat(\"2023-07-01 10:27:10.715000+00:00\")"
   ]
  },
  {
   "cell_type": "markdown",
   "id": "98ee8dbb-5e66-4273-83d1-afcf572f5e6f",
   "metadata": {},
   "source": [
    "Et Python-objekt er kort sagt en enhet som består av variabler og funksjoner. Objektet `my_date_object` består for eksempel av følgende variabler: "
   ]
  },
  {
   "cell_type": "code",
   "execution_count": 12,
   "id": "a1ad4044-af95-4638-82eb-311a8a1e11be",
   "metadata": {},
   "outputs": [
    {
     "name": "stdout",
     "output_type": "stream",
     "text": [
      "2023\n",
      "7\n",
      "1\n",
      "10\n",
      "27\n"
     ]
    }
   ],
   "source": [
    "print(my_date_object.year)\n",
    "print(my_date_object.month)\n",
    "print(my_date_object.day)\n",
    "print(my_date_object.hour)\n",
    "print(my_date_object.minute)"
   ]
  },
  {
   "cell_type": "markdown",
   "id": "3c94a27b-a933-43d5-a051-ee6e0a950a59",
   "metadata": {},
   "source": [
    "Objektet har funksjoner som utfører bestemte operasjoner på variablene. For eksempel finnes en funksjon som regner ut hvilken ukedag datoen svarer til: "
   ]
  },
  {
   "cell_type": "code",
   "execution_count": 13,
   "id": "def726f5-5915-46e2-8c66-7c1644a9e825",
   "metadata": {
    "scrolled": true
   },
   "outputs": [
    {
     "name": "stdout",
     "output_type": "stream",
     "text": [
      "5\n"
     ]
    }
   ],
   "source": [
    "print(my_date_object.weekday())"
   ]
  },
  {
   "cell_type": "markdown",
   "id": "423c5a9f-5a91-42fb-af27-8e38bb0bf928",
   "metadata": {},
   "source": [
    "Her må vi lese [dokumentasjonen](https://docs.python.org/3/library/datetime.html#datetime.datetime.weekday) for å forstå at ukedagene er nummerert fra 0 til 6. Tallet 5 betyr altså lørdag! \n",
    "\n",
    "Nå kan vi gå gjennom alle sykkelturer og dele dem inn i to lister, avhengig av om turen skjedde på hverdag eller helg:"
   ]
  },
  {
   "cell_type": "code",
   "execution_count": 14,
   "id": "ad7addb2-106a-426d-afdb-4031800b7a33",
   "metadata": {},
   "outputs": [
    {
     "name": "stdout",
     "output_type": "stream",
     "text": [
      "[6989, 6990, 6991, 6992, 6993, 6994, 6995, 6996, 6997, 6998]\n",
      "[0, 1, 2, 3, 4, 5, 6, 7, 8, 9]\n"
     ]
    }
   ],
   "source": [
    "weekday_trips = []\n",
    "weekend_trips = []\n",
    "\n",
    "n = len(trips)\n",
    "for i in range(n):\n",
    "    date_string = trips[i][\"started_at\"]\n",
    "    date_object = datetime.fromisoformat(date_string)\n",
    "    if date_object.weekday() < 5: \n",
    "        weekday_trips.append(i)\n",
    "    else:\n",
    "        weekend_trips.append(i)\n",
    "\n",
    "print(weekday_trips[:10])\n",
    "print(weekend_trips[:10])"
   ]
  },
  {
   "cell_type": "markdown",
   "id": "9b3503d3-c73d-46bf-a8ab-58295e86e3bf",
   "metadata": {},
   "source": [
    "Her har vi laget to lister, `weekday_trips` og `weekend_trips`, og vi har printet ut de ti første turene i hver liste. I disse listene har vi kun lagret indeksen til turene! Dersom vi ønsker mer informasjon om en bestemt tur, for eksempel tur nummer 6989, kan vi hente dette i variabelen `trips`:"
   ]
  },
  {
   "cell_type": "code",
   "execution_count": 15,
   "id": "ee5fb386-a4e0-49bc-a596-20ca54428e35",
   "metadata": {
    "scrolled": true
   },
   "outputs": [
    {
     "name": "stdout",
     "output_type": "stream",
     "text": [
      "{'started_at': '2023-07-03 03:06:45.130000+00:00', 'ended_at': '2023-07-03 03:13:54.871000+00:00', 'duration': 429, 'start_station_id': '403', 'start_station_name': 'Parkveien', 'start_station_description': 'ved trikkestoppet', 'start_station_latitude': 59.921768, 'start_station_longitude': 10.730476, 'end_station_id': '609', 'end_station_name': 'Fred Olsens gate', 'end_station_description': 'ved Karl Johans gate', 'end_station_latitude': 59.9110506, 'end_station_longitude': 10.7493737}\n"
     ]
    }
   ],
   "source": [
    "print(trips[6989])"
   ]
  },
  {
   "cell_type": "markdown",
   "id": "b1a191bb-8637-43c1-9cbd-8e588a68ff1b",
   "metadata": {},
   "source": [
    "På samme måte kan vi hente turer som startet mellom 7 og 10:"
   ]
  },
  {
   "cell_type": "code",
   "execution_count": 16,
   "id": "800b2ec3-0087-4024-89f6-d2ae6f4888b6",
   "metadata": {},
   "outputs": [
    {
     "name": "stdout",
     "output_type": "stream",
     "text": [
      "[190, 191, 192, 193, 194, 195, 196, 197, 198, 199]\n"
     ]
    }
   ],
   "source": [
    "morning_trips = []\n",
    "\n",
    "n = len(trips)\n",
    "for i in range(n):\n",
    "    date_string = trips[i][\"started_at\"]\n",
    "    date_object = datetime.fromisoformat(date_string)\n",
    "    if date_object.hour >= 7 and date_object.hour <= 10: \n",
    "        morning_trips.append(i)\n",
    "\n",
    "print(morning_trips[:10])"
   ]
  },
  {
   "cell_type": "markdown",
   "id": "9c5a137e-4d25-4749-bcf0-d4336a26d2cb",
   "metadata": {},
   "source": [
    "Målet vårt var å hente alle turer som startet på en hverdag mellom 7 og 10. Da må vi hente turene som er i både `weekday_trips` og i `morning_trips`! Dette kan gjøres effektivt hvis vi først konverterer listene til *mengder* (*sets*): "
   ]
  },
  {
   "cell_type": "code",
   "execution_count": 17,
   "id": "6fbd7146-603b-4422-bb65-70598d39aa57",
   "metadata": {},
   "outputs": [],
   "source": [
    "weekday_trips = set(weekday_trips)\n",
    "morning_trips = set(morning_trips)"
   ]
  },
  {
   "cell_type": "markdown",
   "id": "3c7bde4e-a0be-425d-b6ba-dec6f78eaa70",
   "metadata": {},
   "source": [
    "*En mengde er det samme som en liste, bortsett fra at den ikke er sortert, så vi ikke kan hente elementer med indekser.*\n",
    "\n",
    "Nå kan vi bruke en spesiell operasjon som henter de elementene som finnes i begge mengdene:"
   ]
  },
  {
   "cell_type": "code",
   "execution_count": 18,
   "id": "9e6e6c91-4ba0-4324-8fa2-e92f449bbef9",
   "metadata": {},
   "outputs": [],
   "source": [
    "weekday_morning_trips = weekday_trips & morning_trips"
   ]
  },
  {
   "cell_type": "markdown",
   "id": "48f5f0be-a8f0-41a8-97fc-7099ab30081b",
   "metadata": {},
   "source": [
    "Resultatet er en ny mengde, og vi kan konvertere denne tilbake til en liste:"
   ]
  },
  {
   "cell_type": "code",
   "execution_count": 19,
   "id": "1bb55573-c081-4b0f-8c2b-75105f8b1c7b",
   "metadata": {},
   "outputs": [
    {
     "name": "stdout",
     "output_type": "stream",
     "text": [
      "[114883, 127533, 127388, 127909, 114884, 127389, 127910, 114885, 128117, 127390]\n"
     ]
    }
   ],
   "source": [
    "weekday_morning_trips = list(weekday_morning_trips)\n",
    "print(weekday_morning_trips[:10])"
   ]
  },
  {
   "cell_type": "markdown",
   "id": "95189b51-edbe-49ef-8e8d-8e0a31f8b4d5",
   "metadata": {},
   "source": [
    "Nå kan vi sjekke hvor mange turer som ble gjort mellom 7 og 10 på hverdager:"
   ]
  },
  {
   "cell_type": "code",
   "execution_count": 20,
   "id": "230f3cb2-cf6f-4352-beba-0e82d70e4f4f",
   "metadata": {
    "scrolled": true
   },
   "outputs": [
    {
     "name": "stdout",
     "output_type": "stream",
     "text": [
      "18763\n",
      "131381\n",
      "0.14281364885333495\n"
     ]
    }
   ],
   "source": [
    "k = len(weekday_morning_trips)\n",
    "n = len(trips)\n",
    "\n",
    "print(k)\n",
    "print(n)\n",
    "print(k/n)"
   ]
  },
  {
   "cell_type": "markdown",
   "id": "3b2d1a9b-b4a4-491a-8e2e-a3a5dff80441",
   "metadata": {},
   "source": [
    "Her ser vi at 18.763 turer ble gjort på hverdager mellom 7 og 10, og at dette utgjør omtrent 14.3 % av alle turer. "
   ]
  },
  {
   "cell_type": "markdown",
   "id": "7e864e91-4150-4210-8b2c-76c6e4c3bcf6",
   "metadata": {},
   "source": [
    "Hva om vi nå ønsker å finne gjennomsnittlig varighet for alle turer som ble gjort på hverdager mellom 7 og 10? "
   ]
  },
  {
   "cell_type": "markdown",
   "id": "7ee3dacf-5516-484f-8f20-1ec6d089fd03",
   "metadata": {},
   "source": [
    "**Oppsummering.** I denne seksjonen har vi lært følgende: \n",
    "- *Parsing* er å hente ut informasjon fra strenger som er skrevet i et strukturert format.\n",
    "- Det finnes Python-pakker for parsing av kjente strengformater.\n",
    "- Python-pakken *datetime* kan brukes til å hente informasjon fra en standard datostreng, som for eksempel *2023-07-03 03:06:45.130000+00:00*.\n",
    "\n",
    "I vårt eksempel brukte vi *datetime* til å hente sykkelturer som startet mellom 7 og 10 på en hverdag. "
   ]
  },
  {
   "cell_type": "markdown",
   "id": "16804182-5d57-43f7-a4a2-ab6e4823d7a4",
   "metadata": {},
   "source": [
    "**Aktivitetsforslag:**\n",
    "\n",
    "Opprett variabelen `evening_weekend_trips`, som skal være en liste over alle turer som ble gjort på kveldstid i helger, det vil si mellom 20 og 24 på enten fredag, lørdag eller søndag. Listen trenger kun å inneholde indeksen til de aktuelle turene. \n",
    "\n",
    "Hvor mange slike turer finnes og hvor stor prosentandel utgjør de? "
   ]
  },
  {
   "cell_type": "markdown",
   "id": "c61ad402-1064-42fb-8d3f-9fa6ddc3c027",
   "metadata": {},
   "source": [
    "## Håndtering av geografisk data\n",
    "\n",
    "Hvordan kan vi behandle geografiske koordinater i Python? For eksempel, hvordan kan vi finne ut hvor mange som sykler en lengre distanse for å komme til Oslo sentrum? Er det mulig å hente alle turer som er lengre enn tre kilometer og ender på en stasjon i sentrum? \n",
    "\n",
    "La oss igjen se på en tilfeldig tur:"
   ]
  },
  {
   "cell_type": "code",
   "execution_count": 21,
   "id": "3cad6c0c-90de-4613-8f94-fa0ca541bf1d",
   "metadata": {
    "scrolled": true
   },
   "outputs": [
    {
     "name": "stdout",
     "output_type": "stream",
     "text": [
      "{\n",
      "    \"started_at\": \"2023-07-01 10:07:16.682000+00:00\",\n",
      "    \"ended_at\": \"2023-07-01 10:27:10.715000+00:00\",\n",
      "    \"duration\": 1194,\n",
      "    \"start_station_id\": \"464\",\n",
      "    \"start_station_name\": \"Sukkerbiten\",\n",
      "    \"start_station_description\": \"ved gangbroen\",\n",
      "    \"start_station_latitude\": 59.905124380703484,\n",
      "    \"start_station_longitude\": 10.753763553726515,\n",
      "    \"end_station_id\": \"440\",\n",
      "    \"end_station_name\": \"Lakkegata\",\n",
      "    \"end_station_description\": \"ved Sundtkvartalet\",\n",
      "    \"end_station_latitude\": 59.9172088,\n",
      "    \"end_station_longitude\": 10.7622135\n",
      "}\n"
     ]
    }
   ],
   "source": [
    "print(json.dumps(trips[1000], indent=4))"
   ]
  },
  {
   "cell_type": "markdown",
   "id": "c92d4825-ecc8-483d-acdd-a30890124302",
   "metadata": {},
   "source": [
    "Vi har følgende posisjoner: \n",
    "\n",
    "Start: *59.91944043984847, 10.7437646218726*   \n",
    "Slutt: *59.922425, 10.758182*\n",
    "\n",
    "Vi har ikke noe informasjon om hvilken rute syklisten tok mellom de to stasjonene, men som en forenkling kan vi regne ut avstanden mellom start -og sluttposisjonen. I Python kan vi bruke pakken [*GeoPy*](https://geopy.readthedocs.io/en/stable/) for å regne ut avstanden mellom to koordinater: "
   ]
  },
  {
   "cell_type": "code",
   "execution_count": 22,
   "id": "3144bd17-4aec-4795-b24c-92555b3a99e7",
   "metadata": {},
   "outputs": [
    {
     "name": "stdout",
     "output_type": "stream",
     "text": [
      "0.8722726079461717\n"
     ]
    }
   ],
   "source": [
    "from geopy import distance\n",
    "\n",
    "start = (59.91944043984847, 10.7437646218726)\n",
    "end = (59.922425, 10.758182)\n",
    "\n",
    "d = distance.distance(start, end)\n",
    "\n",
    "print(d.km)"
   ]
  },
  {
   "cell_type": "markdown",
   "id": "131f1ddd-d2fa-4d48-9692-26bc2a9cc084",
   "metadata": {},
   "source": [
    "Forklaring:\n",
    "\n",
    "1. Vi importerer den relevante delen av pakken *GeoPy*. Merk at *GeoPy* først må installeres med kommandoen `pip install geopy`på din maskin. \n",
    "2. Vi definerer de geografiske punktene som variabler. Et punkt defineres som et tuppel med skrivemåten `start = (latitude, longitude)`.\n",
    "3. Vi regner ut avstanden mellom to punkter ved å bruke skrivemåten `d= distance.distance(start, end)`.\n",
    "4. Variabelen `d` er nå et Python-objekt som inneholder ulike verdier, for eksempel avstanden i kilometer (`d.km`) eller avstanden i miles (`d.miles`). Resultatet svarer til den *[geodetiske kurven](https://no.wikipedia.org/wiki/Geodetisk_kurve)* mellom de to punktene.\n",
    "\n",
    "Vi ser at den geodesiske avstanden mellom de to stasjonene er omtrent 0.87 km. Resultatet forteller oss at sykkelturen var **minst** 0.87 km. \n",
    "\n",
    "Vi kan bruke denne metoden til å hente alle turer som var **minst** 3 km: "
   ]
  },
  {
   "cell_type": "code",
   "execution_count": 23,
   "id": "6f4145a5-90de-4ea3-bbb6-32837e49defa",
   "metadata": {
    "scrolled": true
   },
   "outputs": [
    {
     "name": "stdout",
     "output_type": "stream",
     "text": [
      "[3, 6, 37, 40, 60, 74, 78, 143, 163, 166]\n",
      "11791\n",
      "0.08974661480731613\n"
     ]
    }
   ],
   "source": [
    "long_trips = []\n",
    "\n",
    "n = len(trips)\n",
    "for i in range(n):\n",
    "    t = trips[i]\n",
    "    start = (t[\"start_station_latitude\"], t[\"start_station_longitude\"])\n",
    "    end = (t[\"end_station_latitude\"], t[\"end_station_longitude\"])\n",
    "    d = distance.distance(start, end)\n",
    "    if d.km > 3:\n",
    "        long_trips.append(i)\n",
    "\n",
    "print(long_trips[:10])\n",
    "\n",
    "k = len(long_trips)\n",
    "print(k)\n",
    "print(k/n)"
   ]
  },
  {
   "cell_type": "markdown",
   "id": "ec94510f-7502-4bd2-9197-c823eeb63129",
   "metadata": {},
   "source": [
    "Som i forrige seksjon lagrer vi kun indeksen til de aktuelle turene, siden all annen informasjon kan hentes i variabelen *trips*. Fra utskriften ser vi at 11791 turer var minst tre kilometer, og at dette utgjør omtrent 9% av alle turer.\n",
    "\n",
    "Vi ønsket lange turer som ender i sentrum av Oslo. Dersom vi går inn på [*Google Maps*](https://www.google.no/maps/place//@59.9105115,10.7484254,17z) og høyreklikker på *Oslo S*, kan vi kopiere koordinatene og legge dem i en Python-variabel:"
   ]
  },
  {
   "cell_type": "code",
   "execution_count": 24,
   "id": "6c7422cd-7550-4603-85a5-17a7b969c44a",
   "metadata": {},
   "outputs": [],
   "source": [
    "oslo_s = (59.91085305987858, 10.750512158605307)"
   ]
  },
  {
   "cell_type": "markdown",
   "id": "a7e4aebd-acc8-4e9f-8248-f00bce2e3794",
   "metadata": {},
   "source": [
    "Som en forenkling kan vi nå hente alle turer som endte i en viss nærhet til Oslo S. For eksempel kan vi kreve at endestasjonen er mindre enn 1 km fra Oslo S. "
   ]
  },
  {
   "cell_type": "code",
   "execution_count": 25,
   "id": "4368643d-e4e4-4645-8ab7-740f2494f812",
   "metadata": {
    "scrolled": true
   },
   "outputs": [
    {
     "name": "stdout",
     "output_type": "stream",
     "text": [
      "[4, 5, 6, 8, 11, 12, 14, 15, 16, 19]\n",
      "44896\n",
      "0.34172368911790896\n"
     ]
    }
   ],
   "source": [
    "trips_to_city_centre = []\n",
    "\n",
    "n = len(trips)\n",
    "for i in range(n):\n",
    "    t = trips[i]\n",
    "    end = (t[\"end_station_latitude\"], t[\"end_station_longitude\"])\n",
    "    d = distance.distance(oslo_s, end)\n",
    "    if d.km < 1:\n",
    "        trips_to_city_centre.append(i)\n",
    "\n",
    "print(trips_to_city_centre[:10])\n",
    "\n",
    "k = len(trips_to_city_centre)\n",
    "print(k)\n",
    "print(k/n)"
   ]
  },
  {
   "cell_type": "markdown",
   "id": "41e1e415-628b-406a-b024-83844975059e",
   "metadata": {},
   "source": [
    "Vi ser at omtrent 34.2% av turene endte i nærheten av *Oslo S*. Denne koden tok en del tid å kjøre, fordi vi gikk gjennom over 130.000 turer og gjorde en avstandsberegning hver gang. Men fra tidligere vet vi at det bare finnes 266 sykkelstasjoner:"
   ]
  },
  {
   "cell_type": "code",
   "execution_count": 26,
   "id": "765178cf-413e-4f5a-998c-25f8eeeb5c9e",
   "metadata": {},
   "outputs": [
    {
     "name": "stdout",
     "output_type": "stream",
     "text": [
      "266\n"
     ]
    }
   ],
   "source": [
    "print(len(stations))"
   ]
  },
  {
   "cell_type": "markdown",
   "id": "e6617975-3c56-4d30-b456-71694f0eebf9",
   "metadata": {},
   "source": [
    "Alt vi trenger er å regne ut avstanden til *Oslo S* én gang for hver stasjon! \n",
    "\n",
    "Variabelen `stations` inneholder en dictionary på følgende form: \n",
    "\n",
    "```json\n",
    "{\n",
    "    \"551\": {\n",
    "        \"name\": \"Olaf Ryes plass\",\n",
    "        \"description\": \"langs Sofienberggata\",\n",
    "        \"latitude\": 59.922425,\n",
    "        \"longitude\": 10.758182  \n",
    "    },\n",
    "    \"384\": {\n",
    "        \"name\": \"V\\u00e5r Frelsers gravlund\",\n",
    "        \"description\": \"langs Ullev\\u00e5lsveien\",\n",
    "        \"latitude\": 59.91944043984847,\n",
    "        \"longitude\": 10.7437646218726   \n",
    "    },\n",
    "    ...\n",
    "}\n",
    "```\n",
    "\n",
    "Det vi ønsker er å legge til en ekstra attributt for hver stasjon, slik at vi ender opp med følgende dictionary:\n",
    "\n",
    "```json\n",
    "{\n",
    "    \"551\": {\n",
    "        \"name\": \"Olaf Ryes plass\",\n",
    "        \"description\": \"langs Sofienberggata\",\n",
    "        \"latitude\": 59.922425,\n",
    "        \"longitude\": 10.758182,\n",
    "        \"distance_to_oslo_s\": 1.3587591231552714\n",
    "    },\n",
    "    \"384\": {\n",
    "        \"name\": \"V\\u00e5r Frelsers gravlund\",\n",
    "        \"description\": \"langs Ullev\\u00e5lsveien\",\n",
    "        \"latitude\": 59.91944043984847,\n",
    "        \"longitude\": 10.7437646218726,\n",
    "        \"distance_to_oslo_s\": 1.028501530622403\n",
    "    },\n",
    "    ...\n",
    "}\n",
    "```\n",
    "\n",
    "Vi må altså gå gjennom hver stasjon, regne ut avstanden til *Oslo S*, og legge til dette som et ekstra attributt:"
   ]
  },
  {
   "cell_type": "code",
   "execution_count": 27,
   "id": "efae3f9d-0fc9-4c64-a769-8d2dcf142dcd",
   "metadata": {},
   "outputs": [],
   "source": [
    "for id in stations.keys(): \n",
    "    s = stations[id]\n",
    "    station_coordinates = (s[\"latitude\"], s[\"longitude\"])\n",
    "    d = distance.distance(station_coordinates, oslo_s)\n",
    "    stations[id][\"distance_to_oslo_s\"] = d.km"
   ]
  },
  {
   "cell_type": "markdown",
   "id": "aed3e8a8-403e-4bc3-8e0f-e2fc97410bfc",
   "metadata": {},
   "source": [
    "Nå kan vi enkelt hente avstanden fra en bestemt stasjon til *Oslo S*:"
   ]
  },
  {
   "cell_type": "code",
   "execution_count": 28,
   "id": "b2dc47b2-2bb9-4781-aa46-d8ca3584df7f",
   "metadata": {},
   "outputs": [
    {
     "name": "stdout",
     "output_type": "stream",
     "text": [
      "1.028501530622403\n"
     ]
    }
   ],
   "source": [
    "print(stations[\"384\"][\"distance_to_oslo_s\"])"
   ]
  },
  {
   "cell_type": "markdown",
   "id": "d516d403-2abf-459b-af4e-98cd66bf6685",
   "metadata": {},
   "source": [
    "Nå som vi har lagret alle relevante avstander, kan vi mer effektivt hente alle turer som endte i nærheten av *Oslo S*:"
   ]
  },
  {
   "cell_type": "code",
   "execution_count": 29,
   "id": "8c4c34f5-70a2-4774-8d0c-1456fd511012",
   "metadata": {},
   "outputs": [
    {
     "name": "stdout",
     "output_type": "stream",
     "text": [
      "[4, 5, 6, 8, 11, 12, 14, 15, 16, 19]\n",
      "44896\n",
      "0.34172368911790896\n"
     ]
    }
   ],
   "source": [
    "trips_to_city_centre = []\n",
    "\n",
    "n = len(trips)\n",
    "for i in range(n):\n",
    "    end_station_id = trips[i][\"end_station_id\"]\n",
    "    d = stations[end_station_id][\"distance_to_oslo_s\"]\n",
    "    if d < 1:\n",
    "        trips_to_city_centre.append(i)\n",
    "\n",
    "print(trips_to_city_centre[:10])\n",
    "\n",
    "k = len(trips_to_city_centre)\n",
    "print(k)\n",
    "print(k/n)"
   ]
  },
  {
   "cell_type": "markdown",
   "id": "b391fcc4-1974-4757-910b-72dc8294ef49",
   "metadata": {},
   "source": [
    "Målet vårt var å hente turer som både var lengre enn 3 km og endte i nærheten av *Oslo S*, altså turer som er i både listen `long_trips` og `trips_to_city_centre`. Da kan vi bruke samme metode som i forrige seksjon:"
   ]
  },
  {
   "cell_type": "code",
   "execution_count": 30,
   "id": "13e17c97-0935-4046-af0e-621efc0ae201",
   "metadata": {},
   "outputs": [],
   "source": [
    "long_trips_to_city_centre =  set(long_trips) & set(trips_to_city_centre)\n",
    "long_trips_to_city_centre = list(long_trips_to_city_centre)"
   ]
  },
  {
   "cell_type": "markdown",
   "id": "8aa17c2d-b14f-4c70-a694-1af0aa8704fb",
   "metadata": {},
   "source": [
    "Operasjonen `&` gir oss elementene som listene har til felles, men først må vi konvertere listene til mengder. I andre linje konverterer vi resultatet tilbake til en liste. "
   ]
  },
  {
   "cell_type": "code",
   "execution_count": 31,
   "id": "8ced082a-11c3-4bf2-82d8-6eee338f5800",
   "metadata": {
    "scrolled": true
   },
   "outputs": [
    {
     "name": "stdout",
     "output_type": "stream",
     "text": [
      "[6, 49158, 65545, 81933, 65553, 16406, 32793, 114714, 49186, 49188]\n",
      "3056\n",
      "0.023260593236464937\n"
     ]
    }
   ],
   "source": [
    "print(long_trips_to_city_centre[:10])\n",
    "\n",
    "k = len(long_trips_to_city_centre)\n",
    "print(k)\n",
    "print(k/n)"
   ]
  },
  {
   "cell_type": "markdown",
   "id": "17bc07dd-b060-4e65-af67-c94468202eff",
   "metadata": {},
   "source": [
    "Her ser vi at 3056 turer, som utgjør omtrent 2.3% av alle turer, tilfredstiller begge kravene. "
   ]
  },
  {
   "cell_type": "markdown",
   "id": "aa27b1df-8de8-475a-9ac8-517c166672c6",
   "metadata": {},
   "source": [
    "**Oppsummering.** I denne seksjonen har vi lært følgende: \n",
    "* Hvordan vi kan lagre geografiske punkter som tupler av typen `(59.922425, 10.758182)`, og bruke `geopy` til å regne ut avstanden mellom punkter.\n",
    "* Hvordan avstander kan lagres på en systematisk måte, slik at vi unngår å gjøre de samme utregningene mange ganger.\n",
    "\n",
    "Vi har brukt dette til å hente alle sykkelturer som var minst 3 km og endte i Oslo sentrum. "
   ]
  },
  {
   "cell_type": "markdown",
   "id": "3c692cb7-52bf-4851-afe5-315ccf2007f5",
   "metadata": {},
   "source": [
    "**Aktivitetsforslag 1:** \n",
    "\n",
    "Velg deg et geografisk punkt i Oslo og hent koordinatene tl punktet, for eksempel ved å høyreklikke på punktet i *Google Maps*. Gjør følgende oppgaver: \n",
    "\n",
    "1. Endre variabelen `stations` slik at den også inneholder avstanden fra stasjonene til ditt valgte punkt, på følgende måte:\n",
    "\n",
    "```\n",
    "{\n",
    "    \"551\": {\n",
    "        \"name\": \"Olaf Ryes plass\",\n",
    "        \"description\": \"langs Sofienberggata\",\n",
    "        \"latitude\": 59.922425,\n",
    "        \"longitude\": 10.758182,\n",
    "        \"distance_to_my_point\": \n",
    "    },\n",
    "    \"384\": {\n",
    "        \"name\": \"V\\u00e5r Frelsers gravlund\",\n",
    "        \"description\": \"langs Ullev\\u00e5lsveien\",\n",
    "        \"latitude\": 59.91944043984847,\n",
    "        \"longitude\": 10.7437646218726,\n",
    "        \"distance_to_my_point\": \n",
    "    },\n",
    "    ...\n",
    "}\n",
    "```\n",
    "Du kan selv velge navnet til det nye attributtet. \n",
    "\n",
    "Bruk avstandene du har lagret til å gjøre følgende oppgaver:\n",
    "\n",
    "2. Opprett en liste med alle turer som **startet** i nærheten av ditt valgte punkt.\n",
    "3. Opprett en liste med alle turer som **endte** i nærheten av ditt valgte punkt.\n",
    "4. Opprett en liste med alle turer som **både** startet og endte i nærheten av stedet\n",
    "5. Hvor mange turer finnes i hver av listene og hvor stor prosentandel utgjør de?\n",
    "\n",
    "**Aktivitetsforslag 2 (utfordring)** \n",
    "\n",
    "Vi ønsker nå å legge til følgende informasjon i variabelen `stations`: \n",
    "\n",
    "```json\n",
    "{\n",
    "    \"551\": {\n",
    "        \"name\": \"Olaf Ryes plass\",\n",
    "        \"description\": \"langs Sofienberggata\",\n",
    "        \"latitude\": 59.922425,\n",
    "        \"longitude\": 10.758182,\n",
    "        \"distance_to_other_stations\": {\n",
    "            \"387\": 1.5424618400028995,\n",
    "            \"499\": 0.7591003631405512,\n",
    "            \"2315\": 1.731562337348591,\n",
    "            \"410\": 0.8739156584845489,\n",
    "            ...\n",
    "        }\n",
    "    },\n",
    "    ...\n",
    "}\n",
    "```\n",
    "For hver stasjon skal du altså opprette attributtet *distance_to_other_stations*, der du skal lagre avstanden til alle andre stasjoner. Husk at for å gå gjennom alle stasjoner kan du bruke løkken:"
   ]
  },
  {
   "cell_type": "code",
   "execution_count": 32,
   "id": "f2044265-6f4f-46b3-9020-2788d89dec5f",
   "metadata": {
    "scrolled": true
   },
   "outputs": [],
   "source": [
    "for id in stations.keys(): \n",
    "    s = stations[id]       "
   ]
  },
  {
   "cell_type": "markdown",
   "id": "4245bec8-af15-4c25-a247-d6afe181ffbb",
   "metadata": {},
   "source": [
    "Bruk avstandene du har lagret til å hente alle turer som var minst 3 km."
   ]
  },
  {
   "cell_type": "markdown",
   "id": "7f71133f-f47c-46e1-aa71-182afbc45811",
   "metadata": {},
   "source": [
    "## Tillegg: Geografiske områder"
   ]
  },
  {
   "cell_type": "markdown",
   "id": "e9a68cf8-cc6f-42b5-9459-80f8174bfd3e",
   "metadata": {},
   "source": [
    "**Definere geografiske områder.** Hva om vi ønsker å selv definere et område og hente alle turer som endte i dette området? Under kan du se et eksempel på et område:\n",
    "\n",
    "<img src=\"../fig3/oslo_region.png\" width=\"300\">\n",
    "\n",
    "Dette området kan defineres i Python på følgende måte: "
   ]
  },
  {
   "cell_type": "code",
   "execution_count": 33,
   "id": "ed9a052b-17b1-4c68-adf7-3854475069a8",
   "metadata": {},
   "outputs": [],
   "source": [
    "from shapely.geometry import Point, Polygon, MultiPolygon\n",
    "\n",
    "corners = [(59.92065829373027, 10.705038426191948),\n",
    "           (59.904743048315424, 10.707183476660077),\n",
    "           (59.902591754210164, 10.73549814283615),\n",
    "           (59.89979486351757, 10.782689253130059),\n",
    "           (59.91162625297167, 10.78826638434711),\n",
    "           (59.92818311704261, 10.76896093013562),\n",
    "           (59.93140751894279, 10.725201900590633)]\n",
    "\n",
    "my_area = Polygon(corners)"
   ]
  },
  {
   "cell_type": "markdown",
   "id": "df684007-073f-43aa-ad38-740e4940d4d8",
   "metadata": {},
   "source": [
    "Alt vi trenger å gjøre er å definere *hjørnepunktene* som en liste av koordinater. Disse hjørnepunktene danner en mangekant (*polygon*), og det er området innenfor mangekanten vi er interessert i. For å definere dette området bruker vi funksjonen ´ `Polygon(corners)`, som vi henter fra Python-pakken [*shapely*](https://shapely.readthedocs.io/en/stable/manual.html). Denne pakken brukes til å gjøre operasjoner på geometriske objekter, slik som punkter, linjer og mangekanter. Pakken må lastes ned på din maskin med kommandoen `pip install shapely`. \n",
    "\n",
    "Når vi har definert det geometriske objektet, gir `shapely` oss en rekke funksjoner, blant annet å sjekke om et punkt ligger innenfor objektet. Vi kan altså sjekke om et geografisk punkt ligger innenfor området vi definerte ovenfor: "
   ]
  },
  {
   "cell_type": "code",
   "execution_count": 34,
   "id": "d48b1f9e-0bac-429e-8f8b-8df076fc952e",
   "metadata": {},
   "outputs": [
    {
     "name": "stdout",
     "output_type": "stream",
     "text": [
      "True\n",
      "False\n"
     ]
    }
   ],
   "source": [
    "oslo_s = Point(59.91085305987858, 10.750512158605307)\n",
    "vigelandsparken = Point(59.9286828181158, 10.697803494202565)\n",
    "\n",
    "print(oslo_s.within(my_area))\n",
    "print(vigelandsparken.within(my_area))"
   ]
  },
  {
   "cell_type": "markdown",
   "id": "4fd6c7f1-bd79-406b-aa3d-e72f40524047",
   "metadata": {},
   "source": [
    "Resultatet er at *Oslo S* ligger innenfor vårt definerte område, mens *Vigelandsparken* ligger utenfor området. Metoden for å sjekke om et punkt ligger innenfor et område er altså: \n",
    "1. Definer området med kommandoen `my_area = Polygon(corners)`, der `corners` er en liste av koordinater. \n",
    "2. Definer punktet med kommandoen `my_point = Point(longitude, latitude)`. Her må vi bruke `Point()`-funksjonen, som vi importerer fra `shapely`. \n",
    "3. Bruk kommandoen `my_point.within(my_area)`. Dersom resultatet er `True`, betyr det at punktet er innenfor området, og dersom resultatet er `False` er punktet utenfor området.\n",
    "\n",
    "Vi kan bruke en `if`-setning til å bestemme hva som skal gjøres hvis vi får et positivt resultat:"
   ]
  },
  {
   "cell_type": "code",
   "execution_count": 35,
   "id": "17b9a2e4-b857-49ce-8b5e-8b651adf537e",
   "metadata": {},
   "outputs": [
    {
     "name": "stdout",
     "output_type": "stream",
     "text": [
      "Oslo S er innenfor mitt område!\n"
     ]
    }
   ],
   "source": [
    "if oslo_s.within(my_area):\n",
    "    print(\"Oslo S er innenfor mitt område!\")"
   ]
  },
  {
   "cell_type": "markdown",
   "id": "f501450d-1b6f-40eb-97db-2c269a37f0e4",
   "metadata": {},
   "source": [
    "Det er også mulig å definere et område som består av flere mangekanter, som i figuren under: \n",
    "\n",
    "<img src=\"../fig3/oslo_regions.png\" width=\"300\">\n",
    "\n",
    "For å definere dette området kan vi først definere de to mangekantene hver for seg, for eksempel med variabelnavnene `my_area1` og `my_area2`. Deretter kan vi kombinere disse med kommandoen `my_combined_area = MultiPolygon(my_area1, my_area2)`. \n",
    "\n",
    "**Hente sykkelturer innenfor et område.** Hva om vi nå ønsker å hente sykkelturer som både startet og endte innenfor området `my_area`, som vi definerte ovenfor? Vi går gjennom hver tur, definerer start -og endepunktet, og sjekker om begge er innenfor området: "
   ]
  },
  {
   "cell_type": "code",
   "execution_count": 36,
   "id": "1cd841b2-a4e0-4d31-9a00-bcac2486f162",
   "metadata": {},
   "outputs": [
    {
     "name": "stdout",
     "output_type": "stream",
     "text": [
      "{'started_at': '2023-07-01 01:22:38.878000+00:00', 'ended_at': '2023-07-01 01:40:04.748000+00:00', 'duration': 1045, 'start_station_id': '387', 'start_station_name': 'Studenterlunden', 'start_station_description': 'langs Karl Johan', 'start_station_latitude': 59.914586, 'start_station_longitude': 10.735453, 'end_station_id': '499', 'end_station_name': 'Bjerregaards gate', 'end_station_description': 'ovenfor Fredrikke Qvams gate', 'end_station_latitude': 59.925488, 'end_station_longitude': 10.746058}\n"
     ]
    }
   ],
   "source": [
    "print(trips[0])"
   ]
  },
  {
   "cell_type": "markdown",
   "id": "34a85437-52eb-4790-9562-49ee1b5f2b62",
   "metadata": {},
   "source": [
    "**Oppsummering.** I denne seksjonen har vi lært hvordan vi definerer et geografisk område i Python, og vi har sett hvordan vi kan sjekke om et geografisk punkt er innenfor et område."
   ]
  },
  {
   "cell_type": "markdown",
   "id": "eefbb1eb-176e-4be5-94c4-b54715a1600f",
   "metadata": {},
   "source": [
    "**Aktivitetsforslag 1** \n",
    "\n",
    "1. Gå inn på [*geojson.io*](https://geojson.io/#map=10.68/59.9195/10.7298) og bruk funksjonen *Draw polygon* til å markere ett eller flere områder. Last deretter ned *GeoJSON*-filen med menyvalget *Save - GeoJSON*.\n",
    "2. Opprett en liste som inneholder alle turene som endte i ditt valgte område. Hvor stor prosentandel utgjør dette av alle turer? \n",
    "\n",
    "**Aktivitetsforslag 2** Bruk [*geojson.io*](https://geojson.io/#map=10.68/59.9195/10.7298) til å lage to *GeoJSON*-filer: `startregion.geojson` og `enderegion.json`. Opprett en liste over alle turer som starter i det første området og slutter i det andre området. Hvor stor prosentandel utgjør dette av alle turer? "
   ]
  },
  {
   "cell_type": "markdown",
   "id": "00b4b769-7488-4ac7-bfb4-7e91a89ce49a",
   "metadata": {},
   "source": [
    "## Gruppering av data (fjern)\n",
    "\n",
    "**Gruppering etter time.** Vi kan gå mer systematisk til verks for å gruppere sykkelturene. For eksempel kan vi definere en kategori for hver klokketime:\n",
    "\n",
    "```json\n",
    "{\n",
    "    0: \"turer som startet 00:00-00:59\",\n",
    "    1: \"turer som startet 01:00-01:59\",\n",
    "    2: \"turer som startet 02:00-02:59\",\n",
    "    ...\n",
    "    23: \"turer som startet 23:00-23:59\"\n",
    "}\n",
    "```\n",
    "Merk at vi har gitt både en nøkkel og en beskrivelse til hver kategori. \n",
    "\n",
    "Nå ønsker vi å opprette en dictionary med de samme nøklene: "
   ]
  },
  {
   "cell_type": "code",
   "execution_count": 37,
   "id": "c8afeffa-b79f-44c4-8937-635359eed79e",
   "metadata": {},
   "outputs": [
    {
     "name": "stdout",
     "output_type": "stream",
     "text": [
      "{   0: [],\n",
      "    1: [],\n",
      "    2: [],\n",
      "    3: [],\n",
      "    4: [],\n",
      "    5: [],\n",
      "    6: [],\n",
      "    7: [],\n",
      "    8: [],\n",
      "    9: [],\n",
      "    10: [],\n",
      "    11: [],\n",
      "    12: [],\n",
      "    13: [],\n",
      "    14: [],\n",
      "    15: [],\n",
      "    16: [],\n",
      "    17: [],\n",
      "    18: [],\n",
      "    19: [],\n",
      "    20: [],\n",
      "    21: [],\n",
      "    22: [],\n",
      "    23: []}\n"
     ]
    }
   ],
   "source": [
    "trips_by_hour = {}\n",
    "\n",
    "for hour in range(0, 24):\n",
    "    key = hour\n",
    "    trips_by_hour[key] = []\n",
    "\n",
    "pp.pprint(trips_by_hour)"
   ]
  },
  {
   "cell_type": "markdown",
   "id": "1e095819-be0b-4b4d-a891-4189da7d27a4",
   "metadata": {},
   "source": [
    "Nå ønsker vi å plassere turene på de riktige nøklene. La oss for eksempel se på den første turen: "
   ]
  },
  {
   "cell_type": "code",
   "execution_count": 38,
   "id": "73e8ab5d-341b-4cd8-98db-4d26ec15f370",
   "metadata": {
    "scrolled": true
   },
   "outputs": [
    {
     "name": "stdout",
     "output_type": "stream",
     "text": [
      "{   'duration': 1045,\n",
      "    'end_station_description': 'ovenfor Fredrikke Qvams gate',\n",
      "    'end_station_id': '499',\n",
      "    'end_station_latitude': 59.925488,\n",
      "    'end_station_longitude': 10.746058,\n",
      "    'end_station_name': 'Bjerregaards gate',\n",
      "    'ended_at': '2023-07-01 01:40:04.748000+00:00',\n",
      "    'start_station_description': 'langs Karl Johan',\n",
      "    'start_station_id': '387',\n",
      "    'start_station_latitude': 59.914586,\n",
      "    'start_station_longitude': 10.735453,\n",
      "    'start_station_name': 'Studenterlunden',\n",
      "    'started_at': '2023-07-01 01:22:38.878000+00:00'}\n"
     ]
    }
   ],
   "source": [
    "pp.pprint(trips[0])"
   ]
  },
  {
   "cell_type": "markdown",
   "id": "d4a67885-7743-404f-b304-1e26822ceadd",
   "metadata": {},
   "source": [
    "Turen med indeks 0 skjedde altså på tidspunktet *01:40:04*, og vi ønsker derfor å plassere den på nøkkelen 1: \n",
    "\n",
    "```json\n",
    "{\n",
    "    0: [],\n",
    "    1: [0],\n",
    "    2: [],\n",
    "    ...\n",
    "}\n",
    "```"
   ]
  },
  {
   "cell_type": "markdown",
   "id": "875ab11e-0d83-4ecf-b1b5-7ccb96e35b47",
   "metadata": {},
   "source": [
    "Vi kan få programmet vårt til å gjøre dette med følgende kode: "
   ]
  },
  {
   "cell_type": "code",
   "execution_count": 39,
   "id": "d0e57f74-553c-4226-8e3a-692d651a491e",
   "metadata": {},
   "outputs": [],
   "source": [
    "i = 0\n",
    "t = trips[i]\n",
    "time = datetime.fromisoformat(t[\"started_at\"])\n",
    "key = time.hour\n",
    "trips_by_hour[key].append(i)"
   ]
  },
  {
   "cell_type": "markdown",
   "id": "2d658ea6-045f-4d01-bf8e-dcdc386e6e21",
   "metadata": {},
   "source": [
    "Med denne koden gjør vi følgende operasjoner: \n",
    "\n",
    "* Linje 1-2: Vi henter den første turen.    \n",
    "* Linje 3: Vi henter datostrengen.    \n",
    "* Linje 4: Vi henter timen.    \n",
    "* Linje 5: Før punktum går vi inn på den riktige nøkkelen i vår dictionary. På denne nøkkelen finner vi en liste. Etter punktum legger vi turen til i lista. Som vanlig holder det å legge til indeksen til turen. \n",
    "\n",
    "Nå kan vi gå gjennom alle turene og plassere dem på riktig nøkkel: "
   ]
  },
  {
   "cell_type": "code",
   "execution_count": 40,
   "id": "c86fa6fb-f358-40df-8178-60035b3922fe",
   "metadata": {},
   "outputs": [],
   "source": [
    "n = len(trips)\n",
    "for i in range(n):\n",
    "    t = trips[i]\n",
    "    start_time = datetime.fromisoformat(t[\"started_at\"])\n",
    "    key = start_time.hour\n",
    "    trips_by_hour[key].append(i)"
   ]
  },
  {
   "cell_type": "markdown",
   "id": "453ca683-ff32-41a0-b882-a118c2b9c8e7",
   "metadata": {},
   "source": [
    "Nå har vi gruppert alle turene etter hvilken klokketime de startet! For eksempel kan vi gå inn på indeks 19 for å hente alle turer som startet mellom *19:00* og *19:59*: "
   ]
  },
  {
   "cell_type": "code",
   "execution_count": 41,
   "id": "5822cd7c-37d5-43f0-9ca1-301178e3016a",
   "metadata": {
    "scrolled": true
   },
   "outputs": [
    {
     "name": "stdout",
     "output_type": "stream",
     "text": [
      "5385\n",
      "0.040987661838469795\n"
     ]
    }
   ],
   "source": [
    "trips_at_19 = trips_by_hour[19]\n",
    "\n",
    "k = len(trips_at_19)\n",
    "n = len(trips)\n",
    "\n",
    "print(k)\n",
    "print(k/n)"
   ]
  },
  {
   "cell_type": "markdown",
   "id": "f1a753b9-4f57-462e-acda-adc20aa68f39",
   "metadata": {},
   "source": [
    "Vi ser at omtrent 4 % av alle turer skjedde mellom *19:00* og *19:59*. \n",
    "\n",
    "**Gruppering etter ukedag.** Som et annet eksempel kan vi gruppere turene etter hvilken dag i uken turen startet. Vi starter igjen med å definere kategoriene: "
   ]
  },
  {
   "cell_type": "markdown",
   "id": "8fe60877-7032-436a-ba2f-b42447836454",
   "metadata": {},
   "source": [
    "```json\n",
    "{\n",
    "    0: \"turer som startet på en mandag\",\n",
    "    1: \"turer som startet på en tirsdag\",\n",
    "    2: \"turer som startet på en onsdag\",\n",
    "    3: \"turer som startet på en torsdag\",\n",
    "    4: \"turer som startet på en fredag\",\n",
    "    5: \"turer som startet på en lørdag\",\n",
    "    6: \"turer som startet på en søndag\"\n",
    "}\n",
    "```"
   ]
  },
  {
   "cell_type": "markdown",
   "id": "d9d8c65e-0b3a-467f-908f-79b3b3c408c2",
   "metadata": {},
   "source": [
    "Vi oppretter en dictionary med de samme nøklene:"
   ]
  },
  {
   "cell_type": "code",
   "execution_count": 42,
   "id": "cb9a4994-4bca-40d2-9f14-ee97f323399f",
   "metadata": {},
   "outputs": [],
   "source": [
    "trips_by_weekday = {\n",
    "    0: [],\n",
    "    1: [],\n",
    "    2: [],\n",
    "    3: [],\n",
    "    4: [],\n",
    "    5: [],\n",
    "    6: []\n",
    "}"
   ]
  },
  {
   "cell_type": "markdown",
   "id": "af2dcdb6-217c-406a-9595-c73eb56592ab",
   "metadata": {},
   "source": [
    "*Vi kan opprette en dictionary i Python ved å skrive innholdet direkte innenfor krøllparenteser `{}`.*"
   ]
  },
  {
   "cell_type": "markdown",
   "id": "b58e5e16-92f3-4cda-ba29-0f5ce2713d4c",
   "metadata": {},
   "source": [
    "Nå ønsker vi å gå gjennom alle turene og plassere dem på riktig indeks. La oss for eksempel se på turen med indeks 5000: "
   ]
  },
  {
   "cell_type": "code",
   "execution_count": 43,
   "id": "2b119ae4-f732-4e29-ab38-c461cf74d801",
   "metadata": {},
   "outputs": [
    {
     "name": "stdout",
     "output_type": "stream",
     "text": [
      "1\n"
     ]
    }
   ],
   "source": [
    "t = trips[50000]\n",
    "start_time = datetime.fromisoformat(t[\"started_at\"]) \n",
    "weekday = start_time.weekday()\n",
    "print(weekday)"
   ]
  },
  {
   "cell_type": "markdown",
   "id": "b361a782-ef44-46e1-8fc5-f18c24763e8b",
   "metadata": {},
   "source": [
    "Som forklart i [dokumentasjonen](https://docs.python.org/3/library/datetime.html#datetime.date.weekday) til Python-pakken *datetime*, så er ukedagene nummerert fra 0 til 6. Turen med indeks 50000 startet altså på en tirsdag, og den kan plasseres i riktig kategori med kodelinjen `trips_by_weekday[1].append(50000)`, som vil oppdatere vår dictionary på følgende måte:\n",
    "\n",
    "```json\n",
    "{\n",
    "    0: [],\n",
    "    1: [50000, ...],\n",
    "    ...\n",
    "}\n",
    "```\n",
    "Vi går gjennom alle turer og plasserer dem i riktig attributt: "
   ]
  },
  {
   "cell_type": "code",
   "execution_count": 44,
   "id": "f9631f25-a808-4333-85bf-3fd927e00ec2",
   "metadata": {},
   "outputs": [],
   "source": [
    "n = len(trips)\n",
    "for i in range(n):\n",
    "    t = trips[i]\n",
    "    start_time = datetime.fromisoformat(t[\"started_at\"])\n",
    "    key = start_time.weekday()\n",
    "    trips_by_weekday[key].append(i)"
   ]
  },
  {
   "cell_type": "markdown",
   "id": "81ddb94d-a607-4cc8-b19b-6c345b7f5881",
   "metadata": {},
   "source": [
    "Nå kan vi for eksempel printe ut alle turer som skjedde på en søndag:"
   ]
  },
  {
   "cell_type": "code",
   "execution_count": 45,
   "id": "38c2d6cb-cba7-4ceb-8514-4e7f4989519e",
   "metadata": {},
   "outputs": [
    {
     "name": "stdout",
     "output_type": "stream",
     "text": [
      "14751\n",
      "0.11227650877980834\n"
     ]
    }
   ],
   "source": [
    "sunday_trips = trips_by_weekday[6]\n",
    "\n",
    "k = len(sunday_trips)\n",
    "n = len(trips)\n",
    "\n",
    "print(k)\n",
    "print(k/n)"
   ]
  },
  {
   "cell_type": "markdown",
   "id": "032ba18b-a2a7-4530-985e-c9f9c30b36bb",
   "metadata": {},
   "source": [
    "Her ser vi at omtrent 11% av alle turer startet på en søndag. \n",
    "\n",
    "**Oppsummering.** I denne seksjonen har vi sett hvordan vi kan gruppere data på en systematisk måte. Vi har gruppert sykkelturene på to måter: \n",
    "- I variabelen `trips_by_hour` er turene gruppert etter hvilken time på dagen de startet.\n",
    "- I variabelen `trips_by_weekday` er turene gruppert etter hvilken ukedag de startet."
   ]
  },
  {
   "cell_type": "markdown",
   "id": "e39feaf4-c149-4b4a-9776-874fc72b00f3",
   "metadata": {},
   "source": [
    "**Aktivitetsforslag 1.** \n",
    "\n",
    "Vi definerer følgende kategorier: \n",
    "\n",
    "```json\n",
    "{\n",
    "    0: \"turer med varighet under 60 minutter\",\n",
    "    1: \"turer med varighet 60 minutter eller mer\"\n",
    "}\n",
    "```\n",
    "Opprett variabelen `trips_by_duration` med følgende innhold: \n",
    "```json\n",
    "{\n",
    "    0: [],\n",
    "    1: []\n",
    "}\n",
    "```\n",
    "Gå gjennom alle turer i listen `trips`, og plasser dem på riktig nøkkelen (`0` eller `1`) avhengig av varigheten til turen. Husk at når du henter \n",
    "\n",
    "*Hint 1: Bruk en *if-else*-setning for å finne den riktige nøkkelen, avhengig av varigheten til turen.*\n",
    "\n",
    "*Hint 2: Husk at varigheten er gitt som antall sekunder i dataene. For å sjekke om antall minutter er mindre enn 60, kan du sjekke om antall sekunder er mindre enn $60\\cdot 60 = 3600*.\n",
    "\n",
    "*Dersom du ønsker, kan du lage mer detaljerte kategorier, for eksempel:*\n",
    "* *mellom 0 og 29 minutter*\n",
    "* *mellom 30 og 59 minutter*\n",
    "* *mellom 60 og 89 minutter*\n",
    "* *mellom 90 og 119 minutter*\n",
    "* *over 120 minutter*\n",
    "\n",
    "**Aktivitetsforslag 2.** I denne oppgaven skal du gruppere turene etter distanse. Definer dine egne kategorier, for eksempel: \n",
    "* 0-1 km\n",
    "* 1-2 km\n",
    "* 2-3 km\n",
    "* 3+ km\n",
    "\n",
    "Opprett variabelen `trips_by_distance`og følg samme fremgangsmåte som i oppgaven ovenfor. "
   ]
  },
  {
   "cell_type": "markdown",
   "id": "04f56bc3-c6b6-4a41-ac6f-9e6b6a2688da",
   "metadata": {
    "tags": []
   },
   "source": [
    "## Statistiske utregninger (fjern)\n",
    "\n",
    "Hvordan kan vi regne ut hva som er gjennomsnittlig varighet til en sykkeltur i datamengden vår? Den grunnleggende formelen er å summere varigheten til alle sykkelturene, og deretter dele på antall turer:"
   ]
  },
  {
   "cell_type": "code",
   "execution_count": 46,
   "id": "9a0e9ffb-0c73-46f0-8446-9d97b755d076",
   "metadata": {},
   "outputs": [],
   "source": [
    "n = len(trips)"
   ]
  },
  {
   "cell_type": "markdown",
   "id": "cc8590c8-f094-4f32-a01d-d6745da49635",
   "metadata": {
    "tags": []
   },
   "source": [
    "Diverse opptellingsoppgaver kan gjøres med løkker i Python:\n",
    "    \n",
    "* Kategorisere data\n",
    "* Summarisk stastikk: antall registreringer, frekvenser, gjennomsnittsverdier, (medianverdier)\n",
    "* Sammenligne relevante kategorier\n",
    "\n",
    "Gi svar på oppgavene gitt i seksjonen om Oslo bysykkel."
   ]
  }
 ],
 "metadata": {
  "kernelspec": {
   "display_name": "Python 3 (ipykernel)",
   "language": "python",
   "name": "python3"
  },
  "language_info": {
   "codemirror_mode": {
    "name": "ipython",
    "version": 3
   },
   "file_extension": ".py",
   "mimetype": "text/x-python",
   "name": "python",
   "nbconvert_exporter": "python",
   "pygments_lexer": "ipython3",
   "version": "3.10.12"
  }
 },
 "nbformat": 4,
 "nbformat_minor": 5
}
