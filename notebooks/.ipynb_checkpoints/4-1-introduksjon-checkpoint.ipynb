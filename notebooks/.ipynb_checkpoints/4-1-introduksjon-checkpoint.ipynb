{
 "cells": [
  {
   "cell_type": "markdown",
   "id": "9b00f2d8-df42-46e8-9001-aa8c4cc9735d",
   "metadata": {
    "tags": []
   },
   "source": [
    "# Datahåndtering\n",
    "\n",
    "## Begreper\n",
    "\n",
    "Vi skal nå se på noen viktige begreper knyttet til data og datahåndtering. Siden dette er vanskelige begreper, skal vi ikke forsøke å gi presise definisjoner, men heller gi eksempler som kan være til hjelp. \n",
    "\n",
    "**Hva er *informasjon*?** \n",
    "\n",
    "Dersom vi står i tett tåke, kan vi ikke si mye om det vi ser rundt oss. Vi kan derfor argumentere for at tåke ikke inneholder noe *informasjon*. Men dersom litt av tåka forsvinner og vi kan se omrisset av et hus, så har vi plutselig struktur i synsinntrykket. \n",
    "\n",
    "Hva mener vi med *struktur*? Struktur, eller mønster, er rett og slett noe som ikke er helt tilfeldig. Vannmolekylene i en tåkesky svever kanskje tilfeldig rundt i lufta, men materialet i et hus er langt fra tilfeldig! Et murhus består av leire som har blitt formet som rektangulære klosser og deretter satt oppå hverandre på en bestemt måte; her er det mye struktur og mønster. \n",
    "\n",
    "Der det finnes struktur, finnes også informasjon. For eksempel kan vi beskrive hvordan leira er formet som mursteiner med en bestemt lengde, bredde og høyde. Informasjon kan altså sees på som en beskrivelse av struktur og mønstre. \n",
    "    \n",
    "**Hva er *data*?** \n",
    "\n",
    "Informasjon kan formidles på forskjellige måter. *Data* er en måte å beskrive struktur gjennom *konkrete verdier*. For eksempel kan vi beskrive et murhus ved å oppgi konkrete størrelsesmål: "
   ]
  },
  {
   "cell_type": "code",
   "execution_count": 1,
   "id": "6962a951-3890-4777-ae18-6536eda90c92",
   "metadata": {
    "tags": []
   },
   "outputs": [],
   "source": [
    "murstein_lengde = 25\n",
    "murstein_bredde = 10\n",
    "murstein_hoyde = 10"
   ]
  },
  {
   "cell_type": "markdown",
   "id": "ebab330c-1a87-43ba-b214-6487cfbb8fff",
   "metadata": {},
   "source": [
    "Men en konkret verdi trenger ikke å være et tall; vi kan også oppgi formen på hustak ved å definere forskjellige kategorier:"
   ]
  },
  {
   "cell_type": "code",
   "execution_count": 2,
   "id": "94912685-412d-4c89-8d8b-02d1b96eb5fb",
   "metadata": {
    "tags": []
   },
   "outputs": [],
   "source": [
    "hus1_tak = \"skrått\"\n",
    "hus2_tak = \"flatt\"\n",
    "hus3_tak = \"skrått\""
   ]
  },
  {
   "cell_type": "markdown",
   "id": "a590412a-4d7c-412e-8a5b-d71b19b90914",
   "metadata": {},
   "source": [
    "Vi bør likevel huske på at alle data lagres som tall; hver bokstav lagres som et tall i datamaskinen, så ordet \"skrått\" er egentlig en sekvens av tall, og ordet \"flatt\" er en annen tallsekvens. Siden alt likevel lagres som tall, kunne vi først laget en liste med kategoriene, og deretter brukt indeksene i lista for å registrere spesifikke hus: "
   ]
  },
  {
   "cell_type": "code",
   "execution_count": 3,
   "id": "2c6c4e1f-d599-4ba8-a06d-4b445aa593a4",
   "metadata": {
    "tags": []
   },
   "outputs": [],
   "source": [
    "kategorier_hustak = [\"skrått\", \"flatt\"]\n",
    "\n",
    "hus1_tak = 0\n",
    "hus2_tak = 1\n",
    "hus3_tak = 0"
   ]
  },
  {
   "cell_type": "markdown",
   "id": "dab3b239-9899-4849-8aa5-51fd5fd421e3",
   "metadata": {},
   "source": [
    "Ved å definere en slik *assossiasjon* mellom tall og kategorier sparer vi plass i datamaskinens minne, siden vi bare trenger å skrive det fulle navnet på kategorien én gang."
   ]
  },
  {
   "cell_type": "markdown",
   "id": "c6a86bee-62e0-44c7-9ec2-27e76693736e",
   "metadata": {},
   "source": [
    "**Hva er *datahåndtering*?** \n",
    "\n",
    "Når vi snakker om *datahåndtering*, mener vi alt man kan gjøre med data! Vi kan dele inn datahåndtering i to hovedkategorier:\n",
    "\n",
    "* Håndtere data i sin originale form: *lagring*, *sikring* og *utveksling* av data\n",
    "* Omforme data til meningsfull informasjon: *databehandling*\n",
    "\n",
    "Som en oppsummering av denne seksjonen kan vi tenke oss et system for værvarsling: \n",
    "\n",
    "1. I atmosfæren kan det finnes områder med høyere trykk og områder med lavere trykk. Trykket i atmosfæren er altså ikke noe helt tilfeldig, men har *mønster* og *struktur*.\n",
    "2. Når vi beskriver strukturen i atmosfæren, har vi *informasjon*. Et eksempel på informasjon kan være at \"det er høyere trykk i Oslo enn i Bergen i dag\". \n",
    "3. Vi kan også beskrive atmosfæren med *data*; målestasjoner på forskjellige geografiske punkter kan ha sensorer som måler trykk, fuktighet, temperatur og annet. Siden en måling består av konkrete tallverdier, har vi data. \n",
    "4. Måledataene kan i første omgang lagres på målestasjonen, og deretter sendes til et datasenter. Det er et eksempel på *lagring og utveksling* av data. I disse stegene håndterer vi måledataene i sin originale form; slike data kalles gjerne *rådata*, fordi de ikke har gjennomgått noen form for bearbeiding.\n",
    "5. På datamaskinene kan måledata fra hele landet brukes til å gjøre simuleringer, det vil si å beregne hvordan atmosfæren kommer til å utvikle seg de neste dagene. I dette steget blir måledataene brukt som parametre i funksjoner, og returverdier kommer ut. Returverdiene kan til slutt analyseres og presenteres i form av en værmelding. Alt dette er *databehandling*; vi omformer de originale måledataene til meningsfull og nyttig informasjon. "
   ]
  },
  {
   "cell_type": "markdown",
   "id": "7f48ce94-ec8b-4b17-95c6-04e3a45d0ea0",
   "metadata": {},
   "source": [
    "## *Oslo bysykkel*\n",
    "\n",
    "For å vise hvor spennende datahåndtering kan være, skal vi ta utgangspunkt i data fra *Oslo Bysykkel*, som har 259 selvbetjente sykkelstasjoner i Oslo (i April 2023); du kan se alle sykkelstasjonene på [dette kartet](https://oslobysykkel.no/stasjoner). Når en person låser opp en sykkel på en stasjon A, og leverer den på stasjon B, så har det blitt registrert en tur fra A til B. Følgende tur ble registrert den 26. April 2023: \n",
    "\n",
    "```json\n",
    "{\n",
    "        \"started_at\": \"2023-04-29 12:10:38.207000+00:00\",\n",
    "        \"ended_at\": \"2023-04-29 12:14:34.256000+00:00\",\n",
    "        \"duration\": 236,\n",
    "        \"start_station_id\": \"463\",\n",
    "        \"start_station_name\": \"Schous plass trikkestopp\",\n",
    "        \"start_station_description\": \"ved biblioteket\",\n",
    "        \"start_station_latitude\": 59.9207284,\n",
    "        \"start_station_longitude\": 10.7594857,\n",
    "        \"end_station_id\": \"437\",\n",
    "        \"end_station_name\": \"Sentrum Scene\",\n",
    "        \"end_station_description\": \"ved Arbeidersamfunnets plass\",\n",
    "        \"end_station_latitude\": 59.91546786564256,\n",
    "        \"end_station_longitude\": 10.751140873016311\n",
    "}\n",
    "```\n",
    "\n",
    "Her vises diverse informasjon om turen, slik som:\n",
    "* Nøyaktig start -og sluttidspunkt\n",
    "* Turens varighet i sekunder\n",
    "* Nøyaktig start -og sluttposisjon, gitt som geografiske koordinater\n",
    "\n",
    "Dataene ovenfor er skrevet i formatet *JSON*, og i neste seksjon skal vi lære reglene for å skrive data i dette formatet. Vi kan *lagre* *JSON*-dataene ved å opprette en fil med filendelsen `.json`, og deretter kan vi *sende* filen til andre datamaskiner, eller bruke programmering til å lese filen og *behandle* dataene. Databehandling er  kanskje ikke så interessant når vi bare har én sykkeltur, men hva om vi har flere tusen registrerte turer? \n",
    "\n",
    "På *Oslo bysykkel* sine hjemmesider kan vi gå inn på [historiske data](https://oslobysykkel.no/apne-data/historisk) og hente *JSON*-filer for hver måned, det vil si alle registrerte turer! For eksempel starter *JSON*-filen for April 2023 slik:\n",
    "\n",
    "```json\n",
    "{\n",
    "    \"started_at\": \"2023-04-01 03:23:05.537000+00:00\",\n",
    "    \"ended_at\": \"2023-04-01 03:32:55.489000+00:00\",\n",
    "    \"duration\": 589,\n",
    "    \"start_station_id\": \"424\",\n",
    "    \"start_station_name\": \"Birkelunden\",\n",
    "    \"start_station_description\": \"langs Seilduksgata\",\n",
    "    \"start_station_latitude\": 59.9256113,\n",
    "    \"start_station_longitude\": 10.760926,\n",
    "    \"end_station_id\": \"464\",\n",
    "    \"end_station_name\": \"Sukkerbiten\",\n",
    "    \"end_station_description\": \"ved gangbroen\",\n",
    "    \"end_station_latitude\": 59.905124380703484,\n",
    "    \"end_station_longitude\": 10.753763553726515\n",
    "},\n",
    "{\n",
    "    \"started_at\": \"2023-04-01 03:28:06.449000+00:00\",\n",
    "    \"ended_at\": \"2023-04-01 03:34:52.075000+00:00\",\n",
    "    \"duration\": 405,\n",
    "    \"start_station_id\": \"592\",\n",
    "    \"start_station_name\": \"Badebakken\",\n",
    "    \"start_station_description\": \"langs Maridalsveien\",\n",
    "    \"start_station_latitude\": 59.94558091179507,\n",
    "    \"start_station_longitude\": 10.760323881579982,\n",
    "    \"end_station_id\": \"397\",\n",
    "    \"end_station_name\": \"Storo Storsenter\",\n",
    "    \"end_station_description\": \"langs Vitaminveien\",\n",
    "    \"end_station_latitude\": 59.94671044754387,\n",
    "    \"end_station_longitude\": 10.773805285879131\n",
    "}\n",
    "```\n",
    "\n",
    "Her ser vi de to første sykkelturene som ble registrert denne måneden, og hele filen inneholder over 70.000 turer! I Python kan vi gjøre masse interessant med disse dataene, som for eksempel: \n",
    "\n",
    "* Finne gjennomsnittlig eller median reisetid mellom to stasjoner, basert på alle turer som har blitt gjort mellom stasjonene. \n",
    "    * Deretter kan man for eksempel sammenligne reisetidene med alternative transportmetoder. For eksempel kan forventet reisetid med offentlig transport hentes fra [*Entur*](https://entur.no/), og reisetider med bil kan hentes fra *Google Maps*. Både *Entur* og *Google* tilbyr et grensesnitt som gjør det mulig å hente slik data med programmering!\n",
    "* Finne ut hvor ofte hver stasjon brukes, enten som start -eller endestasjon. Resultatene kan deretter presenteres på forskjellige måter; for eksempel kan stasjonene markeres som sirkler på et kart, der størrelsen på sirkelen viser hvor populær stasjonen er. \n",
    "* Vi lage et 24-timersdiagram for hver stasjon, som forteller hvilke tidspunkter stasjonen brukes mest. \n",
    "* Vi kan kombinere de to punktene ovenfor, og lage en kartanimasjon som viser hvordan populæriteten til stasjonene endrer seg gjennom en dag.\n",
    "\n",
    "\n",
    "Dette er ment som eksempler på veldig interessante (men også utfordrende) måter å behandle data. I senere seksjoner skal vi smått starte på disse eksemplene, og du vil få en kunnskapsbase som gjør at du selv kan bygge videre på det. \n",
    "\n",
    "Først må vi lære hvordan data registreres i formatet *JSON*!"
   ]
  },
  {
   "cell_type": "markdown",
   "id": "84cd1ebf-2208-4fc9-8b55-dd2b4c7d6176",
   "metadata": {
    "tags": []
   },
   "source": [
    "\n",
    "## Introduksjon til *JSON*\n",
    "\n",
    "*JSON* er et tekstformat for å lagre data. Hva betyr egentlig det? Det er mange måter å registrere data som tekst. Dersom vi ønsket å registrere informasjon om oss selv, kunne vi skrevet følgende i en tekstfil:\n",
    "\n",
    "```\n",
    "Ola Nordmann\n",
    "17 år\n",
    "Oslo\n",
    "```\n",
    "\n",
    "Men dersom vi ønsker å registrere dataene i et spesifikt *tekstformat*, må vi følge *reglene* til formate. Dersom vi ønsker å bruke *JSON*, ville teksten ovenfor ikke vært gyldig, fordi vi ikke følger reglene for *JSON*. Her er en måte å gjøre det på som følger *JSON*-reglene:\n",
    "\n",
    "```json\n",
    "{\n",
    "    \"fornavn\": \"Ola\",\n",
    "    \"etternavn\": \"Nordmann\", \n",
    "    \"alder\": 17,\n",
    "    \"bosted\": \"Oslo\"\n",
    "}\n",
    "```\n",
    "\n",
    "Det mest grunnleggende elementet i *JSON* er *attributter*. Et eksempel på en attributt er `\"fornavn\": \"Ola\"`, og den består av to deler: \n",
    "\n",
    "* `\"fornavn\"` er *nøkkelen* (engelsk *key*)\n",
    "* `\"Ola\"` er *verdien* (engelsk *value*)\n",
    "\n",
    "En nøkkel **må** være en tekststreng, og alle tekststrenger **må** skrives med anførselstegn. Følgende eksempler er *ikke* gyldige attributter: \n",
    "\n",
    "* `1: \"Ola\"` er *ikke* gyldig fordi nøkkelen ikke kan være et tall\n",
    "* `fornavn: Ola` er *ikke* gyldig fordi alle tekstrenger må ha anførselstegn (både nøkler og verdier)\n",
    "\n",
    "Attributten `\"alder\": 17` er gyldig fordi vi har lov til å bruke tall som verdi. Dersom vi skriver desimaltall, må vi huske å bruke punktum som desimalskilletegn, for eksempel `\"høyde\": 180.5`. \n",
    "\n",
    "Hvordan kan vi registrere en fødselsdato, for eksempel 1. januar 2006? Bør vi bruke tall eller tekststreng? Det mest vanlige er å skrive dato på formatet *åååå-mm-dd*, og siden dette **ikke** er et tall, må vi bruke en tekststreng. Attributten kan derfor skrives som `\"fødselsdato\": \"2006-01-01\"`. Her er det svært viktig å bruke anførselstegn; selv om tekststrengen nesten bare inneholder tall, er det likevel ikke et tall! \n",
    "\n",
    "For å registrere data om oss selv, opprettet vi altså et attributt for hver verdi vi ønsket å registrere; det er lurt å bruke litt tid på å finne et passende nøkkel. Attributtene plasseres deretter i et *objekt*:\n",
    "\n",
    "```json\n",
    "{\"fornavn\": \"Ola\", \"etternavn\": \"Nordmann\", \"alder\": 17, \"bosted\": \"Oslo\"}\n",
    "```\n",
    "\n",
    "Et objekt består av en kommaseparert liste med attributter, og krøllparentesene `{}` viser hvor objektet starter og slutter. Men hva er egentlig et objekt? Det kan være hva som helst, men innholdet i objektet bør være verdier som \"hører sammen\" på en eller annen måte. Verdiene \"Ola\", \"Nordmann\", 17 og \"Oslo\" hører sammen fordi de handler om en bestemt person. Dersom vi ønsker å registrere en ny person, bør vi opprette et nytt objekt for denne personen: \n",
    "\n",
    "```json\n",
    "[\n",
    "    {\"fornavn\": \"Ola\", \"etternavn\": \"Nordmann\", \"alder\": 17, \"bosted\": \"Oslo\"},\n",
    "    {\"fornavn\": \"Kari\", \"etternavn\": \"Hansen\", \"alder\": 42, \"bosted\": \"Trondheim\"}\n",
    "]\n",
    "```\n",
    "\n",
    "Nå har vi en liste av objekter! For å opprette en liste av objekter, må vi bruke de rette parentesene `[]` for å vise hvor listen starter og slutter, og objektene må separeres med komma. \n",
    "\n",
    "Vi har lov til å plassere hva som helst i en liste, men en uskreven regel er at objektene i listen bør være av samme type. Derfor bør vi kun legge til nye personer i listen ovenfor, og ikke andre objekter. Det er også viktig at nye personer registreres på samme måte; for eksempel ville det vært dumt å legge til en ny person på følgende måte:\n",
    "\n",
    "```json\n",
    "[\n",
    "    {\"fornavn\": \"Ola\", \"etternavn\": \"Nordmann\", \"alder\": 17, \"bosted\": \"Oslo\"},\n",
    "    {\"fornavn\": \"Kari\", \"etternavn\": \"Hansen\", \"alder\": 42, \"bosted\": \"Trondheim\"},\n",
    "    {\"navn\": \"Per Hansen\", \"hjemsted\": \"Tromsø\"}\n",
    "]\n",
    "```\n",
    "\n",
    "Her er det to problemer:\n",
    "\n",
    "- Vi har skrevet hele navnet i én attributt, i stedet for å ha attributter for fornavn og etternavn.  \n",
    "- Vi har brukt nøkkelen `\"hjemsted\"` i stedet for `\"bosted\"`. \n",
    "\n",
    "Vi bør bruke de **samme nøklene** for å registrere samme type informasjon:\n",
    "\n",
    "```json\n",
    "[\n",
    "    {\"fornavn\": \"Ola\", \"etternavn\": \"Nordmann\", \"alder\": 17, \"bosted\": \"Oslo\"},\n",
    "    {\"fornavn\": \"Kari\", \"etternavn\": \"Hansen\", \"alder\": 42, \"bosted\": \"Trondheim\"},\n",
    "    {\"fornavn\": \"Per\", \"etternavn\": \"Hansen\", \"alder\": null, \"bosted\": \"Tromsø\"}\n",
    "]\n",
    "```\n",
    "\n",
    "Her har vi også brukt den spesielle verdien `null`, som forteller at alderen til den nye personen er ukjent. \n",
    "\n",
    "En *JSON*-fil består gjerne av en liste med objekter, som i eksempelet over. Men det er også lov å definere en liste av *verdier*:  \n",
    "\n",
    "```json\n",
    "[\"fotball\", \"musikk\", \"bøker\"]\n",
    "```\n",
    "\n",
    "En liste kan plasseres i et attributt: \n",
    "\n",
    "```json\n",
    "{\n",
    "    \"fornavn\": \"Ola\", \n",
    "    \"etternavn\": \"Nordmann\", \n",
    "    \"alder\": 17, \n",
    "    \"bosted\": \"Oslo\", \n",
    "    \"interesser\": [\"fotball\", \"musikk\", \"bøker\"]\n",
    "}\n",
    "```\n",
    "\n",
    "I neste seksjon skal vi se at vi har full valgfrihet til å plassere lister og objekter inni hverandre!"
   ]
  },
  {
   "cell_type": "markdown",
   "id": "51a0c169-583b-4d3f-9897-79b20a80735e",
   "metadata": {
    "jp-MarkdownHeadingCollapsed": true
   },
   "source": [
    "## Struktur av *JSON*-filer\n",
    "\n",
    "Generelt kan vi si at en *JSON*-fil er bygd opp av objekter og lister. Forskjellen mellom dem kan oppsummeres slik:\n",
    "\n",
    "* En liste er omsluttet av de rette parentesene `[]`, mens et objekt er omsluttet av krøllparentesene `{}`.\n",
    "* En liste inneholder en sekvens av verdier, mens et objekt inneholder en sekvens av attributter.\n",
    "\n",
    "Tenk deg et vi skal registrere størrelsen til en eske; dette kan være viktig i et system som håndterer pakkepost. Avhengig av hvor mye informasjon vi ønsker å registrere, kan vi enten bruke enten en liste eller et objekt: \n",
    "\n",
    "```json\n",
    "[50, 40, 30]\n",
    "{\"lengde\": 50, \"bredde\": 40, \"høyde\": 30}\n",
    "```\n",
    "\n",
    "Både listen og objektet inneholder verdier, men i et objekt må hver verdi tilknyttes et nøkkel.\n",
    "\n",
    "I dette eksempelet brukte vi bare tallverdier, men vi har lov til å bruke følgende typer verdier: \n",
    "\n",
    "* Tekststreng\n",
    "* Tall\n",
    "* Liste\n",
    "* Objekt\n",
    "* `null` (indikerer at verdien mangler)\n",
    "* Boolsk verdi (enten `true` eller `false`)\n",
    "\n",
    "Her er et objekt som inneholder alle typer verdier: \n",
    "\n",
    "```json\n",
    "{\n",
    "    \"fornavn\": \"Kari\",\n",
    "    \"etternavn\": null,\n",
    "    \"alder\": 42, \n",
    "    \"interesser\": [\"sjakk\", \"fotografering\"],\n",
    "    \"bolig\": {\n",
    "        \"type\": \"leilighet\", \n",
    "        \"størrelse\": 100, \n",
    "        \"sted\": \"Trondheim\"}, \n",
    "    \"harHusdyr\": true\n",
    "}\n",
    "```\n",
    "\n",
    "Å bruke ulike typer verdier er altså vanlig i objekter, mens i en liste bør verdiene være av samme type. Vi kan for eksempel ha en liste av tall, en liste av tekststrenger, en liste av objekter, eller en liste av lister! \n",
    "\n",
    "Følgende eksempel viser hvordan lister og objekter kan settes inni hverandre:\n",
    "\n",
    "```json\n",
    "{\n",
    "    \"personer\": [\n",
    "        {\n",
    "            \"fornavn\": \"Ola\", \n",
    "            \"etternavn\": \"Nordmann\", \n",
    "            \"alder\": 17, \n",
    "            \"bosted\": \"Oslo\",\n",
    "            \"interesser\": [\"fotball\", \"musikk\", \"bøker\"]\n",
    "        },\n",
    "        {\n",
    "            \"fornavn\": \"Kari\", \n",
    "            \"etternavn\": \"Hansen\", \n",
    "            \"alder\": 42, \n",
    "            \"bosted\": \"Trondheim\",\n",
    "            \"interesser\": [\"sjakk\", \"fotografering\"]\n",
    "        },\n",
    "        {\n",
    "            \"fornavn\": \"Per\", \n",
    "            \"etternavn\": \"Hansen\", \n",
    "            \"alder\": null, \n",
    "            \"bosted\": \"Tromsø\",\n",
    "            \"interesser\": [\"matlaging\", \"skiturer\"]\n",
    "        }\n",
    "    ]\n",
    "}\n",
    "```\n",
    "\n",
    "I dette eksempelet har vi et objekt som omslutter hele teksten, og i dette objektet finner vi ett attributt med nøkkelen `\"personer\"`. I dette attributtet finner vi en liste med *personobjekter*, det vil si at hvert objekt inneholder informasjon om en person. \n",
    "\n",
    "I *JSON* spiller mellomrom og linjeskift ingen rolle, så vi kunne skrevet all teksten på én linje! Men ved å bruke innrykk og linjeskift gjør vi det lettere å se strukturen av lister og objekter. Det kan være lurt å bruke en teksteditor som hjelper deg å formatere *JSON*-teksten på en ryddig måte. Du kan også åpne *JSON*-filer i nettleseren din: \n",
    "\n",
    "* Med en nyere versjon av Firefox vil *JSON*-filer automatisk åpnes i en ryddig og interaktiv framviser.\n",
    "* Med Google Chrome kan du bruke utvidelsen *JSON Viewer*.\n",
    "* [JSON Hero](https://jsonhero.io/) er et nettbasert alternativ som kan brukes fra hvilken som helst nettleser. \n",
    "\n",
    "**Aktivitetsforslag.**\n",
    "\n",
    "1. Lag en *JSON*-fil hvor du registrerer data fra ditt eget liv. For eksempel kan filen begynne med grunnleggende informasjon, videre kan du registrere eiendeler; hvis du for eksempel har mange bøker, kan hver bok ha informasjon som tittel, forfatter, sideantall, og så videre.  Du kan også registrere hvilke filmer, serier eller annet du har sett nylig, eller ting du har gjort. Forsøk å organisere *JSON*-filen på en oversiktlig måte ved å bruke lister og objekter. \n",
    "\n",
    "2. [Her](https://github.com/jdorfman/awesome-json-datasets/blob/master/README.md) finner du mange eksempler på *JSON*-filer med ekte data. Last ned ett eller flere filer som du synes virker interessante, og studér strukturen til *JSON*-teksten. "
   ]
  },
  {
   "cell_type": "markdown",
   "id": "12ebee35-9e63-4d74-9882-ecd46dbe85c0",
   "metadata": {
    "tags": []
   },
   "source": [
    "## *JSON* eller *CSV*? \n",
    "\n",
    "*JSON*-formatet er veldig fleksibelt og kan brukes til å lagre alle typer data. I senere seksjoner vil du for eksempel se hvordan statistisk data elegant kan lagres i *JSON*.\n",
    "\n",
    "I enkelte tilfeller kan dataene våre skrives som rader i en tabell, og da kan det være aktuelt å bruke det enklere formatet *CSV*. \n",
    "\n",
    "Tenk deg at du har følgende *JSON*-fil:\n",
    "\n",
    "```json\n",
    "[\n",
    "    {\n",
    "        \"fornavn\": \"Ola\", \n",
    "        \"etternavn\": \"Nordmann\", \n",
    "        \"alder\": 17, \n",
    "        \"bosted\": \"Oslo\"\n",
    "    },\n",
    "    {\n",
    "        \"fornavn\": \"Kari\", \n",
    "        \"etternavn\": \"Hansen\", \n",
    "        \"alder\": 42, \n",
    "        \"bosted\": \"Trondheim\"\n",
    "    },\n",
    "    {\n",
    "        \"fornavn\": \"Per\", \n",
    "        \"etternavn\": \"Hansen\", \n",
    "        \"alder\": 64, \n",
    "        \"bosted\": \"Tromsø\"\n",
    "    }\n",
    "]\n",
    "\n",
    "```\n",
    "Denne *JSON*-filen har følgende egenskaper: \n",
    "* Filen består av én liste av objekter, og ikke noe annet.\n",
    "* Hvert objekt har nøyaktig de samme datafeltene. \n",
    "* I datafeltene finner vi kun strenger og tall, ikke lister eller objekter.\n",
    "\n",
    "Når en *JSON*-fil er av denne typen, kan vi enkelt registrere dataene på tabellform: \n",
    "\n",
    "```csv\n",
    "\"fornavn\",\"etternavn\",\"alder\",\"bosted\"\n",
    "\"Ola\",\"Nordmann\",17,\"Oslo\"\n",
    "\"Kari\",\"Hansen\",42,\"Trondheim\"\n",
    "\"Per\",\"Hansen\",64,\"Tromsø\"\n",
    "```\n",
    "Dette formatet kalles *CSV* (*Comma-Separated Values*), og har kun noen få enkle regler:\n",
    "* I den første linjen skriver vi navnet på datafeltene, separert av komma\n",
    "* Deretter skriver vi hvert objekt på én linje\n",
    "* Hvert objekt skrives som en liste av verdier, separert av komma\n",
    "* Rekkefølgen av verdier svarer til rekkefølgen av datafelter\n",
    "\n",
    "Hvordan kan man vise *CSV*-filer? Siden en *CSV*-fil er en tabell, kan vi bruke et vanlig program for regneark, for eksempel *Microsoft Excel* på Windows, *Numbers* på Mac, eller [*Google Sheets*](https://docs.google.com/spreadsheets/u/0/) i nettleseren. \n",
    "\n",
    "Som oppsummering kan vi si at dersom dataene våre har egenskapene listet ovenfor, så er *CSV* en enkel og plassbesparende løsning. Men i alle andre tilfeller er *JSON* å foretrekke, siden det gir fleksibilitet til å strukturere dataene slik vi selv ønsker. "
   ]
  },
  {
   "cell_type": "markdown",
   "id": "30695e67-4b43-4ecc-b871-b75300a52219",
   "metadata": {
    "tags": []
   },
   "source": [
    "## Dictionary i Python"
   ]
  },
  {
   "cell_type": "markdown",
   "id": "428c0540-11dc-4aff-bc6d-8974bead925e",
   "metadata": {
    "tags": []
   },
   "source": [
    "Du er antagelig vant til å bruke lister i Python:"
   ]
  },
  {
   "cell_type": "code",
   "execution_count": 4,
   "id": "6dcbb996-6fbe-43a3-b858-0b111438162f",
   "metadata": {
    "tags": []
   },
   "outputs": [],
   "source": [
    "my_list = [\"Oslo\", \"Tønsberg\", \"Mandal\", \"Hammerfest\"]"
   ]
  },
  {
   "cell_type": "markdown",
   "id": "31c70aab-9b61-4725-bfde-12df715c611a",
   "metadata": {},
   "source": [
    "Hvert element i lista har en unik *indeks*: \n",
    "\n",
    "```\n",
    "0: \"Oslo\"\n",
    "1: \"Tønsberg\"\n",
    "2: \"Mandal\"\n",
    "3: \"Hammerfest\"\n",
    "```\n",
    "\n",
    "Disse indeksene gjør at vi kan finne igjen spesifikke elementer i lista: "
   ]
  },
  {
   "cell_type": "code",
   "execution_count": 5,
   "id": "af8b8295-93b8-467d-9b73-22b84201bf34",
   "metadata": {
    "tags": []
   },
   "outputs": [
    {
     "name": "stdout",
     "output_type": "stream",
     "text": [
      "Oslo\n",
      "Mandal\n"
     ]
    }
   ],
   "source": [
    "a = my_list[0]\n",
    "b = my_list[2]\n",
    "\n",
    "print(a)\n",
    "print(b)"
   ]
  },
  {
   "cell_type": "markdown",
   "id": "fd21617f-b68f-4926-a73c-a844bbedf484",
   "metadata": {},
   "source": [
    "Vi kan si at 0 er *nøkkelen* som gir oss det første elementet i lista, altså \"Oslo\". I en liste må vi bruke heltallene $0, 1, 2, 3, ...$ som nøkler. Men hva om vi ønsker å bruke andre nøkler, som for eksempel:\n",
    "\n",
    "```\n",
    "\"hovedstad\": \"Oslo\"\n",
    "\"eldst\": \"Tønsberg\"\n",
    "\"sørligst\": \"Mandal\"\n",
    "\"nordligst\": \"Hammerfest\"\n",
    "```"
   ]
  },
  {
   "cell_type": "markdown",
   "id": "5593d144-441a-4a6b-b111-6593eeb97388",
   "metadata": {},
   "source": [
    "Vi kan gjøre dette ved å bruke en *dictionary*. For å opprette en dictionary bruker vi krøllparentesene `{}`, og hver verdi må tilknyttes en nøkkel:"
   ]
  },
  {
   "cell_type": "code",
   "execution_count": 6,
   "id": "b8dc600f-ffa9-430d-b39d-a4028b45f641",
   "metadata": {
    "tags": []
   },
   "outputs": [],
   "source": [
    "my_dict = {\"hovedstad\": \"Oslo\", \"eldst\": \"Tønsberg\", \"sørligst\": \"Mandal\", \"nordligst\": \"Hammerfest\"}"
   ]
  },
  {
   "cell_type": "markdown",
   "id": "89e0468f-1bbd-40d6-8bc9-7da7043fd3b9",
   "metadata": {},
   "source": [
    "Nå kan vi hente verdier ved å bruke våre egendefinerte nøkler: "
   ]
  },
  {
   "cell_type": "code",
   "execution_count": 7,
   "id": "955a68c0-ff4d-44cc-98c3-3ab5523c5cb6",
   "metadata": {
    "tags": []
   },
   "outputs": [
    {
     "name": "stdout",
     "output_type": "stream",
     "text": [
      "Oslo\n",
      "Mandal\n"
     ]
    }
   ],
   "source": [
    "a = my_dict[\"hovedstad\"]\n",
    "b = my_dict[\"sørligst\"]\n",
    "\n",
    "print(a)\n",
    "print(b)"
   ]
  },
  {
   "cell_type": "markdown",
   "id": "53385649-0929-48ba-bf8c-a38326bf9cd7",
   "metadata": {
    "tags": []
   },
   "source": [
    "La oss se på et annet eksempel. I Python kan elementene i en liste være hva som helst, også nye lister:"
   ]
  },
  {
   "cell_type": "code",
   "execution_count": 8,
   "id": "12eeb587-fda3-447f-923d-f7235dbb65d1",
   "metadata": {},
   "outputs": [],
   "source": [
    "person = [\"Kari\", None, 42, [\"sjakk\", \"fotografering\"], [\"leilighet\", 100, \"Trondheim\"], True]"
   ]
  },
  {
   "cell_type": "markdown",
   "id": "5f238a7c-efeb-46a9-9306-93f284bfbf40",
   "metadata": {
    "tags": []
   },
   "source": [
    "Denne listen er ment å gi informasjon om en person, men det er uklart hva de ulike verdiene betyr. I tillegg må vi bruke tallindekser for å hente ut spesifikke verdier:"
   ]
  },
  {
   "cell_type": "code",
   "execution_count": 9,
   "id": "ca43de27-2141-4b80-8e77-6cdcd8a081a5",
   "metadata": {
    "scrolled": true
   },
   "outputs": [
    {
     "name": "stdout",
     "output_type": "stream",
     "text": [
      "Trondheim\n"
     ]
    }
   ],
   "source": [
    "bosted = person[4][2]\n",
    "print(bosted)"
   ]
  },
  {
   "cell_type": "markdown",
   "id": "b3e77712-a581-4152-b6df-ec823bc90284",
   "metadata": {},
   "source": [
    "Her er det mye mer hensiktsmessig å bruke en dictionary, fordi vi kan legge inn verdiene med nøkler: "
   ]
  },
  {
   "cell_type": "code",
   "execution_count": 10,
   "id": "3ec46234-4d54-4275-b23a-e9dda7e15235",
   "metadata": {},
   "outputs": [],
   "source": [
    "person = {\"fornavn\": \"Kari\", \"alder\": 42}"
   ]
  },
  {
   "cell_type": "markdown",
   "id": "1c0517c6-a54a-41c1-96c2-ae09644688eb",
   "metadata": {},
   "source": [
    "Igjen kan vi tenke på nøklene \"fornavn\" og \"alder\" som egendefinerte indekser. I en liste ville indeksene vært 0 og 1, mens i en dictionary kan vi bruke valgfrie tekststrenger. Deretter kan vi \"slå opp\" på disse strengene for å hente verdiene vi ønsker. En dictionary er altså et slags oppslagsverk, akkurat som navnet antyder.\n",
    "\n",
    "For å legge inn flere verdier i en dictionary trenger vi bare å opprette nye nøkler: "
   ]
  },
  {
   "cell_type": "code",
   "execution_count": 11,
   "id": "186e38e6-eb57-470a-bed2-36d6ba700df6",
   "metadata": {
    "scrolled": true
   },
   "outputs": [
    {
     "name": "stdout",
     "output_type": "stream",
     "text": [
      "{'fornavn': 'Kari', 'alder': 42, 'interesser': ['sjakk', 'fotografering'], 'harHusdyr': True}\n"
     ]
    }
   ],
   "source": [
    "person[\"interesser\"] = [\"sjakk\", \"fotografering\"]\n",
    "person[\"harHusdyr\"] = True\n",
    "print(person)"
   ]
  },
  {
   "cell_type": "markdown",
   "id": "2cf3fb9e-0713-4581-9e57-4bb430027454",
   "metadata": {},
   "source": [
    "Vi kan legge inn hva som helst, til og med en ny dictionary:"
   ]
  },
  {
   "cell_type": "code",
   "execution_count": 12,
   "id": "1db81e94-f893-4667-8070-8a2e93b33948",
   "metadata": {
    "scrolled": true
   },
   "outputs": [
    {
     "name": "stdout",
     "output_type": "stream",
     "text": [
      "{'fornavn': 'Kari', 'alder': 42, 'interesser': ['sjakk', 'fotografering'], 'harHusdyr': True, 'bolig': {'type': 'leilighet', 'størrelse': 100, 'sted': 'Trondheim'}}\n"
     ]
    }
   ],
   "source": [
    "person[\"bolig\"] = {\"type\": \"leilighet\", \"størrelse\": 100, \"sted\": \"Trondheim\"}\n",
    "print(person)"
   ]
  },
  {
   "cell_type": "markdown",
   "id": "3f485089-a5ad-42d7-940b-fbfb5e48bd72",
   "metadata": {},
   "source": [
    "For å hente verdien \"Trondheim\", må vi først gå inn på nøkkelen \"bolig\", og deretter på nøkkelen \"sted\":"
   ]
  },
  {
   "cell_type": "code",
   "execution_count": 13,
   "id": "266d815f-0154-4f01-bd5f-7007f15a99fe",
   "metadata": {},
   "outputs": [
    {
     "name": "stdout",
     "output_type": "stream",
     "text": [
      "Trondheim\n"
     ]
    }
   ],
   "source": [
    "print(person[\"bolig\"][\"sted\"])"
   ]
  },
  {
   "cell_type": "markdown",
   "id": "bae988b5-3d41-4d7a-a606-99b663140ed5",
   "metadata": {
    "tags": []
   },
   "source": [
    "Det er ikke noe i veien for å opprette en liste der hvert element er en dictionary:"
   ]
  },
  {
   "cell_type": "code",
   "execution_count": 14,
   "id": "c607e846-d9f6-4220-a631-91a73fe8a580",
   "metadata": {},
   "outputs": [],
   "source": [
    "person1 = {\"navn\": \"Ola Nordmann\", \"alder\": 17}\n",
    "person2 = {\"navn\": \"Kari Hansen\", \"alder\": 42}\n",
    "person3 = {\"navn\": \"Per Hansen\", \"alder\": 64}\n",
    "\n",
    "people = [person1, person2, person3]"
   ]
  },
  {
   "cell_type": "markdown",
   "id": "010f970d-11bc-4334-99dd-c485192f74a7",
   "metadata": {},
   "source": [
    "For å hente spesifikke verdier kan vi bruke en blanding av tallindekser og nøkler: "
   ]
  },
  {
   "cell_type": "code",
   "execution_count": 15,
   "id": "52f505ee-6086-44f5-a260-97654614c7e9",
   "metadata": {},
   "outputs": [
    {
     "name": "stdout",
     "output_type": "stream",
     "text": [
      "Per Hansen\n"
     ]
    }
   ],
   "source": [
    "name = people[2][\"navn\"]\n",
    "print(name)"
   ]
  },
  {
   "cell_type": "markdown",
   "id": "f7c5f04c-f994-40e4-83e9-89dd6c487ce5",
   "metadata": {},
   "source": [
    "Vi kan også gå gjennom lista med en løkke:"
   ]
  },
  {
   "cell_type": "code",
   "execution_count": 16,
   "id": "e769fdf0-abf8-4871-ad23-6d11c49f8d32",
   "metadata": {},
   "outputs": [
    {
     "name": "stdout",
     "output_type": "stream",
     "text": [
      "Ola Nordmann\n",
      "Kari Hansen\n",
      "Per Hansen\n"
     ]
    }
   ],
   "source": [
    "for person in people:\n",
    "    print(person[\"navn\"])"
   ]
  },
  {
   "cell_type": "markdown",
   "id": "bf506be4-53f8-4bc8-bc8a-402427835bd8",
   "metadata": {},
   "source": [
    "Hva hadde skjedd hvis en dictionary manglet nøkkelen \"navn\"? Da ville vi fått en feilmelding! Derfor må vi være sikre på at de samme nøklene finnes i hver dictionary. Sagt på en annen måte bør lista inneholde objekter av samme type. I vårt eksempel har vi en liste av personobjekter. \n",
    "\n",
    "For å oppsummere kan vi si at data bør legges i en dictionary når vi ønsker å slå opp spesifikke verdier. En liste er kun egnet dersom hvert element er av samme type og vi skal gjøre den samme operasjonen på hvert element (ved å bruke en løkke). \n",
    "\n",
    "Vi har også sett at en liste kan inneholde dictionary-elementer, og en dictionary kan inneholde lister!"
   ]
  },
  {
   "cell_type": "markdown",
   "id": "6abcfff7-b0e9-41f7-8d61-34048b7fa690",
   "metadata": {},
   "source": [
    "**Aktivitetsforslag.** Ta utgangspunkt i *Aktivitetsforslag 1* eller *2* fra seksjonen *Struktur av JSON-filer*. Legg alle eller deler av dataene i en dictionary (eventuelt en liste der hvert element er en dictionary). Sørg for at dataene er strukturert på samme måte, med de samme nøklene. Forsøk deretter å hente noen spesifikke verdier, og eksperimenter også med løkker dersom du har lister. "
   ]
  },
  {
   "cell_type": "markdown",
   "id": "e1d3899c-7616-4cc0-aed0-6ad7e500a7a2",
   "metadata": {
    "tags": []
   },
   "source": [
    "## Innlasting av *JSON*-filer i Python\n",
    "\n",
    "Tenk deg at du har *JSON*-filen `person.json` med følgende innhold: \n",
    "\n",
    "```json\n",
    "{\n",
    "    \"fornavn\": \"Kari\",\n",
    "    \"etternavn\": null,\n",
    "    \"alder\": 42, \n",
    "    \"interesser\": [\"sjakk\", \"fotografering\"],\n",
    "    \"bolig\": {\n",
    "        \"type\": \"leilighet\", \n",
    "        \"størrelse\": 100, \n",
    "        \"sted\": \"Trondheim\"}, \n",
    "    \"harHusdyr\": true\n",
    "}\n",
    "```\n",
    "\n",
    "Hvordan kan vi legge disse verdiene i en variabel i Python? Dersom du har lest forrige seksjon, ser du kanskje at et *JSON*-objekt i praksis er det samme som en *dictionary* i Python? Vi ønsker altså at dataene ovenfor skal legges i en dictionary, og at vi deretter kan bruke nøklene til å hente spesifikke verdier.\n",
    "\n",
    "For å importere en *JSON*-fil kan vi bruke følgende kode:"
   ]
  },
  {
   "cell_type": "code",
   "execution_count": 17,
   "id": "bc46c3ed-589c-4678-843e-301ff86b8674",
   "metadata": {
    "scrolled": true
   },
   "outputs": [
    {
     "name": "stdout",
     "output_type": "stream",
     "text": [
      "{'fornavn': 'Kari', 'etternavn': None, 'alder': 42, 'interesser': ['sjakk', 'fotografering'], 'bolig': {'type': 'leilighet', 'størrelse': 100, 'sted': 'Trondheim'}, 'harHusdyr': True}\n"
     ]
    }
   ],
   "source": [
    "import json\n",
    "my_file = open(\"person.json\")\n",
    "my_string = my_file.read()\n",
    "my_dict = json.loads(my_string)\n",
    "\n",
    "print(my_dict)"
   ]
  },
  {
   "cell_type": "markdown",
   "id": "f097be4e-f76a-4afd-b24a-224c1aade032",
   "metadata": {},
   "source": [
    "*Funksjonen `json.loads` tar en tekststreng som parameter og forsøker å tolke denne som en dictionary.*\n",
    "\n",
    "Nå har vi lagt dataene i en dictionary som har akkurat samme struktur som *JSON*-objektet. Vi kan nå gjøre endre noen spesifikke verdier: "
   ]
  },
  {
   "cell_type": "code",
   "execution_count": 18,
   "id": "d49b589e-bdad-4dd4-8f3e-8befca2007e6",
   "metadata": {
    "jp-MarkdownHeadingCollapsed": true,
    "scrolled": true,
    "tags": []
   },
   "outputs": [
    {
     "name": "stdout",
     "output_type": "stream",
     "text": [
      "{'fornavn': 'Kari', 'etternavn': None, 'alder': 52, 'interesser': ['sjakk', 'fotografering', 'fuglekikking'], 'bolig': {'type': 'leilighet', 'størrelse': 100, 'sted': 'Trondheim'}, 'harHusdyr': True}\n"
     ]
    }
   ],
   "source": [
    "old_age = my_dict[\"alder\"] \n",
    "new_age = old_age + 10\n",
    "my_dict[\"alder\"] = new_age\n",
    "my_dict[\"interesser\"].append(\"fuglekikking\")\n",
    "\n",
    "print(my_dict)"
   ]
  },
  {
   "cell_type": "markdown",
   "id": "58895131-0be8-4821-9978-e11779b42fc2",
   "metadata": {},
   "source": [
    "Husk at disse endringene kun finnes i variabelen `my_dict`, som er midlertidig lagret i datamaskinens minne når vi kjører programmet. For å lagre dataene permanent, kan vi legge dem i en *JSON*-fil. I starten av seksjonen importerte vi fra *JSON* til dictionary, og nå skal vi gå den andre veien. Vi begynner med å konvertere fra dictionary til en tekststreng:"
   ]
  },
  {
   "cell_type": "code",
   "execution_count": 19,
   "id": "45f2fe5a-bdc6-4d33-8cb5-bac5e1e0da36",
   "metadata": {},
   "outputs": [
    {
     "name": "stdout",
     "output_type": "stream",
     "text": [
      "{\n",
      "    \"fornavn\": \"Kari\",\n",
      "    \"etternavn\": null,\n",
      "    \"alder\": 52,\n",
      "    \"interesser\": [\n",
      "        \"sjakk\",\n",
      "        \"fotografering\",\n",
      "        \"fuglekikking\"\n",
      "    ],\n",
      "    \"bolig\": {\n",
      "        \"type\": \"leilighet\",\n",
      "        \"st\\u00f8rrelse\": 100,\n",
      "        \"sted\": \"Trondheim\"\n",
      "    },\n",
      "    \"harHusdyr\": true\n",
      "}\n"
     ]
    }
   ],
   "source": [
    "my_new_string = json.dumps(my_dict, indent=4)\n",
    "print(my_new_string)"
   ]
  },
  {
   "cell_type": "markdown",
   "id": "e9662a92-c7dd-425e-9761-64cc57ebfdda",
   "metadata": {},
   "source": [
    "*Merk hvordan funksjonen `json.dumps` sørger for pen formatering når vi bruker tilleggsparameteren `indent=4`. Dette er også nyttig dersom vi jobber med en stor dictionary og ønsker å få en bedre oversikt over strukturen.*\n",
    "\n",
    "Nå kan vi legge tekststrengen i en *JSON*-fil:"
   ]
  },
  {
   "cell_type": "code",
   "execution_count": 20,
   "id": "633df968-b0a6-4aab-945b-dcae63ed9270",
   "metadata": {},
   "outputs": [],
   "source": [
    "new_file = open('person_new.json', 'w+')\n",
    "new_file.write(my_new_string)\n",
    "new_file.close()"
   ]
  },
  {
   "cell_type": "markdown",
   "id": "ec149112-d4bd-4f82-8139-c616304cb5b2",
   "metadata": {},
   "source": [
    "For å oppsummere, så har vi importert filen `person.json`, gjort noen endringer, og lagret de nye dataene under filnavnet `person_new.json`. Vi kunne også ha overskrevet den gamle filen med de nye dataene. "
   ]
  },
  {
   "cell_type": "markdown",
   "id": "599299b4-4eec-404b-91d4-7a0411152f52",
   "metadata": {},
   "source": [
    "**Aktivitetsforslag.** Ta utgangspunkt i *JSON*-filen du opprettet i *Aktivitetsforslag 1* eller *2* fra seksjonen *Struktur av JSON-filer*. Last inn filene i Python, og forsøk deretter å gjøre noen endringer på dataene. Lagre til slutt de oppdaterte datene i en ny *JSON*-fil (eller overskriv den gamle filen). "
   ]
  }
 ],
 "metadata": {
  "kernelspec": {
   "display_name": "Python 3 (ipykernel)",
   "language": "python",
   "name": "python3"
  },
  "language_info": {
   "codemirror_mode": {
    "name": "ipython",
    "version": 3
   },
   "file_extension": ".py",
   "mimetype": "text/x-python",
   "name": "python",
   "nbconvert_exporter": "python",
   "pygments_lexer": "ipython3",
   "version": "3.8.10"
  }
 },
 "nbformat": 4,
 "nbformat_minor": 5
}
