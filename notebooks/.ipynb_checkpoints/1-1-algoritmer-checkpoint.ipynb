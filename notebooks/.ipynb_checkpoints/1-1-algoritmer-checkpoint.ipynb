{
 "cells": [
  {
   "cell_type": "markdown",
   "id": "bbdaa4bf-f212-4646-bf80-f58b6738ad47",
   "metadata": {},
   "source": [
    "# Introduksjon og måter å presentere algoritmer\n",
    "\n",
    "## Hva er en algoritme? \n",
    "\n",
    "Sagt på en enkel måte, er en algoritme en oppskrift på hvordan noe skal gjøres.\n",
    "\n",
    "Mer presist: En algoritme er en fullstendig og nøyaktig beskrivelse av fremgangsmåten for å løse en oppgave. Algoritmen angir de enkelte skrittene i oppgaveløsningen og rekkefølgen av dem ved ord, matematisk symbolikk og/eller skjematisk fremstilling av arbeidsgangen.\n",
    "\n",
    "En oppskrift på en matrett er et eksempel på en algoritme. Du følger oppskriften trinn for trinn til matretten er ferdig. Du benytter kunnskapen, det vil si oppskriften – algoritmen – for å løse den oppgaven du står overfor. Til slutt står du igjen med en ferdig matrett. \n",
    "\n",
    "Når du bruker offentlig transport søker du gjerne opp en reisevei på en app. Appen gir deg en oppskrift - en algoritme - på hvordan du skal komme deg til ønsket destinasjon. Du følger oppskriften trinn for trinn til du har kommet frem.\n",
    "\n",
    "Vi kan prøve å sette opp en algoritme for hvordan man vasker klær:\n",
    "\n",
    "1. Legg klærne i vaskemaskinen\n",
    "2. Sett temperatur som passer til klærne\n",
    "3. Hell i vaskepulver\n",
    "4. Start maskinen\n",
    "5. Når maskinen er ferdig, heng klærne til tørk\n",
    "6. Når klærne er tørre, legg dem i skapet\n",
    "\n",
    "Denne beskrivelsen er egentlig ikke fullstendig nok. En algoritme skal være så fullstendig og nøyaktig at en som aldri har gjort det før, og som ikke har noe kreativitet eller evne til problemløsning, skal klare det uten hjelp. For hvordan skal klærne legges i skapet? Her må vi ha betingelser. Om det er en skjorte, skal den henges opp. Om det er en T-skjorte, skal den brettes og legges sammen med de andre T-skjortene. Og så videre. \n",
    "\n",
    "Dette eksemplet viser at selv enkle hverdagsoppgaver kan være nokså kompliserte, og at vi mennesker kan veldig mange algoritmer uten at vi tenker over det. Vi utfører disse i vårt dagligliv for å oppnå oppgavene vi står ovenfor. Men når man prøver å skrive dem ned blir det fort komplisert.\n",
    "\n",
    "**Aktivitetsforslag:** Skriv ned en algoritme for noe du gjør regelmessig. Når skrevet algoritmen, svar på følgende:\n",
    "* I hvor stor grad kreves kreativitet og problemløsning for å gjennomføre stegene?\n",
    "* Kan du gjøre algoritmer mer presis og fullstendig, slik at dette ikke kreves? "
   ]
  },
  {
   "cell_type": "markdown",
   "id": "79d53da7-d768-450a-b681-6c235ebfaa1d",
   "metadata": {},
   "source": [
    "## Problemer som kan løses med algoritmer\n",
    "\n",
    "Hvilke type problemer kan løses med en algoritme? La oss tenke på følgende problem: \n",
    "\n",
    "> Reparere sykkelen\n",
    "\n",
    "Dette problemet er ikke tydelig definert. For hvilken sykkel er det snakk om? Hva er galt med sykkelen? Og når kan vi regne sykkelen som \"reparert\"? \n",
    "\n",
    "En måte å være presise på, er å definere utgangspunktet og ønsket resultat:\n",
    "\n",
    "> **Problem** *Reparere sykkel*   \n",
    "**Utgangspunkt:** En sykkel $S$ med punktert hjul.    \n",
    "**Ønsket resultat:** At sykkelen $S$ ikke har noen punkterte hjul. \n",
    "\n",
    "Her har vi definert problemet på en måte som ikke kan misforstås: \n",
    "\n",
    "* Vi har gitt navn til objektet som problemet handler om, slik at vi kan referere entydig til objektet. Det er vanlig å bruke store bokstaver som navn på objekter. \n",
    "* Istedenfor å definere hva verbet \"reparere\" betyr, har vi gitt en presis beskrivelse av hva som er ønsket sluttresultat. \n",
    "\n",
    "Merk at denne definisjonen ikke sier noe om hvordan problemet kan løses. For å løse et problem må vi lage en algoritme som kan gjøre om startsituasjonen til det ønskede resultatet.\n",
    "\n",
    "Når vi skriver en slik algoritme, må vi huske at $S$ kan være en hvilken som helst sykkel. Et steg i algoritmen kan for eksempel være \"ta av det punkterte hjulet på sykkelen $S$\". Her er det viktig at steget fungerer på alle sykler, ikke bare en spesifikk sykkel!\n",
    "\n",
    "Det kan finnes mange algoritmer for å løse et bestemt problem. For å løse problemet *Reparere sykkel* kan én algoritme være å lappe dekket, mens en annen algoritme kan være å skifte dekket. \n",
    "\n",
    "Som et annet eksempel kan vi gi en definisjon av problemet \"å vaske klær\":\n",
    "\n",
    "> **Problem** *Vaske klær*    \n",
    "**Utgangspunkt:** En mengde klær $K$ og et skap $S$.   \n",
    "**Ønsket resultat:** At klærne $K$ er rene, tørre, brettet og lagt i skapet $S$.\n",
    "\n",
    "Merk at dette problemet har flere relevante objekter, og vi har gitt navn til alle. \n",
    "\n",
    "Her burde man kanskje ha definert hva som kreves for å kalle et klesplagg \"rent\", men siden problemet skal løses av mennesker, kan vi tillate oss å ikke definere alle ord. Vi må derimot være helt presise når vi definerer problemer som skal løses av en datamaskin, som er tema for neste seksjon!\n",
    "\n",
    "**Aktivitetsforslag:** Tenk over en oppgave du gjør regelmessig, for eksempel å lage matpakke eller skifte sengetøy. Hvilket problem står du ovenfor før du tar fatt på oppgaven? Skriv en presis definisjon av problemet, altså hva som er utgangspunktet og hva som er ønsket resultat. Forsøk å gi navn til de relevante objektene i problemet. "
   ]
  },
  {
   "cell_type": "markdown",
   "id": "fa760e3f-56cb-4c79-a5ed-cb5e49fcb053",
   "metadata": {},
   "source": [
    "## Datamaskinproblemer\n",
    "\n",
    "Vi har sett på problemer som kan løses av menneskelige algoritmer, men hva kjennetegner et problem som kan løses av en dataalgoritme? Når vi definerer slike problemer, så må objektene være data! Det gir jo mening, for en datamaskin kan bare gjøre operasjoner på data, ikke fysiske objekter. Vi kan for eksempel definere et problem der objektene er tall: \n",
    "\n",
    "> **Problem** *Legge sammen to tall*    \n",
    "**Inndata:** To desimaltall $A$ og $B$.    \n",
    "**Ønsket utdata:** Desimaltallet $A+B$.\n",
    "\n",
    "For datamaskinproblemer bruker vi begrepene *inndata* og *utdata* i stedet for \"utgangspunkt\" og \"resultat\". På engelsk brukes begrepene *input* og *output*. \n",
    "\n",
    "Det høres kanskje ut som en stor begrensning at objektene må være data, men husk at data kan være veldig mye forskjellig, som vist i følgende problem:\n",
    "\n",
    "> **Problem** *Rotere bilde*    \n",
    "**Inndata:** Et bilde $B$.    \n",
    "**Ønsket utdata:** Bildet $B$ rotert 90 grader med klokka.\n",
    "\n",
    "Hvordan lagres et bilde i datamaskinens minne? Det kan du lese mer om i kapittelet *Datahåndtering*. Når vi definerer problemer og utvikler algoritmer, er vi ikke alltid interessert i hvordan et objekt lagres på datamaskinen, vi må bare vite at det **kan** lagres som data. \n",
    "\n",
    "Til slutt skal vi se på et kjent datamaskinproblem, som vi skal komme tilbake til flere ganger gjennom kapittelet. \n",
    "\n",
    "Tenk deg at du har definert en liste av tall i Python: "
   ]
  },
  {
   "cell_type": "code",
   "execution_count": 7,
   "id": "933a561f-6b63-4c46-98f7-682b510ecb79",
   "metadata": {},
   "outputs": [],
   "source": [
    "L = [3.14, 1, 4.7, 0, 2]"
   ]
  },
  {
   "cell_type": "markdown",
   "id": "564ec0eb-caab-4303-b92d-7f6a369f2f5a",
   "metadata": {},
   "source": [
    "Python har en funksjon for å finne det største elementet i lista: "
   ]
  },
  {
   "cell_type": "code",
   "execution_count": 8,
   "id": "8d468553-c5d5-48d0-a7dc-f18d005fc131",
   "metadata": {},
   "outputs": [
    {
     "name": "stdout",
     "output_type": "stream",
     "text": [
      "4.7\n"
     ]
    }
   ],
   "source": [
    "M = max(L)\n",
    "print(M)"
   ]
  },
  {
   "cell_type": "markdown",
   "id": "595dd877-36bc-457b-8617-6403399b1369",
   "metadata": {},
   "source": [
    "Funksjonen `max` er altså innebygd i Python, og løser følgende problem: \n",
    "\n",
    "> **Problem** *Finne største tall i en liste*   \n",
    "**Inndata:** En liste $L$ av desimaltall.    \n",
    "**Utdata:** Det største tallet $s$ i lista $L$."
   ]
  },
  {
   "cell_type": "markdown",
   "id": "3ee1819e-9239-4815-92ff-46892c2bf017",
   "metadata": {},
   "source": [
    "**Aktivitetsforslag:** Gå inn på et program du nylig har kodet. Finn en funksjon med minst en parameter og returverdi (dersom du ikke har en slik funksjon, forsøk å sette noe av koden din inn i en funksjon). Hvilket problem løser funksjonen? Skriv en presis definisjon av problemet. "
   ]
  },
  {
   "cell_type": "markdown",
   "id": "0ee08f04-e0ed-4ed8-9aeb-aebe80c991b1",
   "metadata": {},
   "source": [
    "## Beskrive algoritmer med ord\n",
    "\n",
    "Vi skal nå beskrive en algoritme for å finne det største tallet i en liste $L$. La oss se på et konkret eksempel, nemlig lista $[3.14, \\ 1, \\ 4.7, \\ 0, \\ 2]$. Lista har fem tall, og vi trenger en algoritme som finner det høyeste tallet.\n",
    "\n",
    "Som mennesker ser vi umiddelbart at $4.7$ er det høyeste tallet i lista, men hvordan kan vi komme fram til dette på en strukturert måte som alltid fungerer? Vi kan gå gjennom lista, fra det første til det siste tallet, mens vi underveis holder styr på det største tallet vi har funnet. Følgende tabell viser hvordan denne metoden fungerer: \n",
    "\n",
    "| Neste element i lista | 3.14 | 1    | 4.7 | 0   | 2   |\n",
    "|-----------------------|------|------|-----|-----|-----|\n",
    "| Hittil høyeste tall   | 3.14 | 3.14 | 4.7 | 4.7 | 4.7 |\n",
    "\n",
    "I hvert steg sammenligner vi det neste tallet i lista med det hittil største tallet vi har funnet. La oss presentere denne algoritmen:\n",
    "\n",
    "> **Algoritme** *Finn største tall*    \n",
    "**Inndata:** En liste $L$ av desimaltall    \n",
    "**Utdata:** Det største tallet $s$ i lista $L$\n",
    "> \n",
    "> 1. Sett $s$ til å være det første tallet i lista $L$.\n",
    "> 2. Sammenlign $s$ med det neste tallet i $L$. Dersom det neste tallet er større, sett $s$ til denne verdien. \n",
    "> 3. Dersom $L$ har flere elementer, gjenta steg 2.\n",
    "> 4. Returner $s$. \n",
    "\n",
    "Legg merke til at vi har tatt med følgende informasjon om algoritmen:\n",
    "\n",
    "* Vi har gitt algoritmen et navn, nemlig *Finn største tall*\n",
    "* Vi har definert inndata og utdata for algoritmen\n",
    "* Til slutt har vi skrevet stegene for algoritmen\n",
    "\n",
    "Dette er en oversiktlig måte å presentere en algoritme på. \n",
    "\n",
    "Legg også merke til hvordan vi bruker variabelen $s$ til å holde styr på hva som er det hittil høyeste tallet i lista. La oss bruke algoritmen på lista $[1,2,3,2,1,4,3,5]$. Følgende tabell viser hvordan $s$ oppdateres etter hvert som vi går gjennom lista: \n",
    "\n",
    "|  Neste tall i lista   | 1 | 2 | 3 | 2 | 1 | 4 | 3 | 5 |\n",
    "|-----|---|---|---|---|---|---|---|---|\n",
    "| $s$ | 1 | 2 | 3 | 3 | 3 | 4 | 4 | 5 |"
   ]
  },
  {
   "cell_type": "markdown",
   "id": "3d6f1df9-b372-44fc-9c51-b88cead9d14d",
   "metadata": {},
   "source": [
    "**Aktivitetsforslag 1:** Utfør algoritmen *Finn største tall* på listene som er generert nedenfor. Du skal altså tenke over hva som skjer ved hvert steg, og skrive ned hvordan variabelen $s$ endrer seg underveis. Hvilken verdi returneres av algoritmen?"
   ]
  },
  {
   "cell_type": "code",
   "execution_count": 9,
   "id": "2cc2b9bd-8114-4ec8-ac68-b9f51c4ea14c",
   "metadata": {},
   "outputs": [
    {
     "name": "stdout",
     "output_type": "stream",
     "text": [
      "[6, 2, 4, 0, 7, 2, 8, 7, 3, 7]\n",
      "[10, 7, 5, 8, 5, 7, 7, 6, 3, 2]\n",
      "[4, 4, 10, 1, 1, 1, 5, 0, 0, 9]\n"
     ]
    }
   ],
   "source": [
    "from random import randint\n",
    "\n",
    "for i in range(3):\n",
    "    random_list = [randint(0,10) for i in range(10)]\n",
    "    print(random_list)"
   ]
  },
  {
   "cell_type": "markdown",
   "id": "088020e3-c19c-4153-857f-203923cf2dea",
   "metadata": {},
   "source": [
    "**Aktivitetsforslag 2:** Gå inn på et program du nylig har kodet. Finn en funksjon med minst en parameter og returverdi (dersom du ikke har en slik funksjon, forsøk å sette noe av koden din inn i en funksjon). Hvilket problem løser funksjonen? Presenter algoritmen som løser problemet. Du skal altså skrive med ord hvilke steg koden din utfører."
   ]
  },
  {
   "cell_type": "markdown",
   "id": "f5716904-4998-4adb-b7eb-6513a0bdc74b",
   "metadata": {},
   "source": [
    "## Beskrive algoritmer med pseudokode\n",
    "\n",
    "En vanlig måte å presentere algoritmer på er med *pseudokode*.\n",
    "Når vi skriver pseudokode, bruker vi ikke hele setninger, men skriver kommandoer ved hjelp av variabler og nøkkelord.\n",
    "Disse kommandoene er likevel bare skrevet for å leses av mennesker, og kan ikke kjøres på en datamaskin.\n",
    "\n",
    "Som et eksempel på pseudokode ser vi på det første steget i algoritmen *Finn største tall*: \n",
    "\n",
    "> Sett $s$ til å være det første tallet i lista $L$.\n",
    "\n",
    "Med Python kunne vi programmert dette med kodelinja:\n",
    "\n",
    "```\n",
    "s = L[0]\n",
    "```\n",
    "\n",
    "Hvordan skriver vi dette steget med pseudokode? For å gi en verdi til en variabel, er det vanlig å bruke nøkkelordene **set** og **to**, på følgende måte: \n",
    "\n",
    ">**set** $s$ **to** $L[0]$   \n",
    "\n",
    "Hva er poenget med dette? Hvorfor ikke bruke hele setninger eller ferdig programkode? \n",
    "\n",
    "* Pseudokode er mer presist enn hele setninger, og kan dermed lettere oversettes til programkode.\n",
    "* Pseudokode er mer lesbart enn programkode, fordi hver linje kan leses som en setning. Videre trenger man ikke å kunne et spesifikt programmeringsspråk for å lese pseudokode. I stedet kan pseudokoden oversettes til et **valgfritt** programmeringsspråk. \n",
    "\n",
    "La oss nå se på hvordan vi kan presentere hele algoritmen *Finn største tall* med pseudokode:\n",
    "\n",
    ">**Algoritme** *Finn største tall*    \n",
    "**Inndata:** En liste $L$ med $n$ desimaltall    \n",
    "**Utdata:** Det største tallet $s$ i lista $L$\n",
    ">\n",
    ">**set**  $s$  **to**  $L[0]$   \n",
    "**set**  $i$  **to**  $1$   \n",
    "**while**  $i$  **smaller than**  $n$   \n",
    "&emsp;**if**  $L[i]$  **greater than**  $s$   \n",
    "&emsp;&emsp;**set**  $s$  **to**  $L[i]$    \n",
    "&emsp;**endif**   \n",
    "&emsp;**set**  $i$  **to**  $i + 1$   \n",
    "**endwhile**     \n",
    "**return**  $s$   \n",
    "\n",
    "Nå kan algoritmen lett oversettes til en Python-funksjon: "
   ]
  },
  {
   "cell_type": "code",
   "execution_count": 10,
   "id": "75862af5-6f2a-4642-ba91-1ac61f5e4a3f",
   "metadata": {},
   "outputs": [],
   "source": [
    "def find_largest_number(L,n):\n",
    "    s = L[0]\n",
    "    i = 1\n",
    "    while i < n:\n",
    "        if L[i] > s:\n",
    "            s = L[i]\n",
    "        i = i + 1\n",
    "    return s"
   ]
  },
  {
   "cell_type": "markdown",
   "id": "2d431e31-25e5-45e1-bbd9-69cd6c588ea2",
   "metadata": {},
   "source": [
    "Å oversette en algoritme fra pseudokode til programkode kalles å *implementere* algoritmen. Her har vi brukt Python til å implementere algoritmen *Finn største tall*. Sammenlign gjerne pseudokoden med Python-koden. Synes du pseudokoden er lettere å lese? \n",
    "\n",
    "Det finnes ingen universelle regler for hvordan pseudokode skal skrives, men vi forsøker å skrive det på en måte som kan forstås av alle som programmerer, uansett hvilket programmeringsspråk man bruker. Da er det nyttig å bruke selvforklarende nøkkelord i stedet for symboler. For eksempel brukes gjerne nøkkelord som **while**, **if** og **greater than**. \n",
    "\n",
    "Merk også at vi bruker **endwhile** for å markere hvor **while**-blokken slutter. Antagelig har du ikke brukt denne skrivemåten i noe programmeringsspråk. I  Java brukes for eksempel krøllparentesene {} for å angi hvor en blokk starter og slutter, mens i Python brukes innrykk. Men uansett om man er vant med Java eller Python, vil man kunne forstå pseudokoden!\n",
    "\n",
    "Hovedforskjellen mellom pseudokode og programkode er altså: \n",
    "\n",
    "* I pseudokode bruker vi selvforklarende nøkkelord i stedet for spesifikke symboler og regler.\n",
    "\n",
    "*Du har kanskje lagt merke til at pseudokoden i eksempelet også har innrykk? Det er en måte å gjøre pseudokoden lettere å lese, men det er ikke nødvendig! Vi bruker jo nøkkelord som **endwhile** og **endif** for å markere hvor blokkene slutter, så i prinsippet kan alle linjer være uten innrykk.*\n",
    "\n",
    "**Aktivitetsforslag:** Ta utgangspunkt i *Aktivitetsforslag 2* fra forrige seksjon. Presenter algoritmen med pseudokode. "
   ]
  },
  {
   "cell_type": "markdown",
   "id": "51bec865-2d73-4bbb-9283-543d25aec70f",
   "metadata": {},
   "source": [
    "## Beskrive algoritmer med flytdiagram\n",
    "\n",
    "Vi har allerede sett på flytdiagrammer i kapittelet *Konsepter i objektorientert programmering*. Nå skal vi se på hvordan vi kan presentere algoritmer med flytdiagram. \n",
    "\n",
    "Når vi skal tegne et flytdiagram, plasserer vi stegene i bokser, og bruker piler til å vise *flyten* mellom stegene, altså hvordan man går fra et steg til det neste. Vi kan godt velge om vi vil bruke ord, pseudokode eller programkode i boksene. \n",
    "\n",
    "Hvordan kan vi oversette algoritmen *Finn største tall* til et flytdiagram? Det er ofte lurt å ta utgangspunkt i pseudokoden, fordi vi da kan oversette hver linje til en boks. La oss begynne med de to første linjene: \n",
    "\n",
    ">**set** $s$ **to** $L[0]$   \n",
    "**set** $i$ **to** $1$\n",
    "\n",
    "Hver av disse linjene er en *operasjon* eller en *prosess*, og disse skal plasseres i **prosessbokser**. Vi tegner disse som rektangulære bokser:\n",
    "\n",
    "<img src=\"../fig2/algoritmer_flytdiagram1.svg\">\n",
    "\n",
    "I dette tilfellet har vi valgt å plassere begge operasjonene i én felles boks, men de kunne også vært i hver sin boks. \n",
    "\n",
    "Den neste linjen i pseudokoden er:\n",
    "\n",
    ">**while** $i$ **smaller than**  $n $\n",
    "\n",
    "Her må vi ha en forgrening i flytdiagrammet! Dersom $i$ er mindre enn $n$ skal vi gå inn i en løkke, og når $i$ ikke er mindre enn $n$, skal vi gå ut av løkken:\n",
    "\n",
    "<img src=\"../fig2/algoritmer_flytdiagram2.svg\">\n",
    "\n",
    "For å teste om noe er sant har vi brukt en **valgboks**, som tegnes med diamantform. Siden testen ble gjort av en **while**-setning, skal det være to piler som går ut av boksen; den ene pilen skal lede til en løkke og den andre pilen skal lede videre i diagrammet. \n",
    "\n",
    "Det neste vi må gjøre er å lage boksene som skal være inni løkka. Pseudokoden er:\n",
    "\n",
    ">&emsp;**if** $L[i]$ **greater than** $s$   \n",
    "&emsp;&emsp;**set** $s$ **to** $L[i]$    \n",
    "&emsp;**endif**   \n",
    "&emsp;**set** $i$ **to** $i + 1$\n",
    "\n",
    "I løkka skal vi altså gjøre en ny test, nemlig å sjekke om $L[i]$ er større enn $s$. Igjen tegner vi testen med en valgboks, og en pil for hvert av utfallene:\n",
    "\n",
    "<img src=\"../fig2/algoritmer_flytdiagram3.svg\">\n",
    "\n",
    "Dersom testen har positivt svar, skal vi altså oppdatere variabelen $s$, og deretter gå til det neste steget. Dersom testen har negativt svar, skal vi gå rett til det neste steget. \n",
    "\n",
    "Den siste operasjonen i løkka er å øke iterasjonsvariabelen $i$. Vi må alltid huske denne operasjonen når vi tegner løkker; som vi skal se i neste seksjon, gjelder dette også **for**-løkker.\n",
    "\n",
    "De to siste linjene i pseudokoden er:\n",
    "\n",
    ">**endwhile**     \n",
    "**return** $s$ \n",
    "\n",
    "Dette forteller hva vi skal gjøre når vi kommer ut av **while**-løkka. Den siste linja forteller egentlig hva som er utdata for algoritmen. Inndata og utdata for en algoritme settes i **databokser**, som tegnes med parallellogrammer. Databoksene er det som gjenstår for å fullføre flytdiagrammet:  \n",
    "\n",
    ">**Algoritme** *Finn største tall*\n",
    ">\n",
    "><img src=\"../fig2/algoritmer_flytdiagram.svg\">\n",
    "\n",
    "For å utføre algoritmen starter vi på boksen *Inndata* og følger pilene helt til vi kommer til boksen *Utdata*. I oppgaven nedenfor kan du selv gå gjennom flytdiagrammet med noen tilfeldig genererte lister.\n",
    "\n",
    "**Aktivitetsforslag 1:** Utfør algoritmen *Finn største tall* på listene som er generert nedenfor. Du skal utføre algoritmen ved å gå gjennom flytdiagrammet. I hver valgboks må du avgjøre gren du skal følge videre i diagrammet. Du bør skrive ned hvilken verdi variablene $i$ og $s$ har til enhver tid. "
   ]
  },
  {
   "cell_type": "code",
   "execution_count": 11,
   "id": "46c1cb6a-f3a6-4351-968b-0dc3b3b15aa9",
   "metadata": {},
   "outputs": [
    {
     "name": "stdout",
     "output_type": "stream",
     "text": [
      "[6, 9, 3, 1, 5, 8, 9, 3, 4, 6]\n",
      "[4, 4, 1, 2, 5, 5, 10, 3, 8, 5]\n",
      "[8, 7, 1, 9, 3, 5, 7, 4, 7, 3]\n"
     ]
    }
   ],
   "source": [
    "from random import randint\n",
    "\n",
    "for i in range(3):\n",
    "    random_list = [randint(0,10) for i in range(10)]\n",
    "    print(random_list)"
   ]
  },
  {
   "cell_type": "markdown",
   "id": "dde63877-6a1c-440b-a8c6-9f31e433ec96",
   "metadata": {},
   "source": [
    "**Aktivitetsforslag 2:** Ta utgangspunkt i *Aktivitetsforslag 2* fra seksjonen *Beskrive algoritmer med ord*. Presenter algoritmen med flytdiagram.  "
   ]
  },
  {
   "cell_type": "markdown",
   "id": "bc264a0b-d411-44fc-b6d9-b80a37edc174",
   "metadata": {},
   "source": [
    "## Mer om pseudokode og flytdiagram\n",
    "\n",
    "I denne seksjonen viser vi hvordan man presenterer **for**-løkker og større **if**-**else**-setninger med både pseudokode og flytdiagram.  \n",
    "\n",
    "En **for**-løkke kan skrives med pseudokode på følgende måte: \n",
    "\n",
    "> **for** $i$ **from** $1$ **to** $10$   \n",
    "&emsp; **display** $i$   \n",
    "\n",
    "For å tegne et flytdiagram for denne løkken kan vi først omforme det til en **while**-løkke! Prøv gjerne å gjøre dette selv! \n",
    "\n",
    "Iterasjonsvariabelen $i$ skal starte på $1$ og gå til $10$. Vi kan oppnå dette på følgende måte:  \n",
    "\n",
    ">**set** $i$ **to** $1$    \n",
    "**while** $i$ **smaller than or equal to**  $10$  \n",
    "&emsp;**display** $i$    \n",
    "&emsp;**set** $i$ **to** $i + 1$  "
   ]
  },
  {
   "cell_type": "markdown",
   "id": "6288cf81-4043-4b22-a29b-f1f728f7c45d",
   "metadata": {},
   "source": [
    "Nå kan vi tegne løkken på samme måte som tidligere: \n",
    "\n",
    "<img src=\"../fig2/algoritmer_flytdiagram_for.svg\">\n",
    "\n",
    "I dette flytdiagrammet har vi ikke inndata eller utdata, så vi bruker en **startboks** og en **stoppboks**. Disse tegnes som runde eller ovale bokser. \n",
    "\n",
    "Sammenlign gjerne løkken med den vi hadde i forrige seksjon. Legg spesielt merke til at vi alltid oppdaterer iterasjonsvariabelen på slutten av løkken. Ellers ville vi endt opp med en uendelig løkke! \n",
    "\n",
    "Nå ser vi på hvordan man kan skrive større **if**-**else**-setninger med pseudokode. Vi tar utgangspunkt i et eksempel skrevet i Python:"
   ]
  },
  {
   "cell_type": "code",
   "execution_count": 12,
   "id": "d23a9858-3648-47ef-9361-2b8377f2afd2",
   "metadata": {},
   "outputs": [],
   "source": [
    "def livsfase(alder): \n",
    "    if alder <= 12:\n",
    "        return \"barn\"\n",
    "    elif alder > 12 and alder < 18:\n",
    "        return \"ungdom\"\n",
    "    else:\n",
    "        return \"voksen\""
   ]
  },
  {
   "cell_type": "markdown",
   "id": "c1f18b7b-6bd1-4ae7-867b-76f8f0d7cefc",
   "metadata": {},
   "source": [
    "Vi kan presentere algoritmen med pseudokode på følgende måte: \n",
    "\n",
    ">**Algoritme** *Livsfase*    \n",
    "**Inndata:** Et positivt heltall $a$   \n",
    "**Utdata:** Livsfasen $l$ til en person med alder $a$\n",
    ">\n",
    ">**if** $a$ **lesser than or equal to** $12$     \n",
    "&emsp;**set** $l$ **to** *barn*   \n",
    "**else if** $a$ **greater than** $12$ **and lesser than**   $18$   \n",
    "&emsp;**set** $l$ **to** *ungdom*   \n",
    "**else**  \n",
    "&emsp;**set** $l$ **to** *voksen*   \n",
    "**endif**         \n",
    "**return** $l$  "
   ]
  },
  {
   "cell_type": "markdown",
   "id": "4053813b-73b8-4d46-b949-b9779ffd44a5",
   "metadata": {},
   "source": [
    "Til slutt kan vi presentere algoritmen med et flytdiagram:\n",
    "\n",
    ">**Algoritme** *Livsfase*\n",
    ">\n",
    "><img src=\"../fig2/algoritmer_flytdiagram_if.svg\">"
   ]
  },
  {
   "cell_type": "markdown",
   "id": "5ac303af-6cf2-4960-b82c-51f053a23273",
   "metadata": {},
   "source": [
    "Merk at hvis den første testen gir positivt svar, hopper vi over de neste testene. Det er kun når en test gir negativt svar at vi fortsetter til den neste testen. Ved å følge samme mønster som over, kan du tegne vilkårlig store **if**-**else**-setninger. \n",
    "\n",
    "**Aktivitetsforslag:** Gå inn på et program du nylig har skrevet og velg noen kodelinjer som inneholder løkker og betingelser. Omform koden til både pseudokode og flytdiagram.  "
   ]
  }
 ],
 "metadata": {
  "kernelspec": {
   "display_name": "Python 3 (ipykernel)",
   "language": "python",
   "name": "python3"
  },
  "language_info": {
   "codemirror_mode": {
    "name": "ipython",
    "version": 3
   },
   "file_extension": ".py",
   "mimetype": "text/x-python",
   "name": "python",
   "nbconvert_exporter": "python",
   "pygments_lexer": "ipython3",
   "version": "3.8.10"
  }
 },
 "nbformat": 4,
 "nbformat_minor": 5
}
