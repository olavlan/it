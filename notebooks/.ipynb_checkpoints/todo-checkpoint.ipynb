{
 "cells": [
  {
   "cell_type": "markdown",
   "id": "cc44ea1a-e264-42c5-b876-35d934edb9f0",
   "metadata": {},
   "source": [
    "# Todo \n"
   ]
  },
  {
   "cell_type": "markdown",
   "id": "a7083bee-a87e-4c36-8dfa-fb25184064c4",
   "metadata": {},
   "source": [
    "Databehandling\n",
    "* 4.2a. Fullføre geografiske områder\n",
    "* 4.2b. Flytte tekst til 4-2bK\n",
    "* 4.2b. Skrive ferdig tekst \n",
    "* 4.2a. Skrive ferdig statistiske utregninger. \n",
    "* 4.2a. Skrive ferdig håndtering av dato og tid\n",
    "    * Regne ut gjennomsnittlig/median varighet for morgenturer ukedag\n",
    "    * Fordeling på time, tid på dagen\n",
    "    * Oppgaver\n",
    "        * Gjennomsnittlig/median varighet helgesturer\n",
    "        * Fordeling på dag, del av uken\n",
    "* 4.2a. Skrive ferdig håndtering av geografisk data\n",
    "     * Oppgaver\n",
    "       * Gjennomsnittlig/median avstand totalt, samt for grupper definert i forrige seksjon\n",
    "       * Sekund delt på avstand: Liste de ti raskeste turene (lavest forhold)\n",
    "           * Lagre først tid delt på avstand i ny kolonne\n",
    "           * minst 1 km  \n",
    "           * minst 3 km\n",
    "           * minst 5 km\n",
    "        \n",
    "Gjennomlesning og organisering av 4.2\n",
    "\n",
    "Skrive idéer for følgende kapitler, men ikke skrive dem ferdige: \n",
    "* Innlasting av JSON-stat i pandas\n",
    "* Behandling og visualisering av SSB-data\n",
    "* Kartvisualisering med fylker og kommuner\n"
   ]
  },
  {
   "cell_type": "code",
   "execution_count": null,
   "id": "9508bad7-09ec-46f0-8812-c0b983df44f0",
   "metadata": {},
   "outputs": [],
   "source": []
  }
 ],
 "metadata": {
  "kernelspec": {
   "display_name": "Python 3 (ipykernel)",
   "language": "python",
   "name": "python3"
  },
  "language_info": {
   "codemirror_mode": {
    "name": "ipython",
    "version": 3
   },
   "file_extension": ".py",
   "mimetype": "text/x-python",
   "name": "python",
   "nbconvert_exporter": "python",
   "pygments_lexer": "ipython3",
   "version": "3.10.12"
  }
 },
 "nbformat": 4,
 "nbformat_minor": 5
}
