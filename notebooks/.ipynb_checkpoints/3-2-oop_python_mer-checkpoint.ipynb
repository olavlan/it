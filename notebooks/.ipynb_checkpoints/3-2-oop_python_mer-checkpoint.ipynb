{
 "cells": [
  {
   "cell_type": "markdown",
   "id": "8d0c73ba-a737-426e-9acb-add7f008ff55",
   "metadata": {
    "editable": true,
    "slideshow": {
     "slide_type": ""
    },
    "tags": []
   },
   "source": [
    "# Mer om klasser og objekter i Python\n",
    "\n",
    "## Delmetoder\n",
    "\n",
    "I boksystemet vårt ønsket vi å kunne vise en rangert liste av bøker. Følgende klassediagram viser metodene vi trenger for å oppnå dette:\n",
    "\n",
    "<img src=\"../fig/python_book_public_private.svg\" width=\"\">\n",
    "\n",
    "Følgende figur viser hvordan noen metoder brukes som byggeblokker til andre metoder:\n",
    "\n",
    "<img src=\"../fig/python_interface.svg\" width=\"1000\">\n",
    "\n",
    "Hvor skal vi starte? Vi kan se at nesten alle metodene er avhengig av noen andre metoder for å fungere. Nettopp derfor er det lurt å lage figuren ovenfor, slik at vi enkelt ser hvor vi skal starte. De første byggeblokkene som vi trenger er følgende metoder: \n",
    "\n",
    "- `get_reviews_from_goodreads()`\n",
    "- `get_reviews_from_librarything()`\n",
    "- `get_online_critics()`\n",
    "\n",
    "Det er ofte i de første metodene at mesteparten av kodearbeidet må gjøres. Derfor er det lurt å starte med å la disse metodene returnere noen enkle testverdier. I følgende kode oppretter vi derfor noen fiktive anmeldelser, og en funksjon som returnerer et tilfeldig utvalg av disse: "
   ]
  },
  {
   "cell_type": "code",
   "execution_count": 77,
   "id": "2e86a73c-5c54-4644-aedd-05e8d842e9e9",
   "metadata": {},
   "outputs": [
    {
     "name": "stdout",
     "output_type": "stream",
     "text": [
      "[['Boken var for lang', 5], ['Handlingen var veldig spennende', 8], ['Slutten ødela boken', 2]]\n"
     ]
    }
   ],
   "source": [
    "from random import sample\n",
    "\n",
    "r1 = [\"Veldig interessant bok\", 9]\n",
    "r2 = [\"Boken var for lang\", 5]\n",
    "r3 = [\"Slutten ødela boken\", 2]\n",
    "r4 = [\"En bok som får deg til å tenke\", 7]\n",
    "r5 = [\"Handlingen var veldig spennende\", 8]\n",
    "\n",
    "all_reviews = [r1, r2, r3, r4, r5]\n",
    "\n",
    "def get_random_reviews(n):\n",
    "\treturn sample(all_reviews, n)\n",
    "\n",
    "print(get_random_reviews(3))"
   ]
  },
  {
   "cell_type": "markdown",
   "id": "4d92e003-6cad-4438-b534-6fca76368a6b",
   "metadata": {},
   "source": [
    "Funksjonen `get_random_reviews` henter et altså tilfeldig utvalg av de fem testanmeldelsene vi har skrevet. \n",
    "\n",
    "Nå kan vi opprette de første metodene, som skal være i klassen `Book`:"
   ]
  },
  {
   "cell_type": "code",
   "execution_count": 78,
   "id": "3fbed3c0-2c97-4c11-b918-3faffdc536c2",
   "metadata": {},
   "outputs": [],
   "source": [
    " class Book:\n",
    "    def __init__(self, title, author, number_of_pages):\n",
    "        self.title = title\n",
    "        self.author = author\n",
    "        self.number_of_pages = number_of_pages\n",
    "        self.borrower_reviews = get_random_reviews(3)\n",
    "\n",
    "    def get_reviews_from_goodreads(self):\n",
    "    \treviews = get_random_reviews(3)\n",
    "    \treturn reviews\n",
    "\n",
    "    def get_reviews_from_librarything(self):\n",
    "    \treviews = get_random_reviews(3)\n",
    "    \treturn reviews\n",
    "\n",
    "    def get_online_critics(self):\n",
    "    \tcritics = get_random_reviews(3)\n",
    "    \treturn critics "
   ]
  },
  {
   "cell_type": "markdown",
   "id": "28d313fa-d137-4264-8d67-000bb72140f8",
   "metadata": {},
   "source": [
    "Nå kan vi late som vi har anmeldelser fra flere forskjellige kilder: \n",
    "* Datafeltet `borrower_reviews`, altså anmeldelser som vi har registrert fra våre egne brukere. Vi har sørget for at konstruktøren fyller datafeltet med testanmeldelser.\n",
    "* Tre metoder for å hente anmeldelser på nett. Alle disse returner testanmeldelser. \n",
    "\n",
    "Det neste vi ønsker er en metode som samler alle brukeranmeldelser på nett. Siden vi allerede har en metode for hver av nettsidene vi ønsker å hente brukeranmeldelser fra, blir dette enkelt: "
   ]
  },
  {
   "cell_type": "code",
   "execution_count": 79,
   "id": "578503f7-cc6d-4745-b35e-87cde14aa1d8",
   "metadata": {},
   "outputs": [],
   "source": [
    "def get_online_user_reviews(self):\n",
    "\tfrom_goodreads = self.get_reviews_from_goodreads()\n",
    "\tfrom_librarything = self.get_reviews_from_librarything()\n",
    "\treviews = from_librarything + from_goodreads\n",
    "\treturn reviews \n",
    "\n",
    "Book.get_online_user_reviews = get_online_user_reviews"
   ]
  },
  {
   "cell_type": "markdown",
   "id": "f51236f8-c5de-4657-8de4-d27ba3b35250",
   "metadata": {},
   "source": [
    "*I siste linje bruker vi en teknikk i Python for å legge til en metode i en eksisterende klasse. Vi kan bruke følgende kodelinje for å gjøre dette:*\n",
    "```py\n",
    "MyClass.my_method = my_function\n",
    "```\n",
    "* *`MyClass` navnet på klassen*\n",
    "* *`my_function` er navnet på funksjonen som vi har definert utenfor klassen*\n",
    "* *`my_method` er navnet vi ønsker at funksjonen skal ha inni klassen*\n",
    "\n",
    "Det neste vi ønsker oss er en funksjon som kan regne ut gjennomsnittet til en liste med anmeldelser:"
   ]
  },
  {
   "cell_type": "code",
   "execution_count": 80,
   "id": "a2d35dca-1dee-4ff3-8827-0d2ecf8ebd92",
   "metadata": {},
   "outputs": [
    {
     "name": "stdout",
     "output_type": "stream",
     "text": [
      "[['Handlingen var veldig spennende', 8], ['Boken var for lang', 5], ['En bok som får deg til å tenke', 7]]\n",
      "6.666666666666667\n"
     ]
    }
   ],
   "source": [
    "def calculate_average(reviews):\n",
    "\ttotal_score = 0\n",
    "\tn = len(reviews)\n",
    "\tfor review in reviews:\n",
    "\t\tscore = review[1]\n",
    "\t\ttotal_score += score\n",
    "\taverage = total_score/n\n",
    "\treturn average\n",
    "\n",
    "reviews = get_random_reviews(3)\n",
    "print(reviews)\n",
    "print(calculate_average(reviews))"
   ]
  },
  {
   "cell_type": "markdown",
   "id": "e1c19c6b-4f73-4bb0-ae85-464d83a7fe73",
   "metadata": {},
   "source": [
    "Les utskriften for å se at metoden regner ut riktig gjennomsnitt, og forsøk gjerne å forstå hvordan utregningen gjøres.\n",
    "\n",
    "*I planleggingen av programmet plasserte vi denne funksjonen i klassen `Book`. Men her ser vi at funksjonen egentlig bare gjør en operasjon på en liste med tall, og vi har derfor valgt å plassere den utenfor klasseblokken.*\n",
    "\n",
    "\n",
    "Nå er vi klare til å kode metoden som regner ut gjennomsnittsvurderingen til en bok! Funksjonen skal:\n",
    "\n",
    "1. Hente anmeldelser fra tre forskjellige kilder; lånetakere, nettbrukere og kritikere.\n",
    "2. Regne ut gjennomsnittsvurderingen for hver av disse kildene.\n",
    "3. Regne ut et totalt gjennomsnitt."
   ]
  },
  {
   "cell_type": "code",
   "execution_count": 81,
   "id": "9d0c23b7-67da-4d8b-a0b9-4efcf5c2c48e",
   "metadata": {},
   "outputs": [],
   "source": [
    "def calculate_average_score(self): \n",
    "\tborrowers = self.borrower_reviews\n",
    "\tonline_users = self.get_online_user_reviews()\n",
    "\tcritics = self.get_online_critics()\n",
    "\n",
    "\tscore_borrowers = calculate_average(borrowers)\n",
    "\tscore_online_users = calculate_average(online_users)\n",
    "\tscore_critics = calculate_average(critics)\n",
    "\n",
    "\ttotal_score = (score_borrowers + score_online_users + score_critics)/3\n",
    "\n",
    "\treturn total_score\n",
    "\n",
    "Book.calculate_average_score = calculate_average_score"
   ]
  },
  {
   "cell_type": "markdown",
   "id": "c8591873-1a4c-44b6-8b08-5958f80ebbd8",
   "metadata": {},
   "source": [
    "Legg merke til hvordan de tre stegene blir til tre blokker med kode. I de to første blokkene gjøres alt arbeidet av delmetodene, mens det er det siste steget som er metodens \"eget arbeid\". I denne linjen kan vi endre hvor mye de ulike kildene skal vektes. Hvis vi for eksempel ønsker at vurderinger fra nettbrukere skal telle 50%, mens de andre kildene skal telle 25% hver, kan vi endre til følgende:\n",
    "\n",
    "```py\n",
    "total_score = 0.25*score_borrowers + 0.5*score_online_users + 0.25*score_critics\n",
    "```"
   ]
  },
  {
   "cell_type": "markdown",
   "id": "be0486df-853f-4b51-8fac-9073ab2b9398",
   "metadata": {},
   "source": [
    "## Kommunikasjon mellom objekter\n",
    "\n",
    "I forrige seksjon programmerte vi høyre side av følgende diagram: \n",
    "\n",
    "<img src=\"../fig/python_interface.svg\" width=\"1000\">\n",
    "\n",
    "På venstre side har vi rangeringsmetoden, som ligger i klassen `BookCollection`. Denne metoden skal fungere ved å be alle bokobjekter om å regne ut sin gjennomsnittlige poengsum. Da må metoden `calculate_average_score()` være en offentlig metode. \n",
    "\n",
    "Hvordan forteller vi om en metode skal være offentlig eller privat? Det kommer an på hvilket programmeringsspråk vi bruker! I Java brukes for eksempel nøkkelordene `public` og `private`, og dersom en metode er definert med `private`, er det kun mulig å bruke den innad i klassen. Dersom vi prøver å bruke en privat metode utenfor klassen, får vi en feilmelding!\n",
    "\n",
    "I Python er det ikke mulig å tvinge en metode til å være privat! Hva kan vi gjøre i stedet? Tenk deg for eksempel at noen har lyst til å ta i bruk bokklassen vår i sitt eget program. Hvordan kan vi fortelle denne personen at det kun er `calculate_average_score()` som er offentlig, og at de andre metodene ikke bør brukes? \n",
    "\n",
    "I Python har man blitt enige om en spesiell skrivemåte for å skille mellom offentlige og private metoder:\n",
    "\n",
    "```python\n",
    "class Book: \n",
    "    def _get_reviews_from_goodreads(self):\n",
    "    \treturn\n",
    "\n",
    "    def _get_reviews_from_librarything(self):\n",
    "    \treturn\n",
    "\n",
    "    def _get_online_critics(self):\n",
    "    \treturn\n",
    "\n",
    "    def calculate_average_score(self):\n",
    "        return\n",
    "```"
   ]
  },
  {
   "cell_type": "markdown",
   "id": "72bd6737-37ef-421a-acab-a8046123ed1f",
   "metadata": {},
   "source": [
    "*For å forenkle presentasjonen har vi definert klassen på nytt, uten å ta med verken konstruktør eller kode i metodene.*\n",
    "\n",
    "Ser du hva som er forskjellen på de private metodene og den offentlige metoden? \n",
    "\n",
    "For å markere at en metode er privat, setter vi altså en understrek i starten av navnet! Dette forhindrer ikke noen fra å bruke metoden, men det gir en klar beskjed om at metoden kan endre seg eller slutte og fungere, og at det derfor ikke er trygt å bruke den i sitt eget program!\n",
    "\n",
    "Nå er vi klare til å definere klassen `BookCollection`, som skal inneholde rangeringsmetoden:"
   ]
  },
  {
   "cell_type": "code",
   "execution_count": 82,
   "id": "69f9fb81-c4bd-4656-b4b6-2753515d633f",
   "metadata": {},
   "outputs": [],
   "source": [
    "class BookCollection: \n",
    "    def __init__(self, books):\n",
    "        self.books = books\n",
    "\n",
    "    def show_ranked_list(self):\n",
    "        \n",
    "        scores_and_titles = []\n",
    "        for b in self.books: \n",
    "            score_and_title = [b.calculate_average_score(), b.title]\n",
    "            scores_and_titles.append(score_and_title)\n",
    "        \n",
    "        scores_and_titles = sorted(scores_and_titles, reverse=True)\n",
    "\n",
    "        for s, t in scores_and_titles:\n",
    "            print(round(s, 1), t)"
   ]
  },
  {
   "cell_type": "markdown",
   "id": "fdf446ae-3a4b-4c5a-85a9-1ef9d06e447e",
   "metadata": {},
   "source": [
    "Rangeringsmetoden har fire blokker med kode: \n",
    "\n",
    "**Blokk 1.** I den første blokken henter vi poengsummen og tittelen til hvert bokobjekt, og legger disse i listen `scores_and_titles`. Etter denne blokken kan vi for eksempel ende opp med følgende liste:\n",
    "\n",
    "```\n",
    "[ [7.8, \"Når villdyret våkner\"],  [9.2, \"Sofies verden\"],  [8.9, \"Beatles\"] ]\n",
    "```\n",
    "Merk at hvert element i listen er en ny liste, som inneholder poengsummen og tittelen til en bok. \n",
    "\n",
    "**Blokk 2.** I den andre blokken sorterer vi denne listen. Hvis vi fortsetter med det samme eksempelet får vi følgende liste:\n",
    "\n",
    "```\n",
    "[ [9.2, \"Sofies verden\"],  [8.9, \"Beatles\"],  [7.8, \"Når villdyret våkner\"] ]\n",
    "```\n",
    "*Merk at vi bruker en sorteringsfunksjon som er innebygd i Python. Det er viktig at poengsummen kommer først i de indre listene, siden det er disse elementene som brukes i sorteringen. Legg også merke til at vi reverserer listen, fordi sorteringsfunksjonen som standard sorterer i stigende rekkefølge.*\n",
    "\n",
    "3. I den siste linjen printer vi den sorterte listen. For eksempel vil listen ovenfor bli printet på følgende måte:\n",
    "\n",
    "```\n",
    "9.2 Sofies verden\n",
    "8.9 Beatles\n",
    "7.8 Når villdyret våkner\n",
    "```\n",
    "\n",
    "Hvordan kan vi teste at metoden faktisk fungerer? La oss opprette noen bokobjekter som vi kan teste med:"
   ]
  },
  {
   "cell_type": "code",
   "execution_count": 83,
   "id": "ba3d477f-b99f-404e-b0b9-c2f90adee24f",
   "metadata": {},
   "outputs": [],
   "source": [
    "b1 = Book(\"Sofies verden\", \"Jostein Gaarder\", 512)\n",
    "b2 = Book(\"Beatles\", \"Lars S. Christensen\", 732)\n",
    "b3 = Book(\"Når villdyret våkner\", \"Jack London\", 86)\n",
    "my_books = [b1, b2, b3]"
   ]
  },
  {
   "cell_type": "markdown",
   "id": "d0e107d2-afbc-4386-8414-1514c93d94e5",
   "metadata": {},
   "source": [
    "Videre kan vi opprette et `BookCollection`-objekt og legge bøkene i samlingen: "
   ]
  },
  {
   "cell_type": "code",
   "execution_count": 84,
   "id": "90a24a27-47b7-4bae-bf85-644b90a1059d",
   "metadata": {},
   "outputs": [],
   "source": [
    "my_collection = BookCollection(my_books)"
   ]
  },
  {
   "cell_type": "markdown",
   "id": "126a5f71-f730-4db8-85ea-bcf1cef88833",
   "metadata": {},
   "source": [
    "Nå kan vi teste rangeringsmetoden:"
   ]
  },
  {
   "cell_type": "code",
   "execution_count": 85,
   "id": "3ad32045-a83e-426c-a314-12ebb1a85c2b",
   "metadata": {
    "scrolled": true
   },
   "outputs": [
    {
     "name": "stdout",
     "output_type": "stream",
     "text": [
      "6.6 Beatles\n",
      "6.4 Når villdyret våkner\n",
      "5.5 Sofies verden\n"
     ]
    }
   ],
   "source": [
    "my_collection.show_ranked_list()"
   ]
  },
  {
   "cell_type": "markdown",
   "id": "1fca277c-64a3-47c4-88b1-ae4b5d4769af",
   "metadata": {},
   "source": [
    "*Husk at bokobjektene bruker et tilfeldig utvalg av testanmeldelsene som vi opprettet i forrige seksjon!*\n",
    "\n",
    "Som oppsummering kan vi si at boksamlingobjektet ber hvert bokobjekt om å finne sin poengsum, og deretter brukes disse poengene til å lage en rangert liste. Kommunikasjonen mellom objektene skjer gjennom den offentlige metoden `calculate_average_score`. "
   ]
  },
  {
   "cell_type": "markdown",
   "id": "5fac661e-1e88-4098-b9da-1a01aebfd640",
   "metadata": {},
   "source": [
    "## Set-metoder\n",
    "\n",
    "Tidligere har vi nevnt at alle datafelter bør være private. For hva er konsekvensene hvis man fritt kan endre på datafelter utenfor en klasse? Se på følgende eksempel: "
   ]
  },
  {
   "cell_type": "code",
   "execution_count": 86,
   "id": "0da69dd1-ba5c-49af-8911-94ea2408060f",
   "metadata": {
    "scrolled": true
   },
   "outputs": [
    {
     "name": "stdout",
     "output_type": "stream",
     "text": [
      "[['En bok som får deg til å tenke', 7], ['Veldig interessant bok', 9], ['Slutten ødela boken', 2], ['Fantastisk bok!', 'Terningkast 6']]\n"
     ]
    }
   ],
   "source": [
    "b4 = Book(\"Faen ta skjebnen\", \"John Green\", 338)\n",
    "my_review = [\"Fantastisk bok!\", \"Terningkast 6\"]\n",
    "b4.borrower_reviews.append(my_review)\n",
    "print(b4.borrower_reviews)"
   ]
  },
  {
   "cell_type": "markdown",
   "id": "4ec03f4c-a948-4a14-bdc9-97ada7d208cc",
   "metadata": {},
   "source": [
    "Her har vi lagt til en anmeldelse som ikke følger det riktige formatet! Vurderingen skal nemlig skrives som et tall mellom 0 og 10. Nå får vi en feilmelding dersom vi tester rangeringsmetoden fra forrige seksjon:"
   ]
  },
  {
   "cell_type": "code",
   "execution_count": 109,
   "id": "abd50e4a-1230-41dc-b100-48b860d092c2",
   "metadata": {},
   "outputs": [
    {
     "ename": "TypeError",
     "evalue": "unsupported operand type(s) for +=: 'int' and 'str'",
     "output_type": "error",
     "traceback": [
      "\u001b[0;31m---------------------------------------------------------------------------\u001b[0m",
      "\u001b[0;31mTypeError\u001b[0m                                 Traceback (most recent call last)",
      "Cell \u001b[0;32mIn[109], line 3\u001b[0m\n\u001b[1;32m      1\u001b[0m my_books \u001b[38;5;241m=\u001b[39m [b1, b2, b3, b4]\n\u001b[1;32m      2\u001b[0m my_collection \u001b[38;5;241m=\u001b[39m BookCollection(my_books)\n\u001b[0;32m----> 3\u001b[0m \u001b[43mmy_collection\u001b[49m\u001b[38;5;241;43m.\u001b[39;49m\u001b[43mshow_ranked_list\u001b[49m\u001b[43m(\u001b[49m\u001b[43m)\u001b[49m\n",
      "Cell \u001b[0;32mIn[82], line 9\u001b[0m, in \u001b[0;36mBookCollection.show_ranked_list\u001b[0;34m(self)\u001b[0m\n\u001b[1;32m      7\u001b[0m scores_and_titles \u001b[38;5;241m=\u001b[39m []\n\u001b[1;32m      8\u001b[0m \u001b[38;5;28;01mfor\u001b[39;00m b \u001b[38;5;129;01min\u001b[39;00m \u001b[38;5;28mself\u001b[39m\u001b[38;5;241m.\u001b[39mbooks: \n\u001b[0;32m----> 9\u001b[0m     score_and_title \u001b[38;5;241m=\u001b[39m [\u001b[43mb\u001b[49m\u001b[38;5;241;43m.\u001b[39;49m\u001b[43mcalculate_average_score\u001b[49m\u001b[43m(\u001b[49m\u001b[43m)\u001b[49m, b\u001b[38;5;241m.\u001b[39mtitle]\n\u001b[1;32m     10\u001b[0m     scores_and_titles\u001b[38;5;241m.\u001b[39mappend(score_and_title)\n\u001b[1;32m     12\u001b[0m scores_and_titles \u001b[38;5;241m=\u001b[39m \u001b[38;5;28msorted\u001b[39m(scores_and_titles, reverse\u001b[38;5;241m=\u001b[39m\u001b[38;5;28;01mTrue\u001b[39;00m)\n",
      "Cell \u001b[0;32mIn[81], line 6\u001b[0m, in \u001b[0;36mcalculate_average_score\u001b[0;34m(self)\u001b[0m\n\u001b[1;32m      3\u001b[0m online_users \u001b[38;5;241m=\u001b[39m \u001b[38;5;28mself\u001b[39m\u001b[38;5;241m.\u001b[39mget_online_user_reviews()\n\u001b[1;32m      4\u001b[0m critics \u001b[38;5;241m=\u001b[39m \u001b[38;5;28mself\u001b[39m\u001b[38;5;241m.\u001b[39mget_online_critics()\n\u001b[0;32m----> 6\u001b[0m score_borrowers \u001b[38;5;241m=\u001b[39m \u001b[43mcalculate_average\u001b[49m\u001b[43m(\u001b[49m\u001b[43mborrowers\u001b[49m\u001b[43m)\u001b[49m\n\u001b[1;32m      7\u001b[0m score_online_users \u001b[38;5;241m=\u001b[39m calculate_average(online_users)\n\u001b[1;32m      8\u001b[0m score_critics \u001b[38;5;241m=\u001b[39m calculate_average(critics)\n",
      "Cell \u001b[0;32mIn[80], line 6\u001b[0m, in \u001b[0;36mcalculate_average\u001b[0;34m(reviews)\u001b[0m\n\u001b[1;32m      4\u001b[0m \u001b[38;5;28;01mfor\u001b[39;00m review \u001b[38;5;129;01min\u001b[39;00m reviews:\n\u001b[1;32m      5\u001b[0m \tscore \u001b[38;5;241m=\u001b[39m review[\u001b[38;5;241m1\u001b[39m]\n\u001b[0;32m----> 6\u001b[0m \ttotal_score \u001b[38;5;241m+\u001b[39m\u001b[38;5;241m=\u001b[39m score\n\u001b[1;32m      7\u001b[0m average \u001b[38;5;241m=\u001b[39m total_score\u001b[38;5;241m/\u001b[39mn\n\u001b[1;32m      8\u001b[0m \u001b[38;5;28;01mreturn\u001b[39;00m average\n",
      "\u001b[0;31mTypeError\u001b[0m: unsupported operand type(s) for +=: 'int' and 'str'"
     ]
    }
   ],
   "source": [
    "my_books = [b1, b2, b3, b4]\n",
    "my_collection = BookCollection(my_books)\n",
    "my_collection.show_ranked_list()"
   ]
  },
  {
   "cell_type": "markdown",
   "id": "b8662d9b-ca74-4bf6-8919-923d708d02f0",
   "metadata": {},
   "source": [
    "For å forhindre at datafeltene blir endret på en feil måte, bør vi derfor gjøre dem private: "
   ]
  },
  {
   "cell_type": "code",
   "execution_count": 88,
   "id": "ad119699-1dbe-415c-8012-9b922351b141",
   "metadata": {},
   "outputs": [],
   "source": [
    "class Book:\n",
    "    def __init__(self, title, author, number_of_pages):\n",
    "        self._title = title\n",
    "        self._author = author\n",
    "        self._number_of_pages = number_of_pages\n",
    "        self._borrower_reviews = get_random_reviews(3)"
   ]
  },
  {
   "cell_type": "markdown",
   "id": "1f84f695-069a-4217-8feb-3bf4191436c0",
   "metadata": {},
   "source": [
    "*For å forenkle presentasjonen har vi skrevet opp bokklassen på nytt, kun med konstruktøren. Navnet på datafeltene må også oppdateres alle andre steder de brukes!*\n",
    "\n",
    "Men hvordan skal vi tillate at brukere gjør endringer på datafeltene? Vi ønsker jo ofte at det skal være mulig! Løsningen er å definere en offentlig metode som kalles en *set*-metode (også kalt *setter*, fra engelsk *to set*). For eksempel kan vi lage en *set*-metode som gjør det mulig å endre tittelen til en bok:"
   ]
  },
  {
   "cell_type": "code",
   "execution_count": 89,
   "id": "1639873d-e9ad-441a-a625-7d2654a8c286",
   "metadata": {},
   "outputs": [],
   "source": [
    "class Book:\n",
    "    def set_title(self, title):\n",
    "        self._title = title"
   ]
  },
  {
   "cell_type": "markdown",
   "id": "fa3a5dbb-a391-4c2e-867c-13f0953195b8",
   "metadata": {},
   "source": [
    "Dermed unngår vi at brukeren av klassen har direkte tilgang til datafeltet `_title`. I stedet gir vi tilgang på en måte som vi kan kontrollere, nemlig gjennom metoden `set_title`. Nå kan vi for eksempel sjekke at parameteren er av riktig datatype - vi ønsker nemlig at tittelen på en bok skal være en streng: "
   ]
  },
  {
   "cell_type": "code",
   "execution_count": 90,
   "id": "864971e0-09eb-40ac-af1b-3172c60368a9",
   "metadata": {},
   "outputs": [],
   "source": [
    "class Book: \n",
    "    def set_title(self, title):\n",
    "        if type(title) == str:\n",
    "            self._title = title"
   ]
  },
  {
   "cell_type": "markdown",
   "id": "d80b17ca-d4b7-4fab-be8f-7540569c39a6",
   "metadata": {},
   "source": [
    "Tilsvarende kan vi lage en *set*-metode som gjør det mulig å endre sideantallet til en bok."
   ]
  },
  {
   "cell_type": "code",
   "execution_count": 91,
   "id": "cb577e7d-3252-4313-8ba9-7a36ab016f0e",
   "metadata": {},
   "outputs": [],
   "source": [
    "class Book: \n",
    "    def set_number_of_pages(self, num):\n",
    "        if type(num) == int and num > 0 and num < 10000:\n",
    "            self._number_of_pages = num"
   ]
  },
  {
   "cell_type": "markdown",
   "id": "a2abc315-b06f-4171-8d0d-6a3b86f4358d",
   "metadata": {},
   "source": [
    "Her ønsker vi at brukeren skriver et positivt heltall som ikke er urimelig høyt.\n",
    "\n",
    "Til slutt kan vi se på datafeltet `_borrower_reviews`. Dette er en liste av anmeldelser, og vi ønsker egentlig ikke at brukeren skal kunne overskrive hele listen. Derfor gir det mer mening å lage en metode for å legge til en anmeldelse i lista: "
   ]
  },
  {
   "cell_type": "code",
   "execution_count": 92,
   "id": "2e904f7f-d2a2-431f-9076-e4d3d70f01de",
   "metadata": {},
   "outputs": [],
   "source": [
    "class Book: \n",
    "    def add_borrower_review(self, text, score):\n",
    "        if type(text) == str and type(score) == int and score >= 0 and num <= 10:\n",
    "            review = [text, score]\n",
    "            self._borrower_reviews.append(review)"
   ]
  },
  {
   "cell_type": "markdown",
   "id": "8223f480-4fa8-4b1c-bbe3-519a21f2c99f",
   "metadata": {},
   "source": [
    "Her sjekker vi både datatypene og at poengsummen er et tall mellom 0 og 10. Dette løser problemet vi hadde i starten av seksjonen, nemlig at det ble lagt inn en anmeldelse som var feil formatert. Nå har vi sørget for at alle anmeldelser som blir lagt inn har riktig format!"
   ]
  },
  {
   "cell_type": "markdown",
   "id": "f4254c1f-c25d-4942-9c43-070b40602e02",
   "metadata": {},
   "source": [
    "## Get-metoder\n",
    "\n",
    "Hva med når brukeren bare ønsker å hente et datafelt? For eksempel ønsker man kanskje å vite tittelen til en bok. Til dette formålet legger vi til en *get*-metode (også kalt *getter*, fra engelsk *to get*):"
   ]
  },
  {
   "cell_type": "code",
   "execution_count": 93,
   "id": "6bf834b2-3f28-43f8-add0-6dd12ba222bb",
   "metadata": {},
   "outputs": [],
   "source": [
    "class Book:\n",
    "    def set_title(self, title):\n",
    "        if type(title) == str:\n",
    "            self._title = title\n",
    "            \n",
    "    def get_title(self):\n",
    "        return self._title"
   ]
  },
  {
   "cell_type": "markdown",
   "id": "cbfa351a-10bb-4c68-8872-df8f2c37cfb1",
   "metadata": {},
   "source": [
    "Vi kan bruke denne forenklede klassen til å opprette et bokobjekt, endre tittelen, og til slutt hente tittelen:"
   ]
  },
  {
   "cell_type": "code",
   "execution_count": 94,
   "id": "20280f12-5210-4c75-af68-1af907f33ed4",
   "metadata": {},
   "outputs": [
    {
     "name": "stdout",
     "output_type": "stream",
     "text": [
      "Sofies verden\n"
     ]
    }
   ],
   "source": [
    "my_book = Book()\n",
    "my_book.set_title(\"Sofies verden\")\n",
    "title = my_book.get_title()\n",
    "print(title)"
   ]
  },
  {
   "cell_type": "markdown",
   "id": "98c922ea-5d13-415e-85e8-84a0100de882",
   "metadata": {},
   "source": [
    "Husk at *Sofies verden* er en streng som ligger i minnet, og at variabelen `title` nå inneholder adressen til denne strengen. Men å ha tilgang til adressen gjør oss ikke i stand til å endre strengen! Dette er gode nyheter, for hvis ikke ville vi ha mislyktes i å beskytte datafeltet.\n",
    "\n",
    "Hvorfor kan ikke strengen endres? I Python finnes to typer objekter: \n",
    "\n",
    "* Ikke-muterbare objekter (*immutable objects*): I denne kategorien finnes strenger, heltall, desimaltall, boolske verdier og tupler. Det finnes ingen måter å endre slike objekter, det er bare mulig å opprette nye.\n",
    "* Muterbare objekter (*mutable objects*): Alle andre objekter kan endres. Et eksempel er en liste, fordi vi kan endre verdien på en bestemt indeks. Et annet eksempel er et objekt fra vår egen klasse, fordi vi kan endre verdien på et bestemt datafelt.\n",
    "\n",
    "Vi kan vise denne forskjellen med følgende kode: "
   ]
  },
  {
   "cell_type": "code",
   "execution_count": 95,
   "id": "4a98f777-39a2-4083-bd71-b78c375ad6d7",
   "metadata": {},
   "outputs": [
    {
     "name": "stdout",
     "output_type": "stream",
     "text": [
      "['Hade']\n"
     ]
    }
   ],
   "source": [
    "mutable = [\"Hei\"]\n",
    "immutable = \"Hei\"\n",
    "\n",
    "test1 = mutable\n",
    "test2 = immutable\n",
    "\n",
    "test1[0] = \"Hade\"\n",
    "print(mutable)"
   ]
  },
  {
   "cell_type": "markdown",
   "id": "599ad83e-d25a-4788-baff-4e9b31d939af",
   "metadata": {},
   "source": [
    "Her har vi opprettet et ikke-muterbart og et muterbart objekt. Minneadressene til disse objektene kopieres deretter til `test1` og `test2`.\n",
    "* Vi kan bruke `test1` til å endre `mutable`, fordi variablene peker til det samme, muterbare objektet.\n",
    "* Vi kan ikke bruke `test2` til å endre `immutable` (dersom vi skriver `test2 = \"Hade\"`, oppnår vi bare at `test` peker til et nytt objekt, mens `immutable` fortsetter å peke til det gamle objektet). \n",
    "\n",
    "Som konklusjon kan vi si at det er trygt å lage følgende gettere:"
   ]
  },
  {
   "cell_type": "code",
   "execution_count": 96,
   "id": "24e115c4-3ddb-4a4f-bf6d-0b39e7120712",
   "metadata": {},
   "outputs": [],
   "source": [
    "class Book:\n",
    "    def get_title(self):\n",
    "        return self._title\n",
    "\n",
    "    def get_author(self):\n",
    "        return self._author\n",
    "\n",
    "    def get_number_of_pages(self):\n",
    "        return self._number_of_pages"
   ]
  },
  {
   "cell_type": "markdown",
   "id": "7f39ec5f-a96f-44af-87ea-34f2c2a1c8e2",
   "metadata": {},
   "source": [
    "Siden vi returnerer ikke-muterbare objekter (strenger og heltall), kan disse ikke endres av brukeren. Altså er datafeltene beskyttet. \n",
    "\n",
    "Men hva om vi ønsker å ha en *get*-metode for datafeltet `_borrower_reviews`? Vi kan jo ikke returnere dette objektet, for det er jo en liste og dermed muterbart! Den eneste måten å beskytte objektet er å returnere en kopi!"
   ]
  },
  {
   "cell_type": "code",
   "execution_count": 97,
   "id": "b67c2553-a0ce-4378-8d6f-3cf0626f4680",
   "metadata": {},
   "outputs": [],
   "source": [
    "class Book:\n",
    "    def get_borrower_reviews(self):\n",
    "        return copy(self.borrower_reviews)"
   ]
  },
  {
   "cell_type": "markdown",
   "id": "bcfe7556-f852-47b2-9803-72756e67604c",
   "metadata": {},
   "source": [
    "Funksjonen `copy` er innebygd i Python, og er viktig å bruke når vi ønsker å returnere verdiene i et objekt, men beskytte selve objektet fra å bli endret. Merk at hvis vi skal returnere et objekt som inneholder indre objekter (for eksempel en liste av bokobjekter), må vi bruke funksjonen `deepcopy`, som også oppretter kopier av alle de indre objektene. "
   ]
  },
  {
   "cell_type": "markdown",
   "id": "e1732140-1a2a-415f-b4bc-f8924bb78f27",
   "metadata": {},
   "source": [
    "## Arv\n",
    "\n",
    "Fra seksjonene om arv fra kapittelet *Konsepter i objektorientert programmering* kom vi fram til følgende klassediagram: \n",
    "\n",
    "<img src=\"../fig2/inheritance.svg\" width=\"400\">\n",
    "\n",
    "*Dette klassediagrammet er oversatt til engelsk og litt modifisert. Vi hadde klassen `Utlånsobjekt`, som vi har oversatt til `Loanable`. Vi kan tenke på dette som en kortversjon av *\"Loanable object\"*. I slike navn er det vanlig å utelate ordet *object* i klassenavnet.*\n",
    "\n",
    "Klassene `Book` og `Movie` skal arve datafeltene og metodene til klassen `Loanable`. Hvordan får vi til dette i Python? \n",
    "\n",
    "Superklassen `Loanable` arver ikke fra noen klasser, så denne kan programmeres på vanlig måte:"
   ]
  },
  {
   "cell_type": "code",
   "execution_count": 98,
   "id": "320887ae-2a03-4d31-8fc4-05230a416d99",
   "metadata": {},
   "outputs": [],
   "source": [
    "class Loanable:\n",
    "    def register_loan(self, person):\n",
    "        print(\"Loan registered: \", title, \" -> \", person)\n",
    "\n",
    "    def register_delivery(self):\n",
    "        print(\"Delivery registered: \", title)"
   ]
  },
  {
   "cell_type": "markdown",
   "id": "0a48b771-67e7-4a9a-801f-088528999260",
   "metadata": {},
   "source": [
    "*På dette stadiet er det ikke viktig at vi har fungerende kode, så vi kan begynne med å printe ut noen enkle meldinger.*\n",
    "\n",
    "Hvordan kan vi nå endre klassen `Book` slik at den arver fra `Loanable`? La oss ta utgangspunkt i en enkel versjon av bokklassen: "
   ]
  },
  {
   "cell_type": "code",
   "execution_count": 99,
   "id": "a61931ff-dffe-4c66-b1e0-062e3095f84a",
   "metadata": {},
   "outputs": [],
   "source": [
    "class Book:\n",
    "    def __init__(self, title, author, number_of_pages):\n",
    "        self.title = title\n",
    "        self.author = author\n",
    "        self.number_of_pages = number_of_pages"
   ]
  },
  {
   "cell_type": "markdown",
   "id": "569dec21-12cc-40c6-a066-5c499efa7541",
   "metadata": {},
   "source": [
    "Nå kan vi endre den første linjen til `class Book(Loanable)`. Det forteller at klassen `Book` skal arve fra klassen `Loanable`. Merk at superklassen må være definert først!"
   ]
  },
  {
   "cell_type": "code",
   "execution_count": 100,
   "id": "e8b0abdb-5414-4522-afd3-592740bfc465",
   "metadata": {},
   "outputs": [],
   "source": [
    "class Book(Loanable):\n",
    "    def __init__(self, title, author, number_of_pages):\n",
    "        self.title = title\n",
    "        self.author = author\n",
    "        self.number_of_pages = number_of_pages"
   ]
  },
  {
   "cell_type": "markdown",
   "id": "95628827-32bb-456e-8d57-1403a0219182",
   "metadata": {},
   "source": [
    "Vi kan nå opprette et bokobjekt på vanlig måte:"
   ]
  },
  {
   "cell_type": "code",
   "execution_count": 101,
   "id": "89ebcd5a-dc28-4af9-8cb6-8076e688d65f",
   "metadata": {},
   "outputs": [],
   "source": [
    "my_book = Book(\"Sofies verden\", \"Jostein Gaarder\", 512)"
   ]
  },
  {
   "cell_type": "markdown",
   "id": "816230e2-1758-415d-8490-396b463da343",
   "metadata": {},
   "source": [
    "Siden `Book` arver alle metodene til `Loanable`, kan et bokobjekt utføre disse metodene: "
   ]
  },
  {
   "cell_type": "code",
   "execution_count": 102,
   "id": "f3b4e57d-1692-4345-b14b-867d9bf1d171",
   "metadata": {},
   "outputs": [
    {
     "name": "stdout",
     "output_type": "stream",
     "text": [
      "Loan registered:  Sofies verden  ->  Per Hansen\n"
     ]
    }
   ],
   "source": [
    "my_book.register_loan(\"Per Hansen\")"
   ]
  },
  {
   "cell_type": "markdown",
   "id": "b468e6e8-95eb-4e10-9c92-07b55b9b7fc1",
   "metadata": {},
   "source": [
    "Når du programmerer klassen `Book`, så har du også tilgang til alle datafelter og metoder fra superklassen. Disse kan brukes som byggeblokker til nye metoder: "
   ]
  },
  {
   "cell_type": "code",
   "execution_count": 103,
   "id": "486800d4-b0f4-45f5-92d2-a697bbc3ef2c",
   "metadata": {},
   "outputs": [],
   "source": [
    "class Book(Loanable):\n",
    "    def renew(self, person):\n",
    "        self.register_delivery()\n",
    "        self.register_loan(person)"
   ]
  },
  {
   "cell_type": "markdown",
   "id": "b195c2b8-842f-4307-bb40-c1ebb7926d1e",
   "metadata": {},
   "source": [
    "Metodene `register_delivery()` og `register_loan()` er ikke noe vi henter utenfra. Tvert imot er de en del av bokklassen! Klassen `Book` består nemlig av alle metodene vi har definert i klasseblokken, **pluss** alle metodene som kommer fra superklassene til `Book`."
   ]
  },
  {
   "cell_type": "markdown",
   "id": "086b2f40-3d18-46e0-8a22-34e0894c2924",
   "metadata": {},
   "source": [
    "## Dokumentasjon\n",
    "\n",
    "Målet i denne seksjonen er å gjøre det lettere for brukerne av bokklassen å se hvilke metoder som er offentlige og hvordan de brukes. Til dette formålet kan vi skrive en dokumentasjon, og den kan skrives direkte i kodefilen!\n",
    "\n",
    "Du vet kanskje hvordan man skriver kommentarer i Python? Kommentarer er tekst som ikke er kode, og som ikke regnes med når vi kjører kodefilen. Det finnes to måter å skrive kommentarer i Python:"
   ]
  },
  {
   "cell_type": "code",
   "execution_count": 104,
   "id": "1b0bbe3b-18b1-4b30-83d1-d11f5adf0368",
   "metadata": {
    "scrolled": true
   },
   "outputs": [
    {
     "data": {
      "text/plain": [
       "' Dette er en kommentar\\nsom går over\\nflere linjer.\\n'"
      ]
     },
     "execution_count": 104,
     "metadata": {},
     "output_type": "execute_result"
    }
   ],
   "source": [
    "# Dette er en kommentar på én linje\n",
    "\n",
    "\"\"\" Dette er en kommentar\n",
    "som går over\n",
    "flere linjer.\n",
    "\"\"\""
   ]
  },
  {
   "cell_type": "markdown",
   "id": "d1bcdd48-9ff7-4229-b35e-f0673608e59c",
   "metadata": {},
   "source": [
    "Det er kommentarene som går over flere linjer vi skal bruke når vi skriver dokumentasjon for en klasse. \n",
    "\n",
    "I stedet for å forklare hver del i detalj, går vi rett på sak og viser en full dokumentasjon av bokklassen. For presentasjonen sin del har vi utelatt koden i dette eksempelet (vi har skrevet `pass` der vi ellers ville hatt kode). Det er lurt å skrive dokumentasjonen på engelsk, slik at klassen blir mest mulig tilgjengelig (det kan hende at vi ønsker å publisere klassen senere):"
   ]
  },
  {
   "cell_type": "code",
   "execution_count": 105,
   "id": "628979f4-e232-43c7-9c31-8901fe6be501",
   "metadata": {},
   "outputs": [],
   "source": [
    "class Book: \n",
    "    \"\"\"Class used to represent a physical book\n",
    "\n",
    "    Public methods\n",
    "    -------\n",
    "    Book(title, author, number_of_pages)\n",
    "        Creates a new book object from given data\n",
    "\n",
    "    Book(isbn)\n",
    "        Creates a new book object from ISBN\n",
    "\n",
    "    set_title(title)\n",
    "        Sets a new title for the book\n",
    "\n",
    "    get_title()\n",
    "        Returns the title of the book\n",
    "\n",
    "    calculate_average()\n",
    "        Returns a score between 0 and 10 based on reviews from different sources \n",
    "    \"\"\"\n",
    "    \n",
    "    def __init__(self, title=None, author=None, number_of_pages=None, isbn=None):\n",
    "        \"\"\"\n",
    "        Creates a new book object\n",
    "\n",
    "        If the parameter isbn is passed, attempts to find the book data in a database.\n",
    "        Otherwise uses the other parameters.\n",
    "\n",
    "        Parameters\n",
    "        ----------\n",
    "        title : str, optional\n",
    "            The full title of the book (default is None)\n",
    "        author : str, optional\n",
    "            The full name of the author, on the form \"[First name] [Surname]\" (default is None)\n",
    "        number_of_pages : int, optional\n",
    "            The number of pages in the book (default is None)\n",
    "        isbn : int, optional\n",
    "            The ISBN of the book (default is None)\n",
    "        \"\"\"\n",
    "        pass\n",
    "\n",
    "    def set_title(self, title):\n",
    "        \"\"\"\n",
    "        Sets a new title for the book\n",
    "\n",
    "        Parameters\n",
    "        ----------\n",
    "        title : str, optional\n",
    "            The new title of the book\n",
    "\n",
    "        Returns\n",
    "        -------\n",
    "        None\n",
    "        \"\"\"\n",
    "        \n",
    "        pass\n",
    "\n",
    "    def get_title(self):\n",
    "        \"\"\"\n",
    "        Returns the title of the book \n",
    "\n",
    "        Returns\n",
    "        -------\n",
    "        string\n",
    "            The title of the book\n",
    "        \"\"\"\n",
    "        pass\n",
    "\n",
    "    def calculate_average_score(self):\n",
    "        \"\"\"\n",
    "        Returns a score between 0 and 10\n",
    "        \n",
    "        The score is based on reviews from the following sources:\n",
    "        * Reviews from borrowers of the book\n",
    "        * Online user reviews: Bokelskere, Goodreads\n",
    "        * Online critics\n",
    "\n",
    "        Returns\n",
    "        -------\n",
    "        float\n",
    "            A decimal number between 0 and 10 if at least one review is found.\n",
    "            Otherwise -1 (if no reviews are found).   \n",
    "        \"\"\"\n",
    "        \n",
    "        pass"
   ]
  },
  {
   "cell_type": "markdown",
   "id": "76929f59-7f53-46e9-a79b-bee1805b8980",
   "metadata": {},
   "source": [
    "**Forklaring.** Vi dokumenterer både klassen i seg selv og alle metodene. Dokumentasjon av klassen skal komme rett etter `class Book:`, altså i starten av klasseblokken. Tilsvarende skal dokumentasjon av en metode komme i starten av metodeblokken.\n",
    "\n",
    "Vi strukturerer dokumentasjonen slik: \n",
    "1. Den første linjen skal med en kort setning forklare hva klassen eller metoden gjør.\n",
    "2. På de neste linjene kan man, hvis ønskelig, skrive en lengre forklaring av klassen eller metoden.\n",
    "3. Deretter kommer det an på om man dokumenterer en klasse eller metode:\n",
    "    * **Klasse:** Under overskriften *Public methods* lister vi opp alle de offentlige metodene. Under hver metode skriver vi en kort forklaring av hva metoden gjør. Dersom en metode kan brukes på forskjellige måter (med valgfrie parametre), lister vi alle måtene den kan brukes.\n",
    "    * **Metoder:** Under overskriften *Parameters* lister vi alle parametre (dersom metoden har parametre). For hver parameter skriver vi navn og datatype, og på neste linje en kort beskrivelse av hva parameteren skal inneholde. Under overskriften *Returns* gir vi en tilsvarende beskrivelse av returverdien (dersom metoden har returverdi).\n",
    "\n",
    "Husk å inkludere et ekstra linjeskift mellom hver av punktene 1-3. \n",
    "\n",
    "Hva er poenget med å skrive dokumentasjonen på akkurat denne måten? Ved å følge denne standarden, vil alle som er kjent med Python-programmering forstå dokumentasjonen! En annen fordel er at når noen importerer klassen din, kan de enkelt hente dokumentasjon for klasser og metoder:"
   ]
  },
  {
   "cell_type": "code",
   "execution_count": 106,
   "id": "26c26671-204a-4286-9d52-2a9437c8e646",
   "metadata": {
    "scrolled": true
   },
   "outputs": [
    {
     "name": "stdout",
     "output_type": "stream",
     "text": [
      "Help on method calculate_average_score in module __main__:\n",
      "\n",
      "calculate_average_score() method of __main__.Book instance\n",
      "    Returns a score between 0 and 10\n",
      "    \n",
      "    The score is based on reviews from the following sources:\n",
      "    * Reviews from borrowers of the book\n",
      "    * Online user reviews: Bokelskere, Goodreads\n",
      "    * Online critics\n",
      "    \n",
      "    Returns\n",
      "    -------\n",
      "    float\n",
      "        A decimal number between 0 and 10 if at least one review is found.\n",
      "        Otherwise -1 (if no reviews are found).\n",
      "\n"
     ]
    }
   ],
   "source": [
    "my_book = Book()\n",
    "help(my_book.calculate_average_score)"
   ]
  },
  {
   "cell_type": "markdown",
   "id": "d25863d9-acd5-4550-bf18-f8c1f75b8eb6",
   "metadata": {},
   "source": [
    "For å hente dokumentasjonen til hele klassen, brukes kommandoen `help(my_book)` eller `help(Book)`."
   ]
  },
  {
   "cell_type": "markdown",
   "id": "2951b32e-2092-46ec-939f-846bfface0f5",
   "metadata": {},
   "source": [
    "## Opprettelse av pakke\n",
    "\n",
    "Fram til nå har vi definert alle klasser i én Python-fil, men det kan være lurt å organisere prosjektet bedre. Kort sagt bør vi ha én fil per klasse. Hvis vi har et klassediagram som består av klassene `Loanable`, `Book`, og `BookCollection`, kan vi opprette følgende mappestruktur:\n",
    "```\n",
    "└── Desktop\n",
    "    └── personal-library-tool\n",
    "        ├── __init__.py\n",
    "        ├── Loanable.py\n",
    "        ├── Book.py  \n",
    "        ├── BookCollection.py\n",
    "```\n",
    "\n",
    "Vi har opprettet mappen `personal-library-tool/`, der vi finner én fil for hver klasse, samt den spesielle filen `__init__.py`. Denne filen er for å fortelle Python at `personal-library-tool` er en pakke! \n",
    "\n",
    "Nå er vi klare for å teste programmet vårt i kommandolinjen (for å åpne kommandolinjen, kan du bruke programmet `Terminal` på Mac og Linux, eller `cmd.exe` på Windows). Vi må først navigere oss inn på mappen der vi har lagt `personal-library-tool/` (i eksempelet ovenfor er det altså `Desktop/` vi skal navigere oss inn på). \n",
    "\n",
    "```bash\n",
    "~$ cd Desktop\n",
    "```\n",
    "\n",
    "Vi bruker nå kommandoen `python3` til å starte *Python-tolkeren*, som gjør at vi kan kjøre Python-kode direkte i kommandolinjen:\n",
    "\n",
    "```bash\n",
    "~/Desktop$ python3\n",
    "Python 3.8.10 (default, May 26 2023, 14:05:08) \n",
    "[GCC 9.4.0] on linux\n",
    "Type \"help\", \"copyright\", \"credits\" or \"license\" for more information.\n",
    ">>>\n",
    "```\n",
    "Det første vi må gjøre er å importere pakken vår:\n",
    "\n",
    "```python\n",
    ">>> import personal-library-tool\n",
    "```\n",
    "Hvordan tar vi i bruk bokklassen til å opprette et bokobjekt? Først må vi gå inn på riktig *modul*. Hver Python-fil blir til en modul, så pakken vår består av tre moduler: \n",
    "\n",
    "* `personal-library-tool.Loanable`\n",
    "* `personal-library-tool.Book`\n",
    "* `personal-library-tool.BookCollection`\n",
    "\n",
    "For å opprette et bokobjekt, må vi gå inn på den andre modulen, og deretter bruke klassen som ligger i modulen:\n",
    "\n",
    "```python\n",
    ">>> my_book = personal-library-tool.Book.Book()\n",
    "```\n",
    "\n",
    "Følgende diagram viser hva de ulike delene betyr:\n",
    "\n",
    "<img src=\"../fig2/pythonimport.svg\">\n",
    "\n",
    "For å slippe å skrive det lange pakkenavnet hele tiden, kan vi importere modulene direkte:\n",
    "\n",
    "```python\n",
    ">>> from personal-library-tool import Loanable, Book, BookCollection\n",
    "```\n",
    "Nå har vi tilgang til `Book`-modulen uten å gå gjennom pakken: \n",
    "\n",
    "```python\n",
    ">>> my_book = Book.Book()\n",
    "```"
   ]
  },
  {
   "cell_type": "markdown",
   "id": "af9b858e-3563-4bd0-87a8-c245d152f7f0",
   "metadata": {},
   "source": [
    "Nå kan vi opprette objekter av typen `Book` og `BookCollection`, og utføre metodene som objektene tilbyr. Slik kan vi gjennom kommandolinjen opprette vårt personlige bibliotek!\n",
    "\n",
    "Det er viktig å huske at alle objekter vi oppretter kun blir lagret i minnet, så hvis vi lukker Python-tolkeren, mister vi objektene. \n",
    "\n",
    "For at programmet vårt skal bli et fullverdig biblioteksverktøy, må vi inkludere funksjonalitet for permanent lagring, for eksempel i en database. Videre ville det være naturlig å lage et grafisk brukergrensesnitt, for eksempel en nettside som kjører på din egen maskin. Disse temaene kan du lære mer om i kurset *Informasjonsteknologi 1*. "
   ]
  },
  {
   "cell_type": "markdown",
   "id": "30cc3aaf-581d-46a8-8617-505b4c0298a5",
   "metadata": {
    "editable": true,
    "slideshow": {
     "slide_type": ""
    },
    "tags": []
   },
   "source": [
    "## Aktiviteter\n",
    "\n",
    "**Prosjektoppgave 7.** Ta utgangspunkt i klassediagrammet og Python-filene du har fra de forrige prosjektoppgavene. Gjør følgende oppgaver:\n",
    "\n",
    "1. Definer alle metoder i sine riktige klasser. Her trenger du bare å skrive `return` i selve metodeblokken, men du skal sørge for at metodene er riktig definert med tanke på parametre, og om metoden skal være offentlig eller privat.\n",
    "2. Dersom du har delmetoder, skal du nå skrive kode i disse. Tegn gjerne figurer som vist i seksjonen *Delmetoder*, slik at du enkelt kan se hvilke metoder som er lurt å starte med. På dette stadiet trenger ikke delmetodene å returnere riktige verdier! Det er nok at delmetodene returnerer noen testverdier.\n",
    "3. Skriv kode for resten av metodene. Når du skriver kode for en metode som er oppdelt, er det viktig at du tar i bruk delmetodene. Fortsett å bruke testverdier når det er nødvendig. Forsøk å gjøre koden så oversiktlig som mulig, ved å dele den opp i noen enkle steg.\n",
    "4. Finnes kommunikasjon mellom objekter i koden? Finn i så fall kodelinjene der dette skjer.\n",
    "6. Marker alle datafelter som private, og opprett offentlige *set*-metoder for de datafeltene som det skal være mulig å endre. Vurder om noen av metodene bør sjekke at parameteren har en gyldig verdi.\n",
    "7. Opprett offentlige *get*-metoder for de datafeltene som det skal være mulig å hente. Husk at dersom et datafelt har et muterbart objekt, så må du returnere en kopi av objektet.\n",
    "8.  Har du noen klasser som arver fra en superklasse? Hvilken endring må du gjøre for at disse klassene arver datafeltene metodene til superklassen? \n",
    "9. Skriv dokumentasjon av alle klasser og metoder ved å bruke *docstring*.\n",
    "10. Opprett en mappe for prosjektet ditt, og sørg for at hver klasse er i sin egen modul (sin egen fil). Hvilken ekstra fil må du opprette for at prosjektet ditt skal bli en pakke?\n",
    "11. Åpne kommandolinjen og importer modulene fra pakken din. Opprett objekter, minst ett objekt fra hver klasse. Forsøk å printe ut objektene. Test alle de offentlige metodene som objektene dine tilbyr, og print ut resultatene. Er utskriftene som forventet?\n"
   ]
  }
 ],
 "metadata": {
  "kernelspec": {
   "display_name": "Python 3 (ipykernel)",
   "language": "python",
   "name": "python3"
  },
  "language_info": {
   "codemirror_mode": {
    "name": "ipython",
    "version": 3
   },
   "file_extension": ".py",
   "mimetype": "text/x-python",
   "name": "python",
   "nbconvert_exporter": "python",
   "pygments_lexer": "ipython3",
   "version": "3.10.12"
  }
 },
 "nbformat": 4,
 "nbformat_minor": 5
}
