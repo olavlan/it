{
 "cells": [
  {
   "cell_type": "markdown",
   "id": "9bf8465a-340f-454f-be37-f720f57e2c5e",
   "metadata": {},
   "source": [
    "# Utvikle algoritmer\n",
    "\n"
   ]
  },
  {
   "cell_type": "markdown",
   "id": "42fab9ac-397b-4140-bcea-41129293b065",
   "metadata": {},
   "source": [
    "## Eksempler på problemer som kan løses av en dataalgoritme\n",
    "\n",
    "I forrige seksjon ga vi en presis beskrivelse av noen problemer ved å definere hva som er inndata og hva som er ønsket utdata. Nå skal vi definere noen mer interessante problemer, og i de neste kapitlene skal vi vise hvordan man kan beskrive algoritmer som løser problemene! "
   ]
  },
  {
   "cell_type": "markdown",
   "id": "47ab6b10-9cfd-44dd-8c28-d65d25e9ed68",
   "metadata": {},
   "source": [
    "### Finne største tall i liste \n",
    "\n",
    "Tenk deg at du har definert en liste av tall i Python: "
   ]
  },
  {
   "cell_type": "code",
   "execution_count": 23,
   "id": "90b1f966-7164-4fe1-b935-6db78a42ad93",
   "metadata": {},
   "outputs": [],
   "source": [
    "L = [3.14, 1, 4.7, 0, 2]"
   ]
  },
  {
   "cell_type": "markdown",
   "id": "18d2568b-5256-43a5-8b7c-dbd68ed874bc",
   "metadata": {},
   "source": [
    "Python har en funksjon for å finne det største elementet i lista: "
   ]
  },
  {
   "cell_type": "code",
   "execution_count": 24,
   "id": "5fc09eef-0711-43ef-8319-f8ec4e4c0561",
   "metadata": {},
   "outputs": [
    {
     "name": "stdout",
     "output_type": "stream",
     "text": [
      "4.7\n"
     ]
    }
   ],
   "source": [
    "M = max(L)\n",
    "print(M)"
   ]
  },
  {
   "cell_type": "markdown",
   "id": "3a69fdbc-0224-443a-8839-24b29342e7c8",
   "metadata": {},
   "source": [
    "Funksjonen `max` er altså innebygd i Python, og løser følgende problem: \n",
    "\n",
    "> **Problem** *Finne største tall i liste*   \n",
    "**Inndata:** En liste $L$ av desimaltall.    \n",
    "**Utdata:** Det største tallet $s$ i lista $L$"
   ]
  },
  {
   "cell_type": "markdown",
   "id": "e33ef7ca-c2f2-4001-92f1-538205af3966",
   "metadata": {},
   "source": [
    "### Fibonaccitall\n",
    "\n",
    "I neste eksempel ser vi på en interessant tallfølge: \n",
    "\n",
    "$$0, 1, 1, 2, 3, 5, 8, 13, 21, 34, 55 ...$$\n",
    "\n",
    "Ser du mønsteret? Vi starter følga med $0, 1$, og deretter får vi det neste tallet ved å summere de to forrige tallene. For eksempel får vi $55$ fordi $21 + 34 = 55$. Tallfølga stopper ikke her, men fortsetter i det uendelige. Kan du skrive opp de neste tallene? \n",
    "\n",
    "Denne sekvensen av tall kalles [Fibonaccifølga](https://en.wikipedia.org/wiki/Fibonacci_sequence). Den har mange egenskaper som er interessante innen matematikk og informatikk, og dukker dessuten opp i [naturen](https://en.wikipedia.org/wiki/Fibonacci_sequence#Nature)! \n",
    "\n",
    "La oss gi et navn til hvert tall: \n",
    "\n",
    "$$F_0 = 0$$  $$F_1 = 1$$  $$F_2 = 1$$ $$F_3 = 2$$  $$F_4 = 5$$ $$F_5 = 8$$ $$\\vdots$$\n",
    "\n",
    "Kan du nå se hva $F_9$ er? Vi kaller dette for det niende Fibonaccitallet. Hvis du fortsetter å navnsette tallene vil du komme til at $F_9= 55$. Å finne dette var greit, men hva om noen ba deg finne $F_{100}$, altså det hundrede Fibonaccitallet? Hva med $F_{1000}$, eller $F_{3333}$? Å finne et bestemt tall i Fibonaccifølgen er et problem vi kan definere på følgende måte: \n",
    "\n",
    "> **Problem** *Finn det $n$-te Fibonaccitallet*   \n",
    "**Inndata:** Et positivt heltall $n$.    \n",
    "**Utdata:** Det $n$-te Fibonaccitallet $F_n$. \n",
    "\n",
    "For at en algoritme skal løse dette problemet, må den fungere uansett hva $n$ er!"
   ]
  },
  {
   "cell_type": "markdown",
   "id": "9eb44173-159e-4bdc-8f8a-e7910e1842f1",
   "metadata": {},
   "source": [
    "### Koble sammen punkter mest effektivt\n",
    "\n",
    "La oss begynne med å markere noen byer på et kart:\n",
    "\n",
    "(Figur av kart med punkter)\n",
    "\n",
    "Se for deg at en av byene har et kraftverk som skal levere elektrisitet til alle de markerte byene. Vi ønsker altså å bygge kraftledninger slik at alle byene får elektrisitet. Følgende linjer viser hvilke byer vi kan koble sammen med kraftledninger, og hvor mye det vil koste:\n",
    "\n",
    "(Figur av kart med punkter, linjer og tall)\n",
    "\n",
    "Siden vi ønsker å minimere kostnaden, trenger vi ikke å bygge en kraftledning på alle linjene! For eksempel holder det å bygge følgende ledninger: \n",
    "\n",
    "(Figur av kart med punkter, linjer, tall og total kostnad)\n",
    "\n",
    "Men det går an å minimere kostnaden enda mer! Vi kan nemlig fjerne kraftledningen mellom () og (), fordi begge byene er koblet til kraftnettet og ikke trenger en ledning mellom seg.\n",
    "\n",
    "Men hvordan kan vi koble sammen byene på en måte som minimerer kostnaden? Vi kan gi en presis definisjon av dette problemet. Utgangspunktet er noen punkter, linjer mellom noen av punktene, og en kostnad på hver linje, for eksempel: \n",
    "\n",
    "(Grafeksempel) \n",
    "\n",
    "Det ønskede resultatet er et utvalg av linjer som kobler ammen alle punkter med minimal kostnad: \n",
    "\n",
    "(Grafeksempel) \n",
    "\n",
    "Nå kan vi definere problemet:\n",
    "\n",
    "> **Problem** *Koble sammen alle punkter med minimal kostnad*  \n",
    "**Inndata:** En liste $P$ av punkter, en liste $L$ av linjer og en liste $K$ av kostnader.    \n",
    "**Utdata:** Et utvalg $U$ av linjene $L$, slik at $U$ kobler sammen alle punktene med minimal kostnad. \n",
    "\n",
    "Vi må altså finne en algoritme som løser problemet uansett hva punktene, listene og kostnadene er!"
   ]
  },
  {
   "cell_type": "markdown",
   "id": "bc70cfcb-c781-4b82-9be0-07f47e599134",
   "metadata": {},
   "source": [
    "## Prosedyrer og dekomponering\n",
    "\n",
    "Bruke delprosedyrer (i pseudokode, men også i de andre algoritmebeskrivelsene)\n",
    "\n",
    "Eksempel: Sorter en liste fra høyest til lavest verdi, bruk prosedyren for å finne den høyeste tallet\n",
    "\n",
    "Eksempel: finn summen av de n første Fibonaccitallene, bruk prosedyren for å finne det n-te Fibonaccitallet \n",
    "\n",
    "## Generalisering\n",
    "\n",
    "## Designparadigmer\n",
    "\n",
    "## Implementere algoritmer\n",
    "\n",
    "\n",
    "## Teste korrekthet av algoritmer\n",
    "\n",
    "Teste korrekthet for hånd\n",
    "\n",
    "Finne minste tall i liste: bevise korrekthet? \n",
    "\n",
    "Grafeksempel: bevise korrekthet er mulig, men vanskelig\n",
    "\n",
    "Persongjenkjennelse: kan ikke teste korrekthet, men nøyaktighet"
   ]
  }
 ],
 "metadata": {
  "kernelspec": {
   "display_name": "Python 3 (ipykernel)",
   "language": "python",
   "name": "python3"
  },
  "language_info": {
   "codemirror_mode": {
    "name": "ipython",
    "version": 3
   },
   "file_extension": ".py",
   "mimetype": "text/x-python",
   "name": "python",
   "nbconvert_exporter": "python",
   "pygments_lexer": "ipython3",
   "version": "3.8.10"
  }
 },
 "nbformat": 4,
 "nbformat_minor": 5
}
