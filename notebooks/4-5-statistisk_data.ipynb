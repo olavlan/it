{
 "cells": [
  {
   "cell_type": "markdown",
   "id": "1aaa0c0a-e5fd-46b7-aa66-18c134192159",
   "metadata": {},
   "source": [
    "# Behandling av statistisk data"
   ]
  },
  {
   "cell_type": "markdown",
   "id": "2728af0e-9afe-4116-b03e-11c94c0ba917",
   "metadata": {
    "tags": []
   },
   "source": [
    "## Statistikk i *JSON*\n",
    "\n",
    "Følgende tabell viser antall innbyggere i fem kommuner de siste ti årene: \n",
    "\n",
    "|          | **Drammen** | **Fredrikstad** | **Halden** | **Moss** | **Sarpsborg** |\n",
    "|----------|-------------|-----------------|------------|----------|---------------|\n",
    "| **2014** |       96605 |           77591 |      30132 |    46409 |         54059 |\n",
    "| **2015** |       97771 |           78159 |      30328 |    47044 |         54192 |\n",
    "| **2016** |       98930 |           78967 |      30544 |    47640 |         54678 |\n",
    "| **2017** |       99734 |           80121 |      30790 |    48154 |         55127 |\n",
    "| **2018** |      100302 |           80977 |      31037 |    48671 |         55543 |\n",
    "| **2019** |      100581 |           81772 |      31177 |    48871 |         55997 |\n",
    "| **2020** |      101386 |           82385 |      31373 |    49273 |         56732 |\n",
    "| **2021** |      101859 |           83193 |      31387 |    49668 |         57372 |\n",
    "| **2022** |      102273 |           83892 |      31444 |    50290 |         58182 |\n",
    "| **2023** |      103291 |           84444 |      31730 |    51240 |         59038 |\n",
    "\n",
    "Hvordan ville du lagret disse dataene i *JSON*? Prøv gjerne selv før du går videre til neste avsnitt!\n",
    "\n",
    "Når vi skal registrere det første tallet i tabellen, altså 96605, må vi koble det til riktig kommune og årstall. Det kan gjøres med et objekt: \n",
    "\n",
    "```json\n",
    "[\n",
    "    {\n",
    "        \"kommune\": \"Drammen\",\n",
    "        \"årstall\": \"2014\",\n",
    "        \"befolkningstall\": 96605\n",
    "    }\n",
    "]\n",
    "```\n",
    "\n",
    "Merk at vi definert en liste der vi kan fortsette å legge til objekter helt til vi har registrert alle verdiene i tabellen.\n",
    "\n",
    "En annen mulighet er å opprette et objekt som inneholder alle verdier som er tilknyttet en kommune: \n",
    "\n",
    "```json\n",
    "\"Halden\": {\n",
    "    \"2014\": 30132, \n",
    "    \"2015\": 30328,\n",
    "    \"2016\": 30544, \n",
    "    \"2017\": 30790,\n",
    "    \"2018\": 31037,\n",
    "    \"2019\": 31177,\n",
    "    \"2020\": 31373,\n",
    "    \"2021\": 31387,\n",
    "    \"2022\": 31444,\n",
    "    \"2023\": 31730\n",
    "}\n",
    "```\n",
    "\n",
    "Ved å opprette en liste kan vi legge til de fire andre kommunene på samme måte. \n",
    "\n",
    "En tredje mulighet er å opprette et objekt som inneholder alle verdier tilknyttet et årstall:\n",
    "\n",
    "```json \n",
    "\"2014\": {\n",
    "    \"Drammen\": 96605,\n",
    "    \"Fredrikstad\": 77591,\n",
    "    \"Halden\": 30132,\n",
    "    \"Moss\": 46409,\n",
    "    \"Sarpsborg\": 54059\n",
    "}\n",
    "```\n",
    "\n",
    "En ulempe ved disse måtene er at vi bruker mer lagringsplass en nødendig, fordi vi repeterer årstallene og/eller kommunenavnene mange ganger. \n",
    "\n",
    "Den største ulempen med disse måtene er at de ikke følger en *standard*. Hvis alle som publiserer statistikk gjør det på sin egen måte, blir man nødt til å studere *JSON*-strukturen og nøklene hver gang man henter data fra en ny kilde. Og når man skal skrive et program for å lese og behandle *JSON*-dataene, må man skrive spesifikk kode, som ikke vil fungere når man har nye data fra en ny kilde.  \n",
    "\n",
    "En løsning på dette problemet er å bli enige om at statistisk data i *JSON* kun bør registreres på én måte, altså etter noen gitte regler. Dersom man lykkes i å etablere noen regler som får stor utbredelse, kalles disse reglene for en *standard*. [*JSON-stat*](https://json-stat.org/) er en *standard* for hvordan statistikk skal registreres i *JSON*. \n",
    "\n",
    "La oss gå tilbake til befolkningstallene; disse dataene er hentet fra *Statistisk sentralbyrå* (*SSB*), og er et utsnitt fra en større tabell som inneholder alle kommuner og alle årstall fra og med 1986. På [denne](https://data.ssb.no/api/v0/dataset/26975?lang=no) siden lar *SSB* oss laste ned dataene i to formater; *JSON-stat* eller *CSV*. Hvis du åpner *JSON-stat*-filen, vil du se at det er en helt vanlig *JSON*-fil, med attributter, objekter og lister. Men i denne filen er det ikke lett å finne anntall innbyggere i Moss i 2021! Det er fordi *JSON*-filen følger noen spesielle regler for hvordan tallene skal registreres, og disse reglene er definert av *JSON-stat*.\n",
    "\n",
    "Poenget med *JSON-stat* er ikke at det skal være lettlest for mennesker, men at vi alltid vet hvordan *JSON*-filen er strukturert, og ikke trenger å skrive helt ny kode hver gang vi skal hente og behandle nye data. Et annet poeng med *JSON-stat* er å lagre statistisk data i *JSON* på en plassbesparende måte; vi unngår repitisjoner som i eksemplene ovenfor. \n",
    "\n",
    "I neste seksjon skal vi se hvordan vi kan lagre kommunedataene i *JSON* ved å følge standarden *JSON-stat*!"
   ]
  },
  {
   "cell_type": "markdown",
   "id": "506e101f-981d-4b05-a31e-cb85dfe7dfb3",
   "metadata": {
    "tags": []
   },
   "source": [
    "## Statistisk data i *JSON-stat*\n",
    "\n",
    "|          | **Drammen** | **Fredrikstad** | **Halden** | **Moss** | **Sarpsborg** |\n",
    "|----------|-------------|-----------------|------------|----------|---------------|\n",
    "| **2014** |       96605 |           77591 |      30132 |    46409 |         54059 |\n",
    "| **2015** |       97771 |           78159 |      30328 |    47044 |         54192 |\n",
    "| **2016** |       98930 |           78967 |      30544 |    47640 |         54678 |\n",
    "| **2017** |       99734 |           80121 |      30790 |    48154 |         55127 |\n",
    "| **2018** |      100302 |           80977 |      31037 |    48671 |         55543 |\n",
    "| **2019** |      100581 |           81772 |      31177 |    48871 |         55997 |\n",
    "| **2020** |      101386 |           82385 |      31373 |    49273 |         56732 |\n",
    "| **2021** |      101859 |           83193 |      31387 |    49668 |         57372 |\n",
    "| **2022** |      102273 |           83892 |      31444 |    50290 |         58182 |\n",
    "| **2023** |      103291 |           84444 |      31730 |    51240 |         59038 |\n",
    "\n",
    "Vi skal nå bruke *JSON-stat* til å registrere dataene i denne tabellen. Grunnidéen i *JSON-stat* er å gjøre dataene *flate*. Det betyr rett og slett at vi plasserer alle verdiene i en liste: \n",
    "\n",
    "```json\n",
    "[ \n",
    "    96605,97771,98930,99734,100302,100581,101386,101859,102273,103291,\n",
    "    77591,78159,78967,80121,80977,81772,82385,83193,83892,84444,\n",
    "    30132,30328,30544,30790,31037,31177,31373,31387,31444,31730,\n",
    "    46409,47044,47640,48154,48671,48871,49273,49668,50290,51240,\n",
    "    54059,54192,54678,55127,55543,55997,56732,57372,58182,59038\n",
    "]\n",
    "```\n",
    "Her har vi brukt linjeskift slik at det fortsatt ser ut som en tabell med rader og kolonner, men egentlig er det bare en enkel liste med tall. Nå må vi legge til informasjon som gjør det mulig å koble verdiene til årstall og kommune; *JSON-stat* gir en oppskrift for hvordan vi skal gjøre dette. \n",
    "\n",
    "Målet i denne seksjonen er å opprette et *JSON-stat*-objekt som inneholder befolkningsstatistikken. Et *JSON-stat*-objekt har følgende struktur: \n",
    "\n",
    "```json\n",
    "    {\n",
    "    \"version\": \"2.0\",\n",
    "    \"class\": \"dataset\",\n",
    "    \"label\": \"\", \n",
    "\n",
    "    \"id\": [\"Dimension1\", \"Dimension2\"],\n",
    "    \"size\": [], \n",
    "    \"dimension\": {\n",
    "        \"Dimension1\": {\n",
    "            \"category\": {\n",
    "                \"index\": {}\n",
    "                \"label\": {}\n",
    "            }\n",
    "        },\n",
    "        \"Dimension2\": {\n",
    "            \"category\": {\n",
    "                \"index\": {}\n",
    "                \"label\": {}\n",
    "            }\n",
    "        } \n",
    "    }\n",
    "\n",
    "    \"value\": []\n",
    "}\n",
    "```\n",
    "\n",
    "*Du kan kopiere denne strukturen når du skal opprette ditt eget *JSON-stat*-objekt.*\n",
    "\n",
    "Vi kan si at *JSON-stat*-objektet består av tre deler: \n",
    "\n",
    "- Metadata\n",
    "- Dimensjonsdata\n",
    "- Verdier\n",
    "\n",
    "**Metadata** er de tre første linjene av objektet: \n",
    "\n",
    "```json\n",
    "\"version\": \"2.0\",\n",
    "\"class\": \"dataset\",\n",
    "\"label\": \"\"\n",
    "```\n",
    "\n",
    "Metadata brukes for å gi relevant bakgrunnsinformasjon; de to første attributtene er obligatoriske og forteller hvilken utgave av *JSON-stat* vi bruker. Det siste attributtet er valgfritt og brukes for å gi en tittel til statistikken:\n",
    "\n",
    "```json \n",
    "\"label\": \"Befolkningstall i fem kommuner i perioden 2014-2023\"\n",
    "```\n",
    "\n",
    "Det finnes andre valgfrie attributter vi kan legge til for å gi bakgrunnsinformasjon om statistikken.\n",
    "\n",
    "**Dimensjonsdata** gir informasjon som kobler tallverdiene til *kategorier*. Når vi har fylt inn dimensjonsdata, vil det for eksempel være mulig å koble den 37. verdien  til kategoriene \"2021\" og \"Fredrikstad\". \n",
    "\n",
    "Dimensjonsdataene består av attributtene \"id\", \"size\" og \"dimension\". I attributtet \"dimension\"  finner vi et nytt objekt med en spesifikk struktur, som vi skal forklare nøye i denne seksjonen. \n",
    "\n",
    "For å registrere **verdier** brukes attributtet \"value\", som skal inneholde en liste av verdier: \n",
    "\n",
    "```json\n",
    "\"value\": [ \n",
    "    96605,97771,98930,99734,100302,100581,101386,101859,102273,103291,\n",
    "    77591,78159,78967,80121,80977,81772,82385,83193,83892,84444,\n",
    "    30132,30328,30544,30790,31037,31177,31373,31387,31444,31730,\n",
    "    46409,47044,47640,48154,48671,48871,49273,49668,50290,51240,\n",
    "    54059,54192,54678,55127,55543,55997,56732,57372,58182,59038\n",
    "]\n",
    "```\n",
    "\n",
    "Den enkleste oppgaven er altså å registrere alle verdiene! Det som gjenstår er dimensjonsdataene, som kobler verdiene til riktige kategorier. Hver verdi kan kobles til én kommune og ett årstall; derfor sier vi at \"Kommune\" og \"Årstall\" er *dimensjonene* til datasettet. For å registrere dimensjonene bruker vi attributtet \"id\": \n",
    "\n",
    "```json\n",
    "\"id\": [\"Kommune\", \"Årstall\"]\n",
    "```\n",
    "\n",
    "Dataene vårt har altså to dimensjoner, men det finnes ingen begrensing på antall dimensjoner. Tenk deg at at tabellen inneholdt antall mennn og antall kvinner i hver kolonne. Da ville tabellen hatt dobbelt så mange verdier, og vi kunne sagt at hver verdi kan kobles til en kommune, et årstall og et kjønn.  Vi ville altså hatt tre dimensjoner, og listen av dimensjoner kunne vært skrevet som `[\"Kommune\", \"Årstall\", \"Kjønn\"]`. \n",
    "\n",
    "Videre må vi opprette attributtet \"size\", som forteller antall kategorier i hver dimensjon: \n",
    "\n",
    "```json\n",
    "\"id\": [\"Kommune\", \"Årstall\"]\n",
    "\"size\": [5, 10]\n",
    "```\n",
    "\n",
    "Den første dimensjonen har 5 *kategorier* (fem kommuner) den andre dimensjonen har 10 *kategorier* (ti årstall). \n",
    "\n",
    "Videre må vi fortelle hva som er kategoriene i hver dimensjon, og til dette brukes attributtet \"dimension\". Vi begynner med kategoriene i \"Kommune\": \n",
    "\n",
    "```json\n",
    "\"id\": [\"Kommune\", \"Årstall\"]\n",
    "\"size\": [5, 10]\n",
    "\"dimension\":\n",
    "    \"Kommune\": {\n",
    "        \"category\": {\n",
    "            \"label\": {\n",
    "                \"0101\": \"Halden\",\n",
    "                \"0104\": \"Moss\", \n",
    "                \"0105\": \"Sarpsborg\",\n",
    "                \"0106\": \"Fredrikstad\",\n",
    "                \"0602\": \"Drammen\"\n",
    "            }\n",
    "        }\n",
    "    }\n",
    "```\n",
    "\n",
    "Her ser vi at hver kategori må ha både en nøkkel og et navn. Det er fordi to kategorier i prinsippet kan ha samme navn, og da må de kunne skilles med unike nøkler. Her har vi brukt [kommunenumre](https://snl.no/kommunenummer) som nøkler, fordi vi vet at hver kommune har et unikt kommunenummer. \n",
    "\n",
    "Du lurer kanskje på hva som er poenget med alle attributtene som *JSON-stat* krever? \n",
    "\n",
    "* Poenget med nøkkelen \"dimension\" er å fortelle at i dette attributtet finner man informasjon om dimensjonene. \n",
    "* Poenget med nøkkelen \"Kommune\" er å fortelle at i dette attributtet finner man informasjon om dimensjonen \"Kommune\".\n",
    "* Poenget med nøklene \"category\" og \"label\" er å spesifisere **hvilken** informasjon vi gir om dimensjonen \"Kommune\". I dette tilfellet ønsker vi å liste *kategoriene* i dimensjonen, og vi ønsker å gi *navn* (*label*) til hver kategori. \n",
    "\n",
    "La oss nå liste kategoriene i \"Årstall\" på akkurat samme måte:\n",
    "\n",
    "```json\n",
    "\"Årstall\": {\n",
    "    \"category\": {\n",
    "        \"label\": {\n",
    "            \"14\": \"2014\",\n",
    "            \"15\": \"2015\",\n",
    "            \"16\": \"2016\",\n",
    "            \"17\": \"2017\",\n",
    "            \"18\": \"2018\",\n",
    "            \"19\": \"2019\",\n",
    "            \"20\": \"2020\",\n",
    "            \"21\": \"2021\",\n",
    "            \"22\": \"2022\",\n",
    "            \"23\": \"2023\"\n",
    "        }\n",
    "    }\n",
    "}\n",
    "```\n",
    "\n",
    "La oss oppsummere det vi har gjort før vi går videre: \n",
    "\n",
    "* Registrert at første dimensjon er \"Kommune\" og at andre dimensjon er \"Årstall\".\n",
    "* Registrert navnet til alle kategoriene, det vil si de fem kommunene og de ti årstallene. \n",
    "\n",
    "Er vi ferdige? Nei, for vi må også fortelle hvordan lista av verdier er sortert, altså hva som er rekkefølgen av kommuner og årstall. Det skal vi se på i neste seksjon!"
   ]
  },
  {
   "cell_type": "markdown",
   "id": "7eed1e35-9f46-4b42-8426-5da302992e93",
   "metadata": {
    "tags": []
   },
   "source": [
    "## Leksikografisk sortering i *JSON-stat*\n",
    "\n",
    "Følgende liste viser hvordan verdiene er sortert: \n",
    "\n",
    "```\n",
    "Indeks  Kommune Årstall   value\n",
    "0       Drammen    2014   96605\n",
    "1       Drammen    2015   97771\n",
    "2       Drammen    2016   98930\n",
    "3       Drammen    2017   99734\n",
    "4       Drammen    2018  100302\n",
    "5       Drammen    2019  100581\n",
    "6       Drammen    2020  101386\n",
    "7       Drammen    2021  101859\n",
    "8       Drammen    2022  102273\n",
    "9       Drammen    2023  103291\n",
    "10  Fredrikstad    2014   77591\n",
    "11  Fredrikstad    2015   78159\n",
    "12  Fredrikstad    2016   78967\n",
    "13  Fredrikstad    2017   80121\n",
    "14  Fredrikstad    2018   80977\n",
    "15  Fredrikstad    2019   81772\n",
    "16  Fredrikstad    2020   82385\n",
    "17  Fredrikstad    2021   83193\n",
    "18  Fredrikstad    2022   83892\n",
    "19  Fredrikstad    2023   84444\n",
    "20       Halden    2014   30132\n",
    "21       Halden    2015   30328\n",
    "22       Halden    2016   30544\n",
    "23       Halden    2017   30790\n",
    "24       Halden    2018   31037\n",
    "25       Halden    2019   31177\n",
    "26       Halden    2020   31373\n",
    "27       Halden    2021   31387\n",
    "28       Halden    2022   31444\n",
    "29       Halden    2023   31730\n",
    "30         Moss    2014   46409\n",
    "31         Moss    2015   47044\n",
    "32         Moss    2016   47640\n",
    "33         Moss    2017   48154\n",
    "34         Moss    2018   48671\n",
    "35         Moss    2019   48871\n",
    "36         Moss    2020   49273\n",
    "37         Moss    2021   49668\n",
    "38         Moss    2022   50290\n",
    "39         Moss    2023   51240\n",
    "40    Sarpsborg    2014   54059\n",
    "41    Sarpsborg    2015   54192\n",
    "42    Sarpsborg    2016   54678\n",
    "43    Sarpsborg    2017   55127\n",
    "44    Sarpsborg    2018   55543\n",
    "45    Sarpsborg    2019   55997\n",
    "46    Sarpsborg    2020   56732\n",
    "47    Sarpsborg    2021   57372\n",
    "48    Sarpsborg    2022   58182\n",
    "49    Sarpsborg    2023   59038\n",
    "```\n",
    "\n",
    "Her ser vi at lista er sortert *primært* etter kommune og *sekundært* etter årstall. Derfor satte vi \"Kommune\" som første dimensjon og \"Årstall\" som andre dimensjon i attributtet \"id\": \n",
    "\n",
    "```json \n",
    "\"id\": [\"Kommune\", \"Årstall\"]\n",
    "```\n",
    "\n",
    "*Dersom vi hadde sortert primært etter årstall, måtte \"Årstall\" vært første dimensjon og derfor kommet først i lista.*\n",
    "\n",
    "Det er viktig at sorteringen følger et slikt mønster, som kalles *leksikografisk sortering*. Kanskje du ser at det minner om alfabetisk sortering? For å forstå leksikografisk sortering, kan vi gi to eksempler på rekkefølger som **ikke** er lov. Det første eksempelet er: \n",
    "\n",
    "```\n",
    "0       Drammen    2014   96605\n",
    "1       Drammen    2015   97771\n",
    "2   Fredrikstad    2014   77591\n",
    "3       Drammen    2016   98930\n",
    "...\n",
    "```\n",
    "Dette er **ikke** leksikografisk sortering fordi alle registreringer for Drammen må komme etter hverandre. Vi har lov til å flytte Fredrikstad foran Drammen, men da må vi flytte **alle** verdiene for Fredrikstad foran **alle** verdiene for Drammen.   \n",
    "\n",
    "Det andre ekempelet er:\n",
    "```\n",
    "0       Drammen    2014   96605\n",
    "1       Drammen    2015   97771\n",
    "2       Drammen    2016   98930\n",
    "...\n",
    "10  Fredrikstad    2023   77591\n",
    "11  Fredrikstad    2022   78159\n",
    "12  Fredrikstad    2021   78967\n",
    "```\n",
    "Dette er **ikke** leksikografisk sortering fordi årstallene alltid må komme i samme rekkefølge. Vi kan bestemme selv hva rekkefølgen skal være, men vi må være konsekvente. \n",
    "\n",
    "Innad i hver dimensjon har vi altså lov til å velge rekkefølgen av kategorier, og deretter sortere verdiene leksikografisk etter denne rekkefølgen. Kommunene kommer i følgende rekkefølge: \n",
    "\n",
    "1. Drammen\n",
    "2. Fredrikstad\n",
    "3. Halden\n",
    "4. Moss\n",
    "5. Sarpsborg. \n",
    "\n",
    "Attributtet \"index\" brukes for å registrere rekkefølgen av kategorier: \n",
    "\n",
    "```json \n",
    "\"id\": [\"Kommune\", \"Årstall\"]\n",
    "\"size\": [5, 10]\n",
    "\"dimension\": {\n",
    "    \"Kommune\": {\n",
    "        \"category\": {\n",
    "            \"index\": {\n",
    "                \"0101\": 2,\n",
    "                \"0104\": 3,\n",
    "                \"0105\": 4,\n",
    "                \"0106\": 1,\n",
    "                \"0602\": 0\n",
    "            }\n",
    "            \"label\": {\n",
    "                \"0101\": \"Halden\",\n",
    "                \"0104\": \"Moss\", \n",
    "                \"0105\": \"Sarpsborg\",\n",
    "                \"0106\": \"Fredrikstad\",\n",
    "                \"0602\": \"Drammen\"\n",
    "            }\n",
    "        }\n",
    "    }\n",
    "}\n",
    "\n",
    "```\n",
    "Nå kan vi for eksempel lese at kategorien \"0602\" har navnet \"Drammen\" og indeksen 0; dermed vet vi at Drammen er den første kommunen i sorteringen! Hva er den neste kommunen? \n",
    "\n",
    "Vi må også gi rekkefølgen av kategoriene i \"Årstall\". Det virker kanskje åpenbart at årstallene kommer kronologisk, men vi må spesifisere dette:\n",
    "\n",
    "```json \n",
    "\"Årstall\": {\n",
    "    \"category\": {\n",
    "        \"index\": [\n",
    "            \"14\",\n",
    "            \"15\",\n",
    "            \"16\",\n",
    "            \"17\", \n",
    "            \"18\",\n",
    "            \"19\",\n",
    "            \"20\",\n",
    "            \"21\",\n",
    "            \"22\",\n",
    "            \"23\"\n",
    "        ]\n",
    "        \"label\": {\n",
    "            \"14\": \"2014\",\n",
    "            \"15\": \"2015\",\n",
    "            \"16\": \"2016\",\n",
    "            \"17\": \"2017\",\n",
    "            \"18\": \"2018\",\n",
    "            \"19\": \"2019\",\n",
    "            \"20\": \"2020\",\n",
    "            \"21\": \"2021\",\n",
    "            \"22\": \"2022\",\n",
    "            \"23\": \"2023\"\n",
    "        }\n",
    "    }\n",
    "}\n",
    "```\n",
    "Her ser vi at det holder å plassere nøklene i en liste dersom vi sørger for at rekkefølgen er riktig! Det er altså to måter å spesifisere rekkefølgen til kategoriene, og det er viktig å kjenne til begge. Sammenlign gjerne de to måtene, og tenk over hvordan du kunne ha registrert rekkefølgen av kommuner som en sortert liste av nøkler. \n",
    "\n",
    "Nå har vi registrert befolkningsdataene i et *JSON-stat*-objekt: \n",
    "\n",
    "```json\n",
    "{\n",
    "    \"version\": \"2.0\",\n",
    "    \"class\": \"dataset\",\n",
    "    \"label\": \"Befolkningstall i fem kommuner i perioden 2014-2023\",\n",
    "\n",
    "    \"id\": [\"Kommune\", \"Årstall\"],\n",
    "    \"size\": [5, 10],\n",
    "    \"dimension\": {\n",
    "        \"Kommune\": {\n",
    "            \"category\": {\n",
    "                \"index\": {\n",
    "                    \"0101\": 2,\n",
    "                    \"0104\": 3,\n",
    "                    \"0105\": 4,\n",
    "                    \"0106\": 1,\n",
    "                    \"0602\": 0\n",
    "                },\n",
    "                \"label\": {\n",
    "                    \"0101\": \"Halden\",\n",
    "                    \"0104\": \"Moss\", \n",
    "                    \"0105\": \"Sarpsborg\",\n",
    "                    \"0106\": \"Fredrikstad\",\n",
    "                    \"0602\": \"Drammen\"\n",
    "                }\n",
    "            }\n",
    "        },\n",
    "        \"Årstall\": {\n",
    "            \"category\": {\n",
    "                \"index\": [\n",
    "                    \"14\",\n",
    "                    \"15\",\n",
    "                    \"16\",\n",
    "                    \"17\", \n",
    "                    \"18\",\n",
    "                    \"19\",\n",
    "                    \"20\",\n",
    "                    \"21\",\n",
    "                    \"22\",\n",
    "                    \"23\"\n",
    "                ],\n",
    "                \"label\": {\n",
    "                    \"14\": \"2014\",\n",
    "                    \"15\": \"2015\",\n",
    "                    \"16\": \"2016\",\n",
    "                    \"17\": \"2017\",\n",
    "                    \"18\": \"2018\",\n",
    "                    \"19\": \"2019\",\n",
    "                    \"20\": \"2020\",\n",
    "                    \"21\": \"2021\",\n",
    "                    \"22\": \"2022\",\n",
    "                    \"23\": \"2023\"\n",
    "                }\n",
    "            }\n",
    "        }\n",
    "    },\n",
    "\n",
    "    \"value\": [ \n",
    "        96605,97771,98930,99734,100302,100581,101386,101859,102273,103291,\n",
    "        77591,78159,78967,80121,80977,81772,82385,83193,83892,84444,\n",
    "        30132,30328,30544,30790,31037,31177,31373,31387,31444,31730,\n",
    "        46409,47044,47640,48154,48671,48871,49273,49668,50290,51240,\n",
    "        54059,54192,54678,55127,55543,55997,56732,57372,58182,59038\n",
    "    ]   \n",
    "}\n",
    "```\n",
    "\n",
    "Det er ikke like lett å lese som en tabell; hvordan kan vi for eksempel hente befolkningstallet i Moss i 2015? Dimensjonsdataene forteller oss at Moss er den fjerde kommunen, så tre kommuner registrert før Moss; hver av disse kommunene har ti verdier, så det er $3\\cdot 10 = 30$ verdier før Moss. Siden vi ønsker det andre årstallet, må vi hente verdi nummer $30 + 2 = 32$. Det 32. tallet i lista er 47044!\n",
    "\n",
    "Det er viktig å forstå Iutregningen ovenfor, altså hvordan vi bruker dimensjonsdataene til å finne spesifikke verdier. Forsøk for eksempel å finne befolkningstallet til følgende kategorier, eller velg kategorier selv: \n",
    "\n",
    "* Fredrikstad, 2018\n",
    "* Sarpsborg, 2014\n",
    "* Drammen, 2023\n",
    "\n",
    "I neste seksjon skal vi skrive et Python-program som gjør utregningen for oss!\n",
    "\n",
    "**Aktivitetsforslag.** \n",
    "\n",
    "1. Finn en tabell med data som du finner interessant, helst med flere rader og kolonner (det vil si to dimensjoner og flere kategorier i hver av dem). For eksempel kan du bruke søkefraser som \"life expectancy by country and sex\", eller søke på *Wikipedia*, som har mange tabeller. \n",
    "2. Registrer dataene du fant etter *JSON-stat*-standarden; kopier strukturen under og fyll inn verdier.\n",
    "\n",
    "```json\n",
    "    {\n",
    "    \"version\": \"2.0\",\n",
    "    \"class\": \"dataset\",\n",
    "    \"label\": \"\", \n",
    "\n",
    "    \"id\": [\"Dimension1\", \"Dimension2\"],\n",
    "    \"size\": [], \n",
    "    \"dimension\": {\n",
    "        \"Dimension1\": {\n",
    "            \"category\": {\n",
    "                \"index\": {}\n",
    "                \"label\": {}\n",
    "            }\n",
    "        },\n",
    "        \"Dimension2\": {\n",
    "            \"category\": {\n",
    "                \"index\": {}\n",
    "                \"label\": {}\n",
    "            }\n",
    "        } \n",
    "    }\n",
    "\n",
    "    \"value\": []\n",
    "}\n",
    "```\n",
    "\n",
    "Tips: \n",
    "* Hvis tabellen er for stor, kan du gjøre et utvalg av rader og kolonner (altså et utvalg av kategorier).\n",
    "* Når du legger inn verdiene i attributtet \"value\", må du huske at de skal være leksikografisk sortert i henhold til dimensjonsdataene. "
   ]
  },
  {
   "cell_type": "markdown",
   "id": "d2a1e24a-b395-48ef-9a71-da89259cbac5",
   "metadata": {
    "tags": []
   },
   "source": [
    "## Innlesing av *JSON-stat* i Python\n",
    "\n",
    "Vi oppretter nå filen `befolkning.json` og limer inn *JSON-stat*-objektet fra forrige seksjon:\n",
    "\n",
    "```json\n",
    "{\n",
    "    \"version\": \"2.0\",\n",
    "    \"class\": \"dataset\",\n",
    "    \"label\": \"Befolkningstall i fem kommuner i perioden 2014-2023\",\n",
    "\n",
    "    \"id\": [\"Kommune\", \"Årstall\"],\n",
    "    \"size\": [5, 10],\n",
    "    \"dimension\": {\n",
    "        \"Kommune\": {\n",
    "            \"category\": {\n",
    "                \"index\": {\n",
    "                    \"0101\": 2,\n",
    "                    \"0104\": 3,\n",
    "                    \"0105\": 4,\n",
    "                    \"0106\": 1,\n",
    "                    \"0602\": 0\n",
    "                },\n",
    "                \"label\": {\n",
    "                    \"0101\": \"Halden\",\n",
    "                    \"0104\": \"Moss\", \n",
    "                    \"0105\": \"Sarpsborg\",\n",
    "                    \"0106\": \"Fredrikstad\",\n",
    "                    \"0602\": \"Drammen\"\n",
    "                }\n",
    "            }\n",
    "        },\n",
    "        \"Årstall\": {\n",
    "            \"category\": {\n",
    "                \"index\": [\n",
    "                    \"14\",\n",
    "                    \"15\",\n",
    "                    \"16\",\n",
    "                    \"17\", \n",
    "                    \"18\",\n",
    "                    \"19\",\n",
    "                    \"20\",\n",
    "                    \"21\",\n",
    "                    \"22\",\n",
    "                    \"23\"\n",
    "                ],\n",
    "                \"label\": {\n",
    "                    \"14\": \"2014\",\n",
    "                    \"15\": \"2015\",\n",
    "                    \"16\": \"2016\",\n",
    "                    \"17\": \"2017\",\n",
    "                    \"18\": \"2018\",\n",
    "                    \"19\": \"2019\",\n",
    "                    \"20\": \"2020\",\n",
    "                    \"21\": \"2021\",\n",
    "                    \"22\": \"2022\",\n",
    "                    \"23\": \"2023\"\n",
    "                }\n",
    "            }\n",
    "        }\n",
    "    },\n",
    "\n",
    "    \"value\": [ \n",
    "        96605,97771,98930,99734,100302,100581,101386,101859,102273,103291,\n",
    "        77591,78159,78967,80121,80977,81772,82385,83193,83892,84444,\n",
    "        30132,30328,30544,30790,31037,31177,31373,31387,31444,31730,\n",
    "        46409,47044,47640,48154,48671,48871,49273,49668,50290,51240,\n",
    "        54059,54192,54678,55127,55543,55997,56732,57372,58182,59038\n",
    "    ]   \n",
    "}\n",
    "```\n",
    "\n",
    "Det første steget er å legge filinnholdet i en *dictionary*. Dette gjøres med Python-pakken `json`: "
   ]
  },
  {
   "cell_type": "code",
   "execution_count": 18,
   "id": "98a41fdf-f223-4157-976e-c355aec8e525",
   "metadata": {
    "tags": []
   },
   "outputs": [],
   "source": [
    "import json\n",
    "\n",
    "with open(\"befolkning.json\") as file:\n",
    "    dataset = json.load(file)"
   ]
  },
  {
   "cell_type": "markdown",
   "id": "ec75a69a-2824-4053-9c66-159c832fad84",
   "metadata": {},
   "source": [
    "Vi skal nå fordele de ulike dataene i variabler, slik at vi får litt bedre oversikt. Som nevnt i forrige seksjon består `JSON-stat`-objektet av metadata, dimensjonsdata og verdier. Vi vet at det finnes to dimensjoner, og at vi kan hente navnet til dimensjonene, som finnes i attributtet \"id\": "
   ]
  },
  {
   "cell_type": "code",
   "execution_count": 19,
   "id": "d6e72784-65cd-4495-a06b-53202a55ba09",
   "metadata": {
    "tags": []
   },
   "outputs": [
    {
     "name": "stdout",
     "output_type": "stream",
     "text": [
      "Kommune\n",
      "Årstall\n"
     ]
    }
   ],
   "source": [
    "dim1_name = dataset[\"id\"][0]\n",
    "dim2_name = dataset[\"id\"][1]\n",
    "print(dim1_name)\n",
    "print(dim2_name)"
   ]
  },
  {
   "cell_type": "markdown",
   "id": "91ff023f-ecc0-4dba-8c81-995ca5c213c9",
   "metadata": {},
   "source": [
    "*Vi bør egentlig ta høyde for at datasettet kan ha flere enn to dimensjoner, men for å forenkle presentasjonen skal vi begrense oss til 2-dimensjonale datasett.*\n",
    "\n",
    "Videre kan vi hente størrelsen til dimensjonene, som finnes i attributtet \"size\": "
   ]
  },
  {
   "cell_type": "code",
   "execution_count": 20,
   "id": "45158c9c-193d-44de-bd34-6295e4122786",
   "metadata": {
    "tags": []
   },
   "outputs": [
    {
     "name": "stdout",
     "output_type": "stream",
     "text": [
      "5\n",
      "10\n"
     ]
    }
   ],
   "source": [
    "dim1_size = dataset[\"size\"][0]\n",
    "dim2_size = dataset[\"size\"][1]\n",
    "print(dim1_size)\n",
    "print(dim2_size)"
   ]
  },
  {
   "cell_type": "markdown",
   "id": "cd34a46f-7e44-40e6-ab9e-5a15dad6becb",
   "metadata": {},
   "source": [
    "I neste omgang kan vi hente kategoriene i hver dimensjon. For å hente kommunenavnene, må vi gå inn på attributtene \"dimension\" -> \"Kommune\" -> \"category\" -> \"label\". Husk at vi ikke bør skrive tekststrengen \"Kommune\" direkte, men heller bruke variabelen vi definerte tidligere, slik at programmet fungerer på andre `JSON-stat`-filer, der navnene på dimensjonene antagelig vi være noe annet! For å hente kommunenavnene gjør vi altså følgende: "
   ]
  },
  {
   "cell_type": "code",
   "execution_count": 21,
   "id": "3658a91a-d1c4-4564-b9ea-41b304f5e474",
   "metadata": {
    "scrolled": true,
    "tags": []
   },
   "outputs": [
    {
     "name": "stdout",
     "output_type": "stream",
     "text": [
      "{'0101': 'Halden', '0104': 'Moss', '0105': 'Sarpsborg', '0106': 'Fredrikstad', '0602': 'Drammen'}\n"
     ]
    }
   ],
   "source": [
    "dim1_categories = dataset[\"dimension\"][dim1_name][\"category\"][\"label\"]\n",
    "print(dim1_categories)"
   ]
  },
  {
   "cell_type": "markdown",
   "id": "54d3bce5-0b43-44a7-b105-6eb1ed7a85d2",
   "metadata": {},
   "source": [
    "Nå kan vi også hente rekkefølgen av kommuner, som ligger i attributtet \"index\" i stedet for \"label\": "
   ]
  },
  {
   "cell_type": "code",
   "execution_count": 22,
   "id": "2643f362-ac9a-45e4-9bf3-dc220c551c43",
   "metadata": {
    "tags": []
   },
   "outputs": [
    {
     "name": "stdout",
     "output_type": "stream",
     "text": [
      "{'0101': 2, '0104': 3, '0105': 4, '0106': 1, '0602': 0}\n"
     ]
    }
   ],
   "source": [
    "dim1_categories_index = dataset[\"dimension\"][dim1_name][\"category\"][\"index\"]\n",
    "print(dim1_categories_index)"
   ]
  },
  {
   "cell_type": "markdown",
   "id": "95a3489a-3fa6-43c9-b603-dbde56847403",
   "metadata": {},
   "source": [
    "For å hente kategoriene i den andre dimensjonen, altså \"Årstall\", gjør vi i utgangspunktet akkurat det samme: "
   ]
  },
  {
   "cell_type": "code",
   "execution_count": 23,
   "id": "b4c954b9-1388-46de-9493-f5690dfa77d9",
   "metadata": {
    "tags": []
   },
   "outputs": [
    {
     "name": "stdout",
     "output_type": "stream",
     "text": [
      "{'14': '2014', '15': '2015', '16': '2016', '17': '2017', '18': '2018', '19': '2019', '20': '2020', '21': '2021', '22': '2022', '23': '2023'}\n",
      "['14', '15', '16', '17', '18', '19', '20', '21', '22', '23']\n"
     ]
    }
   ],
   "source": [
    "dim2_categories = dataset[\"dimension\"][dim2_name][\"category\"][\"label\"]\n",
    "dim2_categories_sorted = dataset[\"dimension\"][dim2_name][\"category\"][\"index\"]\n",
    "print(dim2_categories)\n",
    "print(dim2_categories_sorted)"
   ]
  },
  {
   "cell_type": "markdown",
   "id": "7be107e7-c81e-4157-9d04-d724ae281dc9",
   "metadata": {},
   "source": [
    "Her ser vi imidlertid at rekkefølgen av årstall er gitt som en sortert liste. Det kan være nyttig å ha rekkefølgen på samme format som vi hadde for kommunene. "
   ]
  },
  {
   "cell_type": "code",
   "execution_count": 24,
   "id": "3d486988-1aa8-49bd-87d1-6a3f5f030c74",
   "metadata": {
    "tags": []
   },
   "outputs": [
    {
     "name": "stdout",
     "output_type": "stream",
     "text": [
      "{'14': 0, '15': 1, '16': 2, '17': 3, '18': 4, '19': 5, '20': 6, '21': 7, '22': 8, '23': 9}\n"
     ]
    }
   ],
   "source": [
    "i = 0\n",
    "temp = {}\n",
    "for c in dim2_categories_sorted:\n",
    "    temp[c] = i\n",
    "    i += 1\n",
    "\n",
    "dim2_categories_index = temp\n",
    "print(dim2_categories_index)"
   ]
  },
  {
   "cell_type": "markdown",
   "id": "dd367ccf-52d6-4a48-8eea-50aad0c93a4e",
   "metadata": {},
   "source": [
    "Til slutt kan vi legge listen av verdier i en variabel:"
   ]
  },
  {
   "cell_type": "code",
   "execution_count": 25,
   "id": "b8ee1fa0-56df-44e4-bc65-5a8451bf2ef3",
   "metadata": {
    "tags": []
   },
   "outputs": [
    {
     "name": "stdout",
     "output_type": "stream",
     "text": [
      "[96605, 97771, 98930, 99734, 100302, 100581, 101386, 101859, 102273, 103291, 77591, 78159, 78967, 80121, 80977, 81772, 82385, 83193, 83892, 84444, 30132, 30328, 30544, 30790, 31037, 31177, 31373, 31387, 31444, 31730, 46409, 47044, 47640, 48154, 48671, 48871, 49273, 49668, 50290, 51240, 54059, 54192, 54678, 55127, 55543, 55997, 56732, 57372, 58182, 59038]\n"
     ]
    }
   ],
   "source": [
    "values = dataset[\"value\"]\n",
    "print(values)"
   ]
  },
  {
   "cell_type": "markdown",
   "id": "06af602e-935d-454a-b99e-52e0c5ca5110",
   "metadata": {},
   "source": [
    "Nå har vi følgende variabler: \n",
    "\n",
    "* `dim1_navn`, `dim1_size`, `dim1_categories`, `dim1_categories_index`\n",
    "* `dim2_navn`, `dim2_size`, `dim2_categories`, `dim2_categories_index`\n",
    "* `values`\n",
    "\n",
    "Sjekk gjerne at du vet hva disse variablene inneholder før du leser videre.\n",
    "\n",
    "La oss si at vi ønsker å hente befolkningstallet i Halden i 2016; vi vet at denne verdien ligger i lista `values`, men hvordan finner vi den? For å repetere hvordan lista av verdier er sortert, kan vi først telle oss fram til den riktige verdien: \n",
    "\n",
    "```\n",
    "Indeks  Kommune Årstall   value\n",
    "0       Drammen    2014   96605\n",
    "1       Drammen    2015   97771\n",
    "2       Drammen    2016   98930\n",
    "3       Drammen    2017   99734\n",
    "4       Drammen    2018  100302\n",
    "5       Drammen    2019  100581\n",
    "6       Drammen    2020  101386\n",
    "7       Drammen    2021  101859\n",
    "8       Drammen    2022  102273\n",
    "9       Drammen    2023  103291\n",
    "10  Fredrikstad    2014   77591\n",
    "11  Fredrikstad    2015   78159\n",
    "12  Fredrikstad    2016   78967\n",
    "13  Fredrikstad    2017   80121\n",
    "14  Fredrikstad    2018   80977\n",
    "15  Fredrikstad    2019   81772\n",
    "16  Fredrikstad    2020   82385\n",
    "17  Fredrikstad    2021   83193\n",
    "18  Fredrikstad    2022   83892\n",
    "19  Fredrikstad    2023   84444\n",
    "20       Halden    2014   30132\n",
    "21       Halden    2015   30328\n",
    "22       Halden    2016   30544\n",
    "```\n",
    "\n",
    "Vi finner altså den riktige verdien på indeks 22: "
   ]
  },
  {
   "cell_type": "code",
   "execution_count": 26,
   "id": "54898260-a4f3-4cf9-bc6f-d78ce3c7c702",
   "metadata": {
    "tags": []
   },
   "outputs": [
    {
     "name": "stdout",
     "output_type": "stream",
     "text": [
      "30544\n"
     ]
    }
   ],
   "source": [
    "print(values[22])"
   ]
  },
  {
   "cell_type": "markdown",
   "id": "cab94337-555c-4d68-a959-d4bdc3ef155b",
   "metadata": {},
   "source": [
    "Hvis vi studerer tabellen over, kommer vi fram til følgende regnestykke for å finne riktig indeks:\n",
    "\n",
    "$22$   \n",
    "$= 2 \\cdot 10 + 2$    \n",
    "$= (\\text{antall kommuner før Halden}) \\cdot (\\text{antall årstall totalt}) \\quad + \\quad (\\text{antall årstall før 2016})$    \n",
    "$= \\ ($ `dim1_categories_index[\"0101\"]` $- 1)\\ \\cdot$ `dim2_size` $\\quad + \\quad ($ `dim2_categories_index[\"16\"]` $- 1)$\n",
    "\n",
    "Denne siste linjen kan vi bruke for å skrive et program som henter riktig verdi: "
   ]
  },
  {
   "cell_type": "code",
   "execution_count": 29,
   "id": "627b8bc6-69d8-44d1-af07-8f69b337ce59",
   "metadata": {
    "tags": []
   },
   "outputs": [
    {
     "name": "stdout",
     "output_type": "stream",
     "text": [
      "22\n",
      "30544\n"
     ]
    }
   ],
   "source": [
    "desired_kommune = \"0101\"\n",
    "desired_year = \"16\"\n",
    "\n",
    "index = (dim1_categories_index[desired_kommune]) * dim2_size + (dim2_categories_index[desired_year])\n",
    "\n",
    "print(index)\n",
    "print(values[index])"
   ]
  },
  {
   "cell_type": "markdown",
   "id": "26974461-d517-41f3-978a-9fc0b05f88a4",
   "metadata": {},
   "source": [
    "Vi kan nå lage en funksjon som finner riktig indeks for et hvilket som helst kommunenummer og årstall:"
   ]
  },
  {
   "cell_type": "code",
   "execution_count": 30,
   "id": "2d36f5ef-b51b-4e31-b7f8-7845a692ae7a",
   "metadata": {},
   "outputs": [],
   "source": [
    "def get_index(dim1_desired_category, dim2_desired_category):\n",
    "    index = (dim1_categories_index[dim1_desired_category]) * dim2_size + (dim2_categories_index[dim2_desired_category])\n",
    "    return index"
   ]
  },
  {
   "cell_type": "markdown",
   "id": "5c2e7696-331b-4f54-bed5-3cb5b32abea4",
   "metadata": {},
   "source": [
    "Til slutt kan vi lage en funskjon som gir innbyggertallet for en gitt kombinasjon av kommune og år: "
   ]
  },
  {
   "cell_type": "code",
   "execution_count": 31,
   "id": "afdee2bb-cd20-4b82-9d24-2651bc352c45",
   "metadata": {
    "tags": []
   },
   "outputs": [],
   "source": [
    "def get_population(kommunenummer, year): \n",
    "    index = get_index(kommunenummer, year)\n",
    "    return values[index]"
   ]
  },
  {
   "cell_type": "markdown",
   "id": "08077c87-0bbb-4131-9464-68b3b7363949",
   "metadata": {},
   "source": [
    "Nå kan vi lett hente befolkningstallet som hører til følgende kategorier: \n",
    "\n",
    "* Fredrikstad, 2018 (\"0106\", \"18\")\n",
    "* Sarpsborg, 2014 (\"0105\", \"14\")\n",
    "* Drammen, 2023 (\"0602\", \"23\")\n",
    "\n",
    "Vi trenger bare å bruke funksjonen `get_population` med riktige parametre: "
   ]
  },
  {
   "cell_type": "code",
   "execution_count": 32,
   "id": "eba76799-5862-4b1f-8b0c-8614f01c999b",
   "metadata": {
    "tags": []
   },
   "outputs": [
    {
     "name": "stdout",
     "output_type": "stream",
     "text": [
      "80977\n",
      "54059\n",
      "103291\n"
     ]
    }
   ],
   "source": [
    "print(get_population(\"0106\", \"18\"))\n",
    "print(get_population(\"0105\", \"14\"))\n",
    "print(get_population(\"0602\", \"23\"))"
   ]
  },
  {
   "cell_type": "markdown",
   "id": "356e8a03-86b4-4671-8710-6ebecc452e27",
   "metadata": {},
   "source": [
    "**Aktivitetsforslag.** Ta utgangspunkt i *JSON-stat*-filen du lagde i aktiviteten fra forrige seksjon. Skriv en funksjon som i eksempelet over; parametrene skal være gitte kategorier, og funksjonen skal returnere verdien som er tilknyttet disse kategoriene. "
   ]
  },
  {
   "cell_type": "markdown",
   "id": "9e23f273-35be-4319-aa6e-261a13a4ffff",
   "metadata": {},
   "source": [
    "## Innlesing av JSON-stat med pandas"
   ]
  },
  {
   "cell_type": "code",
   "execution_count": null,
   "id": "5c73506d-ed85-4ab7-8135-ff2914b7099b",
   "metadata": {
    "scrolled": true,
    "tags": []
   },
   "outputs": [],
   "source": [
    "from pyjstat import pyjstat\n",
    "\n",
    "with open(\"befolkning.json\") as file:\n",
    "    dataset = pyjstat.Dataset.read(file)\n",
    "\n",
    "df = dataset.write('dataframe')\n",
    "print(df)"
   ]
  },
  {
   "cell_type": "markdown",
   "id": "fc44284d-d78f-48fc-939c-95457e59f9db",
   "metadata": {},
   "source": [
    "## Behandling av data fra *SSB*\n",
    "\n",
    "I denne seksjonen skal vi behandle data som er lagret etter *JSON-stat*-standarden. Vi skal hente ferdige datasett publisert av *SSB*, som ligger [her](https://data.ssb.no/api/). \n",
    "\n",
    "**Versjoner av *JSON*-stat.** I seksjonen om *JSON-stat* forklarte vi strukturen til et *JSON-stat*-objekt basert på den nyeste versjonen, *JSON-stat* 2.0. Dette registrerte vi også som første attributt i objektet: \n",
    "\n",
    "```json\n",
    "\"version\": \"2.0\"\n",
    "```\n",
    "\n",
    "*SSB* benytter imidlertid en eldre versjon av *JSON-stat*. Måten å registrere data på er helt likt, men attributtene er organisert litt annerledes. Følgende viser strukturen til ny og gammel *JSON-stat*.\n",
    "\n",
    "\n",
    "***JSON-stat* 2.0**:\n",
    "\n",
    "```json\n",
    "    {\n",
    "    \"version\": \"2.0\",\n",
    "    \"class\": \"dataset\",\n",
    "    \"label\": \"\", \n",
    "\n",
    "    \"id\": [\"Dimension1\", \"Dimension2\"],\n",
    "    \"size\": [], \n",
    "    \"dimension\": {\n",
    "        \"Dimension1\": {\n",
    "            \"category\": {\n",
    "                \"index\": {}\n",
    "                \"label\": {}\n",
    "            }\n",
    "        },\n",
    "        \"Dimension2\": {\n",
    "            \"category\": {\n",
    "                \"index\": {}\n",
    "                \"label\": {}\n",
    "            }\n",
    "        } \n",
    "    }\n",
    "\n",
    "    \"value\": []\n",
    "}\n",
    "```\n",
    "***JSON-stat* brukt av SSB:**\n",
    "\n",
    "```json\n",
    "{\n",
    "    \"dataset\": {\n",
    "        \n",
    "        \"label\": \"\"\n",
    "        \n",
    "        \"dimension\": {\n",
    "            \"id\": [\"Dimension1\", \"Dimension2\"],\n",
    "            \"size\": [], \n",
    "            \"Dimension1\": {\n",
    "                \"category\": {\n",
    "                    \"index\": {}\n",
    "                    \"label\": {}\n",
    "                }\n",
    "            },\n",
    "            \"Dimension2\": {\n",
    "                \"category\": {\n",
    "                    \"index\": {}\n",
    "                    \"label\": {}\n",
    "                }\n",
    "            }\n",
    "        \n",
    "        \"value\": []\n",
    "    }\n",
    "}\n",
    "```\n",
    "\n",
    "Det er to hovedforskjeller:\n",
    "\n",
    "1. I *JSON-stat* brukt av *SSB* plasseres alt inni attributtet \"dataset\". \n",
    "2. I *JSON-stat* brukt av *SSB* plasseres alle dimensjonsdata i attributtet \"dimension\". Dette inkluderer \"id\" og \"size\". "
   ]
  },
  {
   "cell_type": "markdown",
   "id": "5d0f2923-d094-4abf-b57b-53e86f7d7f56",
   "metadata": {
    "jp-MarkdownHeadingCollapsed": true
   },
   "source": [
    "## Visualisering med koropletkart\n",
    "\n",
    "Mulighet for å nevne GeoJSON, en standard for å lagre geografisk informasjon, slik som avgrensing av et område. Finnes åpne GeoJSON-data for kommunegrensene i Norge, som kan kombineres med kommunedata fra SSB og kartverktøyet folium. Eksempel: vise befolkningsdata i kommuner på kart med fargekoder. "
   ]
  }
 ],
 "metadata": {
  "kernelspec": {
   "display_name": "Python 3 (ipykernel)",
   "language": "python",
   "name": "python3"
  },
  "language_info": {
   "codemirror_mode": {
    "name": "ipython",
    "version": 3
   },
   "file_extension": ".py",
   "mimetype": "text/x-python",
   "name": "python",
   "nbconvert_exporter": "python",
   "pygments_lexer": "ipython3",
   "version": "3.10.12"
  }
 },
 "nbformat": 4,
 "nbformat_minor": 5
}
