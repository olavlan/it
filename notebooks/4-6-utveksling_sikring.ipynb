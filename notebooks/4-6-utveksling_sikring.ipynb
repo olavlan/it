{
 "cells": [
  {
   "cell_type": "markdown",
   "id": "013a296e-8036-4ac0-837a-ba42ee50c49c",
   "metadata": {},
   "source": [
    "# Utveksling og sikring av data\n",
    "\n",
    "## Redusere størrelse \n",
    "\n",
    "Optimale binærkoder med Huffmann-kode: kun vise hvordan bildet fra tidligere kunne vært lagret med kortere bitstreng, ved å bruke kortere binærkoder for fargene det er mest av.\n",
    "\n",
    "Kort om komprimering\n"
   ]
  }
 ],
 "metadata": {
  "kernelspec": {
   "display_name": "Python 3 (ipykernel)",
   "language": "python",
   "name": "python3"
  },
  "language_info": {
   "codemirror_mode": {
    "name": "ipython",
    "version": 3
   },
   "file_extension": ".py",
   "mimetype": "text/x-python",
   "name": "python",
   "nbconvert_exporter": "python",
   "pygments_lexer": "ipython3",
   "version": "3.10.12"
  }
 },
 "nbformat": 4,
 "nbformat_minor": 5
}
